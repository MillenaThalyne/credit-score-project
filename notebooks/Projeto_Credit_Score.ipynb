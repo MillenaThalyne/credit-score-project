{
 "cells": [
  {
   "cell_type": "markdown",
   "id": "13a2da9a",
   "metadata": {},
   "source": [
    "# Credit Score Project 💳 \n",
    "\n",
    "## 0.0 Documentação 🗒️\n",
    ">**Autor**: Millena Thalyne <br>\n",
    ">**Linguagem**: Python <br>\n",
    ">**Curso**: Cientista de Dados EBAC\n",
    "\n",
    "### 0.1 Descrição \n",
    "O credit score é uma pontuação que mede a credibilidade financeira de uma pessoa com base em seu histórico de pagamentos, dívidas e uso de crédito. Ele serve para prever o risco de inadimplência e auxilia instituições financeiras a decidir sobre a concessão de crédito e definir condições de empréstimos. <br> O projeto que estou iniciando aborda esse tema, utilizando uma base de dados com informações de clientes para desenvolver um modelo preditivo capaz de estimar a probabilidade de um cliente se tornar inadimplente. <br> \n",
    "Esse notebook será separado em quatro partes: \n",
    "- **Bibliotecas e Leitura de Dados**: Bibliotecas Python utilizadas para rodar esse notebook, juntamente com a leitura da base de dados;\n",
    "- **Pré-Processamento de Dados**: Realização de tratamento de nulos, tipagem e padronização de dados;\n",
    "- **Análise de Dados**: Análise univariada das variáveis numéricas, análise bivariada entre duas variáveis a fim de responder algumas perguntas pertinentes nos nossos dados [3.2] e análise de correlação juntamente com a matriz de correlação dos dados em visualização \"heatmap\" (mapa de calor);\n",
    "- **Separação de Bases de Treino e Teste**: Padronização de variáveis categóricas utilizando Label e One-Hot Encoders e separação das amostras de treino (70%) e teste (30%) para posterior utilização em modelo de Machine Learning. Além disso, também realizei o balanceamento da classe Credit Score utilizando o método de *Oversampling* SMOTE.\n",
    "\n",
    "### 0.2 Base de Dados\n",
    "*   **Age** : Idade dos nossos clientes.\n",
    "\n",
    "*   **Income** : Salário Mensal.\n",
    "\n",
    "*   **Gender** : Gênero.\n",
    "\n",
    "*   **Education** : Nível de escolaridade dos clientes.\n",
    "\n",
    "*   **Marital** : Status Civilmente.\n",
    "\n",
    "*   **Number of Children** : Quantidade de filhos.\n",
    "\n",
    "*   **Home** : Tipo de residência, alugada ou própria.\n",
    "\n",
    "*   **Credit Score** : Nossa variável preditora, o score de crédito dos clientes."
   ]
  },
  {
   "cell_type": "markdown",
   "id": "ff8edd90",
   "metadata": {},
   "source": [
    "## 1.0 Bibliotecas e Leitura de Dados 📋"
   ]
  },
  {
   "cell_type": "code",
   "execution_count": 1,
   "id": "08100827",
   "metadata": {},
   "outputs": [],
   "source": [
    "# Bibliotecas utilizadas\n",
    "import seaborn as sns\n",
    "import matplotlib.pyplot as plt\n",
    "import pandas as pd\n",
    "import plotly.express as px\n",
    "import numpy as np\n",
    "from scipy import stats\n",
    "from scipy.stats import pearsonr, spearmanr\n",
    "from sklearn.preprocessing import LabelEncoder\n",
    "from sklearn.model_selection import train_test_split\n",
    "from imblearn.over_sampling import SMOTE"
   ]
  },
  {
   "cell_type": "code",
   "execution_count": 2,
   "id": "fc5befaf",
   "metadata": {},
   "outputs": [
    {
     "data": {
      "text/html": [
       "<div>\n",
       "<style scoped>\n",
       "    .dataframe tbody tr th:only-of-type {\n",
       "        vertical-align: middle;\n",
       "    }\n",
       "\n",
       "    .dataframe tbody tr th {\n",
       "        vertical-align: top;\n",
       "    }\n",
       "\n",
       "    .dataframe thead th {\n",
       "        text-align: right;\n",
       "    }\n",
       "</style>\n",
       "<table border=\"1\" class=\"dataframe\">\n",
       "  <thead>\n",
       "    <tr style=\"text-align: right;\">\n",
       "      <th></th>\n",
       "      <th>Age</th>\n",
       "      <th>Gender</th>\n",
       "      <th>Income</th>\n",
       "      <th>Education</th>\n",
       "      <th>Marital Status</th>\n",
       "      <th>Number of Children</th>\n",
       "      <th>Home Ownership</th>\n",
       "      <th>Credit Score</th>\n",
       "    </tr>\n",
       "  </thead>\n",
       "  <tbody>\n",
       "    <tr>\n",
       "      <th>0</th>\n",
       "      <td>25.0</td>\n",
       "      <td>Female</td>\n",
       "      <td>50.000,00</td>\n",
       "      <td>Bachelor's Degree</td>\n",
       "      <td>Single</td>\n",
       "      <td>0</td>\n",
       "      <td>Rented</td>\n",
       "      <td>High</td>\n",
       "    </tr>\n",
       "    <tr>\n",
       "      <th>1</th>\n",
       "      <td>30.0</td>\n",
       "      <td>Male</td>\n",
       "      <td>100.000,00</td>\n",
       "      <td>Master's Degree</td>\n",
       "      <td>Married</td>\n",
       "      <td>2</td>\n",
       "      <td>Owned</td>\n",
       "      <td>High</td>\n",
       "    </tr>\n",
       "    <tr>\n",
       "      <th>2</th>\n",
       "      <td>35.0</td>\n",
       "      <td>Female</td>\n",
       "      <td>75.000,00</td>\n",
       "      <td>Doctorate</td>\n",
       "      <td>Married</td>\n",
       "      <td>1</td>\n",
       "      <td>Owned</td>\n",
       "      <td>High</td>\n",
       "    </tr>\n",
       "    <tr>\n",
       "      <th>3</th>\n",
       "      <td>40.0</td>\n",
       "      <td>Male</td>\n",
       "      <td>125.000,00</td>\n",
       "      <td>High School Diploma</td>\n",
       "      <td>Single</td>\n",
       "      <td>0</td>\n",
       "      <td>Owned</td>\n",
       "      <td>High</td>\n",
       "    </tr>\n",
       "    <tr>\n",
       "      <th>4</th>\n",
       "      <td>45.0</td>\n",
       "      <td>Female</td>\n",
       "      <td>100.000,00</td>\n",
       "      <td>Bachelor's Degree</td>\n",
       "      <td>Married</td>\n",
       "      <td>3</td>\n",
       "      <td>Owned</td>\n",
       "      <td>High</td>\n",
       "    </tr>\n",
       "    <tr>\n",
       "      <th>5</th>\n",
       "      <td>50.0</td>\n",
       "      <td>Male</td>\n",
       "      <td>150.000,00</td>\n",
       "      <td>Master's Degree</td>\n",
       "      <td>Married</td>\n",
       "      <td>0</td>\n",
       "      <td>Owned</td>\n",
       "      <td>High</td>\n",
       "    </tr>\n",
       "    <tr>\n",
       "      <th>6</th>\n",
       "      <td>26.0</td>\n",
       "      <td>Female</td>\n",
       "      <td>40.000,00</td>\n",
       "      <td>Associate's Degree</td>\n",
       "      <td>Single</td>\n",
       "      <td>0</td>\n",
       "      <td>Rented</td>\n",
       "      <td>Average</td>\n",
       "    </tr>\n",
       "    <tr>\n",
       "      <th>7</th>\n",
       "      <td>31.0</td>\n",
       "      <td>Male</td>\n",
       "      <td>60.000,00</td>\n",
       "      <td>Bachelor's Degree</td>\n",
       "      <td>Single</td>\n",
       "      <td>0</td>\n",
       "      <td>Rented</td>\n",
       "      <td>Average</td>\n",
       "    </tr>\n",
       "    <tr>\n",
       "      <th>8</th>\n",
       "      <td>NaN</td>\n",
       "      <td>Female</td>\n",
       "      <td>80.000,00</td>\n",
       "      <td>Master's Degree</td>\n",
       "      <td>Married</td>\n",
       "      <td>2</td>\n",
       "      <td>Owned</td>\n",
       "      <td>High</td>\n",
       "    </tr>\n",
       "    <tr>\n",
       "      <th>9</th>\n",
       "      <td>NaN</td>\n",
       "      <td>Male</td>\n",
       "      <td>105.000,00</td>\n",
       "      <td>Doctorate</td>\n",
       "      <td>Single</td>\n",
       "      <td>0</td>\n",
       "      <td>Owned</td>\n",
       "      <td>High</td>\n",
       "    </tr>\n",
       "  </tbody>\n",
       "</table>\n",
       "</div>"
      ],
      "text/plain": [
       "    Age  Gender      Income            Education Marital Status  \\\n",
       "0  25.0  Female   50.000,00    Bachelor's Degree         Single   \n",
       "1  30.0    Male  100.000,00      Master's Degree        Married   \n",
       "2  35.0  Female   75.000,00            Doctorate        Married   \n",
       "3  40.0    Male  125.000,00  High School Diploma         Single   \n",
       "4  45.0  Female  100.000,00    Bachelor's Degree        Married   \n",
       "5  50.0    Male  150.000,00      Master's Degree        Married   \n",
       "6  26.0  Female   40.000,00   Associate's Degree         Single   \n",
       "7  31.0    Male   60.000,00    Bachelor's Degree         Single   \n",
       "8   NaN  Female   80.000,00      Master's Degree        Married   \n",
       "9   NaN    Male  105.000,00            Doctorate         Single   \n",
       "\n",
       "   Number of Children Home Ownership Credit Score  \n",
       "0                   0         Rented         High  \n",
       "1                   2          Owned         High  \n",
       "2                   1          Owned         High  \n",
       "3                   0          Owned         High  \n",
       "4                   3          Owned         High  \n",
       "5                   0          Owned         High  \n",
       "6                   0         Rented      Average  \n",
       "7                   0         Rented      Average  \n",
       "8                   2          Owned         High  \n",
       "9                   0          Owned         High  "
      ]
     },
     "execution_count": 2,
     "metadata": {},
     "output_type": "execute_result"
    }
   ],
   "source": [
    "# Carregando o dataset\n",
    "df = pd.read_csv(\"CREDIT_SCORE_PROJETO_PARTE1.csv\", delimiter=';')\n",
    "\n",
    "# Visualizando as 10 primeiras linhas do dataset\n",
    "df.head(10)"
   ]
  },
  {
   "cell_type": "markdown",
   "id": "6b8b8ccd",
   "metadata": {},
   "source": [
    "## 2.0 Pré-Processamento de Dados 🎲\n",
    "Nessa etapa, foi desenvolvido o tratamento dos dados para nulos, tipagem e padronização. <br>\n",
    "- **Nulos**: A única variável que precisou de tratamento foi a \"Age\" (idade), onde ela possuia 21% dos seus dados nulos. Com isso, para seu tratamento, realizei a substituição desses dados faltantes pela mediana dos dados, uma vez que a quantidade era consideravelmente alta e correria o risco de inviabilizar no resultado final;\n",
    "- **Tipagem**: As variáveis que precisaram de ajustes foi a \"Age\" e \"Income\" (Idade e Renda). Para a variável de idade, precisou apenas transformar para o tipo inteiro, enquanto a de renda precisou seguir algumas etapas antes de transformar para o tipo flutuante, pois seus dados estavam registrados como caracter (exemplo, '50.000,00'). Por isso, primeiro foi necessário a exclusão das aspas simples e o ponto, e substituição da vírgula por ponto para, assim, poder realizar a transformação para tipo flutuante.\n",
    "- **Padronização**: Essa etapa não foi realizada, pois não houve necessidade, uma vez que os registros estavam de acordo com o esperado."
   ]
  },
  {
   "cell_type": "markdown",
   "id": "46b40905",
   "metadata": {},
   "source": [
    "### 2.1 Tratamento de Nulos\n",
    "- Age"
   ]
  },
  {
   "cell_type": "code",
   "execution_count": 3,
   "id": "0fe665bf",
   "metadata": {},
   "outputs": [
    {
     "data": {
      "text/plain": [
       "Age                   34\n",
       "Gender                 0\n",
       "Income                 0\n",
       "Education              0\n",
       "Marital Status         0\n",
       "Number of Children     0\n",
       "Home Ownership         0\n",
       "Credit Score           0\n",
       "dtype: int64"
      ]
     },
     "execution_count": 3,
     "metadata": {},
     "output_type": "execute_result"
    }
   ],
   "source": [
    "df.isnull().sum()"
   ]
  },
  {
   "cell_type": "code",
   "execution_count": 4,
   "id": "cae68975",
   "metadata": {},
   "outputs": [
    {
     "data": {
      "text/plain": [
       "Age                   20.731707\n",
       "Gender                 0.000000\n",
       "Income                 0.000000\n",
       "Education              0.000000\n",
       "Marital Status         0.000000\n",
       "Number of Children     0.000000\n",
       "Home Ownership         0.000000\n",
       "Credit Score           0.000000\n",
       "dtype: float64"
      ]
     },
     "execution_count": 4,
     "metadata": {},
     "output_type": "execute_result"
    }
   ],
   "source": [
    "df.isnull().mean() * 100"
   ]
  },
  {
   "cell_type": "code",
   "execution_count": 5,
   "id": "a1df4453",
   "metadata": {},
   "outputs": [
    {
     "name": "stderr",
     "output_type": "stream",
     "text": [
      "C:\\Users\\mille\\AppData\\Local\\Temp\\ipykernel_9376\\1933487976.py:1: FutureWarning: A value is trying to be set on a copy of a DataFrame or Series through chained assignment using an inplace method.\n",
      "The behavior will change in pandas 3.0. This inplace method will never work because the intermediate object on which we are setting values always behaves as a copy.\n",
      "\n",
      "For example, when doing 'df[col].method(value, inplace=True)', try using 'df.method({col: value}, inplace=True)' or df[col] = df[col].method(value) instead, to perform the operation inplace on the original object.\n",
      "\n",
      "\n",
      "  df['Age'].fillna(df['Age'].median(), inplace=True)\n"
     ]
    }
   ],
   "source": [
    "df['Age'].fillna(df['Age'].median(), inplace=True)"
   ]
  },
  {
   "cell_type": "markdown",
   "id": "031855b9",
   "metadata": {},
   "source": [
    "### 2.2 Tratamento de Tipos\n",
    "- Age\n",
    "- Income"
   ]
  },
  {
   "cell_type": "code",
   "execution_count": 6,
   "id": "c5f73e19",
   "metadata": {},
   "outputs": [
    {
     "name": "stdout",
     "output_type": "stream",
     "text": [
      "<class 'pandas.core.frame.DataFrame'>\n",
      "RangeIndex: 164 entries, 0 to 163\n",
      "Data columns (total 8 columns):\n",
      " #   Column              Non-Null Count  Dtype  \n",
      "---  ------              --------------  -----  \n",
      " 0   Age                 164 non-null    float64\n",
      " 1   Gender              164 non-null    object \n",
      " 2   Income              164 non-null    object \n",
      " 3   Education           164 non-null    object \n",
      " 4   Marital Status      164 non-null    object \n",
      " 5   Number of Children  164 non-null    int64  \n",
      " 6   Home Ownership      164 non-null    object \n",
      " 7   Credit Score        164 non-null    object \n",
      "dtypes: float64(1), int64(1), object(6)\n",
      "memory usage: 10.4+ KB\n"
     ]
    }
   ],
   "source": [
    "df.info()"
   ]
  },
  {
   "cell_type": "code",
   "execution_count": 7,
   "id": "969a72de",
   "metadata": {},
   "outputs": [],
   "source": [
    "df['Age'] = df['Age'].astype('int64')"
   ]
  },
  {
   "cell_type": "code",
   "execution_count": 8,
   "id": "4989767d",
   "metadata": {},
   "outputs": [],
   "source": [
    "df['Income'] = (\n",
    "    df['Income']\n",
    "    .str.replace(\"'\", \"\", regex=False)   # remove aspas simples\n",
    "    .str.replace('.', '', regex=False)   # remove pontos de milhar\n",
    "    .str.replace(',', '.', regex=False)  # troca vírgula por ponto\n",
    "    .astype(float)                       # converte para float\n",
    ")"
   ]
  },
  {
   "cell_type": "markdown",
   "id": "4d6d39f8",
   "metadata": {},
   "source": [
    "### 2.3 Padronização de Dados "
   ]
  },
  {
   "cell_type": "code",
   "execution_count": 9,
   "id": "aa272ff1",
   "metadata": {},
   "outputs": [
    {
     "name": "stdout",
     "output_type": "stream",
     "text": [
      "Coluna: Gender\n",
      "['Female' 'Male']\n",
      "Coluna: Education\n",
      "[\"Bachelor's Degree\" \"Master's Degree\" 'Doctorate' 'High School Diploma'\n",
      " \"Associate's Degree\"]\n",
      "Coluna: Marital Status\n",
      "['Single' 'Married']\n",
      "Coluna: Home Ownership\n",
      "['Rented' 'Owned']\n",
      "Coluna: Credit Score\n",
      "['High' 'Average' 'Low']\n"
     ]
    }
   ],
   "source": [
    "df_caracter = df[['Gender', 'Education', 'Marital Status', 'Home Ownership', 'Credit Score']]\n",
    "for col in df_caracter.columns:\n",
    "    print(\"Coluna: {}\".format(col))\n",
    "    print(df_caracter[col].unique()) "
   ]
  },
  {
   "cell_type": "markdown",
   "id": "cac85957",
   "metadata": {},
   "source": [
    "## 3.0 Análise de Dados 📊\n",
    "Nessa etapa, foi realizado a análise das variáveis de maneira mais aprofundada, através da Análise Univariável, Bivaráda e de Correlação. \n",
    "- **Analisando Outliers**: Nessa análise, foi verificado um único ponto discrepante na variável Number of Children (número de filhos), porém não foi necessário tratamento, uma vez que não representa um erro, apenas um registro divergente dos demais;\n",
    "- **Análise Univariada**: Essa análise foi realizada nas variáveis numéricas Age, Income e Number of Children:\n",
    "  - Number of Children: A partir da análise, foi notado que a maior concentração de clientes não possue filhos (59%), seguido por 1-2 filhos (19-18%) e 3 filhos (3%);\n",
    "  - Age: Após essa análise, foi concluído que a maior concentração de clientes é entre 30-39 anos (51%), seguido pelas idades entre 40-49 (23%), 20-29 (19%) e 50+ (9%);\n",
    "  - Income: A partir da análise, essa variável se mostrou bastante equilibrada e com um pico de registros na renda de R$80.000 e R$100.000, com média e mediana de aproximadamente R$84.000.\n",
    "- **Análise Bivariana**: Essa análise foi separada em algumas questões pertinentes na nossa base de dados, sendo elas respondidas, como:\n",
    "  * Existe relação entre a idade e o status civil? - Sim, existe uma maior concentração de clientes *casados*, principalmente a partir dos 45 anos e tendo um pico aos 36 anos (23 pessoas);\n",
    "  * Qual a relação entre o score de crédito e o nível de escolaridade? - Existe uma concentração muito grande de pessoas com um Score de crédito alto nos níveis escolares Bacharel, Mestrando e Doutor, com foco nos mestres (36 pessoas);\n",
    "  * O salário parece influenciar na idade? - Sim, de acordo com a análise, é uma relação forte, onde, conforme a idade aumenta, o salário tende a aumentar;\n",
    "  * O salário parece influenciar no Score de Crédito? - Sim, conforme o salário é maior, mais pessoas tendem a ter Score de crédito alto; \n",
    "  * Clientes com casa própria tendem a ter um score mais alto? - Sim, a concentração de pessoas com casa própria que possuem Score de crédito alto é muito maior que as que não possuem; \n",
    "  * O número de filhos influencia no score de crédito? - Aparentemente não, pois independente do número de filhos, pode-se encontrar diversas pessoas com Score de crédito alto. Porém, a concentração maior está naqueles que não possuem filhos (talvez por ser a classe com maior número de registros);\n",
    "  * O número de filhos influencia no salário? - De acordo com a análise, não. Essas variáveis não possuem uma relação forte;\n",
    "  * A educação tem relação no aumento do salário? - Sim, conforme o nível escolar aumenta, maior o salário. Tendo uma distribuição equilibrada para as pessoas com somente o ensino médio e o pico dos maiores salário em quem possue mestrado.\n",
    "* **Análise de Correlação**: A *primeira* matriz de correlação mostrou que as relações mais fortes são entre as variáveis:\n",
    "  * Credit Score ↔ Casa Própria: p = 0.855 \n",
    "  * Renda ↔ Credit Score: p = 0.744 \n",
    "  * Estado Civil ↔ Casa Própria: p = 0.708 \n",
    "  * Renda ↔ Casa Própria: p = 0.705 <br>\n",
    "Já na *segunda* matriz de correlação (após a realização do tratamento utilizando Label e One-Hot Encoders), tivemos as relações mais fortes entre:\n",
    "  * Solteiro ↔ Alugada: p = 0.708 \n",
    "  * Renda ↔ Alugada: p = -0.705 "
   ]
  },
  {
   "cell_type": "markdown",
   "id": "677510c9",
   "metadata": {},
   "source": [
    "### 3.1 Análise Univariada - Variáveis Numéricas\n",
    "* Age\n",
    "* Income\n",
    "* Number of Children"
   ]
  },
  {
   "cell_type": "code",
   "execution_count": 10,
   "id": "0740eb16",
   "metadata": {},
   "outputs": [
    {
     "data": {
      "text/html": [
       "<div>\n",
       "<style scoped>\n",
       "    .dataframe tbody tr th:only-of-type {\n",
       "        vertical-align: middle;\n",
       "    }\n",
       "\n",
       "    .dataframe tbody tr th {\n",
       "        vertical-align: top;\n",
       "    }\n",
       "\n",
       "    .dataframe thead th {\n",
       "        text-align: right;\n",
       "    }\n",
       "</style>\n",
       "<table border=\"1\" class=\"dataframe\">\n",
       "  <thead>\n",
       "    <tr style=\"text-align: right;\">\n",
       "      <th></th>\n",
       "      <th>Age</th>\n",
       "      <th>Income</th>\n",
       "      <th>Number of Children</th>\n",
       "    </tr>\n",
       "  </thead>\n",
       "  <tbody>\n",
       "    <tr>\n",
       "      <th>count</th>\n",
       "      <td>164.000000</td>\n",
       "      <td>164.000000</td>\n",
       "      <td>164.000000</td>\n",
       "    </tr>\n",
       "    <tr>\n",
       "      <th>mean</th>\n",
       "      <td>37.195122</td>\n",
       "      <td>83765.243902</td>\n",
       "      <td>0.652439</td>\n",
       "    </tr>\n",
       "    <tr>\n",
       "      <th>std</th>\n",
       "      <td>7.586619</td>\n",
       "      <td>32457.306728</td>\n",
       "      <td>0.883346</td>\n",
       "    </tr>\n",
       "    <tr>\n",
       "      <th>min</th>\n",
       "      <td>25.000000</td>\n",
       "      <td>25000.000000</td>\n",
       "      <td>0.000000</td>\n",
       "    </tr>\n",
       "    <tr>\n",
       "      <th>25%</th>\n",
       "      <td>31.750000</td>\n",
       "      <td>57500.000000</td>\n",
       "      <td>0.000000</td>\n",
       "    </tr>\n",
       "    <tr>\n",
       "      <th>50%</th>\n",
       "      <td>36.000000</td>\n",
       "      <td>83750.000000</td>\n",
       "      <td>0.000000</td>\n",
       "    </tr>\n",
       "    <tr>\n",
       "      <th>75%</th>\n",
       "      <td>43.000000</td>\n",
       "      <td>105000.000000</td>\n",
       "      <td>1.000000</td>\n",
       "    </tr>\n",
       "    <tr>\n",
       "      <th>max</th>\n",
       "      <td>53.000000</td>\n",
       "      <td>162500.000000</td>\n",
       "      <td>3.000000</td>\n",
       "    </tr>\n",
       "  </tbody>\n",
       "</table>\n",
       "</div>"
      ],
      "text/plain": [
       "              Age         Income  Number of Children\n",
       "count  164.000000     164.000000          164.000000\n",
       "mean    37.195122   83765.243902            0.652439\n",
       "std      7.586619   32457.306728            0.883346\n",
       "min     25.000000   25000.000000            0.000000\n",
       "25%     31.750000   57500.000000            0.000000\n",
       "50%     36.000000   83750.000000            0.000000\n",
       "75%     43.000000  105000.000000            1.000000\n",
       "max     53.000000  162500.000000            3.000000"
      ]
     },
     "execution_count": 10,
     "metadata": {},
     "output_type": "execute_result"
    }
   ],
   "source": [
    "df.describe()"
   ]
  },
  {
   "cell_type": "markdown",
   "id": "72de2614",
   "metadata": {},
   "source": [
    "#### 3.1.1 Analisando Outliers"
   ]
  },
  {
   "cell_type": "code",
   "execution_count": 51,
   "id": "a32ca7e4",
   "metadata": {},
   "outputs": [
    {
     "data": {
      "image/png": "[encoded data removed]",
      "text/plain": [
       "<Figure size 1500x500 with 3 Axes>"
      ]
     },
     "metadata": {},
     "output_type": "display_data"
    }
   ],
   "source": [
    "# Definindo colunas numéricas\n",
    "numericos = ['Age', 'Income', 'Number of Children']\n",
    "\n",
    "# Criar figura com 3 subplots lado a lado\n",
    "fig, axes = plt.subplots(1, 3, figsize=(15, 5))\n",
    "\n",
    "# Iterar sobre colunas e eixos\n",
    "for ax, col in zip(axes, numericos):\n",
    "    sns.boxplot(y=df[col], ax=ax, color=\"skyblue\")\n",
    "    ax.set_title(f'Boxplot de {col}', fontsize=12)\n",
    "    ax.set_ylabel(\"Valor\")\n",
    "    ax.grid(axis='y', linestyle='--', alpha=0.7)\n",
    "\n",
    "# Ajustar layout e mostrar o gráfico\n",
    "plt.tight_layout()\n",
    "plt.show()"
   ]
  },
  {
   "cell_type": "markdown",
   "id": "e1299e6b",
   "metadata": {},
   "source": [
    "#### 3.1.2 Variável de Número de Filhos"
   ]
  },
  {
   "cell_type": "code",
   "execution_count": 12,
   "id": "a01695bc",
   "metadata": {},
   "outputs": [
    {
     "data": {
      "image/png": "[encoded data removed]",
      "text/plain": [
       "<Figure size 1000x600 with 1 Axes>"
      ]
     },
     "metadata": {},
     "output_type": "display_data"
    }
   ],
   "source": [
    "# Gráfico de barras para a contagem de número de filhos\n",
    "contagem = df['Number of Children'].value_counts().sort_index()\n",
    "\n",
    "# Gráfico de barras com seaborn\n",
    "plt.figure(figsize=(10, 6))\n",
    "sns.barplot(x=contagem.index, y=contagem.values, hue=contagem.index, palette='viridis', legend=False)\n",
    "plt.title('Distribuição de Número de Filhos', fontsize=16)\n",
    "plt.xlabel('Número de Filhos')  \n",
    "plt.yticks([])\n",
    "\n",
    "# Adicionando porcentagens acima das barras\n",
    "for i, val in enumerate(contagem.values):\n",
    "    pct = (val / contagem.sum()) * 100\n",
    "    plt.text(i, val + 0.05, f'{pct:.1f}%', ha='center', va='bottom', fontsize=10)\n",
    "\n",
    "# Exibindo o gráfico\n",
    "plt.show()"
   ]
  },
  {
   "cell_type": "markdown",
   "id": "2ba900f3",
   "metadata": {},
   "source": [
    "#### 3.1.3 Variável Idades"
   ]
  },
  {
   "cell_type": "code",
   "execution_count": 13,
   "id": "42756f79",
   "metadata": {},
   "outputs": [
    {
     "data": {
      "image/png": "[encoded data removed]",
      "text/plain": [
       "<Figure size 1000x600 with 1 Axes>"
      ]
     },
     "metadata": {},
     "output_type": "display_data"
    }
   ],
   "source": [
    "# Criado faixas etárias\n",
    "idades = [20, 30, 40, 50, df['Age'].max()+1]\n",
    "labels = ['20-29', '30-39', '40-49', '50+']\n",
    "age_group = pd.cut(df['Age'], bins=idades, labels=labels, right=False)\n",
    "age_counts = age_group.value_counts().sort_values(ascending=False)\n",
    "\n",
    "# Gráfico de barras com seaborn\n",
    "plt.figure(figsize=(10, 6))\n",
    "sns.barplot(x=age_counts.index, y=age_counts.values, hue=age_counts.index, palette='muted', order=age_counts.index, legend=False)\n",
    "plt.title('Distribuição de Idades por Faixa Etária', fontsize=16)\n",
    "plt.xlabel('Faixa Etária')\n",
    "plt.ylabel('')\n",
    "plt.yticks([])\n",
    "plt.grid(axis='y', linestyle='--', alpha=0.7)\n",
    "\n",
    "# Adicionando porcentagem acima das barras\n",
    "for i, val in enumerate(age_counts.values):\n",
    "    pct = (val / age_counts.sum()) * 100\n",
    "    plt.text(i, val + 0.05, f'{pct:.1f}%', ha='center', va='bottom', fontsize=10)\n",
    "\n",
    "# Exibindo o gráfico\n",
    "plt.show()"
   ]
  },
  {
   "cell_type": "markdown",
   "id": "4989573f",
   "metadata": {},
   "source": [
    "#### 3.1.4 Variável Income"
   ]
  },
  {
   "cell_type": "code",
   "execution_count": 14,
   "id": "25a2eb09",
   "metadata": {},
   "outputs": [
    {
     "data": {
      "image/png": "[encoded data removed]",
      "text/plain": [
       "<Figure size 1000x600 with 1 Axes>"
      ]
     },
     "metadata": {},
     "output_type": "display_data"
    }
   ],
   "source": [
    "# Configurar estilo\n",
    "plt.style.use('seaborn-v0_8')\n",
    "sns.set_palette(\"husl\")\n",
    "\n",
    "# Histograma da variável Income\n",
    "plt.figure(figsize=(10, 6))\n",
    "\n",
    "# Histograma + KDE do seaborn\n",
    "sns.histplot(df['Income'], bins=30, alpha=0.7, kde=False, color='skyblue', edgecolor='black', stat=\"density\")\n",
    "\n",
    "# Linhas de média e mediana\n",
    "plt.axvline(df['Income'].mean(), color='red', linestyle='--', linewidth=2, label=f'Média: {df[\"Income\"].mean():,.0f}')\n",
    "plt.axvline(df['Income'].median(), color='green', linestyle='--', linewidth=2, label=f'Mediana: {df[\"Income\"].median():,.0f}')\n",
    "\n",
    "# Curva de densidade manual\n",
    "x_range = np.linspace(df['Income'].min(), df['Income'].max(), 200)\n",
    "density = stats.gaussian_kde(df['Income'])\n",
    "plt.plot(x_range, density(x_range), color='orange', linewidth=3, label='Densidade')\n",
    "\n",
    "# Configurações do gráfico\n",
    "plt.title('Distribuição de Renda', fontsize=16)\n",
    "plt.xlabel('Renda')\n",
    "plt.ylabel('Frequência')\n",
    "plt.grid(axis='y', linestyle='--', alpha=0.7)\n",
    "plt.legend(fontsize=10, loc='upper right', frameon=True, framealpha=0.9, edgecolor='black')\n",
    "\n",
    "# Exibir o gráfico\n",
    "plt.show()"
   ]
  },
  {
   "cell_type": "code",
   "execution_count": 15,
   "id": "d4211c17",
   "metadata": {},
   "outputs": [
    {
     "data": {
      "image/png": "[encoded data removed]",
      "text/plain": [
       "<Figure size 1000x600 with 1 Axes>"
      ]
     },
     "metadata": {},
     "output_type": "display_data"
    }
   ],
   "source": [
    "# Configurar estilo\n",
    "plt.style.use('seaborn-v0_8')\n",
    "sns.set_palette(\"husl\")\n",
    "\n",
    "plt.figure(figsize=(10, 6))\n",
    "\n",
    "# Q-Q Plot (com plot=plt para desenhar)\n",
    "stats.probplot(df['Income'], dist=\"norm\", plot=plt)\n",
    "\n",
    "plt.title('Q-Q Plot (Teste de Normalidade)', fontsize=14)\n",
    "plt.xlabel('Quantis Teóricos', fontsize=12)\n",
    "plt.ylabel('Quantis da Renda', fontsize=12)\n",
    "plt.grid(True, alpha=0.3)\n",
    "\n",
    "# Exibir o gráfico\n",
    "plt.show()"
   ]
  },
  {
   "cell_type": "markdown",
   "id": "9f310c44",
   "metadata": {},
   "source": [
    "### 3.2 Análise Bivariada\n",
    "* Existe relação entre a idade e o status civil?\n",
    "* Qual a relação entre o score de crédito e o nível de escolaridade?\n",
    "* O salário parece influenciar na idade?\n",
    "* O salário parece influenciar no Score de Crédito?\n",
    "* Clientes com casa própria tendem a ter um score mais alto?\n",
    "* O número de filhos influencia no score de crédito? \n",
    "* O número de filhos influencia no salário? \n",
    "* A educação tem relação no aumento do salário?"
   ]
  },
  {
   "cell_type": "markdown",
   "id": "80cace16",
   "metadata": {},
   "source": [
    "#### 3.2.1 Idade e Estado Civil"
   ]
  },
  {
   "cell_type": "code",
   "execution_count": 16,
   "id": "11fb9943",
   "metadata": {},
   "outputs": [
    {
     "data": {
      "application/vnd.plotly.v1+json": {
       "config": {
        "plotlyServerURL": "https://plot.ly"
       },
       "data": [
        {
         "alignmentgroup": "True",
         "bingroup": "x",
         "hovertemplate": "Marital Status=Single<br>Age=%{x}<br>count=%{y}<extra></extra>",
         "legendgroup": "Single",
         "marker": {
          "color": "#636efa",
          "pattern": {
           "shape": ""
          }
         },
         "name": "Single",
         "nbinsx": 30,
         "offsetgroup": "Single",
         "orientation": "v",
         "showlegend": true,
         "type": "histogram",
         "x": {
          "bdata": "GSgaHyQkJCQkJCsdIiwZKBofKRsgKhwhKx0iLBkZKBofKRsgKhwhJCQkJCQZKBofKRsgKhwhKx0iLBkZHB8gGSgaHyQkJCQcISsdIiw=",
          "dtype": "i1"
         },
         "xaxis": "x",
         "yaxis": "y"
        },
        {
         "alignmentgroup": "True",
         "bingroup": "x",
         "hovertemplate": "Marital Status=Married<br>Age=%{x}<br>count=%{y}<extra></extra>",
         "legendgroup": "Married",
         "marker": {
          "color": "#EF553B",
          "pattern": {
           "shape": ""
          }
         },
         "name": "Married",
         "nbinsx": 30,
         "offsetgroup": "Married",
         "orientation": "v",
         "showlegend": true,
         "type": "histogram",
         "x": {
          "bdata": "HiMtMiQkJCQkJCQwNScxHiMtMiQuMyUvNCYwNScxHiMeIy0yJC4zJS80JCQkJCQkJB4jLTIkLjMlLzQmMDUnMR4jHiMhGh0iHiMtMiQkJCQkJCYwNScx",
          "dtype": "i1"
         },
         "xaxis": "x",
         "yaxis": "y"
        }
       ],
       "layout": {
        "barmode": "group",
        "legend": {
         "title": {
          "text": "Estado Civil"
         },
         "tracegroupgap": 0
        },
        "margin": {
         "t": 60
        },
        "template": {
         "data": {
          "bar": [
           {
            "error_x": {
             "color": "#2a3f5f"
            },
            "error_y": {
             "color": "#2a3f5f"
            },
            "marker": {
             "line": {
              "color": "#E5ECF6",
              "width": 0.5
             },
             "pattern": {
              "fillmode": "overlay",
              "size": 10,
              "solidity": 0.2
             }
            },
            "type": "bar"
           }
          ],
          "barpolar": [
           {
            "marker": {
             "line": {
              "color": "#E5ECF6",
              "width": 0.5
             },
             "pattern": {
              "fillmode": "overlay",
              "size": 10,
              "solidity": 0.2
             }
            },
            "type": "barpolar"
           }
          ],
          "carpet": [
           {
            "aaxis": {
             "endlinecolor": "#2a3f5f",
             "gridcolor": "white",
             "linecolor": "white",
             "minorgridcolor": "white",
             "startlinecolor": "#2a3f5f"
            },
            "baxis": {
             "endlinecolor": "#2a3f5f",
             "gridcolor": "white",
             "linecolor": "white",
             "minorgridcolor": "white",
             "startlinecolor": "#2a3f5f"
            },
            "type": "carpet"
           }
          ],
          "choropleth": [
           {
            "colorbar": {
             "outlinewidth": 0,
             "ticks": ""
            },
            "type": "choropleth"
           }
          ],
          "contour": [
           {
            "colorbar": {
             "outlinewidth": 0,
             "ticks": ""
            },
            "colorscale": [
             [
              0,
              "#0d0887"
             ],
             [
              0.1111111111111111,
              "#46039f"
             ],
             [
              0.2222222222222222,
              "#7201a8"
             ],
             [
              0.3333333333333333,
              "#9c179e"
             ],
             [
              0.4444444444444444,
              "#bd3786"
             ],
             [
              0.5555555555555556,
              "#d8576b"
             ],
             [
              0.6666666666666666,
              "#ed7953"
             ],
             [
              0.7777777777777778,
              "#fb9f3a"
             ],
             [
              0.8888888888888888,
              "#fdca26"
             ],
             [
              1,
              "#f0f921"
             ]
            ],
            "type": "contour"
           }
          ],
          "contourcarpet": [
           {
            "colorbar": {
             "outlinewidth": 0,
             "ticks": ""
            },
            "type": "contourcarpet"
           }
          ],
          "heatmap": [
           {
            "colorbar": {
             "outlinewidth": 0,
             "ticks": ""
            },
            "colorscale": [
             [
              0,
              "#0d0887"
             ],
             [
              0.1111111111111111,
              "#46039f"
             ],
             [
              0.2222222222222222,
              "#7201a8"
             ],
             [
              0.3333333333333333,
              "#9c179e"
             ],
             [
              0.4444444444444444,
              "#bd3786"
             ],
             [
              0.5555555555555556,
              "#d8576b"
             ],
             [
              0.6666666666666666,
              "#ed7953"
             ],
             [
              0.7777777777777778,
              "#fb9f3a"
             ],
             [
              0.8888888888888888,
              "#fdca26"
             ],
             [
              1,
              "#f0f921"
             ]
            ],
            "type": "heatmap"
           }
          ],
          "histogram": [
           {
            "marker": {
             "pattern": {
              "fillmode": "overlay",
              "size": 10,
              "solidity": 0.2
             }
            },
            "type": "histogram"
           }
          ],
          "histogram2d": [
           {
            "colorbar": {
             "outlinewidth": 0,
             "ticks": ""
            },
            "colorscale": [
             [
              0,
              "#0d0887"
             ],
             [
              0.1111111111111111,
              "#46039f"
             ],
             [
              0.2222222222222222,
              "#7201a8"
             ],
             [
              0.3333333333333333,
              "#9c179e"
             ],
             [
              0.4444444444444444,
              "#bd3786"
             ],
             [
              0.5555555555555556,
              "#d8576b"
             ],
             [
              0.6666666666666666,
              "#ed7953"
             ],
             [
              0.7777777777777778,
              "#fb9f3a"
             ],
             [
              0.8888888888888888,
              "#fdca26"
             ],
             [
              1,
              "#f0f921"
             ]
            ],
            "type": "histogram2d"
           }
          ],
          "histogram2dcontour": [
           {
            "colorbar": {
             "outlinewidth": 0,
             "ticks": ""
            },
            "colorscale": [
             [
              0,
              "#0d0887"
             ],
             [
              0.1111111111111111,
              "#46039f"
             ],
             [
              0.2222222222222222,
              "#7201a8"
             ],
             [
              0.3333333333333333,
              "#9c179e"
             ],
             [
              0.4444444444444444,
              "#bd3786"
             ],
             [
              0.5555555555555556,
              "#d8576b"
             ],
             [
              0.6666666666666666,
              "#ed7953"
             ],
             [
              0.7777777777777778,
              "#fb9f3a"
             ],
             [
              0.8888888888888888,
              "#fdca26"
             ],
             [
              1,
              "#f0f921"
             ]
            ],
            "type": "histogram2dcontour"
           }
          ],
          "mesh3d": [
           {
            "colorbar": {
             "outlinewidth": 0,
             "ticks": ""
            },
            "type": "mesh3d"
           }
          ],
          "parcoords": [
           {
            "line": {
             "colorbar": {
              "outlinewidth": 0,
              "ticks": ""
             }
            },
            "type": "parcoords"
           }
          ],
          "pie": [
           {
            "automargin": true,
            "type": "pie"
           }
          ],
          "scatter": [
           {
            "fillpattern": {
             "fillmode": "overlay",
             "size": 10,
             "solidity": 0.2
            },
            "type": "scatter"
           }
          ],
          "scatter3d": [
           {
            "line": {
             "colorbar": {
              "outlinewidth": 0,
              "ticks": ""
             }
            },
            "marker": {
             "colorbar": {
              "outlinewidth": 0,
              "ticks": ""
             }
            },
            "type": "scatter3d"
           }
          ],
          "scattercarpet": [
           {
            "marker": {
             "colorbar": {
              "outlinewidth": 0,
              "ticks": ""
             }
            },
            "type": "scattercarpet"
           }
          ],
          "scattergeo": [
           {
            "marker": {
             "colorbar": {
              "outlinewidth": 0,
              "ticks": ""
             }
            },
            "type": "scattergeo"
           }
          ],
          "scattergl": [
           {
            "marker": {
             "colorbar": {
              "outlinewidth": 0,
              "ticks": ""
             }
            },
            "type": "scattergl"
           }
          ],
          "scattermap": [
           {
            "marker": {
             "colorbar": {
              "outlinewidth": 0,
              "ticks": ""
             }
            },
            "type": "scattermap"
           }
          ],
          "scattermapbox": [
           {
            "marker": {
             "colorbar": {
              "outlinewidth": 0,
              "ticks": ""
             }
            },
            "type": "scattermapbox"
           }
          ],
          "scatterpolar": [
           {
            "marker": {
             "colorbar": {
              "outlinewidth": 0,
              "ticks": ""
             }
            },
            "type": "scatterpolar"
           }
          ],
          "scatterpolargl": [
           {
            "marker": {
             "colorbar": {
              "outlinewidth": 0,
              "ticks": ""
             }
            },
            "type": "scatterpolargl"
           }
          ],
          "scatterternary": [
           {
            "marker": {
             "colorbar": {
              "outlinewidth": 0,
              "ticks": ""
             }
            },
            "type": "scatterternary"
           }
          ],
          "surface": [
           {
            "colorbar": {
             "outlinewidth": 0,
             "ticks": ""
            },
            "colorscale": [
             [
              0,
              "#0d0887"
             ],
             [
              0.1111111111111111,
              "#46039f"
             ],
             [
              0.2222222222222222,
              "#7201a8"
             ],
             [
              0.3333333333333333,
              "#9c179e"
             ],
             [
              0.4444444444444444,
              "#bd3786"
             ],
             [
              0.5555555555555556,
              "#d8576b"
             ],
             [
              0.6666666666666666,
              "#ed7953"
             ],
             [
              0.7777777777777778,
              "#fb9f3a"
             ],
             [
              0.8888888888888888,
              "#fdca26"
             ],
             [
              1,
              "#f0f921"
             ]
            ],
            "type": "surface"
           }
          ],
          "table": [
           {
            "cells": {
             "fill": {
              "color": "#EBF0F8"
             },
             "line": {
              "color": "white"
             }
            },
            "header": {
             "fill": {
              "color": "#C8D4E3"
             },
             "line": {
              "color": "white"
             }
            },
            "type": "table"
           }
          ]
         },
         "layout": {
          "annotationdefaults": {
           "arrowcolor": "#2a3f5f",
           "arrowhead": 0,
           "arrowwidth": 1
          },
          "autotypenumbers": "strict",
          "coloraxis": {
           "colorbar": {
            "outlinewidth": 0,
            "ticks": ""
           }
          },
          "colorscale": {
           "diverging": [
            [
             0,
             "#8e0152"
            ],
            [
             0.1,
             "#c51b7d"
            ],
            [
             0.2,
             "#de77ae"
            ],
            [
             0.3,
             "#f1b6da"
            ],
            [
             0.4,
             "#fde0ef"
            ],
            [
             0.5,
             "#f7f7f7"
            ],
            [
             0.6,
             "#e6f5d0"
            ],
            [
             0.7,
             "#b8e186"
            ],
            [
             0.8,
             "#7fbc41"
            ],
            [
             0.9,
             "#4d9221"
            ],
            [
             1,
             "#276419"
            ]
           ],
           "sequential": [
            [
             0,
             "#0d0887"
            ],
            [
             0.1111111111111111,
             "#46039f"
            ],
            [
             0.2222222222222222,
             "#7201a8"
            ],
            [
             0.3333333333333333,
             "#9c179e"
            ],
            [
             0.4444444444444444,
             "#bd3786"
            ],
            [
             0.5555555555555556,
             "#d8576b"
            ],
            [
             0.6666666666666666,
             "#ed7953"
            ],
            [
             0.7777777777777778,
             "#fb9f3a"
            ],
            [
             0.8888888888888888,
             "#fdca26"
            ],
            [
             1,
             "#f0f921"
            ]
           ],
           "sequentialminus": [
            [
             0,
             "#0d0887"
            ],
            [
             0.1111111111111111,
             "#46039f"
            ],
            [
             0.2222222222222222,
             "#7201a8"
            ],
            [
             0.3333333333333333,
             "#9c179e"
            ],
            [
             0.4444444444444444,
             "#bd3786"
            ],
            [
             0.5555555555555556,
             "#d8576b"
            ],
            [
             0.6666666666666666,
             "#ed7953"
            ],
            [
             0.7777777777777778,
             "#fb9f3a"
            ],
            [
             0.8888888888888888,
             "#fdca26"
            ],
            [
             1,
             "#f0f921"
            ]
           ]
          },
          "colorway": [
           "#636efa",
           "#EF553B",
           "#00cc96",
           "#ab63fa",
           "#FFA15A",
           "#19d3f3",
           "#FF6692",
           "#B6E880",
           "#FF97FF",
           "#FECB52"
          ],
          "font": {
           "color": "#2a3f5f"
          },
          "geo": {
           "bgcolor": "white",
           "lakecolor": "white",
           "landcolor": "#E5ECF6",
           "showlakes": true,
           "showland": true,
           "subunitcolor": "white"
          },
          "hoverlabel": {
           "align": "left"
          },
          "hovermode": "closest",
          "mapbox": {
           "style": "light"
          },
          "paper_bgcolor": "white",
          "plot_bgcolor": "#E5ECF6",
          "polar": {
           "angularaxis": {
            "gridcolor": "white",
            "linecolor": "white",
            "ticks": ""
           },
           "bgcolor": "#E5ECF6",
           "radialaxis": {
            "gridcolor": "white",
            "linecolor": "white",
            "ticks": ""
           }
          },
          "scene": {
           "xaxis": {
            "backgroundcolor": "#E5ECF6",
            "gridcolor": "white",
            "gridwidth": 2,
            "linecolor": "white",
            "showbackground": true,
            "ticks": "",
            "zerolinecolor": "white"
           },
           "yaxis": {
            "backgroundcolor": "#E5ECF6",
            "gridcolor": "white",
            "gridwidth": 2,
            "linecolor": "white",
            "showbackground": true,
            "ticks": "",
            "zerolinecolor": "white"
           },
           "zaxis": {
            "backgroundcolor": "#E5ECF6",
            "gridcolor": "white",
            "gridwidth": 2,
            "linecolor": "white",
            "showbackground": true,
            "ticks": "",
            "zerolinecolor": "white"
           }
          },
          "shapedefaults": {
           "line": {
            "color": "#2a3f5f"
           }
          },
          "ternary": {
           "aaxis": {
            "gridcolor": "white",
            "linecolor": "white",
            "ticks": ""
           },
           "baxis": {
            "gridcolor": "white",
            "linecolor": "white",
            "ticks": ""
           },
           "bgcolor": "#E5ECF6",
           "caxis": {
            "gridcolor": "white",
            "linecolor": "white",
            "ticks": ""
           }
          },
          "title": {
           "x": 0.05
          },
          "xaxis": {
           "automargin": true,
           "gridcolor": "white",
           "linecolor": "white",
           "ticks": "",
           "title": {
            "standoff": 15
           },
           "zerolinecolor": "white",
           "zerolinewidth": 2
          },
          "yaxis": {
           "automargin": true,
           "gridcolor": "white",
           "linecolor": "white",
           "ticks": "",
           "title": {
            "standoff": 15
           },
           "zerolinecolor": "white",
           "zerolinewidth": 2
          }
         }
        },
        "title": {
         "text": "Distribuição de Idades por Estado Civil"
        },
        "xaxis": {
         "anchor": "y",
         "domain": [
          0,
          1
         ],
         "title": {
          "text": "Idade"
         }
        },
        "yaxis": {
         "anchor": "x",
         "domain": [
          0,
          1
         ],
         "title": {
          "text": "Estado Civil"
         }
        }
       }
      }
     },
     "metadata": {},
     "output_type": "display_data"
    }
   ],
   "source": [
    "fig = px.histogram(df, x='Age', color='Marital Status', barmode='group', nbins=30)\n",
    "\n",
    "fig.update_layout(\n",
    "    title='Distribuição de Idades por Estado Civil',\n",
    "    xaxis_title='Idade',\n",
    "    yaxis_title='Estado Civil',\n",
    "    legend_title='Estado Civil',\n",
    ")\n",
    "\n",
    "fig.show()"
   ]
  },
  {
   "cell_type": "code",
   "execution_count": 17,
   "id": "70ab14a8",
   "metadata": {},
   "outputs": [
    {
     "data": {
      "application/vnd.plotly.v1+json": {
       "config": {
        "plotlyServerURL": "https://plot.ly"
       },
       "data": [
        {
         "alignmentgroup": "True",
         "boxpoints": "outliers",
         "hovertemplate": "<b>%{x}</b><br>Idade: %{y}<extra></extra>",
         "legendgroup": "Single",
         "marker": {
          "color": "rgb(102,194,165)"
         },
         "name": "Single",
         "notched": false,
         "offsetgroup": "Single",
         "orientation": "v",
         "showlegend": true,
         "type": "box",
         "x": [
          "Single",
          "Single",
          "Single",
          "Single",
          "Single",
          "Single",
          "Single",
          "Single",
          "Single",
          "Single",
          "Single",
          "Single",
          "Single",
          "Single",
          "Single",
          "Single",
          "Single",
          "Single",
          "Single",
          "Single",
          "Single",
          "Single",
          "Single",
          "Single",
          "Single",
          "Single",
          "Single",
          "Single",
          "Single",
          "Single",
          "Single",
          "Single",
          "Single",
          "Single",
          "Single",
          "Single",
          "Single",
          "Single",
          "Single",
          "Single",
          "Single",
          "Single",
          "Single",
          "Single",
          "Single",
          "Single",
          "Single",
          "Single",
          "Single",
          "Single",
          "Single",
          "Single",
          "Single",
          "Single",
          "Single",
          "Single",
          "Single",
          "Single",
          "Single",
          "Single",
          "Single",
          "Single",
          "Single",
          "Single",
          "Single",
          "Single",
          "Single",
          "Single",
          "Single",
          "Single",
          "Single",
          "Single",
          "Single",
          "Single",
          "Single",
          "Single",
          "Single"
         ],
         "x0": " ",
         "xaxis": "x",
         "y": {
          "bdata": "GSgaHyQkJCQkJCsdIiwZKBofKRsgKhwhKx0iLBkZKBofKRsgKhwhJCQkJCQZKBofKRsgKhwhKx0iLBkZHB8gGSgaHyQkJCQcISsdIiw=",
          "dtype": "i1"
         },
         "y0": " ",
         "yaxis": "y"
        },
        {
         "alignmentgroup": "True",
         "boxpoints": "outliers",
         "hovertemplate": "<b>%{x}</b><br>Idade: %{y}<extra></extra>",
         "legendgroup": "Married",
         "marker": {
          "color": "rgb(252,141,98)"
         },
         "name": "Married",
         "notched": false,
         "offsetgroup": "Married",
         "orientation": "v",
         "showlegend": true,
         "type": "box",
         "x": [
          "Married",
          "Married",
          "Married",
          "Married",
          "Married",
          "Married",
          "Married",
          "Married",
          "Married",
          "Married",
          "Married",
          "Married",
          "Married",
          "Married",
          "Married",
          "Married",
          "Married",
          "Married",
          "Married",
          "Married",
          "Married",
          "Married",
          "Married",
          "Married",
          "Married",
          "Married",
          "Married",
          "Married",
          "Married",
          "Married",
          "Married",
          "Married",
          "Married",
          "Married",
          "Married",
          "Married",
          "Married",
          "Married",
          "Married",
          "Married",
          "Married",
          "Married",
          "Married",
          "Married",
          "Married",
          "Married",
          "Married",
          "Married",
          "Married",
          "Married",
          "Married",
          "Married",
          "Married",
          "Married",
          "Married",
          "Married",
          "Married",
          "Married",
          "Married",
          "Married",
          "Married",
          "Married",
          "Married",
          "Married",
          "Married",
          "Married",
          "Married",
          "Married",
          "Married",
          "Married",
          "Married",
          "Married",
          "Married",
          "Married",
          "Married",
          "Married",
          "Married",
          "Married",
          "Married",
          "Married",
          "Married",
          "Married",
          "Married",
          "Married",
          "Married",
          "Married",
          "Married"
         ],
         "x0": " ",
         "xaxis": "x",
         "y": {
          "bdata": "HiMtMiQkJCQkJCQwNScxHiMtMiQuMyUvNCYwNScxHiMeIy0yJC4zJS80JCQkJCQkJB4jLTIkLjMlLzQmMDUnMR4jHiMhGh0iHiMtMiQkJCQkJCYwNScx",
          "dtype": "i1"
         },
         "y0": " ",
         "yaxis": "y"
        }
       ],
       "layout": {
        "boxmode": "overlay",
        "font": {
         "size": 13
        },
        "height": 600,
        "legend": {
         "title": {
          "text": "Estado Civil"
         },
         "tracegroupgap": 0
        },
        "plot_bgcolor": "white",
        "showlegend": false,
        "template": {
         "data": {
          "bar": [
           {
            "error_x": {
             "color": "#2a3f5f"
            },
            "error_y": {
             "color": "#2a3f5f"
            },
            "marker": {
             "line": {
              "color": "#E5ECF6",
              "width": 0.5
             },
             "pattern": {
              "fillmode": "overlay",
              "size": 10,
              "solidity": 0.2
             }
            },
            "type": "bar"
           }
          ],
          "barpolar": [
           {
            "marker": {
             "line": {
              "color": "#E5ECF6",
              "width": 0.5
             },
             "pattern": {
              "fillmode": "overlay",
              "size": 10,
              "solidity": 0.2
             }
            },
            "type": "barpolar"
           }
          ],
          "carpet": [
           {
            "aaxis": {
             "endlinecolor": "#2a3f5f",
             "gridcolor": "white",
             "linecolor": "white",
             "minorgridcolor": "white",
             "startlinecolor": "#2a3f5f"
            },
            "baxis": {
             "endlinecolor": "#2a3f5f",
             "gridcolor": "white",
             "linecolor": "white",
             "minorgridcolor": "white",
             "startlinecolor": "#2a3f5f"
            },
            "type": "carpet"
           }
          ],
          "choropleth": [
           {
            "colorbar": {
             "outlinewidth": 0,
             "ticks": ""
            },
            "type": "choropleth"
           }
          ],
          "contour": [
           {
            "colorbar": {
             "outlinewidth": 0,
             "ticks": ""
            },
            "colorscale": [
             [
              0,
              "#0d0887"
             ],
             [
              0.1111111111111111,
              "#46039f"
             ],
             [
              0.2222222222222222,
              "#7201a8"
             ],
             [
              0.3333333333333333,
              "#9c179e"
             ],
             [
              0.4444444444444444,
              "#bd3786"
             ],
             [
              0.5555555555555556,
              "#d8576b"
             ],
             [
              0.6666666666666666,
              "#ed7953"
             ],
             [
              0.7777777777777778,
              "#fb9f3a"
             ],
             [
              0.8888888888888888,
              "#fdca26"
             ],
             [
              1,
              "#f0f921"
             ]
            ],
            "type": "contour"
           }
          ],
          "contourcarpet": [
           {
            "colorbar": {
             "outlinewidth": 0,
             "ticks": ""
            },
            "type": "contourcarpet"
           }
          ],
          "heatmap": [
           {
            "colorbar": {
             "outlinewidth": 0,
             "ticks": ""
            },
            "colorscale": [
             [
              0,
              "#0d0887"
             ],
             [
              0.1111111111111111,
              "#46039f"
             ],
             [
              0.2222222222222222,
              "#7201a8"
             ],
             [
              0.3333333333333333,
              "#9c179e"
             ],
             [
              0.4444444444444444,
              "#bd3786"
             ],
             [
              0.5555555555555556,
              "#d8576b"
             ],
             [
              0.6666666666666666,
              "#ed7953"
             ],
             [
              0.7777777777777778,
              "#fb9f3a"
             ],
             [
              0.8888888888888888,
              "#fdca26"
             ],
             [
              1,
              "#f0f921"
             ]
            ],
            "type": "heatmap"
           }
          ],
          "histogram": [
           {
            "marker": {
             "pattern": {
              "fillmode": "overlay",
              "size": 10,
              "solidity": 0.2
             }
            },
            "type": "histogram"
           }
          ],
          "histogram2d": [
           {
            "colorbar": {
             "outlinewidth": 0,
             "ticks": ""
            },
            "colorscale": [
             [
              0,
              "#0d0887"
             ],
             [
              0.1111111111111111,
              "#46039f"
             ],
             [
              0.2222222222222222,
              "#7201a8"
             ],
             [
              0.3333333333333333,
              "#9c179e"
             ],
             [
              0.4444444444444444,
              "#bd3786"
             ],
             [
              0.5555555555555556,
              "#d8576b"
             ],
             [
              0.6666666666666666,
              "#ed7953"
             ],
             [
              0.7777777777777778,
              "#fb9f3a"
             ],
             [
              0.8888888888888888,
              "#fdca26"
             ],
             [
              1,
              "#f0f921"
             ]
            ],
            "type": "histogram2d"
           }
          ],
          "histogram2dcontour": [
           {
            "colorbar": {
             "outlinewidth": 0,
             "ticks": ""
            },
            "colorscale": [
             [
              0,
              "#0d0887"
             ],
             [
              0.1111111111111111,
              "#46039f"
             ],
             [
              0.2222222222222222,
              "#7201a8"
             ],
             [
              0.3333333333333333,
              "#9c179e"
             ],
             [
              0.4444444444444444,
              "#bd3786"
             ],
             [
              0.5555555555555556,
              "#d8576b"
             ],
             [
              0.6666666666666666,
              "#ed7953"
             ],
             [
              0.7777777777777778,
              "#fb9f3a"
             ],
             [
              0.8888888888888888,
              "#fdca26"
             ],
             [
              1,
              "#f0f921"
             ]
            ],
            "type": "histogram2dcontour"
           }
          ],
          "mesh3d": [
           {
            "colorbar": {
             "outlinewidth": 0,
             "ticks": ""
            },
            "type": "mesh3d"
           }
          ],
          "parcoords": [
           {
            "line": {
             "colorbar": {
              "outlinewidth": 0,
              "ticks": ""
             }
            },
            "type": "parcoords"
           }
          ],
          "pie": [
           {
            "automargin": true,
            "type": "pie"
           }
          ],
          "scatter": [
           {
            "fillpattern": {
             "fillmode": "overlay",
             "size": 10,
             "solidity": 0.2
            },
            "type": "scatter"
           }
          ],
          "scatter3d": [
           {
            "line": {
             "colorbar": {
              "outlinewidth": 0,
              "ticks": ""
             }
            },
            "marker": {
             "colorbar": {
              "outlinewidth": 0,
              "ticks": ""
             }
            },
            "type": "scatter3d"
           }
          ],
          "scattercarpet": [
           {
            "marker": {
             "colorbar": {
              "outlinewidth": 0,
              "ticks": ""
             }
            },
            "type": "scattercarpet"
           }
          ],
          "scattergeo": [
           {
            "marker": {
             "colorbar": {
              "outlinewidth": 0,
              "ticks": ""
             }
            },
            "type": "scattergeo"
           }
          ],
          "scattergl": [
           {
            "marker": {
             "colorbar": {
              "outlinewidth": 0,
              "ticks": ""
             }
            },
            "type": "scattergl"
           }
          ],
          "scattermap": [
           {
            "marker": {
             "colorbar": {
              "outlinewidth": 0,
              "ticks": ""
             }
            },
            "type": "scattermap"
           }
          ],
          "scattermapbox": [
           {
            "marker": {
             "colorbar": {
              "outlinewidth": 0,
              "ticks": ""
             }
            },
            "type": "scattermapbox"
           }
          ],
          "scatterpolar": [
           {
            "marker": {
             "colorbar": {
              "outlinewidth": 0,
              "ticks": ""
             }
            },
            "type": "scatterpolar"
           }
          ],
          "scatterpolargl": [
           {
            "marker": {
             "colorbar": {
              "outlinewidth": 0,
              "ticks": ""
             }
            },
            "type": "scatterpolargl"
           }
          ],
          "scatterternary": [
           {
            "marker": {
             "colorbar": {
              "outlinewidth": 0,
              "ticks": ""
             }
            },
            "type": "scatterternary"
           }
          ],
          "surface": [
           {
            "colorbar": {
             "outlinewidth": 0,
             "ticks": ""
            },
            "colorscale": [
             [
              0,
              "#0d0887"
             ],
             [
              0.1111111111111111,
              "#46039f"
             ],
             [
              0.2222222222222222,
              "#7201a8"
             ],
             [
              0.3333333333333333,
              "#9c179e"
             ],
             [
              0.4444444444444444,
              "#bd3786"
             ],
             [
              0.5555555555555556,
              "#d8576b"
             ],
             [
              0.6666666666666666,
              "#ed7953"
             ],
             [
              0.7777777777777778,
              "#fb9f3a"
             ],
             [
              0.8888888888888888,
              "#fdca26"
             ],
             [
              1,
              "#f0f921"
             ]
            ],
            "type": "surface"
           }
          ],
          "table": [
           {
            "cells": {
             "fill": {
              "color": "#EBF0F8"
             },
             "line": {
              "color": "white"
             }
            },
            "header": {
             "fill": {
              "color": "#C8D4E3"
             },
             "line": {
              "color": "white"
             }
            },
            "type": "table"
           }
          ]
         },
         "layout": {
          "annotationdefaults": {
           "arrowcolor": "#2a3f5f",
           "arrowhead": 0,
           "arrowwidth": 1
          },
          "autotypenumbers": "strict",
          "coloraxis": {
           "colorbar": {
            "outlinewidth": 0,
            "ticks": ""
           }
          },
          "colorscale": {
           "diverging": [
            [
             0,
             "#8e0152"
            ],
            [
             0.1,
             "#c51b7d"
            ],
            [
             0.2,
             "#de77ae"
            ],
            [
             0.3,
             "#f1b6da"
            ],
            [
             0.4,
             "#fde0ef"
            ],
            [
             0.5,
             "#f7f7f7"
            ],
            [
             0.6,
             "#e6f5d0"
            ],
            [
             0.7,
             "#b8e186"
            ],
            [
             0.8,
             "#7fbc41"
            ],
            [
             0.9,
             "#4d9221"
            ],
            [
             1,
             "#276419"
            ]
           ],
           "sequential": [
            [
             0,
             "#0d0887"
            ],
            [
             0.1111111111111111,
             "#46039f"
            ],
            [
             0.2222222222222222,
             "#7201a8"
            ],
            [
             0.3333333333333333,
             "#9c179e"
            ],
            [
             0.4444444444444444,
             "#bd3786"
            ],
            [
             0.5555555555555556,
             "#d8576b"
            ],
            [
             0.6666666666666666,
             "#ed7953"
            ],
            [
             0.7777777777777778,
             "#fb9f3a"
            ],
            [
             0.8888888888888888,
             "#fdca26"
            ],
            [
             1,
             "#f0f921"
            ]
           ],
           "sequentialminus": [
            [
             0,
             "#0d0887"
            ],
            [
             0.1111111111111111,
             "#46039f"
            ],
            [
             0.2222222222222222,
             "#7201a8"
            ],
            [
             0.3333333333333333,
             "#9c179e"
            ],
            [
             0.4444444444444444,
             "#bd3786"
            ],
            [
             0.5555555555555556,
             "#d8576b"
            ],
            [
             0.6666666666666666,
             "#ed7953"
            ],
            [
             0.7777777777777778,
             "#fb9f3a"
            ],
            [
             0.8888888888888888,
             "#fdca26"
            ],
            [
             1,
             "#f0f921"
            ]
           ]
          },
          "colorway": [
           "#636efa",
           "#EF553B",
           "#00cc96",
           "#ab63fa",
           "#FFA15A",
           "#19d3f3",
           "#FF6692",
           "#B6E880",
           "#FF97FF",
           "#FECB52"
          ],
          "font": {
           "color": "#2a3f5f"
          },
          "geo": {
           "bgcolor": "white",
           "lakecolor": "white",
           "landcolor": "#E5ECF6",
           "showlakes": true,
           "showland": true,
           "subunitcolor": "white"
          },
          "hoverlabel": {
           "align": "left"
          },
          "hovermode": "closest",
          "mapbox": {
           "style": "light"
          },
          "paper_bgcolor": "white",
          "plot_bgcolor": "#E5ECF6",
          "polar": {
           "angularaxis": {
            "gridcolor": "white",
            "linecolor": "white",
            "ticks": ""
           },
           "bgcolor": "#E5ECF6",
           "radialaxis": {
            "gridcolor": "white",
            "linecolor": "white",
            "ticks": ""
           }
          },
          "scene": {
           "xaxis": {
            "backgroundcolor": "#E5ECF6",
            "gridcolor": "white",
            "gridwidth": 2,
            "linecolor": "white",
            "showbackground": true,
            "ticks": "",
            "zerolinecolor": "white"
           },
           "yaxis": {
            "backgroundcolor": "#E5ECF6",
            "gridcolor": "white",
            "gridwidth": 2,
            "linecolor": "white",
            "showbackground": true,
            "ticks": "",
            "zerolinecolor": "white"
           },
           "zaxis": {
            "backgroundcolor": "#E5ECF6",
            "gridcolor": "white",
            "gridwidth": 2,
            "linecolor": "white",
            "showbackground": true,
            "ticks": "",
            "zerolinecolor": "white"
           }
          },
          "shapedefaults": {
           "line": {
            "color": "#2a3f5f"
           }
          },
          "ternary": {
           "aaxis": {
            "gridcolor": "white",
            "linecolor": "white",
            "ticks": ""
           },
           "baxis": {
            "gridcolor": "white",
            "linecolor": "white",
            "ticks": ""
           },
           "bgcolor": "#E5ECF6",
           "caxis": {
            "gridcolor": "white",
            "linecolor": "white",
            "ticks": ""
           }
          },
          "title": {
           "x": 0.05
          },
          "xaxis": {
           "automargin": true,
           "gridcolor": "white",
           "linecolor": "white",
           "ticks": "",
           "title": {
            "standoff": 15
           },
           "zerolinecolor": "white",
           "zerolinewidth": 2
          },
          "yaxis": {
           "automargin": true,
           "gridcolor": "white",
           "linecolor": "white",
           "ticks": "",
           "title": {
            "standoff": 15
           },
           "zerolinecolor": "white",
           "zerolinewidth": 2
          }
         }
        },
        "title": {
         "font": {
          "size": 18
         },
         "text": "Distribuição de Idades por Estado Civil",
         "x": 0.5,
         "xanchor": "center"
        },
        "width": 800,
        "xaxis": {
         "anchor": "y",
         "categoryarray": [
          "Single",
          "Married"
         ],
         "categoryorder": "array",
         "domain": [
          0,
          1
         ],
         "title": {
          "text": "Estado Civil"
         }
        },
        "yaxis": {
         "anchor": "x",
         "domain": [
          0,
          1
         ],
         "title": {
          "text": "Idade"
         }
        }
       }
      }
     },
     "metadata": {},
     "output_type": "display_data"
    },
    {
     "name": "stdout",
     "output_type": "stream",
     "text": [
      "\n",
      "Estatísticas descritivas por Estado Civil:\n",
      "                count  mean  std   min   25%   50%   75%   max\n",
      "Marital Status                                                \n",
      "Married          87.0  40.4  7.4  26.0  36.0  37.0  48.0  53.0\n",
      "Single           77.0  33.6  6.0  25.0  28.0  33.0  36.0  44.0\n"
     ]
    }
   ],
   "source": [
    "fig = px.box(df,\n",
    "    x='Marital Status',\n",
    "    y='Age',\n",
    "    title='Boxplot de Idade por Status Civil',\n",
    "    labels={'Marital Status': 'Estado Civil', 'Age': 'Idade'},\n",
    "    color='Marital Status',\n",
    "    color_discrete_sequence=px.colors.qualitative.Set2\n",
    ")\n",
    "\n",
    "fig.update_layout(\n",
    "    title={\n",
    "        'text': 'Distribuição de Idades por Estado Civil',\n",
    "        'x': 0.5,  # Centraliza o título\n",
    "        'xanchor': 'center',\n",
    "        'font': {'size': 18}\n",
    "    },\n",
    "    xaxis_title='Estado Civil',\n",
    "    yaxis_title='Idade',\n",
    "    font=dict(size=13),\n",
    "    plot_bgcolor='white',\n",
    "    width=800,\n",
    "    height=600,\n",
    "    showlegend=False\n",
    ")\n",
    "\n",
    "fig.update_traces(\n",
    "    boxpoints='outliers',\n",
    "    hovertemplate='<b>%{x}</b><br>Idade: %{y}<extra></extra>'\n",
    ")\n",
    "\n",
    "fig.show()\n",
    "\n",
    "# Estatísticas descritivas por grupo\n",
    "print(\"\\nEstatísticas descritivas por Estado Civil:\")\n",
    "print(df.groupby('Marital Status')['Age'].describe().round(1))"
   ]
  },
  {
   "cell_type": "markdown",
   "id": "e25f4e88",
   "metadata": {},
   "source": [
    "#### 3.2.2 Credit Score e Education"
   ]
  },
  {
   "cell_type": "code",
   "execution_count": 18,
   "id": "39e5f638",
   "metadata": {},
   "outputs": [
    {
     "data": {
      "image/png": "[encoded data removed]",
      "text/plain": [
       "<Figure size 800x550 with 1 Axes>"
      ]
     },
     "metadata": {},
     "output_type": "display_data"
    }
   ],
   "source": [
    "sns.countplot(data=df, x='Education', hue='Credit Score', palette='Set3')\n",
    "plt.xticks(rotation=45)\n",
    "plt.title('Distribuição de Nível de Escolaridade por Score de Crédito')\n",
    "plt.xlabel('Nível de Escolaridade')\n",
    "plt.ylabel('Contagem')\n",
    "plt.grid(axis='y', linestyle='--', alpha=0.7)\n",
    "plt.legend(title='Score de Crédito')\n",
    "plt.show()"
   ]
  },
  {
   "cell_type": "code",
   "execution_count": 19,
   "id": "4c83b093",
   "metadata": {},
   "outputs": [
    {
     "data": {
      "application/vnd.plotly.v1+json": {
       "config": {
        "plotlyServerURL": "https://plot.ly"
       },
       "data": [
        {
         "bingroup": "x",
         "histnorm": "percent",
         "hovertemplate": "Score de Crédito=High<br>Nível de Escolaridade=%{x}<br>percent=%{y}<extra></extra>",
         "legendgroup": "High",
         "marker": {
          "color": "#ff7f0e",
          "pattern": {
           "shape": ""
          }
         },
         "name": "High",
         "orientation": "v",
         "showlegend": true,
         "type": "histogram",
         "x": [
          "Bachelor's Degree",
          "Master's Degree",
          "Doctorate",
          "High School Diploma",
          "Bachelor's Degree",
          "Master's Degree",
          "Master's Degree",
          "Doctorate",
          "High School Diploma",
          "Bachelor's Degree",
          "Bachelor's Degree",
          "Master's Degree",
          "Doctorate",
          "High School Diploma",
          "Bachelor's Degree",
          "Master's Degree",
          "Doctorate",
          "Associate's Degree",
          "Bachelor's Degree",
          "Master's Degree",
          "Doctorate",
          "Master's Degree",
          "Doctorate",
          "High School Diploma",
          "Bachelor's Degree",
          "Master's Degree",
          "Master's Degree",
          "Doctorate",
          "High School Diploma",
          "Bachelor's Degree",
          "Bachelor's Degree",
          "Master's Degree",
          "Doctorate",
          "High School Diploma",
          "Bachelor's Degree",
          "Master's Degree",
          "Doctorate",
          "Associate's Degree",
          "Bachelor's Degree",
          "Master's Degree",
          "Doctorate",
          "Master's Degree",
          "Doctorate",
          "Master's Degree",
          "Doctorate",
          "High School Diploma",
          "Bachelor's Degree",
          "Master's Degree",
          "Master's Degree",
          "Doctorate",
          "High School Diploma",
          "Bachelor's Degree",
          "Bachelor's Degree",
          "Master's Degree",
          "Doctorate",
          "High School Diploma",
          "Bachelor's Degree",
          "Master's Degree",
          "Doctorate",
          "Associate's Degree",
          "Bachelor's Degree",
          "Master's Degree",
          "Doctorate",
          "Master's Degree",
          "Doctorate",
          "Master's Degree",
          "Doctorate",
          "High School Diploma",
          "Bachelor's Degree",
          "Master's Degree",
          "Master's Degree",
          "Doctorate",
          "High School Diploma",
          "Bachelor's Degree",
          "Bachelor's Degree",
          "Master's Degree",
          "Doctorate",
          "High School Diploma",
          "Bachelor's Degree",
          "Master's Degree",
          "Doctorate",
          "Associate's Degree",
          "Bachelor's Degree",
          "Master's Degree",
          "Doctorate",
          "Master's Degree",
          "Doctorate",
          "Master's Degree",
          "Doctorate",
          "Master's Degree",
          "Doctorate",
          "Master's Degree",
          "Bachelor's Degree",
          "Master's Degree",
          "Doctorate",
          "High School Diploma",
          "Bachelor's Degree",
          "Master's Degree",
          "Master's Degree",
          "Doctorate",
          "High School Diploma",
          "Bachelor's Degree",
          "Bachelor's Degree",
          "Master's Degree",
          "Doctorate",
          "High School Diploma",
          "Bachelor's Degree",
          "Master's Degree",
          "Doctorate",
          "Associate's Degree",
          "Bachelor's Degree",
          "Master's Degree",
          "Doctorate"
         ],
         "xaxis": "x",
         "yaxis": "y"
        },
        {
         "bingroup": "x",
         "histnorm": "percent",
         "hovertemplate": "Score de Crédito=Average<br>Nível de Escolaridade=%{x}<br>percent=%{y}<extra></extra>",
         "legendgroup": "Average",
         "marker": {
          "color": "#1f77b4",
          "pattern": {
           "shape": ""
          }
         },
         "name": "Average",
         "orientation": "v",
         "showlegend": true,
         "type": "histogram",
         "x": [
          "Associate's Degree",
          "Bachelor's Degree",
          "Associate's Degree",
          "High School Diploma",
          "Associate's Degree",
          "Bachelor's Degree",
          "Associate's Degree",
          "Bachelor's Degree",
          "Associate's Degree",
          "High School Diploma",
          "Associate's Degree",
          "Bachelor's Degree",
          "Bachelor's Degree",
          "Associate's Degree",
          "Bachelor's Degree",
          "Associate's Degree",
          "High School Diploma",
          "Associate's Degree",
          "Bachelor's Degree",
          "Bachelor's Degree",
          "Associate's Degree",
          "Bachelor's Degree",
          "Associate's Degree",
          "High School Diploma",
          "Associate's Degree",
          "Bachelor's Degree",
          "Bachelor's Degree",
          "Bachelor's Degree",
          "Bachelor's Degree",
          "Doctorate",
          "Bachelor's Degree",
          "Associate's Degree",
          "Bachelor's Degree",
          "Associate's Degree",
          "High School Diploma",
          "Associate's Degree"
         ],
         "xaxis": "x",
         "yaxis": "y"
        },
        {
         "bingroup": "x",
         "histnorm": "percent",
         "hovertemplate": "Score de Crédito=Low<br>Nível de Escolaridade=%{x}<br>percent=%{y}<extra></extra>",
         "legendgroup": "Low",
         "marker": {
          "color": "#2ca02c",
          "pattern": {
           "shape": ""
          }
         },
         "name": "Low",
         "orientation": "v",
         "showlegend": true,
         "type": "histogram",
         "x": [
          "High School Diploma",
          "Associate's Degree",
          "High School Diploma",
          "High School Diploma",
          "Associate's Degree",
          "High School Diploma",
          "High School Diploma",
          "Associate's Degree",
          "High School Diploma",
          "High School Diploma",
          "Associate's Degree",
          "High School Diploma",
          "High School Diploma",
          "Associate's Degree",
          "High School Diploma"
         ],
         "xaxis": "x",
         "yaxis": "y"
        }
       ],
       "layout": {
        "bargap": 0.2,
        "barmode": "relative",
        "legend": {
         "title": {
          "text": "Score de Crédito"
         },
         "tracegroupgap": 0
        },
        "template": {
         "data": {
          "bar": [
           {
            "error_x": {
             "color": "#2a3f5f"
            },
            "error_y": {
             "color": "#2a3f5f"
            },
            "marker": {
             "line": {
              "color": "#E5ECF6",
              "width": 0.5
             },
             "pattern": {
              "fillmode": "overlay",
              "size": 10,
              "solidity": 0.2
             }
            },
            "type": "bar"
           }
          ],
          "barpolar": [
           {
            "marker": {
             "line": {
              "color": "#E5ECF6",
              "width": 0.5
             },
             "pattern": {
              "fillmode": "overlay",
              "size": 10,
              "solidity": 0.2
             }
            },
            "type": "barpolar"
           }
          ],
          "carpet": [
           {
            "aaxis": {
             "endlinecolor": "#2a3f5f",
             "gridcolor": "white",
             "linecolor": "white",
             "minorgridcolor": "white",
             "startlinecolor": "#2a3f5f"
            },
            "baxis": {
             "endlinecolor": "#2a3f5f",
             "gridcolor": "white",
             "linecolor": "white",
             "minorgridcolor": "white",
             "startlinecolor": "#2a3f5f"
            },
            "type": "carpet"
           }
          ],
          "choropleth": [
           {
            "colorbar": {
             "outlinewidth": 0,
             "ticks": ""
            },
            "type": "choropleth"
           }
          ],
          "contour": [
           {
            "colorbar": {
             "outlinewidth": 0,
             "ticks": ""
            },
            "colorscale": [
             [
              0,
              "#0d0887"
             ],
             [
              0.1111111111111111,
              "#46039f"
             ],
             [
              0.2222222222222222,
              "#7201a8"
             ],
             [
              0.3333333333333333,
              "#9c179e"
             ],
             [
              0.4444444444444444,
              "#bd3786"
             ],
             [
              0.5555555555555556,
              "#d8576b"
             ],
             [
              0.6666666666666666,
              "#ed7953"
             ],
             [
              0.7777777777777778,
              "#fb9f3a"
             ],
             [
              0.8888888888888888,
              "#fdca26"
             ],
             [
              1,
              "#f0f921"
             ]
            ],
            "type": "contour"
           }
          ],
          "contourcarpet": [
           {
            "colorbar": {
             "outlinewidth": 0,
             "ticks": ""
            },
            "type": "contourcarpet"
           }
          ],
          "heatmap": [
           {
            "colorbar": {
             "outlinewidth": 0,
             "ticks": ""
            },
            "colorscale": [
             [
              0,
              "#0d0887"
             ],
             [
              0.1111111111111111,
              "#46039f"
             ],
             [
              0.2222222222222222,
              "#7201a8"
             ],
             [
              0.3333333333333333,
              "#9c179e"
             ],
             [
              0.4444444444444444,
              "#bd3786"
             ],
             [
              0.5555555555555556,
              "#d8576b"
             ],
             [
              0.6666666666666666,
              "#ed7953"
             ],
             [
              0.7777777777777778,
              "#fb9f3a"
             ],
             [
              0.8888888888888888,
              "#fdca26"
             ],
             [
              1,
              "#f0f921"
             ]
            ],
            "type": "heatmap"
           }
          ],
          "histogram": [
           {
            "marker": {
             "pattern": {
              "fillmode": "overlay",
              "size": 10,
              "solidity": 0.2
             }
            },
            "type": "histogram"
           }
          ],
          "histogram2d": [
           {
            "colorbar": {
             "outlinewidth": 0,
             "ticks": ""
            },
            "colorscale": [
             [
              0,
              "#0d0887"
             ],
             [
              0.1111111111111111,
              "#46039f"
             ],
             [
              0.2222222222222222,
              "#7201a8"
             ],
             [
              0.3333333333333333,
              "#9c179e"
             ],
             [
              0.4444444444444444,
              "#bd3786"
             ],
             [
              0.5555555555555556,
              "#d8576b"
             ],
             [
              0.6666666666666666,
              "#ed7953"
             ],
             [
              0.7777777777777778,
              "#fb9f3a"
             ],
             [
              0.8888888888888888,
              "#fdca26"
             ],
             [
              1,
              "#f0f921"
             ]
            ],
            "type": "histogram2d"
           }
          ],
          "histogram2dcontour": [
           {
            "colorbar": {
             "outlinewidth": 0,
             "ticks": ""
            },
            "colorscale": [
             [
              0,
              "#0d0887"
             ],
             [
              0.1111111111111111,
              "#46039f"
             ],
             [
              0.2222222222222222,
              "#7201a8"
             ],
             [
              0.3333333333333333,
              "#9c179e"
             ],
             [
              0.4444444444444444,
              "#bd3786"
             ],
             [
              0.5555555555555556,
              "#d8576b"
             ],
             [
              0.6666666666666666,
              "#ed7953"
             ],
             [
              0.7777777777777778,
              "#fb9f3a"
             ],
             [
              0.8888888888888888,
              "#fdca26"
             ],
             [
              1,
              "#f0f921"
             ]
            ],
            "type": "histogram2dcontour"
           }
          ],
          "mesh3d": [
           {
            "colorbar": {
             "outlinewidth": 0,
             "ticks": ""
            },
            "type": "mesh3d"
           }
          ],
          "parcoords": [
           {
            "line": {
             "colorbar": {
              "outlinewidth": 0,
              "ticks": ""
             }
            },
            "type": "parcoords"
           }
          ],
          "pie": [
           {
            "automargin": true,
            "type": "pie"
           }
          ],
          "scatter": [
           {
            "fillpattern": {
             "fillmode": "overlay",
             "size": 10,
             "solidity": 0.2
            },
            "type": "scatter"
           }
          ],
          "scatter3d": [
           {
            "line": {
             "colorbar": {
              "outlinewidth": 0,
              "ticks": ""
             }
            },
            "marker": {
             "colorbar": {
              "outlinewidth": 0,
              "ticks": ""
             }
            },
            "type": "scatter3d"
           }
          ],
          "scattercarpet": [
           {
            "marker": {
             "colorbar": {
              "outlinewidth": 0,
              "ticks": ""
             }
            },
            "type": "scattercarpet"
           }
          ],
          "scattergeo": [
           {
            "marker": {
             "colorbar": {
              "outlinewidth": 0,
              "ticks": ""
             }
            },
            "type": "scattergeo"
           }
          ],
          "scattergl": [
           {
            "marker": {
             "colorbar": {
              "outlinewidth": 0,
              "ticks": ""
             }
            },
            "type": "scattergl"
           }
          ],
          "scattermap": [
           {
            "marker": {
             "colorbar": {
              "outlinewidth": 0,
              "ticks": ""
             }
            },
            "type": "scattermap"
           }
          ],
          "scattermapbox": [
           {
            "marker": {
             "colorbar": {
              "outlinewidth": 0,
              "ticks": ""
             }
            },
            "type": "scattermapbox"
           }
          ],
          "scatterpolar": [
           {
            "marker": {
             "colorbar": {
              "outlinewidth": 0,
              "ticks": ""
             }
            },
            "type": "scatterpolar"
           }
          ],
          "scatterpolargl": [
           {
            "marker": {
             "colorbar": {
              "outlinewidth": 0,
              "ticks": ""
             }
            },
            "type": "scatterpolargl"
           }
          ],
          "scatterternary": [
           {
            "marker": {
             "colorbar": {
              "outlinewidth": 0,
              "ticks": ""
             }
            },
            "type": "scatterternary"
           }
          ],
          "surface": [
           {
            "colorbar": {
             "outlinewidth": 0,
             "ticks": ""
            },
            "colorscale": [
             [
              0,
              "#0d0887"
             ],
             [
              0.1111111111111111,
              "#46039f"
             ],
             [
              0.2222222222222222,
              "#7201a8"
             ],
             [
              0.3333333333333333,
              "#9c179e"
             ],
             [
              0.4444444444444444,
              "#bd3786"
             ],
             [
              0.5555555555555556,
              "#d8576b"
             ],
             [
              0.6666666666666666,
              "#ed7953"
             ],
             [
              0.7777777777777778,
              "#fb9f3a"
             ],
             [
              0.8888888888888888,
              "#fdca26"
             ],
             [
              1,
              "#f0f921"
             ]
            ],
            "type": "surface"
           }
          ],
          "table": [
           {
            "cells": {
             "fill": {
              "color": "#EBF0F8"
             },
             "line": {
              "color": "white"
             }
            },
            "header": {
             "fill": {
              "color": "#C8D4E3"
             },
             "line": {
              "color": "white"
             }
            },
            "type": "table"
           }
          ]
         },
         "layout": {
          "annotationdefaults": {
           "arrowcolor": "#2a3f5f",
           "arrowhead": 0,
           "arrowwidth": 1
          },
          "autotypenumbers": "strict",
          "coloraxis": {
           "colorbar": {
            "outlinewidth": 0,
            "ticks": ""
           }
          },
          "colorscale": {
           "diverging": [
            [
             0,
             "#8e0152"
            ],
            [
             0.1,
             "#c51b7d"
            ],
            [
             0.2,
             "#de77ae"
            ],
            [
             0.3,
             "#f1b6da"
            ],
            [
             0.4,
             "#fde0ef"
            ],
            [
             0.5,
             "#f7f7f7"
            ],
            [
             0.6,
             "#e6f5d0"
            ],
            [
             0.7,
             "#b8e186"
            ],
            [
             0.8,
             "#7fbc41"
            ],
            [
             0.9,
             "#4d9221"
            ],
            [
             1,
             "#276419"
            ]
           ],
           "sequential": [
            [
             0,
             "#0d0887"
            ],
            [
             0.1111111111111111,
             "#46039f"
            ],
            [
             0.2222222222222222,
             "#7201a8"
            ],
            [
             0.3333333333333333,
             "#9c179e"
            ],
            [
             0.4444444444444444,
             "#bd3786"
            ],
            [
             0.5555555555555556,
             "#d8576b"
            ],
            [
             0.6666666666666666,
             "#ed7953"
            ],
            [
             0.7777777777777778,
             "#fb9f3a"
            ],
            [
             0.8888888888888888,
             "#fdca26"
            ],
            [
             1,
             "#f0f921"
            ]
           ],
           "sequentialminus": [
            [
             0,
             "#0d0887"
            ],
            [
             0.1111111111111111,
             "#46039f"
            ],
            [
             0.2222222222222222,
             "#7201a8"
            ],
            [
             0.3333333333333333,
             "#9c179e"
            ],
            [
             0.4444444444444444,
             "#bd3786"
            ],
            [
             0.5555555555555556,
             "#d8576b"
            ],
            [
             0.6666666666666666,
             "#ed7953"
            ],
            [
             0.7777777777777778,
             "#fb9f3a"
            ],
            [
             0.8888888888888888,
             "#fdca26"
            ],
            [
             1,
             "#f0f921"
            ]
           ]
          },
          "colorway": [
           "#636efa",
           "#EF553B",
           "#00cc96",
           "#ab63fa",
           "#FFA15A",
           "#19d3f3",
           "#FF6692",
           "#B6E880",
           "#FF97FF",
           "#FECB52"
          ],
          "font": {
           "color": "#2a3f5f"
          },
          "geo": {
           "bgcolor": "white",
           "lakecolor": "white",
           "landcolor": "#E5ECF6",
           "showlakes": true,
           "showland": true,
           "subunitcolor": "white"
          },
          "hoverlabel": {
           "align": "left"
          },
          "hovermode": "closest",
          "mapbox": {
           "style": "light"
          },
          "paper_bgcolor": "white",
          "plot_bgcolor": "#E5ECF6",
          "polar": {
           "angularaxis": {
            "gridcolor": "white",
            "linecolor": "white",
            "ticks": ""
           },
           "bgcolor": "#E5ECF6",
           "radialaxis": {
            "gridcolor": "white",
            "linecolor": "white",
            "ticks": ""
           }
          },
          "scene": {
           "xaxis": {
            "backgroundcolor": "#E5ECF6",
            "gridcolor": "white",
            "gridwidth": 2,
            "linecolor": "white",
            "showbackground": true,
            "ticks": "",
            "zerolinecolor": "white"
           },
           "yaxis": {
            "backgroundcolor": "#E5ECF6",
            "gridcolor": "white",
            "gridwidth": 2,
            "linecolor": "white",
            "showbackground": true,
            "ticks": "",
            "zerolinecolor": "white"
           },
           "zaxis": {
            "backgroundcolor": "#E5ECF6",
            "gridcolor": "white",
            "gridwidth": 2,
            "linecolor": "white",
            "showbackground": true,
            "ticks": "",
            "zerolinecolor": "white"
           }
          },
          "shapedefaults": {
           "line": {
            "color": "#2a3f5f"
           }
          },
          "ternary": {
           "aaxis": {
            "gridcolor": "white",
            "linecolor": "white",
            "ticks": ""
           },
           "baxis": {
            "gridcolor": "white",
            "linecolor": "white",
            "ticks": ""
           },
           "bgcolor": "#E5ECF6",
           "caxis": {
            "gridcolor": "white",
            "linecolor": "white",
            "ticks": ""
           }
          },
          "title": {
           "x": 0.05
          },
          "xaxis": {
           "automargin": true,
           "gridcolor": "white",
           "linecolor": "white",
           "ticks": "",
           "title": {
            "standoff": 15
           },
           "zerolinecolor": "white",
           "zerolinewidth": 2
          },
          "yaxis": {
           "automargin": true,
           "gridcolor": "white",
           "linecolor": "white",
           "ticks": "",
           "title": {
            "standoff": 15
           },
           "zerolinecolor": "white",
           "zerolinewidth": 2
          }
         }
        },
        "title": {
         "text": "Distribuição de Nível de Escolaridade por Score de Crédito (Percentual)"
        },
        "xaxis": {
         "anchor": "y",
         "domain": [
          0,
          1
         ],
         "title": {
          "text": "Nível de Escolaridade"
         }
        },
        "yaxis": {
         "anchor": "x",
         "domain": [
          0,
          1
         ],
         "title": {
          "text": "Percentual (%)"
         }
        }
       }
      }
     },
     "metadata": {},
     "output_type": "display_data"
    }
   ],
   "source": [
    "# Criando o gráfico de barras com Plotly Express\n",
    "fig = px.histogram(\n",
    "    df,\n",
    "    x='Education',\n",
    "    color='Credit Score',\n",
    "    barmode='relative',\n",
    "    histnorm='percent',\n",
    "    title='Distribuição de Nível de Escolaridade por Score de Crédito (Percentual)',\n",
    "    labels={'Education': 'Nível de Escolaridade', 'Credit Score': 'Score de Crédito', 'percent': 'Percentual'},\n",
    "    color_discrete_sequence=[\"#ff7f0e\",\"#1f77b4\", \"#2ca02c\"]\n",
    ")\n",
    "\n",
    "# Atualizando o layout do gráfico\n",
    "fig.update_layout(\n",
    "    xaxis_title='Nível de Escolaridade',\n",
    "    yaxis_title='Percentual (%)',\n",
    "    legend_title='Score de Crédito',\n",
    "    bargap=0.2,\n",
    ")\n",
    "\n",
    "# Exibindo o gráfico\n",
    "fig.show()"
   ]
  },
  {
   "cell_type": "code",
   "execution_count": 20,
   "id": "48d20914",
   "metadata": {},
   "outputs": [
    {
     "data": {
      "application/vnd.plotly.v1+json": {
       "config": {
        "plotlyServerURL": "https://plot.ly"
       },
       "data": [
        {
         "alignmentgroup": "True",
         "bingroup": "x",
         "hovertemplate": "Score de Crédito=High<br>Nível de Escolaridade=%{x}<br>count=%{y}<extra></extra>",
         "legendgroup": "High",
         "marker": {
          "color": "rgb(228,26,28)",
          "pattern": {
           "shape": ""
          }
         },
         "name": "High",
         "offsetgroup": "High",
         "orientation": "v",
         "showlegend": true,
         "type": "histogram",
         "x": [
          "Bachelor's Degree",
          "Master's Degree",
          "Doctorate",
          "High School Diploma",
          "Bachelor's Degree",
          "Master's Degree",
          "Master's Degree",
          "Doctorate",
          "High School Diploma",
          "Bachelor's Degree",
          "Bachelor's Degree",
          "Master's Degree",
          "Doctorate",
          "High School Diploma",
          "Bachelor's Degree",
          "Master's Degree",
          "Doctorate",
          "Associate's Degree",
          "Bachelor's Degree",
          "Master's Degree",
          "Doctorate",
          "Master's Degree",
          "Doctorate",
          "High School Diploma",
          "Bachelor's Degree",
          "Master's Degree",
          "Master's Degree",
          "Doctorate",
          "High School Diploma",
          "Bachelor's Degree",
          "Bachelor's Degree",
          "Master's Degree",
          "Doctorate",
          "High School Diploma",
          "Bachelor's Degree",
          "Master's Degree",
          "Doctorate",
          "Associate's Degree",
          "Bachelor's Degree",
          "Master's Degree",
          "Doctorate",
          "Master's Degree",
          "Doctorate",
          "Master's Degree",
          "Doctorate",
          "High School Diploma",
          "Bachelor's Degree",
          "Master's Degree",
          "Master's Degree",
          "Doctorate",
          "High School Diploma",
          "Bachelor's Degree",
          "Bachelor's Degree",
          "Master's Degree",
          "Doctorate",
          "High School Diploma",
          "Bachelor's Degree",
          "Master's Degree",
          "Doctorate",
          "Associate's Degree",
          "Bachelor's Degree",
          "Master's Degree",
          "Doctorate",
          "Master's Degree",
          "Doctorate",
          "Master's Degree",
          "Doctorate",
          "High School Diploma",
          "Bachelor's Degree",
          "Master's Degree",
          "Master's Degree",
          "Doctorate",
          "High School Diploma",
          "Bachelor's Degree",
          "Bachelor's Degree",
          "Master's Degree",
          "Doctorate",
          "High School Diploma",
          "Bachelor's Degree",
          "Master's Degree",
          "Doctorate",
          "Associate's Degree",
          "Bachelor's Degree",
          "Master's Degree",
          "Doctorate",
          "Master's Degree",
          "Doctorate",
          "Master's Degree",
          "Doctorate",
          "Master's Degree",
          "Doctorate",
          "Master's Degree",
          "Bachelor's Degree",
          "Master's Degree",
          "Doctorate",
          "High School Diploma",
          "Bachelor's Degree",
          "Master's Degree",
          "Master's Degree",
          "Doctorate",
          "High School Diploma",
          "Bachelor's Degree",
          "Bachelor's Degree",
          "Master's Degree",
          "Doctorate",
          "High School Diploma",
          "Bachelor's Degree",
          "Master's Degree",
          "Doctorate",
          "Associate's Degree",
          "Bachelor's Degree",
          "Master's Degree",
          "Doctorate"
         ],
         "xaxis": "x",
         "yaxis": "y"
        },
        {
         "alignmentgroup": "True",
         "bingroup": "x",
         "hovertemplate": "Score de Crédito=Average<br>Nível de Escolaridade=%{x}<br>count=%{y}<extra></extra>",
         "legendgroup": "Average",
         "marker": {
          "color": "rgb(55,126,184)",
          "pattern": {
           "shape": ""
          }
         },
         "name": "Average",
         "offsetgroup": "Average",
         "orientation": "v",
         "showlegend": true,
         "type": "histogram",
         "x": [
          "Associate's Degree",
          "Bachelor's Degree",
          "Associate's Degree",
          "High School Diploma",
          "Associate's Degree",
          "Bachelor's Degree",
          "Associate's Degree",
          "Bachelor's Degree",
          "Associate's Degree",
          "High School Diploma",
          "Associate's Degree",
          "Bachelor's Degree",
          "Bachelor's Degree",
          "Associate's Degree",
          "Bachelor's Degree",
          "Associate's Degree",
          "High School Diploma",
          "Associate's Degree",
          "Bachelor's Degree",
          "Bachelor's Degree",
          "Associate's Degree",
          "Bachelor's Degree",
          "Associate's Degree",
          "High School Diploma",
          "Associate's Degree",
          "Bachelor's Degree",
          "Bachelor's Degree",
          "Bachelor's Degree",
          "Bachelor's Degree",
          "Doctorate",
          "Bachelor's Degree",
          "Associate's Degree",
          "Bachelor's Degree",
          "Associate's Degree",
          "High School Diploma",
          "Associate's Degree"
         ],
         "xaxis": "x",
         "yaxis": "y"
        },
        {
         "alignmentgroup": "True",
         "bingroup": "x",
         "hovertemplate": "Score de Crédito=Low<br>Nível de Escolaridade=%{x}<br>count=%{y}<extra></extra>",
         "legendgroup": "Low",
         "marker": {
          "color": "rgb(77,175,74)",
          "pattern": {
           "shape": ""
          }
         },
         "name": "Low",
         "offsetgroup": "Low",
         "orientation": "v",
         "showlegend": true,
         "type": "histogram",
         "x": [
          "High School Diploma",
          "Associate's Degree",
          "High School Diploma",
          "High School Diploma",
          "Associate's Degree",
          "High School Diploma",
          "High School Diploma",
          "Associate's Degree",
          "High School Diploma",
          "High School Diploma",
          "Associate's Degree",
          "High School Diploma",
          "High School Diploma",
          "Associate's Degree",
          "High School Diploma"
         ],
         "xaxis": "x",
         "yaxis": "y"
        }
       ],
       "layout": {
        "bargap": 0.2,
        "barmode": "group",
        "legend": {
         "title": {
          "text": "Score de Crédito"
         },
         "tracegroupgap": 0
        },
        "template": {
         "data": {
          "bar": [
           {
            "error_x": {
             "color": "#2a3f5f"
            },
            "error_y": {
             "color": "#2a3f5f"
            },
            "marker": {
             "line": {
              "color": "#E5ECF6",
              "width": 0.5
             },
             "pattern": {
              "fillmode": "overlay",
              "size": 10,
              "solidity": 0.2
             }
            },
            "type": "bar"
           }
          ],
          "barpolar": [
           {
            "marker": {
             "line": {
              "color": "#E5ECF6",
              "width": 0.5
             },
             "pattern": {
              "fillmode": "overlay",
              "size": 10,
              "solidity": 0.2
             }
            },
            "type": "barpolar"
           }
          ],
          "carpet": [
           {
            "aaxis": {
             "endlinecolor": "#2a3f5f",
             "gridcolor": "white",
             "linecolor": "white",
             "minorgridcolor": "white",
             "startlinecolor": "#2a3f5f"
            },
            "baxis": {
             "endlinecolor": "#2a3f5f",
             "gridcolor": "white",
             "linecolor": "white",
             "minorgridcolor": "white",
             "startlinecolor": "#2a3f5f"
            },
            "type": "carpet"
           }
          ],
          "choropleth": [
           {
            "colorbar": {
             "outlinewidth": 0,
             "ticks": ""
            },
            "type": "choropleth"
           }
          ],
          "contour": [
           {
            "colorbar": {
             "outlinewidth": 0,
             "ticks": ""
            },
            "colorscale": [
             [
              0,
              "#0d0887"
             ],
             [
              0.1111111111111111,
              "#46039f"
             ],
             [
              0.2222222222222222,
              "#7201a8"
             ],
             [
              0.3333333333333333,
              "#9c179e"
             ],
             [
              0.4444444444444444,
              "#bd3786"
             ],
             [
              0.5555555555555556,
              "#d8576b"
             ],
             [
              0.6666666666666666,
              "#ed7953"
             ],
             [
              0.7777777777777778,
              "#fb9f3a"
             ],
             [
              0.8888888888888888,
              "#fdca26"
             ],
             [
              1,
              "#f0f921"
             ]
            ],
            "type": "contour"
           }
          ],
          "contourcarpet": [
           {
            "colorbar": {
             "outlinewidth": 0,
             "ticks": ""
            },
            "type": "contourcarpet"
           }
          ],
          "heatmap": [
           {
            "colorbar": {
             "outlinewidth": 0,
             "ticks": ""
            },
            "colorscale": [
             [
              0,
              "#0d0887"
             ],
             [
              0.1111111111111111,
              "#46039f"
             ],
             [
              0.2222222222222222,
              "#7201a8"
             ],
             [
              0.3333333333333333,
              "#9c179e"
             ],
             [
              0.4444444444444444,
              "#bd3786"
             ],
             [
              0.5555555555555556,
              "#d8576b"
             ],
             [
              0.6666666666666666,
              "#ed7953"
             ],
             [
              0.7777777777777778,
              "#fb9f3a"
             ],
             [
              0.8888888888888888,
              "#fdca26"
             ],
             [
              1,
              "#f0f921"
             ]
            ],
            "type": "heatmap"
           }
          ],
          "histogram": [
           {
            "marker": {
             "pattern": {
              "fillmode": "overlay",
              "size": 10,
              "solidity": 0.2
             }
            },
            "type": "histogram"
           }
          ],
          "histogram2d": [
           {
            "colorbar": {
             "outlinewidth": 0,
             "ticks": ""
            },
            "colorscale": [
             [
              0,
              "#0d0887"
             ],
             [
              0.1111111111111111,
              "#46039f"
             ],
             [
              0.2222222222222222,
              "#7201a8"
             ],
             [
              0.3333333333333333,
              "#9c179e"
             ],
             [
              0.4444444444444444,
              "#bd3786"
             ],
             [
              0.5555555555555556,
              "#d8576b"
             ],
             [
              0.6666666666666666,
              "#ed7953"
             ],
             [
              0.7777777777777778,
              "#fb9f3a"
             ],
             [
              0.8888888888888888,
              "#fdca26"
             ],
             [
              1,
              "#f0f921"
             ]
            ],
            "type": "histogram2d"
           }
          ],
          "histogram2dcontour": [
           {
            "colorbar": {
             "outlinewidth": 0,
             "ticks": ""
            },
            "colorscale": [
             [
              0,
              "#0d0887"
             ],
             [
              0.1111111111111111,
              "#46039f"
             ],
             [
              0.2222222222222222,
              "#7201a8"
             ],
             [
              0.3333333333333333,
              "#9c179e"
             ],
             [
              0.4444444444444444,
              "#bd3786"
             ],
             [
              0.5555555555555556,
              "#d8576b"
             ],
             [
              0.6666666666666666,
              "#ed7953"
             ],
             [
              0.7777777777777778,
              "#fb9f3a"
             ],
             [
              0.8888888888888888,
              "#fdca26"
             ],
             [
              1,
              "#f0f921"
             ]
            ],
            "type": "histogram2dcontour"
           }
          ],
          "mesh3d": [
           {
            "colorbar": {
             "outlinewidth": 0,
             "ticks": ""
            },
            "type": "mesh3d"
           }
          ],
          "parcoords": [
           {
            "line": {
             "colorbar": {
              "outlinewidth": 0,
              "ticks": ""
             }
            },
            "type": "parcoords"
           }
          ],
          "pie": [
           {
            "automargin": true,
            "type": "pie"
           }
          ],
          "scatter": [
           {
            "fillpattern": {
             "fillmode": "overlay",
             "size": 10,
             "solidity": 0.2
            },
            "type": "scatter"
           }
          ],
          "scatter3d": [
           {
            "line": {
             "colorbar": {
              "outlinewidth": 0,
              "ticks": ""
             }
            },
            "marker": {
             "colorbar": {
              "outlinewidth": 0,
              "ticks": ""
             }
            },
            "type": "scatter3d"
           }
          ],
          "scattercarpet": [
           {
            "marker": {
             "colorbar": {
              "outlinewidth": 0,
              "ticks": ""
             }
            },
            "type": "scattercarpet"
           }
          ],
          "scattergeo": [
           {
            "marker": {
             "colorbar": {
              "outlinewidth": 0,
              "ticks": ""
             }
            },
            "type": "scattergeo"
           }
          ],
          "scattergl": [
           {
            "marker": {
             "colorbar": {
              "outlinewidth": 0,
              "ticks": ""
             }
            },
            "type": "scattergl"
           }
          ],
          "scattermap": [
           {
            "marker": {
             "colorbar": {
              "outlinewidth": 0,
              "ticks": ""
             }
            },
            "type": "scattermap"
           }
          ],
          "scattermapbox": [
           {
            "marker": {
             "colorbar": {
              "outlinewidth": 0,
              "ticks": ""
             }
            },
            "type": "scattermapbox"
           }
          ],
          "scatterpolar": [
           {
            "marker": {
             "colorbar": {
              "outlinewidth": 0,
              "ticks": ""
             }
            },
            "type": "scatterpolar"
           }
          ],
          "scatterpolargl": [
           {
            "marker": {
             "colorbar": {
              "outlinewidth": 0,
              "ticks": ""
             }
            },
            "type": "scatterpolargl"
           }
          ],
          "scatterternary": [
           {
            "marker": {
             "colorbar": {
              "outlinewidth": 0,
              "ticks": ""
             }
            },
            "type": "scatterternary"
           }
          ],
          "surface": [
           {
            "colorbar": {
             "outlinewidth": 0,
             "ticks": ""
            },
            "colorscale": [
             [
              0,
              "#0d0887"
             ],
             [
              0.1111111111111111,
              "#46039f"
             ],
             [
              0.2222222222222222,
              "#7201a8"
             ],
             [
              0.3333333333333333,
              "#9c179e"
             ],
             [
              0.4444444444444444,
              "#bd3786"
             ],
             [
              0.5555555555555556,
              "#d8576b"
             ],
             [
              0.6666666666666666,
              "#ed7953"
             ],
             [
              0.7777777777777778,
              "#fb9f3a"
             ],
             [
              0.8888888888888888,
              "#fdca26"
             ],
             [
              1,
              "#f0f921"
             ]
            ],
            "type": "surface"
           }
          ],
          "table": [
           {
            "cells": {
             "fill": {
              "color": "#EBF0F8"
             },
             "line": {
              "color": "white"
             }
            },
            "header": {
             "fill": {
              "color": "#C8D4E3"
             },
             "line": {
              "color": "white"
             }
            },
            "type": "table"
           }
          ]
         },
         "layout": {
          "annotationdefaults": {
           "arrowcolor": "#2a3f5f",
           "arrowhead": 0,
           "arrowwidth": 1
          },
          "autotypenumbers": "strict",
          "coloraxis": {
           "colorbar": {
            "outlinewidth": 0,
            "ticks": ""
           }
          },
          "colorscale": {
           "diverging": [
            [
             0,
             "#8e0152"
            ],
            [
             0.1,
             "#c51b7d"
            ],
            [
             0.2,
             "#de77ae"
            ],
            [
             0.3,
             "#f1b6da"
            ],
            [
             0.4,
             "#fde0ef"
            ],
            [
             0.5,
             "#f7f7f7"
            ],
            [
             0.6,
             "#e6f5d0"
            ],
            [
             0.7,
             "#b8e186"
            ],
            [
             0.8,
             "#7fbc41"
            ],
            [
             0.9,
             "#4d9221"
            ],
            [
             1,
             "#276419"
            ]
           ],
           "sequential": [
            [
             0,
             "#0d0887"
            ],
            [
             0.1111111111111111,
             "#46039f"
            ],
            [
             0.2222222222222222,
             "#7201a8"
            ],
            [
             0.3333333333333333,
             "#9c179e"
            ],
            [
             0.4444444444444444,
             "#bd3786"
            ],
            [
             0.5555555555555556,
             "#d8576b"
            ],
            [
             0.6666666666666666,
             "#ed7953"
            ],
            [
             0.7777777777777778,
             "#fb9f3a"
            ],
            [
             0.8888888888888888,
             "#fdca26"
            ],
            [
             1,
             "#f0f921"
            ]
           ],
           "sequentialminus": [
            [
             0,
             "#0d0887"
            ],
            [
             0.1111111111111111,
             "#46039f"
            ],
            [
             0.2222222222222222,
             "#7201a8"
            ],
            [
             0.3333333333333333,
             "#9c179e"
            ],
            [
             0.4444444444444444,
             "#bd3786"
            ],
            [
             0.5555555555555556,
             "#d8576b"
            ],
            [
             0.6666666666666666,
             "#ed7953"
            ],
            [
             0.7777777777777778,
             "#fb9f3a"
            ],
            [
             0.8888888888888888,
             "#fdca26"
            ],
            [
             1,
             "#f0f921"
            ]
           ]
          },
          "colorway": [
           "#636efa",
           "#EF553B",
           "#00cc96",
           "#ab63fa",
           "#FFA15A",
           "#19d3f3",
           "#FF6692",
           "#B6E880",
           "#FF97FF",
           "#FECB52"
          ],
          "font": {
           "color": "#2a3f5f"
          },
          "geo": {
           "bgcolor": "white",
           "lakecolor": "white",
           "landcolor": "#E5ECF6",
           "showlakes": true,
           "showland": true,
           "subunitcolor": "white"
          },
          "hoverlabel": {
           "align": "left"
          },
          "hovermode": "closest",
          "mapbox": {
           "style": "light"
          },
          "paper_bgcolor": "white",
          "plot_bgcolor": "#E5ECF6",
          "polar": {
           "angularaxis": {
            "gridcolor": "white",
            "linecolor": "white",
            "ticks": ""
           },
           "bgcolor": "#E5ECF6",
           "radialaxis": {
            "gridcolor": "white",
            "linecolor": "white",
            "ticks": ""
           }
          },
          "scene": {
           "xaxis": {
            "backgroundcolor": "#E5ECF6",
            "gridcolor": "white",
            "gridwidth": 2,
            "linecolor": "white",
            "showbackground": true,
            "ticks": "",
            "zerolinecolor": "white"
           },
           "yaxis": {
            "backgroundcolor": "#E5ECF6",
            "gridcolor": "white",
            "gridwidth": 2,
            "linecolor": "white",
            "showbackground": true,
            "ticks": "",
            "zerolinecolor": "white"
           },
           "zaxis": {
            "backgroundcolor": "#E5ECF6",
            "gridcolor": "white",
            "gridwidth": 2,
            "linecolor": "white",
            "showbackground": true,
            "ticks": "",
            "zerolinecolor": "white"
           }
          },
          "shapedefaults": {
           "line": {
            "color": "#2a3f5f"
           }
          },
          "ternary": {
           "aaxis": {
            "gridcolor": "white",
            "linecolor": "white",
            "ticks": ""
           },
           "baxis": {
            "gridcolor": "white",
            "linecolor": "white",
            "ticks": ""
           },
           "bgcolor": "#E5ECF6",
           "caxis": {
            "gridcolor": "white",
            "linecolor": "white",
            "ticks": ""
           }
          },
          "title": {
           "x": 0.05
          },
          "xaxis": {
           "automargin": true,
           "gridcolor": "white",
           "linecolor": "white",
           "ticks": "",
           "title": {
            "standoff": 15
           },
           "zerolinecolor": "white",
           "zerolinewidth": 2
          },
          "yaxis": {
           "automargin": true,
           "gridcolor": "white",
           "linecolor": "white",
           "ticks": "",
           "title": {
            "standoff": 15
           },
           "zerolinecolor": "white",
           "zerolinewidth": 2
          }
         }
        },
        "title": {
         "text": "Distribuição de Nível de Escolaridade por Score de Crédito (Contagem)"
        },
        "xaxis": {
         "anchor": "y",
         "domain": [
          0,
          1
         ],
         "title": {
          "text": "Nível de Escolaridade"
         }
        },
        "yaxis": {
         "anchor": "x",
         "domain": [
          0,
          1
         ],
         "title": {
          "text": "Contagem"
         }
        }
       }
      }
     },
     "metadata": {},
     "output_type": "display_data"
    }
   ],
   "source": [
    "# Criando o gráfico de barras com Plotly Express\n",
    "fig = px.histogram(\n",
    "    df,\n",
    "    x='Education',\n",
    "    color='Credit Score',\n",
    "    barmode='group',\n",
    "    title='Distribuição de Nível de Escolaridade por Score de Crédito (Contagem)',\n",
    "    labels={'Education': 'Nível de Escolaridade', 'Credit Score': 'Score de Crédito', 'count': 'Contagem'},\n",
    "    color_discrete_sequence=px.colors.qualitative.Set1\n",
    ")\n",
    "\n",
    "# Atualizando o layout do gráfico\n",
    "fig.update_layout(\n",
    "    xaxis_title='Nível de Escolaridade',\n",
    "    yaxis_title='Contagem',\n",
    "    legend_title='Score de Crédito',\n",
    "    bargap=0.2\n",
    ")\n",
    "\n",
    "# Exibindo o gráfico\n",
    "fig.show()"
   ]
  },
  {
   "cell_type": "markdown",
   "id": "3fc2cbb7",
   "metadata": {},
   "source": [
    "#### 3.2.3 Income e Age"
   ]
  },
  {
   "cell_type": "code",
   "execution_count": 21,
   "id": "3fb9740e",
   "metadata": {},
   "outputs": [
    {
     "data": {
      "application/vnd.plotly.v1+json": {
       "config": {
        "plotlyServerURL": "https://plot.ly"
       },
       "data": [
        {
         "hovertemplate": "<b>Idade:</b> %{x} anos<br><b>Salário:</b> %{y}<extra></extra>",
         "legendgroup": "",
         "marker": {
          "color": "#2E86AB",
          "opacity": 0.7,
          "symbol": "circle"
         },
         "mode": "markers",
         "name": "",
         "orientation": "v",
         "showlegend": false,
         "type": "scatter",
         "x": {
          "bdata": "GR4jKC0yGh8kJCQkJCQkJCQkJCQkKzA1HSInLDEZHiMoLTIaHyQpLjMbICUqLzQcISYrMDUdIicsMRkeIxkeIygtMhofJCkuMxsgJSovNBwhJCQkJCQkJCQkJCQkGR4jKC0yGh8kKS4zGyAlKi80HCEmKzA1HSInLDEZHiMZHiMcIR8aIB0iGR4jKC0yGh8kJCQkJCQkJCQkHCEmKzA1HSInLDE=",
          "dtype": "i1"
         },
         "xaxis": "x",
         "y": {
          "bdata": "AAAAAABq6EAAAAAAAGr4QAAAAACAT/JAAAAAAICE/kAAAAAAAGr4QAAAAACATwJBAAAAAACI40AAAAAAAEztQAAAAAAAiPNAAAAAAICi+UAAAAAAAPn1QAAAAADAegBBAAAAAAAX4UAAAAAAANvqQAAAAAAAF/FAAAAAAIAx90AAAAAAgMD0QAAAAACAhP5AAAAAAABM3UAAAAAAAGroQAAAAAAAve9AAAAAAACI80AAAAAAABfxQAAAAACAE/xAAAAAAABq2EAAAAAAAPnlQAAAAAAATO1AAAAAAIBP8kAAAAAAAL3vQAAAAAAA2+pAAAAAAICi+UAAAAAAAIjzQAAAAAAAvf9AAAAAAICi+UAAAAAAwOsCQQAAAAAA+eVAAAAAAAC970AAAAAAgMD0QAAAAAAA2/pAAAAAAIAx90AAAAAAABcBQQAAAACAT+JAAAAAAIAT7EAAAAAAQLPxQAAAAAAAavhAAAAAAAD59UAAAAAAAL3/QAAAAAAAvd9AAAAAAICi6UAAAAAAwHrwQAAAAABAlfZAAAAAAEAk9EAAAAAAQOj9QAAAAAAA29pAAAAAAIAx50AAAAAAgITuQAAAAADAXPVAAAAAAMDr8kAAAAAAgBPsQAAAAABAd/tAAAAAAIDA9EAAAAAAAEztQAAAAADAr/xAAAAAAAD59UAAAAAAIGUBQQAAAAAA2/pAAAAAAACIA0EAAAAAgDHnQAAAAADAevBAAAAAAAD59UAAAAAAgBP8QAAAAADAzfdAAAAAAECzAUEAAAAAgE/iQAAAAACAE+xAAAAAAIBP8kAAAAAAgKL5QAAAAACAMfdAAAAAAMB6AEEAAAAAAL3fQAAAAACAoulAAAAAAMB68EAAAAAAQJX2QAAAAACAwPRAAAAAAICE/kAAAAAAANvaQAAAAACAMedAAAAAAICE7kAAAAAAwFz1QAAAAADA6/JAAAAAAIAT7EAAAAAAQHf7QAAAAACAwPRAAAAAAICE7kAAAAAAwK/8QAAAAAAA+fVAAAAAACBlAUEAAAAAgBP8QAAAAAAg1gNBAAAAAABq6EAAAAAAABfxQAAAAACAMfdAAAAAAABM/UAAAAAAQAb5QAAAAACATwJBAAAAAIBP4kAAAAAAgBPsQAAAAADA6/JAAAAAAADb+kAAAAAAwM33QAAAAADgyABBAAAAAAC930AAAAAAgKLpQAAAAADAevBAAAAAAIAx90AAAAAAwFz1QAAAAADAIP9AAAAAAADb2kAAAAAAgDHnQAAAAACAhO5AAAAAAMBc9UAAAAAAwOvyQAAAAACAE+xAAAAAAEB3+0AAAAAAgMD0QAAAAAAATO1AAAAAAMCv/EAAAAAAAPn1QAAAAACAT/JAAAAAAAAF9EAAAAAAgDH3QAAAAAAA2+pAAAAAAIDA9EAAAAAAAJrwQAAAAACAovlAAAAAAADb6kAAAAAAgKL5QAAAAAAAiPNAAAAAAAC9/0AAAAAAgKL5QAAAAADA6wJBAAAAAAD55UAAAAAAAL3vQAAAAACAwPRAAAAAAADb+kAAAAAAgDH3QAAAAAAAFwFBAAAAAIBP4kAAAAAAgBPsQAAAAABAs/FAAAAAAABq+EAAAAAAAPn1QAAAAAAAvf9AAAAAAAC930AAAAAAgKLpQAAAAADAevBAAAAAAECV9kAAAAAAQCT0QAAAAABA6P1AAAAAAADb2kAAAAAAgDHnQAAAAACAhO5AAAAAAMBc9UAAAAAAwOvyQA==",
          "dtype": "f8"
         },
         "yaxis": "y"
        },
        {
         "line": {
          "color": "red",
          "width": 2
         },
         "mode": "lines",
         "name": "Linha de Tendência",
         "type": "scatter",
         "x": {
          "bdata": "GR4jKC0yGh8kJCQkJCQkJCQkJCQkKzA1HSInLDEZHiMoLTIaHyQpLjMbICUqLzQcISYrMDUdIicsMRkeIxkeIygtMhofJCkuMxsgJSovNBwhJCQkJCQkJCQkJCQkGR4jKC0yGh8kKS4zGyAlKi80HCEmKzA1HSInLDEZHiMZHiMcIR8aIB0iGR4jKC0yGh8kJCQkJCQkJCQkHCEmKzA1HSInLDE=",
          "dtype": "i1"
         },
         "y": {
          "bdata": "DDgRFHoR6UAguMy0R4/vQBocxKqKBvNAJNwhe3FF9kAunH9LWIT5QDlc3Rs/w/xAQutpZ9Zd6kCrtRIE0m3wQLV1cNS4rPNAtXVw1Lis80C1dXDUuKzzQLV1cNS4rPNAtXVw1Lis80C1dXDUuKzzQLV1cNS4rPNAtXVw1Lis80C1dXDUuKzzQLV1cNS4rPNAtXVw1Lis80C1dXDUuKzzQLV1cNS4rPNA9+gm+Ps3+EABqYTI4nb7QAtp4pjJtf5A6AR0YetC7kB+wheBXGDyQIiCdVFDn/VAk0LTISre+ECdAjHyEB38QAw4ERR6EelAILjMtEeP70AaHMSqigbzQCTcIXtxRfZALpx/S1iE+UA5XN0bP8P8QELraWfWXepAq7USBNJt8EC1dXDUuKzzQMA1zqSf6/ZAyvUrdYYq+kDTtYlFbWn9QHqewroyqutARw+/LQAU8UBRzxz+5lL0QFuPes7NkfdAZU/YnrTQ+kBvDzZvmw/+QLJRGw6P9uxA42hrVy668UDtKMknFfn0QPfoJvj7N/hAAamEyOJ2+0ALaeKYybX+QOgEdGHrQu5AfsIXgVxg8kCIgnVRQ5/1QJNC0yEq3vhAnQIx8hAd/EAMOBEUehHpQCC4zLRHj+9AGhzEqooG80AMOBEUehHpQCC4zLRHj+9AGhzEqooG80Ak3CF7cUX2QC6cf0tYhPlAOVzdGz/D/EBC62ln1l3qQKu1EgTSbfBAtXVw1Lis80DANc6kn+v2QMr1K3WGKvpA07WJRW1p/UB6nsK6MqrrQEcPvy0AFPFAUc8c/uZS9EBbj3rOzZH3QGVP2J600PpAbw82b5sP/kCyURsOj/bsQONoa1cuuvFAtXVw1Lis80C1dXDUuKzzQLV1cNS4rPNAtXVw1Lis80C1dXDUuKzzQLV1cNS4rPNAtXVw1Lis80C1dXDUuKzzQLV1cNS4rPNAtXVw1Lis80C1dXDUuKzzQLV1cNS4rPNADDgRFHoR6UAguMy0R4/vQBocxKqKBvNAJNwhe3FF9kAunH9LWIT5QDlc3Rs/w/xAQutpZ9Zd6kCrtRIE0m3wQLV1cNS4rPNAwDXOpJ/r9kDK9St1hir6QNO1iUVtaf1Aep7CujKq60BHD78tABTxQFHPHP7mUvRAW496zs2R90BlT9ietND6QG8PNm+bD/5AslEbDo/27EDjaGtXLrrxQO0oyScV+fRA9+gm+Ps3+EABqYTI4nb7QAtp4pjJtf5A6AR0YetC7kB+wheBXGDyQIiCdVFDn/VAk0LTISre+ECdAjHyEB38QAw4ERR6EelAILjMtEeP70AaHMSqigbzQAw4ERR6EelAILjMtEeP70AaHMSqigbzQLJRGw6P9uxA42hrVy668UCrtRIE0m3wQELraWfWXepARw+/LQAU8UDoBHRh60LuQH7CF4FcYPJADDgRFHoR6UAguMy0R4/vQBocxKqKBvNAJNwhe3FF9kAunH9LWIT5QDlc3Rs/w/xAQutpZ9Zd6kCrtRIE0m3wQLV1cNS4rPNAtXVw1Lis80C1dXDUuKzzQLV1cNS4rPNAtXVw1Lis80C1dXDUuKzzQLV1cNS4rPNAtXVw1Lis80C1dXDUuKzzQLV1cNS4rPNAslEbDo/27EDjaGtXLrrxQO0oyScV+fRA9+gm+Ps3+EABqYTI4nb7QAtp4pjJtf5A6AR0YetC7kB+wheBXGDyQIiCdVFDn/VAk0LTISre+ECdAjHyEB38QA==",
          "dtype": "f8"
         }
        }
       ],
       "layout": {
        "height": 600,
        "hovermode": "closest",
        "legend": {
         "tracegroupgap": 0
        },
        "plot_bgcolor": "white",
        "template": {
         "data": {
          "bar": [
           {
            "error_x": {
             "color": "#2a3f5f"
            },
            "error_y": {
             "color": "#2a3f5f"
            },
            "marker": {
             "line": {
              "color": "#E5ECF6",
              "width": 0.5
             },
             "pattern": {
              "fillmode": "overlay",
              "size": 10,
              "solidity": 0.2
             }
            },
            "type": "bar"
           }
          ],
          "barpolar": [
           {
            "marker": {
             "line": {
              "color": "#E5ECF6",
              "width": 0.5
             },
             "pattern": {
              "fillmode": "overlay",
              "size": 10,
              "solidity": 0.2
             }
            },
            "type": "barpolar"
           }
          ],
          "carpet": [
           {
            "aaxis": {
             "endlinecolor": "#2a3f5f",
             "gridcolor": "white",
             "linecolor": "white",
             "minorgridcolor": "white",
             "startlinecolor": "#2a3f5f"
            },
            "baxis": {
             "endlinecolor": "#2a3f5f",
             "gridcolor": "white",
             "linecolor": "white",
             "minorgridcolor": "white",
             "startlinecolor": "#2a3f5f"
            },
            "type": "carpet"
           }
          ],
          "choropleth": [
           {
            "colorbar": {
             "outlinewidth": 0,
             "ticks": ""
            },
            "type": "choropleth"
           }
          ],
          "contour": [
           {
            "colorbar": {
             "outlinewidth": 0,
             "ticks": ""
            },
            "colorscale": [
             [
              0,
              "#0d0887"
             ],
             [
              0.1111111111111111,
              "#46039f"
             ],
             [
              0.2222222222222222,
              "#7201a8"
             ],
             [
              0.3333333333333333,
              "#9c179e"
             ],
             [
              0.4444444444444444,
              "#bd3786"
             ],
             [
              0.5555555555555556,
              "#d8576b"
             ],
             [
              0.6666666666666666,
              "#ed7953"
             ],
             [
              0.7777777777777778,
              "#fb9f3a"
             ],
             [
              0.8888888888888888,
              "#fdca26"
             ],
             [
              1,
              "#f0f921"
             ]
            ],
            "type": "contour"
           }
          ],
          "contourcarpet": [
           {
            "colorbar": {
             "outlinewidth": 0,
             "ticks": ""
            },
            "type": "contourcarpet"
           }
          ],
          "heatmap": [
           {
            "colorbar": {
             "outlinewidth": 0,
             "ticks": ""
            },
            "colorscale": [
             [
              0,
              "#0d0887"
             ],
             [
              0.1111111111111111,
              "#46039f"
             ],
             [
              0.2222222222222222,
              "#7201a8"
             ],
             [
              0.3333333333333333,
              "#9c179e"
             ],
             [
              0.4444444444444444,
              "#bd3786"
             ],
             [
              0.5555555555555556,
              "#d8576b"
             ],
             [
              0.6666666666666666,
              "#ed7953"
             ],
             [
              0.7777777777777778,
              "#fb9f3a"
             ],
             [
              0.8888888888888888,
              "#fdca26"
             ],
             [
              1,
              "#f0f921"
             ]
            ],
            "type": "heatmap"
           }
          ],
          "histogram": [
           {
            "marker": {
             "pattern": {
              "fillmode": "overlay",
              "size": 10,
              "solidity": 0.2
             }
            },
            "type": "histogram"
           }
          ],
          "histogram2d": [
           {
            "colorbar": {
             "outlinewidth": 0,
             "ticks": ""
            },
            "colorscale": [
             [
              0,
              "#0d0887"
             ],
             [
              0.1111111111111111,
              "#46039f"
             ],
             [
              0.2222222222222222,
              "#7201a8"
             ],
             [
              0.3333333333333333,
              "#9c179e"
             ],
             [
              0.4444444444444444,
              "#bd3786"
             ],
             [
              0.5555555555555556,
              "#d8576b"
             ],
             [
              0.6666666666666666,
              "#ed7953"
             ],
             [
              0.7777777777777778,
              "#fb9f3a"
             ],
             [
              0.8888888888888888,
              "#fdca26"
             ],
             [
              1,
              "#f0f921"
             ]
            ],
            "type": "histogram2d"
           }
          ],
          "histogram2dcontour": [
           {
            "colorbar": {
             "outlinewidth": 0,
             "ticks": ""
            },
            "colorscale": [
             [
              0,
              "#0d0887"
             ],
             [
              0.1111111111111111,
              "#46039f"
             ],
             [
              0.2222222222222222,
              "#7201a8"
             ],
             [
              0.3333333333333333,
              "#9c179e"
             ],
             [
              0.4444444444444444,
              "#bd3786"
             ],
             [
              0.5555555555555556,
              "#d8576b"
             ],
             [
              0.6666666666666666,
              "#ed7953"
             ],
             [
              0.7777777777777778,
              "#fb9f3a"
             ],
             [
              0.8888888888888888,
              "#fdca26"
             ],
             [
              1,
              "#f0f921"
             ]
            ],
            "type": "histogram2dcontour"
           }
          ],
          "mesh3d": [
           {
            "colorbar": {
             "outlinewidth": 0,
             "ticks": ""
            },
            "type": "mesh3d"
           }
          ],
          "parcoords": [
           {
            "line": {
             "colorbar": {
              "outlinewidth": 0,
              "ticks": ""
             }
            },
            "type": "parcoords"
           }
          ],
          "pie": [
           {
            "automargin": true,
            "type": "pie"
           }
          ],
          "scatter": [
           {
            "fillpattern": {
             "fillmode": "overlay",
             "size": 10,
             "solidity": 0.2
            },
            "type": "scatter"
           }
          ],
          "scatter3d": [
           {
            "line": {
             "colorbar": {
              "outlinewidth": 0,
              "ticks": ""
             }
            },
            "marker": {
             "colorbar": {
              "outlinewidth": 0,
              "ticks": ""
             }
            },
            "type": "scatter3d"
           }
          ],
          "scattercarpet": [
           {
            "marker": {
             "colorbar": {
              "outlinewidth": 0,
              "ticks": ""
             }
            },
            "type": "scattercarpet"
           }
          ],
          "scattergeo": [
           {
            "marker": {
             "colorbar": {
              "outlinewidth": 0,
              "ticks": ""
             }
            },
            "type": "scattergeo"
           }
          ],
          "scattergl": [
           {
            "marker": {
             "colorbar": {
              "outlinewidth": 0,
              "ticks": ""
             }
            },
            "type": "scattergl"
           }
          ],
          "scattermap": [
           {
            "marker": {
             "colorbar": {
              "outlinewidth": 0,
              "ticks": ""
             }
            },
            "type": "scattermap"
           }
          ],
          "scattermapbox": [
           {
            "marker": {
             "colorbar": {
              "outlinewidth": 0,
              "ticks": ""
             }
            },
            "type": "scattermapbox"
           }
          ],
          "scatterpolar": [
           {
            "marker": {
             "colorbar": {
              "outlinewidth": 0,
              "ticks": ""
             }
            },
            "type": "scatterpolar"
           }
          ],
          "scatterpolargl": [
           {
            "marker": {
             "colorbar": {
              "outlinewidth": 0,
              "ticks": ""
             }
            },
            "type": "scatterpolargl"
           }
          ],
          "scatterternary": [
           {
            "marker": {
             "colorbar": {
              "outlinewidth": 0,
              "ticks": ""
             }
            },
            "type": "scatterternary"
           }
          ],
          "surface": [
           {
            "colorbar": {
             "outlinewidth": 0,
             "ticks": ""
            },
            "colorscale": [
             [
              0,
              "#0d0887"
             ],
             [
              0.1111111111111111,
              "#46039f"
             ],
             [
              0.2222222222222222,
              "#7201a8"
             ],
             [
              0.3333333333333333,
              "#9c179e"
             ],
             [
              0.4444444444444444,
              "#bd3786"
             ],
             [
              0.5555555555555556,
              "#d8576b"
             ],
             [
              0.6666666666666666,
              "#ed7953"
             ],
             [
              0.7777777777777778,
              "#fb9f3a"
             ],
             [
              0.8888888888888888,
              "#fdca26"
             ],
             [
              1,
              "#f0f921"
             ]
            ],
            "type": "surface"
           }
          ],
          "table": [
           {
            "cells": {
             "fill": {
              "color": "#EBF0F8"
             },
             "line": {
              "color": "white"
             }
            },
            "header": {
             "fill": {
              "color": "#C8D4E3"
             },
             "line": {
              "color": "white"
             }
            },
            "type": "table"
           }
          ]
         },
         "layout": {
          "annotationdefaults": {
           "arrowcolor": "#2a3f5f",
           "arrowhead": 0,
           "arrowwidth": 1
          },
          "autotypenumbers": "strict",
          "coloraxis": {
           "colorbar": {
            "outlinewidth": 0,
            "ticks": ""
           }
          },
          "colorscale": {
           "diverging": [
            [
             0,
             "#8e0152"
            ],
            [
             0.1,
             "#c51b7d"
            ],
            [
             0.2,
             "#de77ae"
            ],
            [
             0.3,
             "#f1b6da"
            ],
            [
             0.4,
             "#fde0ef"
            ],
            [
             0.5,
             "#f7f7f7"
            ],
            [
             0.6,
             "#e6f5d0"
            ],
            [
             0.7,
             "#b8e186"
            ],
            [
             0.8,
             "#7fbc41"
            ],
            [
             0.9,
             "#4d9221"
            ],
            [
             1,
             "#276419"
            ]
           ],
           "sequential": [
            [
             0,
             "#0d0887"
            ],
            [
             0.1111111111111111,
             "#46039f"
            ],
            [
             0.2222222222222222,
             "#7201a8"
            ],
            [
             0.3333333333333333,
             "#9c179e"
            ],
            [
             0.4444444444444444,
             "#bd3786"
            ],
            [
             0.5555555555555556,
             "#d8576b"
            ],
            [
             0.6666666666666666,
             "#ed7953"
            ],
            [
             0.7777777777777778,
             "#fb9f3a"
            ],
            [
             0.8888888888888888,
             "#fdca26"
            ],
            [
             1,
             "#f0f921"
            ]
           ],
           "sequentialminus": [
            [
             0,
             "#0d0887"
            ],
            [
             0.1111111111111111,
             "#46039f"
            ],
            [
             0.2222222222222222,
             "#7201a8"
            ],
            [
             0.3333333333333333,
             "#9c179e"
            ],
            [
             0.4444444444444444,
             "#bd3786"
            ],
            [
             0.5555555555555556,
             "#d8576b"
            ],
            [
             0.6666666666666666,
             "#ed7953"
            ],
            [
             0.7777777777777778,
             "#fb9f3a"
            ],
            [
             0.8888888888888888,
             "#fdca26"
            ],
            [
             1,
             "#f0f921"
            ]
           ]
          },
          "colorway": [
           "#636efa",
           "#EF553B",
           "#00cc96",
           "#ab63fa",
           "#FFA15A",
           "#19d3f3",
           "#FF6692",
           "#B6E880",
           "#FF97FF",
           "#FECB52"
          ],
          "font": {
           "color": "#2a3f5f"
          },
          "geo": {
           "bgcolor": "white",
           "lakecolor": "white",
           "landcolor": "#E5ECF6",
           "showlakes": true,
           "showland": true,
           "subunitcolor": "white"
          },
          "hoverlabel": {
           "align": "left"
          },
          "hovermode": "closest",
          "mapbox": {
           "style": "light"
          },
          "paper_bgcolor": "white",
          "plot_bgcolor": "#E5ECF6",
          "polar": {
           "angularaxis": {
            "gridcolor": "white",
            "linecolor": "white",
            "ticks": ""
           },
           "bgcolor": "#E5ECF6",
           "radialaxis": {
            "gridcolor": "white",
            "linecolor": "white",
            "ticks": ""
           }
          },
          "scene": {
           "xaxis": {
            "backgroundcolor": "#E5ECF6",
            "gridcolor": "white",
            "gridwidth": 2,
            "linecolor": "white",
            "showbackground": true,
            "ticks": "",
            "zerolinecolor": "white"
           },
           "yaxis": {
            "backgroundcolor": "#E5ECF6",
            "gridcolor": "white",
            "gridwidth": 2,
            "linecolor": "white",
            "showbackground": true,
            "ticks": "",
            "zerolinecolor": "white"
           },
           "zaxis": {
            "backgroundcolor": "#E5ECF6",
            "gridcolor": "white",
            "gridwidth": 2,
            "linecolor": "white",
            "showbackground": true,
            "ticks": "",
            "zerolinecolor": "white"
           }
          },
          "shapedefaults": {
           "line": {
            "color": "#2a3f5f"
           }
          },
          "ternary": {
           "aaxis": {
            "gridcolor": "white",
            "linecolor": "white",
            "ticks": ""
           },
           "baxis": {
            "gridcolor": "white",
            "linecolor": "white",
            "ticks": ""
           },
           "bgcolor": "#E5ECF6",
           "caxis": {
            "gridcolor": "white",
            "linecolor": "white",
            "ticks": ""
           }
          },
          "title": {
           "x": 0.05
          },
          "xaxis": {
           "automargin": true,
           "gridcolor": "white",
           "linecolor": "white",
           "ticks": "",
           "title": {
            "standoff": 15
           },
           "zerolinecolor": "white",
           "zerolinewidth": 2
          },
          "yaxis": {
           "automargin": true,
           "gridcolor": "white",
           "linecolor": "white",
           "ticks": "",
           "title": {
            "standoff": 15
           },
           "zerolinecolor": "white",
           "zerolinewidth": 2
          }
         }
        },
        "title": {
         "font": {
          "size": 16
         },
         "text": "Relação entre Idade e Salário<br><sub>Correlação: 0.621</sub>",
         "x": 0.5,
         "xanchor": "center"
        },
        "width": 800,
        "xaxis": {
         "anchor": "y",
         "domain": [
          0,
          1
         ],
         "gridcolor": "lightgray",
         "gridwidth": 1,
         "showgrid": true,
         "title": {
          "text": "Idade (anos)"
         }
        },
        "yaxis": {
         "anchor": "x",
         "domain": [
          0,
          1
         ],
         "gridcolor": "lightgray",
         "gridwidth": 1,
         "showgrid": true,
         "title": {
          "text": "Salário (R$)"
         }
        }
       }
      }
     },
     "metadata": {},
     "output_type": "display_data"
    }
   ],
   "source": [
    "# Criar o scatterplot\n",
    "fig = px.scatter(df, \n",
    "                 x='Age', \n",
    "                 y='Income',\n",
    "                 title='Relação entre Idade e Salário',\n",
    "                 labels={'Age': 'Idade', 'Income': 'Salário'},\n",
    "                 opacity=0.7,\n",
    "                 color_discrete_sequence=['#2E86AB'])\n",
    "\n",
    "# Calcular linha de tendência\n",
    "z = np.polyfit(df['Age'], df['Income'], 1)\n",
    "p = np.poly1d(z)\n",
    "\n",
    "# Adicionar linha de tendência\n",
    "fig.add_scatter(x=df['Age'], \n",
    "                y=p(df['Age']),\n",
    "                mode='lines',\n",
    "                name='Linha de Tendência',\n",
    "                line=dict(color='red', width=2))\n",
    "\n",
    "# Calcular correlação\n",
    "correlation, p_value = pearsonr(df['Age'], df['Income'])\n",
    "\n",
    "# Personalizar layout\n",
    "fig.update_layout(\n",
    "    title={\n",
    "        'text': f'Relação entre Idade e Salário<br><sub>Correlação: {correlation:.3f}</sub>',\n",
    "        'x': 0.5,\n",
    "        'xanchor': 'center',\n",
    "        'font': {'size': 16}\n",
    "    },\n",
    "    xaxis_title='Idade (anos)',\n",
    "    yaxis_title='Salário (R$)',\n",
    "    width=800,\n",
    "    height=600,\n",
    "    plot_bgcolor='white',\n",
    "    hovermode='closest'\n",
    ")\n",
    "\n",
    "# Adicionar grid\n",
    "fig.update_xaxes(showgrid=True, gridwidth=1, gridcolor='lightgray')\n",
    "fig.update_yaxes(showgrid=True, gridwidth=1, gridcolor='lightgray')\n",
    "\n",
    "# Personalizar hover\n",
    "fig.update_traces(\n",
    "    hovertemplate='<b>Idade:</b> %{x} anos<br><b>Salário:</b> %{y}<extra></extra>',\n",
    "    selector=dict(mode='markers')\n",
    ")\n",
    "\n",
    "fig.show()"
   ]
  },
  {
   "cell_type": "code",
   "execution_count": 22,
   "id": "3dc18aa3",
   "metadata": {},
   "outputs": [
    {
     "name": "stdout",
     "output_type": "stream",
     "text": [
      "Correlação de Pearson: 0.6215\n",
      "P-value: 0.0000\n",
      "Interpretação da correlação:\n",
      "- Correlação forte\n",
      "- Relação positiva: conforme a idade aumenta, o salário tende a aumentar\n"
     ]
    }
   ],
   "source": [
    "# Estatísticas\n",
    "print(f\"Correlação de Pearson: {correlation:.4f}\")\n",
    "print(f\"P-value: {p_value:.4f}\")\n",
    "print(f\"Interpretação da correlação:\")\n",
    "if abs(correlation) < 0.1:\n",
    "    print(\"- Correlação muito fraca ou inexistente\")\n",
    "elif abs(correlation) < 0.3:\n",
    "    print(\"- Correlação fraca\")\n",
    "elif abs(correlation) < 0.5:\n",
    "    print(\"- Correlação moderada\")\n",
    "elif abs(correlation) < 0.7:\n",
    "    print(\"- Correlação forte\")\n",
    "else:\n",
    "    print(\"- Correlação muito forte\")\n",
    "\n",
    "if correlation > 0:\n",
    "    print(\"- Relação positiva: conforme a idade aumenta, o salário tende a aumentar\")\n",
    "elif correlation < 0:\n",
    "    print(\"- Relação negativa: conforme a idade aumenta, o salário tende a diminuir\")\n",
    "else:\n",
    "    print(\"- Não há relação linear clara entre as variáveis\")"
   ]
  },
  {
   "cell_type": "markdown",
   "id": "a06b7d3f",
   "metadata": {},
   "source": [
    "#### 3.2.4 Income e Credit Score"
   ]
  },
  {
   "cell_type": "code",
   "execution_count": 23,
   "id": "1e153c9d",
   "metadata": {},
   "outputs": [
    {
     "data": {
      "application/vnd.plotly.v1+json": {
       "config": {
        "plotlyServerURL": "https://plot.ly"
       },
       "data": [
        {
         "alignmentgroup": "True",
         "hovertemplate": "Score de Crédito=%{x}<br>Salário=%{y}<extra></extra>",
         "legendgroup": "High",
         "marker": {
          "color": "#FF6B6B"
         },
         "name": "High",
         "notched": false,
         "offsetgroup": "High",
         "orientation": "v",
         "showlegend": true,
         "type": "box",
         "x": [
          "High",
          "High",
          "High",
          "High",
          "High",
          "High",
          "High",
          "High",
          "High",
          "High",
          "High",
          "High",
          "High",
          "High",
          "High",
          "High",
          "High",
          "High",
          "High",
          "High",
          "High",
          "High",
          "High",
          "High",
          "High",
          "High",
          "High",
          "High",
          "High",
          "High",
          "High",
          "High",
          "High",
          "High",
          "High",
          "High",
          "High",
          "High",
          "High",
          "High",
          "High",
          "High",
          "High",
          "High",
          "High",
          "High",
          "High",
          "High",
          "High",
          "High",
          "High",
          "High",
          "High",
          "High",
          "High",
          "High",
          "High",
          "High",
          "High",
          "High",
          "High",
          "High",
          "High",
          "High",
          "High",
          "High",
          "High",
          "High",
          "High",
          "High",
          "High",
          "High",
          "High",
          "High",
          "High",
          "High",
          "High",
          "High",
          "High",
          "High",
          "High",
          "High",
          "High",
          "High",
          "High",
          "High",
          "High",
          "High",
          "High",
          "High",
          "High",
          "High",
          "High",
          "High",
          "High",
          "High",
          "High",
          "High",
          "High",
          "High",
          "High",
          "High",
          "High",
          "High",
          "High",
          "High",
          "High",
          "High",
          "High",
          "High",
          "High",
          "High",
          "High"
         ],
         "x0": " ",
         "xaxis": "x",
         "y": {
          "bdata": "AAAAAABq6EAAAAAAAGr4QAAAAACAT/JAAAAAAICE/kAAAAAAAGr4QAAAAACATwJBAAAAAACI80AAAAAAgKL5QAAAAAAA+fVAAAAAAMB6AEEAAAAAABfxQAAAAACAMfdAAAAAAIDA9EAAAAAAgIT+QAAAAAAAve9AAAAAAACI80AAAAAAABfxQAAAAACAE/xAAAAAAABM7UAAAAAAgE/yQAAAAAAAve9AAAAAAICi+UAAAAAAAIjzQAAAAAAAvf9AAAAAAICi+UAAAAAAwOsCQQAAAACAwPRAAAAAAADb+kAAAAAAgDH3QAAAAAAAFwFBAAAAAECz8UAAAAAAAGr4QAAAAAAA+fVAAAAAAAC9/0AAAAAAwHrwQAAAAABAlfZAAAAAAEAk9EAAAAAAQOj9QAAAAACAhO5AAAAAAMBc9UAAAAAAwOvyQAAAAABAd/tAAAAAAIDA9EAAAAAAwK/8QAAAAAAA+fVAAAAAACBlAUEAAAAAANv6QAAAAAAAiANBAAAAAAD59UAAAAAAgBP8QAAAAADAzfdAAAAAAECzAUEAAAAAgE/yQAAAAACAovlAAAAAAIAx90AAAAAAwHoAQQAAAADAevBAAAAAAECV9kAAAAAAgMD0QAAAAACAhP5AAAAAAICE7kAAAAAAwFz1QAAAAADA6/JAAAAAAEB3+0AAAAAAgMD0QAAAAADAr/xAAAAAAAD59UAAAAAAIGUBQQAAAACAE/xAAAAAACDWA0EAAAAAgDH3QAAAAAAATP1AAAAAAEAG+UAAAAAAgE8CQQAAAADA6/JAAAAAAADb+kAAAAAAwM33QAAAAADgyABBAAAAAMB68EAAAAAAgDH3QAAAAADAXPVAAAAAAMAg/0AAAAAAgITuQAAAAADAXPVAAAAAAMDr8kAAAAAAQHf7QAAAAACAwPRAAAAAAMCv/EAAAAAAAPn1QAAAAAAABfRAAAAAAIAx90AAAAAAgMD0QAAAAACAovlAAAAAAICi+UAAAAAAAIjzQAAAAAAAvf9AAAAAAICi+UAAAAAAwOsCQQAAAACAwPRAAAAAAADb+kAAAAAAgDH3QAAAAAAAFwFBAAAAAECz8UAAAAAAAGr4QAAAAAAA+fVAAAAAAAC9/0AAAAAAwHrwQAAAAABAlfZAAAAAAEAk9EAAAAAAQOj9QAAAAACAhO5AAAAAAMBc9UAAAAAAwOvyQA==",
          "dtype": "f8"
         },
         "y0": " ",
         "yaxis": "y"
        },
        {
         "alignmentgroup": "True",
         "hovertemplate": "Score de Crédito=%{x}<br>Salário=%{y}<extra></extra>",
         "legendgroup": "Average",
         "marker": {
          "color": "#4ECDC4"
         },
         "name": "Average",
         "notched": false,
         "offsetgroup": "Average",
         "orientation": "v",
         "showlegend": true,
         "type": "box",
         "x": [
          "Average",
          "Average",
          "Average",
          "Average",
          "Average",
          "Average",
          "Average",
          "Average",
          "Average",
          "Average",
          "Average",
          "Average",
          "Average",
          "Average",
          "Average",
          "Average",
          "Average",
          "Average",
          "Average",
          "Average",
          "Average",
          "Average",
          "Average",
          "Average",
          "Average",
          "Average",
          "Average",
          "Average",
          "Average",
          "Average",
          "Average",
          "Average",
          "Average",
          "Average",
          "Average",
          "Average"
         ],
         "x0": " ",
         "xaxis": "x",
         "y": {
          "bdata": "AAAAAACI40AAAAAAAEztQAAAAAAA2+pAAAAAAABq6EAAAAAAAPnlQAAAAAAA2+pAAAAAAAD55UAAAAAAAL3vQAAAAACAE+xAAAAAAICi6UAAAAAAgDHnQAAAAACAE+xAAAAAAABM7UAAAAAAgDHnQAAAAADAevBAAAAAAIAT7EAAAAAAgKLpQAAAAACAMedAAAAAAIAT7EAAAAAAgITuQAAAAAAAauhAAAAAAAAX8UAAAAAAgBPsQAAAAACAoulAAAAAAIAx50AAAAAAgBPsQAAAAAAATO1AAAAAAIBP8kAAAAAAANvqQAAAAAAAmvBAAAAAAADb6kAAAAAAAPnlQAAAAAAAve9AAAAAAIAT7EAAAAAAgKLpQAAAAACAMedA",
          "dtype": "f8"
         },
         "y0": " ",
         "yaxis": "y"
        },
        {
         "alignmentgroup": "True",
         "hovertemplate": "Score de Crédito=%{x}<br>Salário=%{y}<extra></extra>",
         "legendgroup": "Low",
         "marker": {
          "color": "#45B7D1"
         },
         "name": "Low",
         "notched": false,
         "offsetgroup": "Low",
         "orientation": "v",
         "showlegend": true,
         "type": "box",
         "x": [
          "Low",
          "Low",
          "Low",
          "Low",
          "Low",
          "Low",
          "Low",
          "Low",
          "Low",
          "Low",
          "Low",
          "Low",
          "Low",
          "Low",
          "Low"
         ],
         "x0": " ",
         "xaxis": "x",
         "y": {
          "bdata": "AAAAAAAX4UAAAAAAAEzdQAAAAAAAathAAAAAAIBP4kAAAAAAAL3fQAAAAAAA29pAAAAAAIBP4kAAAAAAAL3fQAAAAAAA29pAAAAAAIBP4kAAAAAAAL3fQAAAAAAA29pAAAAAAIBP4kAAAAAAAL3fQAAAAAAA29pA",
          "dtype": "f8"
         },
         "y0": " ",
         "yaxis": "y"
        }
       ],
       "layout": {
        "boxmode": "overlay",
        "height": 500,
        "legend": {
         "title": {
          "text": "Score de Crédito"
         },
         "tracegroupgap": 0
        },
        "plot_bgcolor": "white",
        "showlegend": false,
        "template": {
         "data": {
          "bar": [
           {
            "error_x": {
             "color": "#2a3f5f"
            },
            "error_y": {
             "color": "#2a3f5f"
            },
            "marker": {
             "line": {
              "color": "#E5ECF6",
              "width": 0.5
             },
             "pattern": {
              "fillmode": "overlay",
              "size": 10,
              "solidity": 0.2
             }
            },
            "type": "bar"
           }
          ],
          "barpolar": [
           {
            "marker": {
             "line": {
              "color": "#E5ECF6",
              "width": 0.5
             },
             "pattern": {
              "fillmode": "overlay",
              "size": 10,
              "solidity": 0.2
             }
            },
            "type": "barpolar"
           }
          ],
          "carpet": [
           {
            "aaxis": {
             "endlinecolor": "#2a3f5f",
             "gridcolor": "white",
             "linecolor": "white",
             "minorgridcolor": "white",
             "startlinecolor": "#2a3f5f"
            },
            "baxis": {
             "endlinecolor": "#2a3f5f",
             "gridcolor": "white",
             "linecolor": "white",
             "minorgridcolor": "white",
             "startlinecolor": "#2a3f5f"
            },
            "type": "carpet"
           }
          ],
          "choropleth": [
           {
            "colorbar": {
             "outlinewidth": 0,
             "ticks": ""
            },
            "type": "choropleth"
           }
          ],
          "contour": [
           {
            "colorbar": {
             "outlinewidth": 0,
             "ticks": ""
            },
            "colorscale": [
             [
              0,
              "#0d0887"
             ],
             [
              0.1111111111111111,
              "#46039f"
             ],
             [
              0.2222222222222222,
              "#7201a8"
             ],
             [
              0.3333333333333333,
              "#9c179e"
             ],
             [
              0.4444444444444444,
              "#bd3786"
             ],
             [
              0.5555555555555556,
              "#d8576b"
             ],
             [
              0.6666666666666666,
              "#ed7953"
             ],
             [
              0.7777777777777778,
              "#fb9f3a"
             ],
             [
              0.8888888888888888,
              "#fdca26"
             ],
             [
              1,
              "#f0f921"
             ]
            ],
            "type": "contour"
           }
          ],
          "contourcarpet": [
           {
            "colorbar": {
             "outlinewidth": 0,
             "ticks": ""
            },
            "type": "contourcarpet"
           }
          ],
          "heatmap": [
           {
            "colorbar": {
             "outlinewidth": 0,
             "ticks": ""
            },
            "colorscale": [
             [
              0,
              "#0d0887"
             ],
             [
              0.1111111111111111,
              "#46039f"
             ],
             [
              0.2222222222222222,
              "#7201a8"
             ],
             [
              0.3333333333333333,
              "#9c179e"
             ],
             [
              0.4444444444444444,
              "#bd3786"
             ],
             [
              0.5555555555555556,
              "#d8576b"
             ],
             [
              0.6666666666666666,
              "#ed7953"
             ],
             [
              0.7777777777777778,
              "#fb9f3a"
             ],
             [
              0.8888888888888888,
              "#fdca26"
             ],
             [
              1,
              "#f0f921"
             ]
            ],
            "type": "heatmap"
           }
          ],
          "histogram": [
           {
            "marker": {
             "pattern": {
              "fillmode": "overlay",
              "size": 10,
              "solidity": 0.2
             }
            },
            "type": "histogram"
           }
          ],
          "histogram2d": [
           {
            "colorbar": {
             "outlinewidth": 0,
             "ticks": ""
            },
            "colorscale": [
             [
              0,
              "#0d0887"
             ],
             [
              0.1111111111111111,
              "#46039f"
             ],
             [
              0.2222222222222222,
              "#7201a8"
             ],
             [
              0.3333333333333333,
              "#9c179e"
             ],
             [
              0.4444444444444444,
              "#bd3786"
             ],
             [
              0.5555555555555556,
              "#d8576b"
             ],
             [
              0.6666666666666666,
              "#ed7953"
             ],
             [
              0.7777777777777778,
              "#fb9f3a"
             ],
             [
              0.8888888888888888,
              "#fdca26"
             ],
             [
              1,
              "#f0f921"
             ]
            ],
            "type": "histogram2d"
           }
          ],
          "histogram2dcontour": [
           {
            "colorbar": {
             "outlinewidth": 0,
             "ticks": ""
            },
            "colorscale": [
             [
              0,
              "#0d0887"
             ],
             [
              0.1111111111111111,
              "#46039f"
             ],
             [
              0.2222222222222222,
              "#7201a8"
             ],
             [
              0.3333333333333333,
              "#9c179e"
             ],
             [
              0.4444444444444444,
              "#bd3786"
             ],
             [
              0.5555555555555556,
              "#d8576b"
             ],
             [
              0.6666666666666666,
              "#ed7953"
             ],
             [
              0.7777777777777778,
              "#fb9f3a"
             ],
             [
              0.8888888888888888,
              "#fdca26"
             ],
             [
              1,
              "#f0f921"
             ]
            ],
            "type": "histogram2dcontour"
           }
          ],
          "mesh3d": [
           {
            "colorbar": {
             "outlinewidth": 0,
             "ticks": ""
            },
            "type": "mesh3d"
           }
          ],
          "parcoords": [
           {
            "line": {
             "colorbar": {
              "outlinewidth": 0,
              "ticks": ""
             }
            },
            "type": "parcoords"
           }
          ],
          "pie": [
           {
            "automargin": true,
            "type": "pie"
           }
          ],
          "scatter": [
           {
            "fillpattern": {
             "fillmode": "overlay",
             "size": 10,
             "solidity": 0.2
            },
            "type": "scatter"
           }
          ],
          "scatter3d": [
           {
            "line": {
             "colorbar": {
              "outlinewidth": 0,
              "ticks": ""
             }
            },
            "marker": {
             "colorbar": {
              "outlinewidth": 0,
              "ticks": ""
             }
            },
            "type": "scatter3d"
           }
          ],
          "scattercarpet": [
           {
            "marker": {
             "colorbar": {
              "outlinewidth": 0,
              "ticks": ""
             }
            },
            "type": "scattercarpet"
           }
          ],
          "scattergeo": [
           {
            "marker": {
             "colorbar": {
              "outlinewidth": 0,
              "ticks": ""
             }
            },
            "type": "scattergeo"
           }
          ],
          "scattergl": [
           {
            "marker": {
             "colorbar": {
              "outlinewidth": 0,
              "ticks": ""
             }
            },
            "type": "scattergl"
           }
          ],
          "scattermap": [
           {
            "marker": {
             "colorbar": {
              "outlinewidth": 0,
              "ticks": ""
             }
            },
            "type": "scattermap"
           }
          ],
          "scattermapbox": [
           {
            "marker": {
             "colorbar": {
              "outlinewidth": 0,
              "ticks": ""
             }
            },
            "type": "scattermapbox"
           }
          ],
          "scatterpolar": [
           {
            "marker": {
             "colorbar": {
              "outlinewidth": 0,
              "ticks": ""
             }
            },
            "type": "scatterpolar"
           }
          ],
          "scatterpolargl": [
           {
            "marker": {
             "colorbar": {
              "outlinewidth": 0,
              "ticks": ""
             }
            },
            "type": "scatterpolargl"
           }
          ],
          "scatterternary": [
           {
            "marker": {
             "colorbar": {
              "outlinewidth": 0,
              "ticks": ""
             }
            },
            "type": "scatterternary"
           }
          ],
          "surface": [
           {
            "colorbar": {
             "outlinewidth": 0,
             "ticks": ""
            },
            "colorscale": [
             [
              0,
              "#0d0887"
             ],
             [
              0.1111111111111111,
              "#46039f"
             ],
             [
              0.2222222222222222,
              "#7201a8"
             ],
             [
              0.3333333333333333,
              "#9c179e"
             ],
             [
              0.4444444444444444,
              "#bd3786"
             ],
             [
              0.5555555555555556,
              "#d8576b"
             ],
             [
              0.6666666666666666,
              "#ed7953"
             ],
             [
              0.7777777777777778,
              "#fb9f3a"
             ],
             [
              0.8888888888888888,
              "#fdca26"
             ],
             [
              1,
              "#f0f921"
             ]
            ],
            "type": "surface"
           }
          ],
          "table": [
           {
            "cells": {
             "fill": {
              "color": "#EBF0F8"
             },
             "line": {
              "color": "white"
             }
            },
            "header": {
             "fill": {
              "color": "#C8D4E3"
             },
             "line": {
              "color": "white"
             }
            },
            "type": "table"
           }
          ]
         },
         "layout": {
          "annotationdefaults": {
           "arrowcolor": "#2a3f5f",
           "arrowhead": 0,
           "arrowwidth": 1
          },
          "autotypenumbers": "strict",
          "coloraxis": {
           "colorbar": {
            "outlinewidth": 0,
            "ticks": ""
           }
          },
          "colorscale": {
           "diverging": [
            [
             0,
             "#8e0152"
            ],
            [
             0.1,
             "#c51b7d"
            ],
            [
             0.2,
             "#de77ae"
            ],
            [
             0.3,
             "#f1b6da"
            ],
            [
             0.4,
             "#fde0ef"
            ],
            [
             0.5,
             "#f7f7f7"
            ],
            [
             0.6,
             "#e6f5d0"
            ],
            [
             0.7,
             "#b8e186"
            ],
            [
             0.8,
             "#7fbc41"
            ],
            [
             0.9,
             "#4d9221"
            ],
            [
             1,
             "#276419"
            ]
           ],
           "sequential": [
            [
             0,
             "#0d0887"
            ],
            [
             0.1111111111111111,
             "#46039f"
            ],
            [
             0.2222222222222222,
             "#7201a8"
            ],
            [
             0.3333333333333333,
             "#9c179e"
            ],
            [
             0.4444444444444444,
             "#bd3786"
            ],
            [
             0.5555555555555556,
             "#d8576b"
            ],
            [
             0.6666666666666666,
             "#ed7953"
            ],
            [
             0.7777777777777778,
             "#fb9f3a"
            ],
            [
             0.8888888888888888,
             "#fdca26"
            ],
            [
             1,
             "#f0f921"
            ]
           ],
           "sequentialminus": [
            [
             0,
             "#0d0887"
            ],
            [
             0.1111111111111111,
             "#46039f"
            ],
            [
             0.2222222222222222,
             "#7201a8"
            ],
            [
             0.3333333333333333,
             "#9c179e"
            ],
            [
             0.4444444444444444,
             "#bd3786"
            ],
            [
             0.5555555555555556,
             "#d8576b"
            ],
            [
             0.6666666666666666,
             "#ed7953"
            ],
            [
             0.7777777777777778,
             "#fb9f3a"
            ],
            [
             0.8888888888888888,
             "#fdca26"
            ],
            [
             1,
             "#f0f921"
            ]
           ]
          },
          "colorway": [
           "#636efa",
           "#EF553B",
           "#00cc96",
           "#ab63fa",
           "#FFA15A",
           "#19d3f3",
           "#FF6692",
           "#B6E880",
           "#FF97FF",
           "#FECB52"
          ],
          "font": {
           "color": "#2a3f5f"
          },
          "geo": {
           "bgcolor": "white",
           "lakecolor": "white",
           "landcolor": "#E5ECF6",
           "showlakes": true,
           "showland": true,
           "subunitcolor": "white"
          },
          "hoverlabel": {
           "align": "left"
          },
          "hovermode": "closest",
          "mapbox": {
           "style": "light"
          },
          "paper_bgcolor": "white",
          "plot_bgcolor": "#E5ECF6",
          "polar": {
           "angularaxis": {
            "gridcolor": "white",
            "linecolor": "white",
            "ticks": ""
           },
           "bgcolor": "#E5ECF6",
           "radialaxis": {
            "gridcolor": "white",
            "linecolor": "white",
            "ticks": ""
           }
          },
          "scene": {
           "xaxis": {
            "backgroundcolor": "#E5ECF6",
            "gridcolor": "white",
            "gridwidth": 2,
            "linecolor": "white",
            "showbackground": true,
            "ticks": "",
            "zerolinecolor": "white"
           },
           "yaxis": {
            "backgroundcolor": "#E5ECF6",
            "gridcolor": "white",
            "gridwidth": 2,
            "linecolor": "white",
            "showbackground": true,
            "ticks": "",
            "zerolinecolor": "white"
           },
           "zaxis": {
            "backgroundcolor": "#E5ECF6",
            "gridcolor": "white",
            "gridwidth": 2,
            "linecolor": "white",
            "showbackground": true,
            "ticks": "",
            "zerolinecolor": "white"
           }
          },
          "shapedefaults": {
           "line": {
            "color": "#2a3f5f"
           }
          },
          "ternary": {
           "aaxis": {
            "gridcolor": "white",
            "linecolor": "white",
            "ticks": ""
           },
           "baxis": {
            "gridcolor": "white",
            "linecolor": "white",
            "ticks": ""
           },
           "bgcolor": "#E5ECF6",
           "caxis": {
            "gridcolor": "white",
            "linecolor": "white",
            "ticks": ""
           }
          },
          "title": {
           "x": 0.05
          },
          "xaxis": {
           "automargin": true,
           "gridcolor": "white",
           "linecolor": "white",
           "ticks": "",
           "title": {
            "standoff": 15
           },
           "zerolinecolor": "white",
           "zerolinewidth": 2
          },
          "yaxis": {
           "automargin": true,
           "gridcolor": "white",
           "linecolor": "white",
           "ticks": "",
           "title": {
            "standoff": 15
           },
           "zerolinecolor": "white",
           "zerolinewidth": 2
          }
         }
        },
        "title": {
         "font": {
          "size": 16
         },
         "text": "Distribuição de Renda por Score de Crédito",
         "x": 0.5,
         "xanchor": "center"
        },
        "width": 800,
        "xaxis": {
         "anchor": "y",
         "categoryarray": [
          "High",
          "Average",
          "Low"
         ],
         "categoryorder": "array",
         "domain": [
          0,
          1
         ],
         "title": {
          "text": "Score de Crédito"
         }
        },
        "yaxis": {
         "anchor": "x",
         "domain": [
          0,
          1
         ],
         "gridcolor": "lightgray",
         "gridwidth": 1,
         "showgrid": true,
         "title": {
          "text": "Salário (R$)"
         }
        }
       }
      }
     },
     "metadata": {},
     "output_type": "display_data"
    }
   ],
   "source": [
    "fig1 = px.box(df,\n",
    "    x='Credit Score',\n",
    "    y='Income',\n",
    "    title='Boxplot de Renda por Score de Crédito',\n",
    "    labels={'Credit Score': 'Score de Crédito', 'Income': 'Salário'},\n",
    "    color='Credit Score',\n",
    "    color_discrete_sequence=['#FF6B6B', '#4ECDC4', '#45B7D1']\n",
    ")\n",
    "\n",
    "fig1.update_layout(\n",
    "    title={\n",
    "        'text': 'Distribuição de Renda por Score de Crédito',\n",
    "        'x': 0.5,  # Centraliza o título\n",
    "        'xanchor': 'center',\n",
    "        'font': {'size': 16}\n",
    "    },\n",
    "    xaxis_title='Score de Crédito',\n",
    "    yaxis_title='Salário (R$)',\n",
    "    width=800,\n",
    "    height=500,\n",
    "    plot_bgcolor='white',\n",
    "    showlegend=False\n",
    ")\n",
    "\n",
    "fig1.update_yaxes(\n",
    "    showgrid=True,\n",
    "    gridwidth=1,\n",
    "    gridcolor='lightgray'\n",
    ")\n",
    "\n",
    "fig1.show()"
   ]
  },
  {
   "cell_type": "code",
   "execution_count": 24,
   "id": "2e0fe43d",
   "metadata": {},
   "outputs": [
    {
     "name": "stdout",
     "output_type": "stream",
     "text": [
      "Estatísticas de Salário por Credit Score:\n",
      "              count      mean   median       std\n",
      "Credit Score                                    \n",
      "Average          36  55500.00  55000.0   7923.74\n",
      "High            113  99641.59  95000.0  25322.16\n",
      "Low              15  32000.00  32500.0   4350.70\n"
     ]
    }
   ],
   "source": [
    "# Estatísticas descritivas por grupo\n",
    "print(\"Estatísticas de Salário por Credit Score:\")\n",
    "stats = df.groupby('Credit Score')['Income'].agg(['count', 'mean', 'median', 'std']).round(2)\n",
    "print(stats)"
   ]
  },
  {
   "cell_type": "markdown",
   "id": "72a6b65c",
   "metadata": {},
   "source": [
    "#### 3.2.5 Home Ownership e Credit Score"
   ]
  },
  {
   "cell_type": "code",
   "execution_count": 25,
   "id": "3e0a03a5",
   "metadata": {},
   "outputs": [
    {
     "data": {
      "application/vnd.plotly.v1+json": {
       "config": {
        "plotlyServerURL": "https://plot.ly"
       },
       "data": [
        {
         "alignmentgroup": "True",
         "hovertemplate": "Credit Score=Average<br>Tipo de Moradia=%{x}<br>Quantidade=%{y}<extra></extra>",
         "legendgroup": "Average",
         "marker": {
          "color": "#65D1CA",
          "pattern": {
           "shape": ""
          }
         },
         "name": "Average",
         "offsetgroup": "Average",
         "orientation": "v",
         "showlegend": true,
         "textposition": "auto",
         "type": "bar",
         "x": [
          "Owned",
          "Rented"
         ],
         "xaxis": "x",
         "y": {
          "bdata": "AiI=",
          "dtype": "i1"
         },
         "yaxis": "y"
        },
        {
         "alignmentgroup": "True",
         "hovertemplate": "Credit Score=High<br>Tipo de Moradia=%{x}<br>Quantidade=%{y}<extra></extra>",
         "legendgroup": "High",
         "marker": {
          "color": "#DF5A5A",
          "pattern": {
           "shape": ""
          }
         },
         "name": "High",
         "offsetgroup": "High",
         "orientation": "v",
         "showlegend": true,
         "textposition": "auto",
         "type": "bar",
         "x": [
          "Owned",
          "Rented"
         ],
         "xaxis": "x",
         "y": {
          "bdata": "bQQ=",
          "dtype": "i1"
         },
         "yaxis": "y"
        },
        {
         "alignmentgroup": "True",
         "hovertemplate": "Credit Score=Low<br>Tipo de Moradia=%{x}<br>Quantidade=%{y}<extra></extra>",
         "legendgroup": "Low",
         "marker": {
          "color": "#29CAEE",
          "pattern": {
           "shape": ""
          }
         },
         "name": "Low",
         "offsetgroup": "Low",
         "orientation": "v",
         "showlegend": true,
         "textposition": "auto",
         "type": "bar",
         "x": [
          "Owned",
          "Rented"
         ],
         "xaxis": "x",
         "y": {
          "bdata": "AA8=",
          "dtype": "i1"
         },
         "yaxis": "y"
        }
       ],
       "layout": {
        "barmode": "group",
        "height": 600,
        "legend": {
         "title": {
          "text": "Credit Score"
         },
         "tracegroupgap": 0
        },
        "plot_bgcolor": "white",
        "template": {
         "data": {
          "bar": [
           {
            "error_x": {
             "color": "#2a3f5f"
            },
            "error_y": {
             "color": "#2a3f5f"
            },
            "marker": {
             "line": {
              "color": "#E5ECF6",
              "width": 0.5
             },
             "pattern": {
              "fillmode": "overlay",
              "size": 10,
              "solidity": 0.2
             }
            },
            "type": "bar"
           }
          ],
          "barpolar": [
           {
            "marker": {
             "line": {
              "color": "#E5ECF6",
              "width": 0.5
             },
             "pattern": {
              "fillmode": "overlay",
              "size": 10,
              "solidity": 0.2
             }
            },
            "type": "barpolar"
           }
          ],
          "carpet": [
           {
            "aaxis": {
             "endlinecolor": "#2a3f5f",
             "gridcolor": "white",
             "linecolor": "white",
             "minorgridcolor": "white",
             "startlinecolor": "#2a3f5f"
            },
            "baxis": {
             "endlinecolor": "#2a3f5f",
             "gridcolor": "white",
             "linecolor": "white",
             "minorgridcolor": "white",
             "startlinecolor": "#2a3f5f"
            },
            "type": "carpet"
           }
          ],
          "choropleth": [
           {
            "colorbar": {
             "outlinewidth": 0,
             "ticks": ""
            },
            "type": "choropleth"
           }
          ],
          "contour": [
           {
            "colorbar": {
             "outlinewidth": 0,
             "ticks": ""
            },
            "colorscale": [
             [
              0,
              "#0d0887"
             ],
             [
              0.1111111111111111,
              "#46039f"
             ],
             [
              0.2222222222222222,
              "#7201a8"
             ],
             [
              0.3333333333333333,
              "#9c179e"
             ],
             [
              0.4444444444444444,
              "#bd3786"
             ],
             [
              0.5555555555555556,
              "#d8576b"
             ],
             [
              0.6666666666666666,
              "#ed7953"
             ],
             [
              0.7777777777777778,
              "#fb9f3a"
             ],
             [
              0.8888888888888888,
              "#fdca26"
             ],
             [
              1,
              "#f0f921"
             ]
            ],
            "type": "contour"
           }
          ],
          "contourcarpet": [
           {
            "colorbar": {
             "outlinewidth": 0,
             "ticks": ""
            },
            "type": "contourcarpet"
           }
          ],
          "heatmap": [
           {
            "colorbar": {
             "outlinewidth": 0,
             "ticks": ""
            },
            "colorscale": [
             [
              0,
              "#0d0887"
             ],
             [
              0.1111111111111111,
              "#46039f"
             ],
             [
              0.2222222222222222,
              "#7201a8"
             ],
             [
              0.3333333333333333,
              "#9c179e"
             ],
             [
              0.4444444444444444,
              "#bd3786"
             ],
             [
              0.5555555555555556,
              "#d8576b"
             ],
             [
              0.6666666666666666,
              "#ed7953"
             ],
             [
              0.7777777777777778,
              "#fb9f3a"
             ],
             [
              0.8888888888888888,
              "#fdca26"
             ],
             [
              1,
              "#f0f921"
             ]
            ],
            "type": "heatmap"
           }
          ],
          "histogram": [
           {
            "marker": {
             "pattern": {
              "fillmode": "overlay",
              "size": 10,
              "solidity": 0.2
             }
            },
            "type": "histogram"
           }
          ],
          "histogram2d": [
           {
            "colorbar": {
             "outlinewidth": 0,
             "ticks": ""
            },
            "colorscale": [
             [
              0,
              "#0d0887"
             ],
             [
              0.1111111111111111,
              "#46039f"
             ],
             [
              0.2222222222222222,
              "#7201a8"
             ],
             [
              0.3333333333333333,
              "#9c179e"
             ],
             [
              0.4444444444444444,
              "#bd3786"
             ],
             [
              0.5555555555555556,
              "#d8576b"
             ],
             [
              0.6666666666666666,
              "#ed7953"
             ],
             [
              0.7777777777777778,
              "#fb9f3a"
             ],
             [
              0.8888888888888888,
              "#fdca26"
             ],
             [
              1,
              "#f0f921"
             ]
            ],
            "type": "histogram2d"
           }
          ],
          "histogram2dcontour": [
           {
            "colorbar": {
             "outlinewidth": 0,
             "ticks": ""
            },
            "colorscale": [
             [
              0,
              "#0d0887"
             ],
             [
              0.1111111111111111,
              "#46039f"
             ],
             [
              0.2222222222222222,
              "#7201a8"
             ],
             [
              0.3333333333333333,
              "#9c179e"
             ],
             [
              0.4444444444444444,
              "#bd3786"
             ],
             [
              0.5555555555555556,
              "#d8576b"
             ],
             [
              0.6666666666666666,
              "#ed7953"
             ],
             [
              0.7777777777777778,
              "#fb9f3a"
             ],
             [
              0.8888888888888888,
              "#fdca26"
             ],
             [
              1,
              "#f0f921"
             ]
            ],
            "type": "histogram2dcontour"
           }
          ],
          "mesh3d": [
           {
            "colorbar": {
             "outlinewidth": 0,
             "ticks": ""
            },
            "type": "mesh3d"
           }
          ],
          "parcoords": [
           {
            "line": {
             "colorbar": {
              "outlinewidth": 0,
              "ticks": ""
             }
            },
            "type": "parcoords"
           }
          ],
          "pie": [
           {
            "automargin": true,
            "type": "pie"
           }
          ],
          "scatter": [
           {
            "fillpattern": {
             "fillmode": "overlay",
             "size": 10,
             "solidity": 0.2
            },
            "type": "scatter"
           }
          ],
          "scatter3d": [
           {
            "line": {
             "colorbar": {
              "outlinewidth": 0,
              "ticks": ""
             }
            },
            "marker": {
             "colorbar": {
              "outlinewidth": 0,
              "ticks": ""
             }
            },
            "type": "scatter3d"
           }
          ],
          "scattercarpet": [
           {
            "marker": {
             "colorbar": {
              "outlinewidth": 0,
              "ticks": ""
             }
            },
            "type": "scattercarpet"
           }
          ],
          "scattergeo": [
           {
            "marker": {
             "colorbar": {
              "outlinewidth": 0,
              "ticks": ""
             }
            },
            "type": "scattergeo"
           }
          ],
          "scattergl": [
           {
            "marker": {
             "colorbar": {
              "outlinewidth": 0,
              "ticks": ""
             }
            },
            "type": "scattergl"
           }
          ],
          "scattermap": [
           {
            "marker": {
             "colorbar": {
              "outlinewidth": 0,
              "ticks": ""
             }
            },
            "type": "scattermap"
           }
          ],
          "scattermapbox": [
           {
            "marker": {
             "colorbar": {
              "outlinewidth": 0,
              "ticks": ""
             }
            },
            "type": "scattermapbox"
           }
          ],
          "scatterpolar": [
           {
            "marker": {
             "colorbar": {
              "outlinewidth": 0,
              "ticks": ""
             }
            },
            "type": "scatterpolar"
           }
          ],
          "scatterpolargl": [
           {
            "marker": {
             "colorbar": {
              "outlinewidth": 0,
              "ticks": ""
             }
            },
            "type": "scatterpolargl"
           }
          ],
          "scatterternary": [
           {
            "marker": {
             "colorbar": {
              "outlinewidth": 0,
              "ticks": ""
             }
            },
            "type": "scatterternary"
           }
          ],
          "surface": [
           {
            "colorbar": {
             "outlinewidth": 0,
             "ticks": ""
            },
            "colorscale": [
             [
              0,
              "#0d0887"
             ],
             [
              0.1111111111111111,
              "#46039f"
             ],
             [
              0.2222222222222222,
              "#7201a8"
             ],
             [
              0.3333333333333333,
              "#9c179e"
             ],
             [
              0.4444444444444444,
              "#bd3786"
             ],
             [
              0.5555555555555556,
              "#d8576b"
             ],
             [
              0.6666666666666666,
              "#ed7953"
             ],
             [
              0.7777777777777778,
              "#fb9f3a"
             ],
             [
              0.8888888888888888,
              "#fdca26"
             ],
             [
              1,
              "#f0f921"
             ]
            ],
            "type": "surface"
           }
          ],
          "table": [
           {
            "cells": {
             "fill": {
              "color": "#EBF0F8"
             },
             "line": {
              "color": "white"
             }
            },
            "header": {
             "fill": {
              "color": "#C8D4E3"
             },
             "line": {
              "color": "white"
             }
            },
            "type": "table"
           }
          ]
         },
         "layout": {
          "annotationdefaults": {
           "arrowcolor": "#2a3f5f",
           "arrowhead": 0,
           "arrowwidth": 1
          },
          "autotypenumbers": "strict",
          "coloraxis": {
           "colorbar": {
            "outlinewidth": 0,
            "ticks": ""
           }
          },
          "colorscale": {
           "diverging": [
            [
             0,
             "#8e0152"
            ],
            [
             0.1,
             "#c51b7d"
            ],
            [
             0.2,
             "#de77ae"
            ],
            [
             0.3,
             "#f1b6da"
            ],
            [
             0.4,
             "#fde0ef"
            ],
            [
             0.5,
             "#f7f7f7"
            ],
            [
             0.6,
             "#e6f5d0"
            ],
            [
             0.7,
             "#b8e186"
            ],
            [
             0.8,
             "#7fbc41"
            ],
            [
             0.9,
             "#4d9221"
            ],
            [
             1,
             "#276419"
            ]
           ],
           "sequential": [
            [
             0,
             "#0d0887"
            ],
            [
             0.1111111111111111,
             "#46039f"
            ],
            [
             0.2222222222222222,
             "#7201a8"
            ],
            [
             0.3333333333333333,
             "#9c179e"
            ],
            [
             0.4444444444444444,
             "#bd3786"
            ],
            [
             0.5555555555555556,
             "#d8576b"
            ],
            [
             0.6666666666666666,
             "#ed7953"
            ],
            [
             0.7777777777777778,
             "#fb9f3a"
            ],
            [
             0.8888888888888888,
             "#fdca26"
            ],
            [
             1,
             "#f0f921"
            ]
           ],
           "sequentialminus": [
            [
             0,
             "#0d0887"
            ],
            [
             0.1111111111111111,
             "#46039f"
            ],
            [
             0.2222222222222222,
             "#7201a8"
            ],
            [
             0.3333333333333333,
             "#9c179e"
            ],
            [
             0.4444444444444444,
             "#bd3786"
            ],
            [
             0.5555555555555556,
             "#d8576b"
            ],
            [
             0.6666666666666666,
             "#ed7953"
            ],
            [
             0.7777777777777778,
             "#fb9f3a"
            ],
            [
             0.8888888888888888,
             "#fdca26"
            ],
            [
             1,
             "#f0f921"
            ]
           ]
          },
          "colorway": [
           "#636efa",
           "#EF553B",
           "#00cc96",
           "#ab63fa",
           "#FFA15A",
           "#19d3f3",
           "#FF6692",
           "#B6E880",
           "#FF97FF",
           "#FECB52"
          ],
          "font": {
           "color": "#2a3f5f"
          },
          "geo": {
           "bgcolor": "white",
           "lakecolor": "white",
           "landcolor": "#E5ECF6",
           "showlakes": true,
           "showland": true,
           "subunitcolor": "white"
          },
          "hoverlabel": {
           "align": "left"
          },
          "hovermode": "closest",
          "mapbox": {
           "style": "light"
          },
          "paper_bgcolor": "white",
          "plot_bgcolor": "#E5ECF6",
          "polar": {
           "angularaxis": {
            "gridcolor": "white",
            "linecolor": "white",
            "ticks": ""
           },
           "bgcolor": "#E5ECF6",
           "radialaxis": {
            "gridcolor": "white",
            "linecolor": "white",
            "ticks": ""
           }
          },
          "scene": {
           "xaxis": {
            "backgroundcolor": "#E5ECF6",
            "gridcolor": "white",
            "gridwidth": 2,
            "linecolor": "white",
            "showbackground": true,
            "ticks": "",
            "zerolinecolor": "white"
           },
           "yaxis": {
            "backgroundcolor": "#E5ECF6",
            "gridcolor": "white",
            "gridwidth": 2,
            "linecolor": "white",
            "showbackground": true,
            "ticks": "",
            "zerolinecolor": "white"
           },
           "zaxis": {
            "backgroundcolor": "#E5ECF6",
            "gridcolor": "white",
            "gridwidth": 2,
            "linecolor": "white",
            "showbackground": true,
            "ticks": "",
            "zerolinecolor": "white"
           }
          },
          "shapedefaults": {
           "line": {
            "color": "#2a3f5f"
           }
          },
          "ternary": {
           "aaxis": {
            "gridcolor": "white",
            "linecolor": "white",
            "ticks": ""
           },
           "baxis": {
            "gridcolor": "white",
            "linecolor": "white",
            "ticks": ""
           },
           "bgcolor": "#E5ECF6",
           "caxis": {
            "gridcolor": "white",
            "linecolor": "white",
            "ticks": ""
           }
          },
          "title": {
           "x": 0.05
          },
          "xaxis": {
           "automargin": true,
           "gridcolor": "white",
           "linecolor": "white",
           "ticks": "",
           "title": {
            "standoff": 15
           },
           "zerolinecolor": "white",
           "zerolinewidth": 2
          },
          "yaxis": {
           "automargin": true,
           "gridcolor": "white",
           "linecolor": "white",
           "ticks": "",
           "title": {
            "standoff": 15
           },
           "zerolinecolor": "white",
           "zerolinewidth": 2
          }
         }
        },
        "title": {
         "font": {
          "size": 16
         },
         "text": "Distribuição de Credit Score por Tipo de Moradia",
         "x": 0.5,
         "xanchor": "center"
        },
        "width": 800,
        "xaxis": {
         "anchor": "y",
         "domain": [
          0,
          1
         ],
         "gridcolor": "lightgray",
         "gridwidth": 1,
         "showgrid": true,
         "title": {
          "text": "Tipo de Moradia"
         }
        },
        "yaxis": {
         "anchor": "x",
         "domain": [
          0,
          1
         ],
         "title": {
          "text": "Quantidade"
         }
        }
       }
      }
     },
     "metadata": {},
     "output_type": "display_data"
    }
   ],
   "source": [
    "# Criar tabela de contingência\n",
    "contingency_table = pd.crosstab(df['Home Ownership'], df['Credit Score'])\n",
    "\n",
    "# Criar gráfico de barras empilhadas\n",
    "fig = px.bar(\n",
    "    contingency_table.reset_index().melt(id_vars=['Home Ownership']),\n",
    "    x='Home Ownership',\n",
    "    y='value',\n",
    "    color='Credit Score',\n",
    "    title='Distribuição de Credit Score por Tipo de Moradia',\n",
    "    labels={'Home Ownership': 'Tipo de Moradia', 'value': 'Quantidade'},\n",
    "    color_discrete_sequence=[\"#65D1CA\",\"#DF5A5A\", \"#29CAEE\"],\n",
    "    barmode='group'\n",
    ")\n",
    "\n",
    "# Atualizar layout do gráfico\n",
    "fig.update_layout(\n",
    "    title={\n",
    "        'text': 'Distribuição de Credit Score por Tipo de Moradia',\n",
    "        'x': 0.5,  # Centraliza o título\n",
    "        'xanchor': 'center',\n",
    "        'font': {'size': 16}\n",
    "    },\n",
    "    xaxis_title='Tipo de Moradia',\n",
    "    yaxis_title='Quantidade',\n",
    "    width=800,\n",
    "    height=600,\n",
    "    plot_bgcolor='white',\n",
    ")\n",
    "\n",
    "# Adicionar grid\n",
    "fig.update_xaxes(showgrid=True, gridwidth=1, gridcolor='lightgray')\n",
    "\n",
    "# Mostrar o gráfico\n",
    "fig.show()"
   ]
  },
  {
   "cell_type": "code",
   "execution_count": 26,
   "id": "4a9cafe8",
   "metadata": {},
   "outputs": [
    {
     "name": "stdout",
     "output_type": "stream",
     "text": [
      "Tabela de Contingência (Contagens):\n",
      "Credit Score    Average  High  Low\n",
      "Home Ownership                    \n",
      "Owned                 2   109    0\n",
      "Rented               34     4   15\n",
      "\n",
      "Proporções por Tipo de Moradia (%):\n",
      "Credit Score    Average  High   Low\n",
      "Home Ownership                     \n",
      "Owned               1.8  98.2   0.0\n",
      "Rented             64.2   7.5  28.3\n"
     ]
    }
   ],
   "source": [
    "# Estatísticas descritivas\n",
    "proportions = contingency_table.div(contingency_table.sum(axis=1), axis=0) * 100\n",
    "print(\"Tabela de Contingência (Contagens):\")\n",
    "print(contingency_table)\n",
    "print(\"\\nProporções por Tipo de Moradia (%):\")\n",
    "print(proportions.round(1))"
   ]
  },
  {
   "cell_type": "markdown",
   "id": "05b58166",
   "metadata": {},
   "source": [
    "#### 3.2.6 Number of Children e Credit Score"
   ]
  },
  {
   "cell_type": "code",
   "execution_count": 27,
   "id": "25d374ec",
   "metadata": {},
   "outputs": [
    {
     "data": {
      "application/vnd.plotly.v1+json": {
       "config": {
        "plotlyServerURL": "https://plot.ly"
       },
       "data": [
        {
         "alignmentgroup": "True",
         "hovertemplate": "<b>Filhos:</b> %{x}<br><b>Credit Score:</b> %{fullData.name}<br><b>Quantidade:</b> %{y}<extra></extra>",
         "legendgroup": "Low",
         "marker": {
          "color": "#45B7D1",
          "pattern": {
           "shape": ""
          }
         },
         "name": "Low",
         "offsetgroup": "Low",
         "orientation": "v",
         "showlegend": true,
         "textposition": "auto",
         "type": "bar",
         "x": {
          "bdata": "AAECAw==",
          "dtype": "i1"
         },
         "xaxis": "x",
         "y": {
          "bdata": "DwAAAA==",
          "dtype": "i1"
         },
         "yaxis": "y"
        },
        {
         "alignmentgroup": "True",
         "hovertemplate": "<b>Filhos:</b> %{x}<br><b>Credit Score:</b> %{fullData.name}<br><b>Quantidade:</b> %{y}<extra></extra>",
         "legendgroup": "Medium",
         "marker": {
          "color": "#4ECDC4",
          "pattern": {
           "shape": ""
          }
         },
         "name": "Medium",
         "offsetgroup": "Medium",
         "orientation": "v",
         "showlegend": true,
         "textposition": "auto",
         "type": "bar",
         "x": {
          "bdata": "AAECAw==",
          "dtype": "i1"
         },
         "xaxis": "x",
         "y": {
          "bdata": "AAAAAA==",
          "dtype": "i1"
         },
         "yaxis": "y"
        },
        {
         "alignmentgroup": "True",
         "hovertemplate": "<b>Filhos:</b> %{x}<br><b>Credit Score:</b> %{fullData.name}<br><b>Quantidade:</b> %{y}<extra></extra>",
         "legendgroup": "High",
         "marker": {
          "color": "#FF6B6B",
          "pattern": {
           "shape": ""
          }
         },
         "name": "High",
         "offsetgroup": "High",
         "orientation": "v",
         "showlegend": true,
         "textposition": "auto",
         "type": "bar",
         "x": {
          "bdata": "AAECAw==",
          "dtype": "i1"
         },
         "xaxis": "x",
         "y": {
          "bdata": "MB8dBQ==",
          "dtype": "i1"
         },
         "yaxis": "y"
        }
       ],
       "layout": {
        "barmode": "group",
        "height": 600,
        "legend": {
         "title": {
          "text": "Credit Score"
         },
         "tracegroupgap": 0
        },
        "plot_bgcolor": "white",
        "template": {
         "data": {
          "bar": [
           {
            "error_x": {
             "color": "#2a3f5f"
            },
            "error_y": {
             "color": "#2a3f5f"
            },
            "marker": {
             "line": {
              "color": "#E5ECF6",
              "width": 0.5
             },
             "pattern": {
              "fillmode": "overlay",
              "size": 10,
              "solidity": 0.2
             }
            },
            "type": "bar"
           }
          ],
          "barpolar": [
           {
            "marker": {
             "line": {
              "color": "#E5ECF6",
              "width": 0.5
             },
             "pattern": {
              "fillmode": "overlay",
              "size": 10,
              "solidity": 0.2
             }
            },
            "type": "barpolar"
           }
          ],
          "carpet": [
           {
            "aaxis": {
             "endlinecolor": "#2a3f5f",
             "gridcolor": "white",
             "linecolor": "white",
             "minorgridcolor": "white",
             "startlinecolor": "#2a3f5f"
            },
            "baxis": {
             "endlinecolor": "#2a3f5f",
             "gridcolor": "white",
             "linecolor": "white",
             "minorgridcolor": "white",
             "startlinecolor": "#2a3f5f"
            },
            "type": "carpet"
           }
          ],
          "choropleth": [
           {
            "colorbar": {
             "outlinewidth": 0,
             "ticks": ""
            },
            "type": "choropleth"
           }
          ],
          "contour": [
           {
            "colorbar": {
             "outlinewidth": 0,
             "ticks": ""
            },
            "colorscale": [
             [
              0,
              "#0d0887"
             ],
             [
              0.1111111111111111,
              "#46039f"
             ],
             [
              0.2222222222222222,
              "#7201a8"
             ],
             [
              0.3333333333333333,
              "#9c179e"
             ],
             [
              0.4444444444444444,
              "#bd3786"
             ],
             [
              0.5555555555555556,
              "#d8576b"
             ],
             [
              0.6666666666666666,
              "#ed7953"
             ],
             [
              0.7777777777777778,
              "#fb9f3a"
             ],
             [
              0.8888888888888888,
              "#fdca26"
             ],
             [
              1,
              "#f0f921"
             ]
            ],
            "type": "contour"
           }
          ],
          "contourcarpet": [
           {
            "colorbar": {
             "outlinewidth": 0,
             "ticks": ""
            },
            "type": "contourcarpet"
           }
          ],
          "heatmap": [
           {
            "colorbar": {
             "outlinewidth": 0,
             "ticks": ""
            },
            "colorscale": [
             [
              0,
              "#0d0887"
             ],
             [
              0.1111111111111111,
              "#46039f"
             ],
             [
              0.2222222222222222,
              "#7201a8"
             ],
             [
              0.3333333333333333,
              "#9c179e"
             ],
             [
              0.4444444444444444,
              "#bd3786"
             ],
             [
              0.5555555555555556,
              "#d8576b"
             ],
             [
              0.6666666666666666,
              "#ed7953"
             ],
             [
              0.7777777777777778,
              "#fb9f3a"
             ],
             [
              0.8888888888888888,
              "#fdca26"
             ],
             [
              1,
              "#f0f921"
             ]
            ],
            "type": "heatmap"
           }
          ],
          "histogram": [
           {
            "marker": {
             "pattern": {
              "fillmode": "overlay",
              "size": 10,
              "solidity": 0.2
             }
            },
            "type": "histogram"
           }
          ],
          "histogram2d": [
           {
            "colorbar": {
             "outlinewidth": 0,
             "ticks": ""
            },
            "colorscale": [
             [
              0,
              "#0d0887"
             ],
             [
              0.1111111111111111,
              "#46039f"
             ],
             [
              0.2222222222222222,
              "#7201a8"
             ],
             [
              0.3333333333333333,
              "#9c179e"
             ],
             [
              0.4444444444444444,
              "#bd3786"
             ],
             [
              0.5555555555555556,
              "#d8576b"
             ],
             [
              0.6666666666666666,
              "#ed7953"
             ],
             [
              0.7777777777777778,
              "#fb9f3a"
             ],
             [
              0.8888888888888888,
              "#fdca26"
             ],
             [
              1,
              "#f0f921"
             ]
            ],
            "type": "histogram2d"
           }
          ],
          "histogram2dcontour": [
           {
            "colorbar": {
             "outlinewidth": 0,
             "ticks": ""
            },
            "colorscale": [
             [
              0,
              "#0d0887"
             ],
             [
              0.1111111111111111,
              "#46039f"
             ],
             [
              0.2222222222222222,
              "#7201a8"
             ],
             [
              0.3333333333333333,
              "#9c179e"
             ],
             [
              0.4444444444444444,
              "#bd3786"
             ],
             [
              0.5555555555555556,
              "#d8576b"
             ],
             [
              0.6666666666666666,
              "#ed7953"
             ],
             [
              0.7777777777777778,
              "#fb9f3a"
             ],
             [
              0.8888888888888888,
              "#fdca26"
             ],
             [
              1,
              "#f0f921"
             ]
            ],
            "type": "histogram2dcontour"
           }
          ],
          "mesh3d": [
           {
            "colorbar": {
             "outlinewidth": 0,
             "ticks": ""
            },
            "type": "mesh3d"
           }
          ],
          "parcoords": [
           {
            "line": {
             "colorbar": {
              "outlinewidth": 0,
              "ticks": ""
             }
            },
            "type": "parcoords"
           }
          ],
          "pie": [
           {
            "automargin": true,
            "type": "pie"
           }
          ],
          "scatter": [
           {
            "fillpattern": {
             "fillmode": "overlay",
             "size": 10,
             "solidity": 0.2
            },
            "type": "scatter"
           }
          ],
          "scatter3d": [
           {
            "line": {
             "colorbar": {
              "outlinewidth": 0,
              "ticks": ""
             }
            },
            "marker": {
             "colorbar": {
              "outlinewidth": 0,
              "ticks": ""
             }
            },
            "type": "scatter3d"
           }
          ],
          "scattercarpet": [
           {
            "marker": {
             "colorbar": {
              "outlinewidth": 0,
              "ticks": ""
             }
            },
            "type": "scattercarpet"
           }
          ],
          "scattergeo": [
           {
            "marker": {
             "colorbar": {
              "outlinewidth": 0,
              "ticks": ""
             }
            },
            "type": "scattergeo"
           }
          ],
          "scattergl": [
           {
            "marker": {
             "colorbar": {
              "outlinewidth": 0,
              "ticks": ""
             }
            },
            "type": "scattergl"
           }
          ],
          "scattermap": [
           {
            "marker": {
             "colorbar": {
              "outlinewidth": 0,
              "ticks": ""
             }
            },
            "type": "scattermap"
           }
          ],
          "scattermapbox": [
           {
            "marker": {
             "colorbar": {
              "outlinewidth": 0,
              "ticks": ""
             }
            },
            "type": "scattermapbox"
           }
          ],
          "scatterpolar": [
           {
            "marker": {
             "colorbar": {
              "outlinewidth": 0,
              "ticks": ""
             }
            },
            "type": "scatterpolar"
           }
          ],
          "scatterpolargl": [
           {
            "marker": {
             "colorbar": {
              "outlinewidth": 0,
              "ticks": ""
             }
            },
            "type": "scatterpolargl"
           }
          ],
          "scatterternary": [
           {
            "marker": {
             "colorbar": {
              "outlinewidth": 0,
              "ticks": ""
             }
            },
            "type": "scatterternary"
           }
          ],
          "surface": [
           {
            "colorbar": {
             "outlinewidth": 0,
             "ticks": ""
            },
            "colorscale": [
             [
              0,
              "#0d0887"
             ],
             [
              0.1111111111111111,
              "#46039f"
             ],
             [
              0.2222222222222222,
              "#7201a8"
             ],
             [
              0.3333333333333333,
              "#9c179e"
             ],
             [
              0.4444444444444444,
              "#bd3786"
             ],
             [
              0.5555555555555556,
              "#d8576b"
             ],
             [
              0.6666666666666666,
              "#ed7953"
             ],
             [
              0.7777777777777778,
              "#fb9f3a"
             ],
             [
              0.8888888888888888,
              "#fdca26"
             ],
             [
              1,
              "#f0f921"
             ]
            ],
            "type": "surface"
           }
          ],
          "table": [
           {
            "cells": {
             "fill": {
              "color": "#EBF0F8"
             },
             "line": {
              "color": "white"
             }
            },
            "header": {
             "fill": {
              "color": "#C8D4E3"
             },
             "line": {
              "color": "white"
             }
            },
            "type": "table"
           }
          ]
         },
         "layout": {
          "annotationdefaults": {
           "arrowcolor": "#2a3f5f",
           "arrowhead": 0,
           "arrowwidth": 1
          },
          "autotypenumbers": "strict",
          "coloraxis": {
           "colorbar": {
            "outlinewidth": 0,
            "ticks": ""
           }
          },
          "colorscale": {
           "diverging": [
            [
             0,
             "#8e0152"
            ],
            [
             0.1,
             "#c51b7d"
            ],
            [
             0.2,
             "#de77ae"
            ],
            [
             0.3,
             "#f1b6da"
            ],
            [
             0.4,
             "#fde0ef"
            ],
            [
             0.5,
             "#f7f7f7"
            ],
            [
             0.6,
             "#e6f5d0"
            ],
            [
             0.7,
             "#b8e186"
            ],
            [
             0.8,
             "#7fbc41"
            ],
            [
             0.9,
             "#4d9221"
            ],
            [
             1,
             "#276419"
            ]
           ],
           "sequential": [
            [
             0,
             "#0d0887"
            ],
            [
             0.1111111111111111,
             "#46039f"
            ],
            [
             0.2222222222222222,
             "#7201a8"
            ],
            [
             0.3333333333333333,
             "#9c179e"
            ],
            [
             0.4444444444444444,
             "#bd3786"
            ],
            [
             0.5555555555555556,
             "#d8576b"
            ],
            [
             0.6666666666666666,
             "#ed7953"
            ],
            [
             0.7777777777777778,
             "#fb9f3a"
            ],
            [
             0.8888888888888888,
             "#fdca26"
            ],
            [
             1,
             "#f0f921"
            ]
           ],
           "sequentialminus": [
            [
             0,
             "#0d0887"
            ],
            [
             0.1111111111111111,
             "#46039f"
            ],
            [
             0.2222222222222222,
             "#7201a8"
            ],
            [
             0.3333333333333333,
             "#9c179e"
            ],
            [
             0.4444444444444444,
             "#bd3786"
            ],
            [
             0.5555555555555556,
             "#d8576b"
            ],
            [
             0.6666666666666666,
             "#ed7953"
            ],
            [
             0.7777777777777778,
             "#fb9f3a"
            ],
            [
             0.8888888888888888,
             "#fdca26"
            ],
            [
             1,
             "#f0f921"
            ]
           ]
          },
          "colorway": [
           "#636efa",
           "#EF553B",
           "#00cc96",
           "#ab63fa",
           "#FFA15A",
           "#19d3f3",
           "#FF6692",
           "#B6E880",
           "#FF97FF",
           "#FECB52"
          ],
          "font": {
           "color": "#2a3f5f"
          },
          "geo": {
           "bgcolor": "white",
           "lakecolor": "white",
           "landcolor": "#E5ECF6",
           "showlakes": true,
           "showland": true,
           "subunitcolor": "white"
          },
          "hoverlabel": {
           "align": "left"
          },
          "hovermode": "closest",
          "mapbox": {
           "style": "light"
          },
          "paper_bgcolor": "white",
          "plot_bgcolor": "#E5ECF6",
          "polar": {
           "angularaxis": {
            "gridcolor": "white",
            "linecolor": "white",
            "ticks": ""
           },
           "bgcolor": "#E5ECF6",
           "radialaxis": {
            "gridcolor": "white",
            "linecolor": "white",
            "ticks": ""
           }
          },
          "scene": {
           "xaxis": {
            "backgroundcolor": "#E5ECF6",
            "gridcolor": "white",
            "gridwidth": 2,
            "linecolor": "white",
            "showbackground": true,
            "ticks": "",
            "zerolinecolor": "white"
           },
           "yaxis": {
            "backgroundcolor": "#E5ECF6",
            "gridcolor": "white",
            "gridwidth": 2,
            "linecolor": "white",
            "showbackground": true,
            "ticks": "",
            "zerolinecolor": "white"
           },
           "zaxis": {
            "backgroundcolor": "#E5ECF6",
            "gridcolor": "white",
            "gridwidth": 2,
            "linecolor": "white",
            "showbackground": true,
            "ticks": "",
            "zerolinecolor": "white"
           }
          },
          "shapedefaults": {
           "line": {
            "color": "#2a3f5f"
           }
          },
          "ternary": {
           "aaxis": {
            "gridcolor": "white",
            "linecolor": "white",
            "ticks": ""
           },
           "baxis": {
            "gridcolor": "white",
            "linecolor": "white",
            "ticks": ""
           },
           "bgcolor": "#E5ECF6",
           "caxis": {
            "gridcolor": "white",
            "linecolor": "white",
            "ticks": ""
           }
          },
          "title": {
           "x": 0.05
          },
          "xaxis": {
           "automargin": true,
           "gridcolor": "white",
           "linecolor": "white",
           "ticks": "",
           "title": {
            "standoff": 15
           },
           "zerolinecolor": "white",
           "zerolinewidth": 2
          },
          "yaxis": {
           "automargin": true,
           "gridcolor": "white",
           "linecolor": "white",
           "ticks": "",
           "title": {
            "standoff": 15
           },
           "zerolinecolor": "white",
           "zerolinewidth": 2
          }
         }
        },
        "title": {
         "font": {
          "size": 16
         },
         "text": "Distribuição de Credit Score por Número de Filhos",
         "x": 0.5,
         "xanchor": "center"
        },
        "width": 900,
        "xaxis": {
         "anchor": "y",
         "domain": [
          0,
          1
         ],
         "showgrid": false,
         "title": {
          "text": "Número de Filhos"
         },
         "type": "category"
        },
        "yaxis": {
         "anchor": "x",
         "domain": [
          0,
          1
         ],
         "gridcolor": "lightgray",
         "gridwidth": 1,
         "showgrid": true,
         "title": {
          "text": "Quantidade de Pessoas"
         }
        }
       }
      }
     },
     "metadata": {},
     "output_type": "display_data"
    }
   ],
   "source": [
    "contingency_table_NB = pd.crosstab(df['Number of Children'], df['Credit Score'])\n",
    "contingency_table_NB = contingency_table_NB.reindex(columns=['Low', 'Medium', 'High'], fill_value=0)\n",
    "\n",
    "df_melted = contingency_table_NB.reset_index().melt(\n",
    "    id_vars=['Number of Children'],\n",
    "    var_name='Credit Score',\n",
    "    value_name='Quantidade'\n",
    ")\n",
    "\n",
    "# Criar gráfico de barras agrupadas\n",
    "fig = px.bar(df_melted, \n",
    "             x='Number of Children', \n",
    "             y='Quantidade',\n",
    "             color='Credit Score',\n",
    "             title='Distribuição de Credit Score por Número de Filhos',\n",
    "             labels={'Number of Children': 'Número de Filhos', 'Quantidade': 'Quantidade de Pessoas'},\n",
    "             color_discrete_sequence=['#45B7D1', '#4ECDC4', '#FF6B6B'],\n",
    "             barmode='group')\n",
    "\n",
    "# Personalizar layout\n",
    "fig.update_layout(\n",
    "    title={\n",
    "        'text': 'Distribuição de Credit Score por Número de Filhos',\n",
    "        'x': 0.5,\n",
    "        'xanchor': 'center',\n",
    "        'font': {'size': 16}\n",
    "    },\n",
    "    xaxis_title='Número de Filhos',\n",
    "    yaxis_title='Quantidade de Pessoas',\n",
    "    width=900,\n",
    "    height=600,\n",
    "    plot_bgcolor='white',\n",
    "    xaxis=dict(type='category')  # Tratar como categorias para melhor visualização\n",
    ")\n",
    "\n",
    "# Adicionar grid\n",
    "fig.update_yaxes(showgrid=True, gridwidth=1, gridcolor='lightgray')\n",
    "fig.update_xaxes(showgrid=False)\n",
    "\n",
    "# Personalizar hover\n",
    "fig.update_traces(\n",
    "    hovertemplate='<b>Filhos:</b> %{x}<br><b>Credit Score:</b> %{fullData.name}<br><b>Quantidade:</b> %{y}<extra></extra>'\n",
    ")\n",
    "\n",
    "fig.show()\n"
   ]
  },
  {
   "cell_type": "code",
   "execution_count": 28,
   "id": "a820b3f3",
   "metadata": {},
   "outputs": [
    {
     "data": {
      "application/vnd.plotly.v1+json": {
       "config": {
        "plotlyServerURL": "https://plot.ly"
       },
       "data": [
        {
         "alignmentgroup": "True",
         "hovertemplate": "<b>Credit Score:</b> %{x}<br><b>Filhos:</b> %{fullData.name}<br><b>Quantidade:</b> %{y}<extra></extra>",
         "legendgroup": "0",
         "marker": {
          "color": "rgb(141,211,199)",
          "pattern": {
           "shape": ""
          }
         },
         "name": "0",
         "offsetgroup": "0",
         "orientation": "v",
         "showlegend": true,
         "textposition": "auto",
         "type": "bar",
         "x": [
          null,
          "High",
          "Low"
         ],
         "xaxis": "x",
         "y": {
          "bdata": "IjAP",
          "dtype": "i1"
         },
         "yaxis": "y"
        },
        {
         "alignmentgroup": "True",
         "hovertemplate": "<b>Credit Score:</b> %{x}<br><b>Filhos:</b> %{fullData.name}<br><b>Quantidade:</b> %{y}<extra></extra>",
         "legendgroup": "1",
         "marker": {
          "color": "rgb(255,255,179)",
          "pattern": {
           "shape": ""
          }
         },
         "name": "1",
         "offsetgroup": "1",
         "orientation": "v",
         "showlegend": true,
         "textposition": "auto",
         "type": "bar",
         "x": [
          null,
          "High",
          "Low"
         ],
         "xaxis": "x",
         "y": {
          "bdata": "AR8A",
          "dtype": "i1"
         },
         "yaxis": "y"
        },
        {
         "alignmentgroup": "True",
         "hovertemplate": "<b>Credit Score:</b> %{x}<br><b>Filhos:</b> %{fullData.name}<br><b>Quantidade:</b> %{y}<extra></extra>",
         "legendgroup": "2",
         "marker": {
          "color": "rgb(190,186,218)",
          "pattern": {
           "shape": ""
          }
         },
         "name": "2",
         "offsetgroup": "2",
         "orientation": "v",
         "showlegend": true,
         "textposition": "auto",
         "type": "bar",
         "x": [
          null,
          "High",
          "Low"
         ],
         "xaxis": "x",
         "y": {
          "bdata": "AR0A",
          "dtype": "i1"
         },
         "yaxis": "y"
        },
        {
         "alignmentgroup": "True",
         "hovertemplate": "<b>Credit Score:</b> %{x}<br><b>Filhos:</b> %{fullData.name}<br><b>Quantidade:</b> %{y}<extra></extra>",
         "legendgroup": "3",
         "marker": {
          "color": "rgb(251,128,114)",
          "pattern": {
           "shape": ""
          }
         },
         "name": "3",
         "offsetgroup": "3",
         "orientation": "v",
         "showlegend": true,
         "textposition": "auto",
         "type": "bar",
         "x": [
          null,
          "High",
          "Low"
         ],
         "xaxis": "x",
         "y": {
          "bdata": "AAUA",
          "dtype": "i1"
         },
         "yaxis": "y"
        }
       ],
       "layout": {
        "barmode": "group",
        "height": 600,
        "legend": {
         "title": {
          "text": "Número de Filhos"
         },
         "tracegroupgap": 0
        },
        "plot_bgcolor": "white",
        "template": {
         "data": {
          "bar": [
           {
            "error_x": {
             "color": "#2a3f5f"
            },
            "error_y": {
             "color": "#2a3f5f"
            },
            "marker": {
             "line": {
              "color": "#E5ECF6",
              "width": 0.5
             },
             "pattern": {
              "fillmode": "overlay",
              "size": 10,
              "solidity": 0.2
             }
            },
            "type": "bar"
           }
          ],
          "barpolar": [
           {
            "marker": {
             "line": {
              "color": "#E5ECF6",
              "width": 0.5
             },
             "pattern": {
              "fillmode": "overlay",
              "size": 10,
              "solidity": 0.2
             }
            },
            "type": "barpolar"
           }
          ],
          "carpet": [
           {
            "aaxis": {
             "endlinecolor": "#2a3f5f",
             "gridcolor": "white",
             "linecolor": "white",
             "minorgridcolor": "white",
             "startlinecolor": "#2a3f5f"
            },
            "baxis": {
             "endlinecolor": "#2a3f5f",
             "gridcolor": "white",
             "linecolor": "white",
             "minorgridcolor": "white",
             "startlinecolor": "#2a3f5f"
            },
            "type": "carpet"
           }
          ],
          "choropleth": [
           {
            "colorbar": {
             "outlinewidth": 0,
             "ticks": ""
            },
            "type": "choropleth"
           }
          ],
          "contour": [
           {
            "colorbar": {
             "outlinewidth": 0,
             "ticks": ""
            },
            "colorscale": [
             [
              0,
              "#0d0887"
             ],
             [
              0.1111111111111111,
              "#46039f"
             ],
             [
              0.2222222222222222,
              "#7201a8"
             ],
             [
              0.3333333333333333,
              "#9c179e"
             ],
             [
              0.4444444444444444,
              "#bd3786"
             ],
             [
              0.5555555555555556,
              "#d8576b"
             ],
             [
              0.6666666666666666,
              "#ed7953"
             ],
             [
              0.7777777777777778,
              "#fb9f3a"
             ],
             [
              0.8888888888888888,
              "#fdca26"
             ],
             [
              1,
              "#f0f921"
             ]
            ],
            "type": "contour"
           }
          ],
          "contourcarpet": [
           {
            "colorbar": {
             "outlinewidth": 0,
             "ticks": ""
            },
            "type": "contourcarpet"
           }
          ],
          "heatmap": [
           {
            "colorbar": {
             "outlinewidth": 0,
             "ticks": ""
            },
            "colorscale": [
             [
              0,
              "#0d0887"
             ],
             [
              0.1111111111111111,
              "#46039f"
             ],
             [
              0.2222222222222222,
              "#7201a8"
             ],
             [
              0.3333333333333333,
              "#9c179e"
             ],
             [
              0.4444444444444444,
              "#bd3786"
             ],
             [
              0.5555555555555556,
              "#d8576b"
             ],
             [
              0.6666666666666666,
              "#ed7953"
             ],
             [
              0.7777777777777778,
              "#fb9f3a"
             ],
             [
              0.8888888888888888,
              "#fdca26"
             ],
             [
              1,
              "#f0f921"
             ]
            ],
            "type": "heatmap"
           }
          ],
          "histogram": [
           {
            "marker": {
             "pattern": {
              "fillmode": "overlay",
              "size": 10,
              "solidity": 0.2
             }
            },
            "type": "histogram"
           }
          ],
          "histogram2d": [
           {
            "colorbar": {
             "outlinewidth": 0,
             "ticks": ""
            },
            "colorscale": [
             [
              0,
              "#0d0887"
             ],
             [
              0.1111111111111111,
              "#46039f"
             ],
             [
              0.2222222222222222,
              "#7201a8"
             ],
             [
              0.3333333333333333,
              "#9c179e"
             ],
             [
              0.4444444444444444,
              "#bd3786"
             ],
             [
              0.5555555555555556,
              "#d8576b"
             ],
             [
              0.6666666666666666,
              "#ed7953"
             ],
             [
              0.7777777777777778,
              "#fb9f3a"
             ],
             [
              0.8888888888888888,
              "#fdca26"
             ],
             [
              1,
              "#f0f921"
             ]
            ],
            "type": "histogram2d"
           }
          ],
          "histogram2dcontour": [
           {
            "colorbar": {
             "outlinewidth": 0,
             "ticks": ""
            },
            "colorscale": [
             [
              0,
              "#0d0887"
             ],
             [
              0.1111111111111111,
              "#46039f"
             ],
             [
              0.2222222222222222,
              "#7201a8"
             ],
             [
              0.3333333333333333,
              "#9c179e"
             ],
             [
              0.4444444444444444,
              "#bd3786"
             ],
             [
              0.5555555555555556,
              "#d8576b"
             ],
             [
              0.6666666666666666,
              "#ed7953"
             ],
             [
              0.7777777777777778,
              "#fb9f3a"
             ],
             [
              0.8888888888888888,
              "#fdca26"
             ],
             [
              1,
              "#f0f921"
             ]
            ],
            "type": "histogram2dcontour"
           }
          ],
          "mesh3d": [
           {
            "colorbar": {
             "outlinewidth": 0,
             "ticks": ""
            },
            "type": "mesh3d"
           }
          ],
          "parcoords": [
           {
            "line": {
             "colorbar": {
              "outlinewidth": 0,
              "ticks": ""
             }
            },
            "type": "parcoords"
           }
          ],
          "pie": [
           {
            "automargin": true,
            "type": "pie"
           }
          ],
          "scatter": [
           {
            "fillpattern": {
             "fillmode": "overlay",
             "size": 10,
             "solidity": 0.2
            },
            "type": "scatter"
           }
          ],
          "scatter3d": [
           {
            "line": {
             "colorbar": {
              "outlinewidth": 0,
              "ticks": ""
             }
            },
            "marker": {
             "colorbar": {
              "outlinewidth": 0,
              "ticks": ""
             }
            },
            "type": "scatter3d"
           }
          ],
          "scattercarpet": [
           {
            "marker": {
             "colorbar": {
              "outlinewidth": 0,
              "ticks": ""
             }
            },
            "type": "scattercarpet"
           }
          ],
          "scattergeo": [
           {
            "marker": {
             "colorbar": {
              "outlinewidth": 0,
              "ticks": ""
             }
            },
            "type": "scattergeo"
           }
          ],
          "scattergl": [
           {
            "marker": {
             "colorbar": {
              "outlinewidth": 0,
              "ticks": ""
             }
            },
            "type": "scattergl"
           }
          ],
          "scattermap": [
           {
            "marker": {
             "colorbar": {
              "outlinewidth": 0,
              "ticks": ""
             }
            },
            "type": "scattermap"
           }
          ],
          "scattermapbox": [
           {
            "marker": {
             "colorbar": {
              "outlinewidth": 0,
              "ticks": ""
             }
            },
            "type": "scattermapbox"
           }
          ],
          "scatterpolar": [
           {
            "marker": {
             "colorbar": {
              "outlinewidth": 0,
              "ticks": ""
             }
            },
            "type": "scatterpolar"
           }
          ],
          "scatterpolargl": [
           {
            "marker": {
             "colorbar": {
              "outlinewidth": 0,
              "ticks": ""
             }
            },
            "type": "scatterpolargl"
           }
          ],
          "scatterternary": [
           {
            "marker": {
             "colorbar": {
              "outlinewidth": 0,
              "ticks": ""
             }
            },
            "type": "scatterternary"
           }
          ],
          "surface": [
           {
            "colorbar": {
             "outlinewidth": 0,
             "ticks": ""
            },
            "colorscale": [
             [
              0,
              "#0d0887"
             ],
             [
              0.1111111111111111,
              "#46039f"
             ],
             [
              0.2222222222222222,
              "#7201a8"
             ],
             [
              0.3333333333333333,
              "#9c179e"
             ],
             [
              0.4444444444444444,
              "#bd3786"
             ],
             [
              0.5555555555555556,
              "#d8576b"
             ],
             [
              0.6666666666666666,
              "#ed7953"
             ],
             [
              0.7777777777777778,
              "#fb9f3a"
             ],
             [
              0.8888888888888888,
              "#fdca26"
             ],
             [
              1,
              "#f0f921"
             ]
            ],
            "type": "surface"
           }
          ],
          "table": [
           {
            "cells": {
             "fill": {
              "color": "#EBF0F8"
             },
             "line": {
              "color": "white"
             }
            },
            "header": {
             "fill": {
              "color": "#C8D4E3"
             },
             "line": {
              "color": "white"
             }
            },
            "type": "table"
           }
          ]
         },
         "layout": {
          "annotationdefaults": {
           "arrowcolor": "#2a3f5f",
           "arrowhead": 0,
           "arrowwidth": 1
          },
          "autotypenumbers": "strict",
          "coloraxis": {
           "colorbar": {
            "outlinewidth": 0,
            "ticks": ""
           }
          },
          "colorscale": {
           "diverging": [
            [
             0,
             "#8e0152"
            ],
            [
             0.1,
             "#c51b7d"
            ],
            [
             0.2,
             "#de77ae"
            ],
            [
             0.3,
             "#f1b6da"
            ],
            [
             0.4,
             "#fde0ef"
            ],
            [
             0.5,
             "#f7f7f7"
            ],
            [
             0.6,
             "#e6f5d0"
            ],
            [
             0.7,
             "#b8e186"
            ],
            [
             0.8,
             "#7fbc41"
            ],
            [
             0.9,
             "#4d9221"
            ],
            [
             1,
             "#276419"
            ]
           ],
           "sequential": [
            [
             0,
             "#0d0887"
            ],
            [
             0.1111111111111111,
             "#46039f"
            ],
            [
             0.2222222222222222,
             "#7201a8"
            ],
            [
             0.3333333333333333,
             "#9c179e"
            ],
            [
             0.4444444444444444,
             "#bd3786"
            ],
            [
             0.5555555555555556,
             "#d8576b"
            ],
            [
             0.6666666666666666,
             "#ed7953"
            ],
            [
             0.7777777777777778,
             "#fb9f3a"
            ],
            [
             0.8888888888888888,
             "#fdca26"
            ],
            [
             1,
             "#f0f921"
            ]
           ],
           "sequentialminus": [
            [
             0,
             "#0d0887"
            ],
            [
             0.1111111111111111,
             "#46039f"
            ],
            [
             0.2222222222222222,
             "#7201a8"
            ],
            [
             0.3333333333333333,
             "#9c179e"
            ],
            [
             0.4444444444444444,
             "#bd3786"
            ],
            [
             0.5555555555555556,
             "#d8576b"
            ],
            [
             0.6666666666666666,
             "#ed7953"
            ],
            [
             0.7777777777777778,
             "#fb9f3a"
            ],
            [
             0.8888888888888888,
             "#fdca26"
            ],
            [
             1,
             "#f0f921"
            ]
           ]
          },
          "colorway": [
           "#636efa",
           "#EF553B",
           "#00cc96",
           "#ab63fa",
           "#FFA15A",
           "#19d3f3",
           "#FF6692",
           "#B6E880",
           "#FF97FF",
           "#FECB52"
          ],
          "font": {
           "color": "#2a3f5f"
          },
          "geo": {
           "bgcolor": "white",
           "lakecolor": "white",
           "landcolor": "#E5ECF6",
           "showlakes": true,
           "showland": true,
           "subunitcolor": "white"
          },
          "hoverlabel": {
           "align": "left"
          },
          "hovermode": "closest",
          "mapbox": {
           "style": "light"
          },
          "paper_bgcolor": "white",
          "plot_bgcolor": "#E5ECF6",
          "polar": {
           "angularaxis": {
            "gridcolor": "white",
            "linecolor": "white",
            "ticks": ""
           },
           "bgcolor": "#E5ECF6",
           "radialaxis": {
            "gridcolor": "white",
            "linecolor": "white",
            "ticks": ""
           }
          },
          "scene": {
           "xaxis": {
            "backgroundcolor": "#E5ECF6",
            "gridcolor": "white",
            "gridwidth": 2,
            "linecolor": "white",
            "showbackground": true,
            "ticks": "",
            "zerolinecolor": "white"
           },
           "yaxis": {
            "backgroundcolor": "#E5ECF6",
            "gridcolor": "white",
            "gridwidth": 2,
            "linecolor": "white",
            "showbackground": true,
            "ticks": "",
            "zerolinecolor": "white"
           },
           "zaxis": {
            "backgroundcolor": "#E5ECF6",
            "gridcolor": "white",
            "gridwidth": 2,
            "linecolor": "white",
            "showbackground": true,
            "ticks": "",
            "zerolinecolor": "white"
           }
          },
          "shapedefaults": {
           "line": {
            "color": "#2a3f5f"
           }
          },
          "ternary": {
           "aaxis": {
            "gridcolor": "white",
            "linecolor": "white",
            "ticks": ""
           },
           "baxis": {
            "gridcolor": "white",
            "linecolor": "white",
            "ticks": ""
           },
           "bgcolor": "#E5ECF6",
           "caxis": {
            "gridcolor": "white",
            "linecolor": "white",
            "ticks": ""
           }
          },
          "title": {
           "x": 0.05
          },
          "xaxis": {
           "automargin": true,
           "gridcolor": "white",
           "linecolor": "white",
           "ticks": "",
           "title": {
            "standoff": 15
           },
           "zerolinecolor": "white",
           "zerolinewidth": 2
          },
          "yaxis": {
           "automargin": true,
           "gridcolor": "white",
           "linecolor": "white",
           "ticks": "",
           "title": {
            "standoff": 15
           },
           "zerolinecolor": "white",
           "zerolinewidth": 2
          }
         }
        },
        "title": {
         "font": {
          "size": 16
         },
         "text": "Distribuição do Número de Filhos por Credit Score",
         "x": 0.5,
         "xanchor": "center"
        },
        "width": 900,
        "xaxis": {
         "anchor": "y",
         "categoryarray": [
          "Low",
          "Medium",
          "High"
         ],
         "categoryorder": "array",
         "domain": [
          0,
          1
         ],
         "showgrid": false,
         "title": {
          "text": "Credit Score"
         }
        },
        "yaxis": {
         "anchor": "x",
         "domain": [
          0,
          1
         ],
         "gridcolor": "lightgray",
         "gridwidth": 1,
         "showgrid": true,
         "title": {
          "text": "Quantidade de Pessoas"
         }
        }
       }
      }
     },
     "metadata": {},
     "output_type": "display_data"
    }
   ],
   "source": [
    "# Criar tabela de contingência (invertida para o novo layout)\n",
    "contingency_table_NB = pd.crosstab(df['Credit Score'], df['Number of Children'])\n",
    "\n",
    "# Preparar dados para o gráfico com eixos invertidos\n",
    "df_melted = contingency_table_NB.reset_index().melt(\n",
    "    id_vars=['Credit Score'],\n",
    "    var_name='Number of Children',\n",
    "    value_name='Quantidade'\n",
    ")\n",
    "\n",
    "# Definir ordem lógica do Credit Score\n",
    "credit_order = ['Low', 'Medium', 'High']\n",
    "df_melted['Credit Score'] = pd.Categorical(df_melted['Credit Score'], categories=credit_order, ordered=True)\n",
    "\n",
    "# Criar gráfico de barras agrupadas com eixos invertidos\n",
    "fig = px.bar(df_melted, \n",
    "             x='Credit Score',  # Agora Credit Score está no eixo X\n",
    "             y='Quantidade',\n",
    "             color='Number of Children',  # Number of Children agora é a variável de cor\n",
    "             title='Distribuição do Número de Filhos por Credit Score',\n",
    "             labels={'Credit Score': 'Credit Score', 'Quantidade': 'Quantidade de Pessoas', 'Number of Children': 'Número de Filhos'},\n",
    "             color_discrete_sequence=px.colors.qualitative.Set3,\n",
    "             barmode='group',\n",
    "             category_orders={'Credit Score': credit_order})\n",
    "\n",
    "# Personalizar layout\n",
    "fig.update_layout(\n",
    "    title={\n",
    "        'text': 'Distribuição do Número de Filhos por Credit Score',\n",
    "        'x': 0.5,\n",
    "        'xanchor': 'center',\n",
    "        'font': {'size': 16}\n",
    "    },\n",
    "    xaxis_title='Credit Score',\n",
    "    yaxis_title='Quantidade de Pessoas',\n",
    "    width=900,\n",
    "    height=600,\n",
    "    plot_bgcolor='white'\n",
    ")\n",
    "\n",
    "# Adicionar grid\n",
    "fig.update_yaxes(showgrid=True, gridwidth=1, gridcolor='lightgray')\n",
    "fig.update_xaxes(showgrid=False)\n",
    "\n",
    "# Personalizar hover\n",
    "fig.update_traces(\n",
    "    hovertemplate='<b>Credit Score:</b> %{x}<br><b>Filhos:</b> %{fullData.name}<br><b>Quantidade:</b> %{y}<extra></extra>'\n",
    ")\n",
    "\n",
    "fig.show()"
   ]
  },
  {
   "cell_type": "markdown",
   "id": "a212dc52",
   "metadata": {},
   "source": [
    "#### 3.2.7 Number of Children e Income"
   ]
  },
  {
   "cell_type": "code",
   "execution_count": 29,
   "id": "c2f802ad",
   "metadata": {},
   "outputs": [
    {
     "data": {
      "application/vnd.plotly.v1+json": {
       "config": {
        "plotlyServerURL": "https://plot.ly"
       },
       "data": [
        {
         "customdata": {
          "bdata": "AAIBAAMAAAACAAEAAAACAAEAAAACAAEAAAACAAEAAgEAAwAAAAIAAQAAAAIAAQAAAAIAAQAAAAIAAQACAQACAQADAAAAAgABAAAAAgABAAAAAgABAAAAAgABAAIBAAIBAAMAAAACAAEAAAACAAEAAAACAAEAAAACAAEAAgEAAgEAAQABAAIBAAIBAAMAAAACAAEAAAACAAEAAAACAAEAAAACAAE=",
          "dtype": "i1"
         },
         "hovertemplate": "<b>Filhos:</b> %{customdata}<br><b>Renda:</b> %{y:,.0f}<extra></extra>",
         "legendgroup": "",
         "marker": {
          "color": "#FFA600",
          "opacity": 0.6,
          "symbol": "circle"
         },
         "mode": "markers",
         "name": "",
         "orientation": "v",
         "showlegend": false,
         "type": "scatter",
         "x": {
          "bdata": "AAIBAAMAAAACAAEAAAACAAEAAAACAAEAAAACAAEAAgEAAwAAAAIAAQAAAAIAAQAAAAIAAQAAAAIAAQACAQACAQADAAAAAgABAAAAAgABAAAAAgABAAAAAgABAAIBAAIBAAMAAAACAAEAAAACAAEAAAACAAEAAAACAAEAAgEAAgEAAQABAAIBAAIBAAMAAAACAAEAAAACAAEAAAACAAEAAAACAAE=",
          "dtype": "i1"
         },
         "xaxis": "x",
         "y": {
          "bdata": "AAAAAABq6EAAAAAAAGr4QAAAAACAT/JAAAAAAICE/kAAAAAAAGr4QAAAAACATwJBAAAAAACI40AAAAAAAEztQAAAAAAAiPNAAAAAAICi+UAAAAAAAPn1QAAAAADAegBBAAAAAAAX4UAAAAAAANvqQAAAAAAAF/FAAAAAAIAx90AAAAAAgMD0QAAAAACAhP5AAAAAAABM3UAAAAAAAGroQAAAAAAAve9AAAAAAACI80AAAAAAABfxQAAAAACAE/xAAAAAAABq2EAAAAAAAPnlQAAAAAAATO1AAAAAAIBP8kAAAAAAAL3vQAAAAAAA2+pAAAAAAICi+UAAAAAAAIjzQAAAAAAAvf9AAAAAAICi+UAAAAAAwOsCQQAAAAAA+eVAAAAAAAC970AAAAAAgMD0QAAAAAAA2/pAAAAAAIAx90AAAAAAABcBQQAAAACAT+JAAAAAAIAT7EAAAAAAQLPxQAAAAAAAavhAAAAAAAD59UAAAAAAAL3/QAAAAAAAvd9AAAAAAICi6UAAAAAAwHrwQAAAAABAlfZAAAAAAEAk9EAAAAAAQOj9QAAAAAAA29pAAAAAAIAx50AAAAAAgITuQAAAAADAXPVAAAAAAMDr8kAAAAAAgBPsQAAAAABAd/tAAAAAAIDA9EAAAAAAAEztQAAAAADAr/xAAAAAAAD59UAAAAAAIGUBQQAAAAAA2/pAAAAAAACIA0EAAAAAgDHnQAAAAADAevBAAAAAAAD59UAAAAAAgBP8QAAAAADAzfdAAAAAAECzAUEAAAAAgE/iQAAAAACAE+xAAAAAAIBP8kAAAAAAgKL5QAAAAACAMfdAAAAAAMB6AEEAAAAAAL3fQAAAAACAoulAAAAAAMB68EAAAAAAQJX2QAAAAACAwPRAAAAAAICE/kAAAAAAANvaQAAAAACAMedAAAAAAICE7kAAAAAAwFz1QAAAAADA6/JAAAAAAIAT7EAAAAAAQHf7QAAAAACAwPRAAAAAAICE7kAAAAAAwK/8QAAAAAAA+fVAAAAAACBlAUEAAAAAgBP8QAAAAAAg1gNBAAAAAABq6EAAAAAAABfxQAAAAACAMfdAAAAAAABM/UAAAAAAQAb5QAAAAACATwJBAAAAAIBP4kAAAAAAgBPsQAAAAADA6/JAAAAAAADb+kAAAAAAwM33QAAAAADgyABBAAAAAAC930AAAAAAgKLpQAAAAADAevBAAAAAAIAx90AAAAAAwFz1QAAAAADAIP9AAAAAAADb2kAAAAAAgDHnQAAAAACAhO5AAAAAAMBc9UAAAAAAwOvyQAAAAACAE+xAAAAAAEB3+0AAAAAAgMD0QAAAAAAATO1AAAAAAMCv/EAAAAAAAPn1QAAAAACAT/JAAAAAAAAF9EAAAAAAgDH3QAAAAAAA2+pAAAAAAIDA9EAAAAAAAJrwQAAAAACAovlAAAAAAADb6kAAAAAAgKL5QAAAAAAAiPNAAAAAAAC9/0AAAAAAgKL5QAAAAADA6wJBAAAAAAD55UAAAAAAAL3vQAAAAACAwPRAAAAAAADb+kAAAAAAgDH3QAAAAAAAFwFBAAAAAIBP4kAAAAAAgBPsQAAAAABAs/FAAAAAAABq+EAAAAAAAPn1QAAAAAAAvf9AAAAAAAC930AAAAAAgKLpQAAAAADAevBAAAAAAECV9kAAAAAAQCT0QAAAAABA6P1AAAAAAADb2kAAAAAAgDHnQAAAAACAhO5AAAAAAMBc9UAAAAAAwOvyQA==",
          "dtype": "f8"
         },
         "yaxis": "y"
        },
        {
         "line": {
          "color": "red",
          "width": 3
         },
         "mode": "lines",
         "name": "Linha de Tendência",
         "type": "scatter",
         "x": {
          "bdata": "AAAAAAAAAAAIH3zwwQefPwgffPDBB68/RhdddNFFtz8IH3zwwQe/P2WTTTbZZMM/RhdddNFFxz8nm2yyySbLPwgffPDBB88/dNFFF1100T9lk0022WTTP1ZVVVVVVdU/RhdddNFF1z822WSTTTbZPyebbLLJJts/GF100UUX3T8IH3zwwQffP3zwwQcffOA/dNFFF1104T9tsskmm2ziP2WTTTbZZOM/XXTRRRdd5D9WVVVVVVXlP0422WSTTeY/RhdddNFF5z8++OCDDz7oPzbZZJNNNuk/L7rooosu6j8nm2yyySbrPx988MEHH+w/GF100UUX7T8QPvjggw/uPwgffPDBB+8/AAAAAAAA8D988MEHH3zwP/jggw8++PA/dNFFF1108T/xwQcffPDxP22yySabbPI/6aKLLrro8j9lk0022WTzP+GDDz744PM/XXTRRRdd9D/ZZJNNNtn0P1ZVVVVVVfU/0kUXXXTR9T9ONtlkk032P8omm2yyyfY/RhdddNFF9z/CBx988MH3Pz744IMPPvg/uuiiiy66+D822WSTTTb5P7PJJptssvk/L7rooosu+j+rqqqqqqr6PyebbLLJJvs/o4suuuii+z8ffPDBBx/8P5tssskmm/w/GF100UUX/T+UTTbZZJP9PxA++OCDD/4/jC666KKL/j8IH3zwwQf/P4QPPvjgg/8/AAAAAAAAAEA++OCDDz4AQHzwwQcffABAuuiiiy66AED44IMPPvgAQDbZZJNNNgFAdNFFF110AUCzySabbLIBQPHBBx988AFAL7rooosuAkBtsskmm2wCQKuqqqqqqgJA6aKLLrroAkAnm2yyySYDQGWTTTbZZANAo4suuuiiA0Dhgw8++OADQB988MEHHwRAXXTRRRddBECbbLLJJpsEQNlkk0022QRAF1100UUXBUBWVVVVVVUFQJRNNtlkkwVA0kUXXXTRBUAQPvjggw8GQE422WSTTQZAjC666KKLBkDKJptssskGQAgffPDBBwdARhdddNFFB0CEDz744IMHQMIHH3zwwQdAAAAAAAAACEA=",
          "dtype": "f8"
         },
         "y": {
          "bdata": "HjqAkKb080CuUhjFiPrzQD1rsPlqAPRAzYNILk0G9EBcnOBiLwz0QOy0eJcREvRAfM0QzPMX9EAL5qgA1h30QJv+QDW4I/RAKhfZaZop9EC6L3GefC/0QEpICdNeNfRA2WChB0E79EBpeTk8I0H0QPiR0XAFR/RAiKpppedM9EAXwwHayVL0QKfbmQ6sWPRAN/QxQ45e9EDGDMp3cGT0QFYlYqxSavRA5T364DRw9EB1VpIVF3b0QAVvKkr5e/RAlIfCftuB9EAkoFqzvYf0QLO48uefjfRAQ9GKHIKT9EDT6SJRZJn0QGICu4VGn/RA8hpTuiil9ECBM+vuCqv0QBFMgyPtsPRAoGQbWM+29EAwfbOMsbz0QMCVS8GTwvRAT67j9XXI9EDfxnsqWM70QG7fE1861PRA/verkxza9ECOEETI/t/0QB0p3Pzg5fRArUF0McPr9EA8WgxmpfH0QMxypJqH9/RAXIs8z2n99EDro9QDTAP1QHu8bDguCfVACtUEbRAP9UCa7Zyh8hT1QCoGNdbUGvVAuR7NCrcg9UBJN2U/mSb1QNhP/XN7LPVAaGiVqF0y9UD4gC3dPzj1QIeZxREiPvVAF7JdRgRE9UCmyvV65kn1QDbjja/IT/VAxvsl5KpV9UBVFL4YjVv1QOUsVk1vYfVAdEXugVFn9UAEXoa2M231QJN2HusVc/VAI4+2H/h49UCzp05U2n71QELA5oi8hPVA0th+vZ6K9UBh8RbygJD1QPEJryZjlvVAgCJHW0Wc9UAQO9+PJ6L1QKBTd8QJqPVAL2wP+eut9UC/hKctzrP1QE+dP2KwufVA3rXXlpK/9UBuzm/LdMX1QP3mBwBXy/VAjf+fNDnR9UAcGDhpG9f1QKww0J393PVAPElo0t/i9UDLYQAHwuj1QFt6mDuk7vVA6pIwcIb09UB6q8ikaPr1QArEYNlKAPZAmdz4DS0G9kAp9ZBCDwz2QLgNKXfxEfZASCbBq9MX9kDYPlngtR32QGdX8RSYI/ZA92+JSXop9kCGiCF+XC/2QBahubI+NfZAprlR5yA79kA=",
          "dtype": "f8"
         }
        }
       ],
       "layout": {
        "height": 600,
        "hovermode": "closest",
        "legend": {
         "tracegroupgap": 0
        },
        "plot_bgcolor": "white",
        "template": {
         "data": {
          "bar": [
           {
            "error_x": {
             "color": "#2a3f5f"
            },
            "error_y": {
             "color": "#2a3f5f"
            },
            "marker": {
             "line": {
              "color": "#E5ECF6",
              "width": 0.5
             },
             "pattern": {
              "fillmode": "overlay",
              "size": 10,
              "solidity": 0.2
             }
            },
            "type": "bar"
           }
          ],
          "barpolar": [
           {
            "marker": {
             "line": {
              "color": "#E5ECF6",
              "width": 0.5
             },
             "pattern": {
              "fillmode": "overlay",
              "size": 10,
              "solidity": 0.2
             }
            },
            "type": "barpolar"
           }
          ],
          "carpet": [
           {
            "aaxis": {
             "endlinecolor": "#2a3f5f",
             "gridcolor": "white",
             "linecolor": "white",
             "minorgridcolor": "white",
             "startlinecolor": "#2a3f5f"
            },
            "baxis": {
             "endlinecolor": "#2a3f5f",
             "gridcolor": "white",
             "linecolor": "white",
             "minorgridcolor": "white",
             "startlinecolor": "#2a3f5f"
            },
            "type": "carpet"
           }
          ],
          "choropleth": [
           {
            "colorbar": {
             "outlinewidth": 0,
             "ticks": ""
            },
            "type": "choropleth"
           }
          ],
          "contour": [
           {
            "colorbar": {
             "outlinewidth": 0,
             "ticks": ""
            },
            "colorscale": [
             [
              0,
              "#0d0887"
             ],
             [
              0.1111111111111111,
              "#46039f"
             ],
             [
              0.2222222222222222,
              "#7201a8"
             ],
             [
              0.3333333333333333,
              "#9c179e"
             ],
             [
              0.4444444444444444,
              "#bd3786"
             ],
             [
              0.5555555555555556,
              "#d8576b"
             ],
             [
              0.6666666666666666,
              "#ed7953"
             ],
             [
              0.7777777777777778,
              "#fb9f3a"
             ],
             [
              0.8888888888888888,
              "#fdca26"
             ],
             [
              1,
              "#f0f921"
             ]
            ],
            "type": "contour"
           }
          ],
          "contourcarpet": [
           {
            "colorbar": {
             "outlinewidth": 0,
             "ticks": ""
            },
            "type": "contourcarpet"
           }
          ],
          "heatmap": [
           {
            "colorbar": {
             "outlinewidth": 0,
             "ticks": ""
            },
            "colorscale": [
             [
              0,
              "#0d0887"
             ],
             [
              0.1111111111111111,
              "#46039f"
             ],
             [
              0.2222222222222222,
              "#7201a8"
             ],
             [
              0.3333333333333333,
              "#9c179e"
             ],
             [
              0.4444444444444444,
              "#bd3786"
             ],
             [
              0.5555555555555556,
              "#d8576b"
             ],
             [
              0.6666666666666666,
              "#ed7953"
             ],
             [
              0.7777777777777778,
              "#fb9f3a"
             ],
             [
              0.8888888888888888,
              "#fdca26"
             ],
             [
              1,
              "#f0f921"
             ]
            ],
            "type": "heatmap"
           }
          ],
          "histogram": [
           {
            "marker": {
             "pattern": {
              "fillmode": "overlay",
              "size": 10,
              "solidity": 0.2
             }
            },
            "type": "histogram"
           }
          ],
          "histogram2d": [
           {
            "colorbar": {
             "outlinewidth": 0,
             "ticks": ""
            },
            "colorscale": [
             [
              0,
              "#0d0887"
             ],
             [
              0.1111111111111111,
              "#46039f"
             ],
             [
              0.2222222222222222,
              "#7201a8"
             ],
             [
              0.3333333333333333,
              "#9c179e"
             ],
             [
              0.4444444444444444,
              "#bd3786"
             ],
             [
              0.5555555555555556,
              "#d8576b"
             ],
             [
              0.6666666666666666,
              "#ed7953"
             ],
             [
              0.7777777777777778,
              "#fb9f3a"
             ],
             [
              0.8888888888888888,
              "#fdca26"
             ],
             [
              1,
              "#f0f921"
             ]
            ],
            "type": "histogram2d"
           }
          ],
          "histogram2dcontour": [
           {
            "colorbar": {
             "outlinewidth": 0,
             "ticks": ""
            },
            "colorscale": [
             [
              0,
              "#0d0887"
             ],
             [
              0.1111111111111111,
              "#46039f"
             ],
             [
              0.2222222222222222,
              "#7201a8"
             ],
             [
              0.3333333333333333,
              "#9c179e"
             ],
             [
              0.4444444444444444,
              "#bd3786"
             ],
             [
              0.5555555555555556,
              "#d8576b"
             ],
             [
              0.6666666666666666,
              "#ed7953"
             ],
             [
              0.7777777777777778,
              "#fb9f3a"
             ],
             [
              0.8888888888888888,
              "#fdca26"
             ],
             [
              1,
              "#f0f921"
             ]
            ],
            "type": "histogram2dcontour"
           }
          ],
          "mesh3d": [
           {
            "colorbar": {
             "outlinewidth": 0,
             "ticks": ""
            },
            "type": "mesh3d"
           }
          ],
          "parcoords": [
           {
            "line": {
             "colorbar": {
              "outlinewidth": 0,
              "ticks": ""
             }
            },
            "type": "parcoords"
           }
          ],
          "pie": [
           {
            "automargin": true,
            "type": "pie"
           }
          ],
          "scatter": [
           {
            "fillpattern": {
             "fillmode": "overlay",
             "size": 10,
             "solidity": 0.2
            },
            "type": "scatter"
           }
          ],
          "scatter3d": [
           {
            "line": {
             "colorbar": {
              "outlinewidth": 0,
              "ticks": ""
             }
            },
            "marker": {
             "colorbar": {
              "outlinewidth": 0,
              "ticks": ""
             }
            },
            "type": "scatter3d"
           }
          ],
          "scattercarpet": [
           {
            "marker": {
             "colorbar": {
              "outlinewidth": 0,
              "ticks": ""
             }
            },
            "type": "scattercarpet"
           }
          ],
          "scattergeo": [
           {
            "marker": {
             "colorbar": {
              "outlinewidth": 0,
              "ticks": ""
             }
            },
            "type": "scattergeo"
           }
          ],
          "scattergl": [
           {
            "marker": {
             "colorbar": {
              "outlinewidth": 0,
              "ticks": ""
             }
            },
            "type": "scattergl"
           }
          ],
          "scattermap": [
           {
            "marker": {
             "colorbar": {
              "outlinewidth": 0,
              "ticks": ""
             }
            },
            "type": "scattermap"
           }
          ],
          "scattermapbox": [
           {
            "marker": {
             "colorbar": {
              "outlinewidth": 0,
              "ticks": ""
             }
            },
            "type": "scattermapbox"
           }
          ],
          "scatterpolar": [
           {
            "marker": {
             "colorbar": {
              "outlinewidth": 0,
              "ticks": ""
             }
            },
            "type": "scatterpolar"
           }
          ],
          "scatterpolargl": [
           {
            "marker": {
             "colorbar": {
              "outlinewidth": 0,
              "ticks": ""
             }
            },
            "type": "scatterpolargl"
           }
          ],
          "scatterternary": [
           {
            "marker": {
             "colorbar": {
              "outlinewidth": 0,
              "ticks": ""
             }
            },
            "type": "scatterternary"
           }
          ],
          "surface": [
           {
            "colorbar": {
             "outlinewidth": 0,
             "ticks": ""
            },
            "colorscale": [
             [
              0,
              "#0d0887"
             ],
             [
              0.1111111111111111,
              "#46039f"
             ],
             [
              0.2222222222222222,
              "#7201a8"
             ],
             [
              0.3333333333333333,
              "#9c179e"
             ],
             [
              0.4444444444444444,
              "#bd3786"
             ],
             [
              0.5555555555555556,
              "#d8576b"
             ],
             [
              0.6666666666666666,
              "#ed7953"
             ],
             [
              0.7777777777777778,
              "#fb9f3a"
             ],
             [
              0.8888888888888888,
              "#fdca26"
             ],
             [
              1,
              "#f0f921"
             ]
            ],
            "type": "surface"
           }
          ],
          "table": [
           {
            "cells": {
             "fill": {
              "color": "#EBF0F8"
             },
             "line": {
              "color": "white"
             }
            },
            "header": {
             "fill": {
              "color": "#C8D4E3"
             },
             "line": {
              "color": "white"
             }
            },
            "type": "table"
           }
          ]
         },
         "layout": {
          "annotationdefaults": {
           "arrowcolor": "#2a3f5f",
           "arrowhead": 0,
           "arrowwidth": 1
          },
          "autotypenumbers": "strict",
          "coloraxis": {
           "colorbar": {
            "outlinewidth": 0,
            "ticks": ""
           }
          },
          "colorscale": {
           "diverging": [
            [
             0,
             "#8e0152"
            ],
            [
             0.1,
             "#c51b7d"
            ],
            [
             0.2,
             "#de77ae"
            ],
            [
             0.3,
             "#f1b6da"
            ],
            [
             0.4,
             "#fde0ef"
            ],
            [
             0.5,
             "#f7f7f7"
            ],
            [
             0.6,
             "#e6f5d0"
            ],
            [
             0.7,
             "#b8e186"
            ],
            [
             0.8,
             "#7fbc41"
            ],
            [
             0.9,
             "#4d9221"
            ],
            [
             1,
             "#276419"
            ]
           ],
           "sequential": [
            [
             0,
             "#0d0887"
            ],
            [
             0.1111111111111111,
             "#46039f"
            ],
            [
             0.2222222222222222,
             "#7201a8"
            ],
            [
             0.3333333333333333,
             "#9c179e"
            ],
            [
             0.4444444444444444,
             "#bd3786"
            ],
            [
             0.5555555555555556,
             "#d8576b"
            ],
            [
             0.6666666666666666,
             "#ed7953"
            ],
            [
             0.7777777777777778,
             "#fb9f3a"
            ],
            [
             0.8888888888888888,
             "#fdca26"
            ],
            [
             1,
             "#f0f921"
            ]
           ],
           "sequentialminus": [
            [
             0,
             "#0d0887"
            ],
            [
             0.1111111111111111,
             "#46039f"
            ],
            [
             0.2222222222222222,
             "#7201a8"
            ],
            [
             0.3333333333333333,
             "#9c179e"
            ],
            [
             0.4444444444444444,
             "#bd3786"
            ],
            [
             0.5555555555555556,
             "#d8576b"
            ],
            [
             0.6666666666666666,
             "#ed7953"
            ],
            [
             0.7777777777777778,
             "#fb9f3a"
            ],
            [
             0.8888888888888888,
             "#fdca26"
            ],
            [
             1,
             "#f0f921"
            ]
           ]
          },
          "colorway": [
           "#636efa",
           "#EF553B",
           "#00cc96",
           "#ab63fa",
           "#FFA15A",
           "#19d3f3",
           "#FF6692",
           "#B6E880",
           "#FF97FF",
           "#FECB52"
          ],
          "font": {
           "color": "#2a3f5f"
          },
          "geo": {
           "bgcolor": "white",
           "lakecolor": "white",
           "landcolor": "#E5ECF6",
           "showlakes": true,
           "showland": true,
           "subunitcolor": "white"
          },
          "hoverlabel": {
           "align": "left"
          },
          "hovermode": "closest",
          "mapbox": {
           "style": "light"
          },
          "paper_bgcolor": "white",
          "plot_bgcolor": "#E5ECF6",
          "polar": {
           "angularaxis": {
            "gridcolor": "white",
            "linecolor": "white",
            "ticks": ""
           },
           "bgcolor": "#E5ECF6",
           "radialaxis": {
            "gridcolor": "white",
            "linecolor": "white",
            "ticks": ""
           }
          },
          "scene": {
           "xaxis": {
            "backgroundcolor": "#E5ECF6",
            "gridcolor": "white",
            "gridwidth": 2,
            "linecolor": "white",
            "showbackground": true,
            "ticks": "",
            "zerolinecolor": "white"
           },
           "yaxis": {
            "backgroundcolor": "#E5ECF6",
            "gridcolor": "white",
            "gridwidth": 2,
            "linecolor": "white",
            "showbackground": true,
            "ticks": "",
            "zerolinecolor": "white"
           },
           "zaxis": {
            "backgroundcolor": "#E5ECF6",
            "gridcolor": "white",
            "gridwidth": 2,
            "linecolor": "white",
            "showbackground": true,
            "ticks": "",
            "zerolinecolor": "white"
           }
          },
          "shapedefaults": {
           "line": {
            "color": "#2a3f5f"
           }
          },
          "ternary": {
           "aaxis": {
            "gridcolor": "white",
            "linecolor": "white",
            "ticks": ""
           },
           "baxis": {
            "gridcolor": "white",
            "linecolor": "white",
            "ticks": ""
           },
           "bgcolor": "#E5ECF6",
           "caxis": {
            "gridcolor": "white",
            "linecolor": "white",
            "ticks": ""
           }
          },
          "title": {
           "x": 0.05
          },
          "xaxis": {
           "automargin": true,
           "gridcolor": "white",
           "linecolor": "white",
           "ticks": "",
           "title": {
            "standoff": 15
           },
           "zerolinecolor": "white",
           "zerolinewidth": 2
          },
          "yaxis": {
           "automargin": true,
           "gridcolor": "white",
           "linecolor": "white",
           "ticks": "",
           "title": {
            "standoff": 15
           },
           "zerolinecolor": "white",
           "zerolinewidth": 2
          }
         }
        },
        "title": {
         "font": {
          "size": 16
         },
         "text": "Relação entre Número de Filhos e Renda<br><sub>Correlação de Pearson: 0.085</sub>",
         "x": 0.5,
         "xanchor": "center"
        },
        "width": 900,
        "xaxis": {
         "anchor": "y",
         "domain": [
          0,
          1
         ],
         "dtick": 1,
         "gridcolor": "lightgray",
         "gridwidth": 1,
         "showgrid": true,
         "tickmode": "linear",
         "title": {
          "text": "Número de Filhos"
         }
        },
        "yaxis": {
         "anchor": "x",
         "domain": [
          0,
          1
         ],
         "gridcolor": "lightgray",
         "gridwidth": 1,
         "showgrid": true,
         "title": {
          "text": "Renda (R$)"
         }
        }
       }
      }
     },
     "metadata": {},
     "output_type": "display_data"
    }
   ],
   "source": [
    "fig = px.scatter(df,\n",
    "    x='Number of Children',\n",
    "    y='Income',\n",
    "    title='Relação entre Número de Filhos e Renda',\n",
    "    labels={'Number of Children': 'Número de Filhos', 'Income': 'Renda (R$)'},\n",
    "    opacity=0.6,\n",
    "    color_discrete_sequence=['#FFA600']\n",
    ")\n",
    "\n",
    "# Calcular linha de tendência\n",
    "z = np.polyfit(df['Number of Children'], df['Income'], 1)\n",
    "p = np.poly1d(z)\n",
    "\n",
    "# Pontos para a linha de tendência\n",
    "x_line = np.linspace(df['Number of Children'].min(), df['Number of Children'].max(), 100)\n",
    "y_line = p(x_line)\n",
    "\n",
    "# Adicionar linha de tendência\n",
    "fig.add_scatter(x=x_line,\n",
    "                y=y_line,\n",
    "                mode='lines',\n",
    "                name='Linha de Tendência',\n",
    "                line=dict(color='red', width=3))\n",
    "\n",
    "# Calcular correlação\n",
    "correlation2, p_value2 = pearsonr(df['Number of Children'], df['Income'])\n",
    "\n",
    "# Personalizar layout\n",
    "fig.update_layout(\n",
    "    title={\n",
    "        'text': f'Relação entre Número de Filhos e Renda<br><sub>Correlação de Pearson: {correlation2:.3f}</sub>',\n",
    "        'x': 0.5,\n",
    "        'xanchor': 'center',\n",
    "        'font': {'size': 16}\n",
    "    },\n",
    "    xaxis_title='Número de Filhos',\n",
    "    yaxis_title='Renda (R$)',\n",
    "    width=900,\n",
    "    height=600,\n",
    "    plot_bgcolor='white',\n",
    "    hovermode='closest'\n",
    ")\n",
    "\n",
    "# Personalizar eixos\n",
    "fig.update_xaxes(showgrid=True, gridwidth=1, gridcolor='lightgray', tickmode='linear', dtick=1)\n",
    "fig.update_yaxes(showgrid=True, gridwidth=1, gridcolor='lightgray')\n",
    "\n",
    "# Personalizar hover\n",
    "fig.update_traces(\n",
    "    hovertemplate='<b>Filhos:</b> %{customdata}<br><b>Renda:</b> %{y:,.0f}<extra></extra>',\n",
    "    customdata=df['Number of Children'],\n",
    "    selector=dict(mode='markers')\n",
    ")\n",
    "\n",
    "# Exibir gráfico\n",
    "fig.show()"
   ]
  },
  {
   "cell_type": "code",
   "execution_count": 30,
   "id": "7ffb9e94",
   "metadata": {},
   "outputs": [
    {
     "name": "stdout",
     "output_type": "stream",
     "text": [
      "Análise de Correlação:\n",
      "Correlação de Pearson: 0.0845\n",
      "P-value: 0.2818\n"
     ]
    }
   ],
   "source": [
    "# Estatísticas detalhadas\n",
    "print(f\"Análise de Correlação:\")\n",
    "print(f\"Correlação de Pearson: {correlation2:.4f}\")\n",
    "print(f\"P-value: {p_value2:.4f}\")"
   ]
  },
  {
   "cell_type": "code",
   "execution_count": 31,
   "id": "41e0e614",
   "metadata": {},
   "outputs": [
    {
     "name": "stdout",
     "output_type": "stream",
     "text": [
      "Interpretação: Correlação muito fraca ou inexistente e positiva\n",
      "- Tendência: conforme o número de filhos aumenta, a renda tende a aumentar\n",
      "Significância estatística: Não\n"
     ]
    }
   ],
   "source": [
    "# Interpretação da correlação\n",
    "if abs(correlation2) < 0.1:\n",
    "    interpretation = \"muito fraca ou inexistente\"\n",
    "elif abs(correlation2) < 0.3:\n",
    "    interpretation = \"fraca\"\n",
    "elif abs(correlation2) < 0.5:\n",
    "    interpretation = \"moderada\"\n",
    "elif abs(correlation2) < 0.7:\n",
    "    interpretation = \"forte\"\n",
    "else:\n",
    "    interpretation = \"muito forte\"\n",
    "\n",
    "direction = \"positiva\" if correlation2 > 0 else \"negativa\" if correlation2 < 0 else \"inexistente\"\n",
    "print(f\"Interpretação: Correlação {interpretation} e {direction}\")\n",
    "\n",
    "if correlation2 > 0:\n",
    "    print(\"- Tendência: conforme o número de filhos aumenta, a renda tende a aumentar\")\n",
    "elif correlation2 < 0:\n",
    "    print(\"- Tendência: conforme o número de filhos aumenta, a renda tende a diminuir\")\n",
    "else:\n",
    "    print(\"- Não há tendência linear clara entre as variáveis\")\n",
    "\n",
    "print(f\"Significância estatística: {'Sim' if p_value2 < 0.05 else 'Não'}\")"
   ]
  },
  {
   "cell_type": "markdown",
   "id": "73a0c550",
   "metadata": {},
   "source": [
    "#### 3.2.8 Education e Income"
   ]
  },
  {
   "cell_type": "code",
   "execution_count": 32,
   "id": "06b73739",
   "metadata": {},
   "outputs": [
    {
     "data": {
      "application/vnd.plotly.v1+json": {
       "config": {
        "plotlyServerURL": "https://plot.ly"
       },
       "data": [
        {
         "alignmentgroup": "True",
         "boxpoints": "outliers",
         "hovertemplate": "<b>Educação:</b> %{x}<br><b>Renda:</b> %{y:,.0f}<extra></extra>",
         "legendgroup": "Bachelor's Degree",
         "marker": {
          "color": "rgb(231,138,195)"
         },
         "name": "Bachelor's Degree",
         "notched": false,
         "offsetgroup": "Bachelor's Degree",
         "orientation": "v",
         "showlegend": true,
         "type": "box",
         "x": [
          "Bachelor's Degree",
          "Bachelor's Degree",
          "Bachelor's Degree",
          "Bachelor's Degree",
          "Bachelor's Degree",
          "Bachelor's Degree",
          "Bachelor's Degree",
          "Bachelor's Degree",
          "Bachelor's Degree",
          "Bachelor's Degree",
          "Bachelor's Degree",
          "Bachelor's Degree",
          "Bachelor's Degree",
          "Bachelor's Degree",
          "Bachelor's Degree",
          "Bachelor's Degree",
          "Bachelor's Degree",
          "Bachelor's Degree",
          "Bachelor's Degree",
          "Bachelor's Degree",
          "Bachelor's Degree",
          "Bachelor's Degree",
          "Bachelor's Degree",
          "Bachelor's Degree",
          "Bachelor's Degree",
          "Bachelor's Degree",
          "Bachelor's Degree",
          "Bachelor's Degree",
          "Bachelor's Degree",
          "Bachelor's Degree",
          "Bachelor's Degree",
          "Bachelor's Degree",
          "Bachelor's Degree",
          "Bachelor's Degree",
          "Bachelor's Degree",
          "Bachelor's Degree",
          "Bachelor's Degree",
          "Bachelor's Degree",
          "Bachelor's Degree",
          "Bachelor's Degree",
          "Bachelor's Degree",
          "Bachelor's Degree"
         ],
         "x0": " ",
         "xaxis": "x",
         "y": {
          "bdata": "AAAAAABq6EAAAAAAAGr4QAAAAAAATO1AAAAAAMB6AEEAAAAAABfxQAAAAAAAve9AAAAAAABM7UAAAAAAANvqQAAAAACAovlAAAAAAAC970AAAAAAABcBQQAAAABAs/FAAAAAAMB68EAAAAAAgITuQAAAAACAE+xAAAAAAABM7UAAAAAAANv6QAAAAADAevBAAAAAAECzAUEAAAAAgE/yQAAAAADAevBAAAAAAICE7kAAAAAAgBPsQAAAAACAhO5AAAAAAIAT/EAAAAAAABfxQAAAAACATwJBAAAAAMDr8kAAAAAAwHrwQAAAAACAhO5AAAAAAIAT7EAAAAAAAEztQAAAAACAT/JAAAAAAADb6kAAAAAAgKL5QAAAAAAA2+pAAAAAAICi+UAAAAAAAL3vQAAAAAAAFwFBAAAAAECz8UAAAAAAwHrwQAAAAACAhO5A",
          "dtype": "f8"
         },
         "y0": " ",
         "yaxis": "y"
        },
        {
         "alignmentgroup": "True",
         "boxpoints": "outliers",
         "hovertemplate": "<b>Educação:</b> %{x}<br><b>Renda:</b> %{y:,.0f}<extra></extra>",
         "legendgroup": "Master's Degree",
         "marker": {
          "color": "rgb(141,160,203)"
         },
         "name": "Master's Degree",
         "notched": false,
         "offsetgroup": "Master's Degree",
         "orientation": "v",
         "showlegend": true,
         "type": "box",
         "x": [
          "Master's Degree",
          "Master's Degree",
          "Master's Degree",
          "Master's Degree",
          "Master's Degree",
          "Master's Degree",
          "Master's Degree",
          "Master's Degree",
          "Master's Degree",
          "Master's Degree",
          "Master's Degree",
          "Master's Degree",
          "Master's Degree",
          "Master's Degree",
          "Master's Degree",
          "Master's Degree",
          "Master's Degree",
          "Master's Degree",
          "Master's Degree",
          "Master's Degree",
          "Master's Degree",
          "Master's Degree",
          "Master's Degree",
          "Master's Degree",
          "Master's Degree",
          "Master's Degree",
          "Master's Degree",
          "Master's Degree",
          "Master's Degree",
          "Master's Degree",
          "Master's Degree",
          "Master's Degree",
          "Master's Degree",
          "Master's Degree",
          "Master's Degree",
          "Master's Degree"
         ],
         "x0": " ",
         "xaxis": "x",
         "y": {
          "bdata": "AAAAAABq+EAAAAAAgE8CQQAAAAAAiPNAAAAAAIAx90AAAAAAAIjzQAAAAACAT/JAAAAAAICi+UAAAAAAwOsCQQAAAACAwPRAAAAAAABq+EAAAAAAQJX2QAAAAADAXPVAAAAAAEB3+0AAAAAAwK/8QAAAAAAAiANBAAAAAAD59UAAAAAAgKL5QAAAAABAlfZAAAAAAMBc9UAAAAAAQHf7QAAAAADAr/xAAAAAACDWA0EAAAAAgDH3QAAAAAAA2/pAAAAAAIAx90AAAAAAwFz1QAAAAABAd/tAAAAAAMCv/EAAAAAAAAX0QAAAAACAwPRAAAAAAICi+UAAAAAAwOsCQQAAAACAwPRAAAAAAABq+EAAAAAAQJX2QAAAAADAXPVA",
          "dtype": "f8"
         },
         "y0": " ",
         "yaxis": "y"
        },
        {
         "alignmentgroup": "True",
         "boxpoints": "outliers",
         "hovertemplate": "<b>Educação:</b> %{x}<br><b>Renda:</b> %{y:,.0f}<extra></extra>",
         "legendgroup": "Doctorate",
         "marker": {
          "color": "rgb(252,141,98)"
         },
         "name": "Doctorate",
         "notched": false,
         "offsetgroup": "Doctorate",
         "orientation": "v",
         "showlegend": true,
         "type": "box",
         "x": [
          "Doctorate",
          "Doctorate",
          "Doctorate",
          "Doctorate",
          "Doctorate",
          "Doctorate",
          "Doctorate",
          "Doctorate",
          "Doctorate",
          "Doctorate",
          "Doctorate",
          "Doctorate",
          "Doctorate",
          "Doctorate",
          "Doctorate",
          "Doctorate",
          "Doctorate",
          "Doctorate",
          "Doctorate",
          "Doctorate",
          "Doctorate",
          "Doctorate",
          "Doctorate",
          "Doctorate",
          "Doctorate",
          "Doctorate",
          "Doctorate",
          "Doctorate",
          "Doctorate",
          "Doctorate",
          "Doctorate"
         ],
         "x0": " ",
         "xaxis": "x",
         "y": {
          "bdata": "AAAAAIBP8kAAAAAAgKL5QAAAAACAwPRAAAAAAAAX8UAAAAAAAL3vQAAAAAAAiPNAAAAAAADb+kAAAAAAAPn1QAAAAABAJPRAAAAAAMDr8kAAAAAAgMD0QAAAAAAA+fVAAAAAAIAT/EAAAAAAgDH3QAAAAACAwPRAAAAAAMDr8kAAAAAAgMD0QAAAAAAA+fVAAAAAAABM/UAAAAAAwM33QAAAAADAXPVAAAAAAMDr8kAAAAAAgMD0QAAAAAAA+fVAAAAAAIAx90AAAAAAAJrwQAAAAAAAiPNAAAAAAADb+kAAAAAAAPn1QAAAAABAJPRAAAAAAMDr8kA=",
          "dtype": "f8"
         },
         "y0": " ",
         "yaxis": "y"
        },
        {
         "alignmentgroup": "True",
         "boxpoints": "outliers",
         "hovertemplate": "<b>Educação:</b> %{x}<br><b>Renda:</b> %{y:,.0f}<extra></extra>",
         "legendgroup": "High School Diploma",
         "marker": {
          "color": "rgb(102,194,165)"
         },
         "name": "High School Diploma",
         "notched": false,
         "offsetgroup": "High School Diploma",
         "orientation": "v",
         "showlegend": true,
         "type": "box",
         "x": [
          "High School Diploma",
          "High School Diploma",
          "High School Diploma",
          "High School Diploma",
          "High School Diploma",
          "High School Diploma",
          "High School Diploma",
          "High School Diploma",
          "High School Diploma",
          "High School Diploma",
          "High School Diploma",
          "High School Diploma",
          "High School Diploma",
          "High School Diploma",
          "High School Diploma",
          "High School Diploma",
          "High School Diploma",
          "High School Diploma",
          "High School Diploma",
          "High School Diploma",
          "High School Diploma",
          "High School Diploma",
          "High School Diploma",
          "High School Diploma",
          "High School Diploma",
          "High School Diploma",
          "High School Diploma",
          "High School Diploma",
          "High School Diploma",
          "High School Diploma"
         ],
         "x0": " ",
         "xaxis": "x",
         "y": {
          "bdata": "AAAAAICE/kAAAAAAAPn1QAAAAAAAF+FAAAAAAICE/kAAAAAAAGroQAAAAAAAathAAAAAAAC9/0AAAAAAgDH3QAAAAACAT+JAAAAAAAC9/0AAAAAAgKLpQAAAAAAA29pAAAAAACBlAUEAAAAAwM33QAAAAACAT+JAAAAAAMB6AEEAAAAAgKLpQAAAAAAA29pAAAAAACBlAUEAAAAAQAb5QAAAAACAT+JAAAAAAODIAEEAAAAAgKLpQAAAAAAA29pAAAAAAAC9/0AAAAAAgDH3QAAAAACAT+JAAAAAAAC9/0AAAAAAgKLpQAAAAAAA29pA",
          "dtype": "f8"
         },
         "y0": " ",
         "yaxis": "y"
        },
        {
         "alignmentgroup": "True",
         "boxpoints": "outliers",
         "hovertemplate": "<b>Educação:</b> %{x}<br><b>Renda:</b> %{y:,.0f}<extra></extra>",
         "legendgroup": "Associate's Degree",
         "marker": {
          "color": "rgb(179,179,179)"
         },
         "name": "Associate's Degree",
         "notched": false,
         "offsetgroup": "Associate's Degree",
         "orientation": "v",
         "showlegend": true,
         "type": "box",
         "x": [
          "Associate's Degree",
          "Associate's Degree",
          "Associate's Degree",
          "Associate's Degree",
          "Associate's Degree",
          "Associate's Degree",
          "Associate's Degree",
          "Associate's Degree",
          "Associate's Degree",
          "Associate's Degree",
          "Associate's Degree",
          "Associate's Degree",
          "Associate's Degree",
          "Associate's Degree",
          "Associate's Degree",
          "Associate's Degree",
          "Associate's Degree",
          "Associate's Degree",
          "Associate's Degree",
          "Associate's Degree",
          "Associate's Degree",
          "Associate's Degree",
          "Associate's Degree",
          "Associate's Degree",
          "Associate's Degree"
         ],
         "x0": " ",
         "xaxis": "x",
         "y": {
          "bdata": "AAAAAACI40AAAAAAANvqQAAAAAAATN1AAAAAAIAT/EAAAAAAAPnlQAAAAAAA+eVAAAAAAIAT7EAAAAAAAL3fQAAAAABA6P1AAAAAAIAx50AAAAAAgDHnQAAAAACAE+xAAAAAAAC930AAAAAAgIT+QAAAAACAMedAAAAAAABq6EAAAAAAgBPsQAAAAAAAvd9AAAAAAMAg/0AAAAAAgDHnQAAAAAAA+eVAAAAAAIAT7EAAAAAAAL3fQAAAAABA6P1AAAAAAIAx50A=",
          "dtype": "f8"
         },
         "y0": " ",
         "yaxis": "y"
        }
       ],
       "layout": {
        "boxmode": "overlay",
        "height": 600,
        "legend": {
         "title": {
          "text": "Nível de Escolaridade"
         },
         "tracegroupgap": 0
        },
        "plot_bgcolor": "white",
        "showlegend": false,
        "template": {
         "data": {
          "bar": [
           {
            "error_x": {
             "color": "#2a3f5f"
            },
            "error_y": {
             "color": "#2a3f5f"
            },
            "marker": {
             "line": {
              "color": "#E5ECF6",
              "width": 0.5
             },
             "pattern": {
              "fillmode": "overlay",
              "size": 10,
              "solidity": 0.2
             }
            },
            "type": "bar"
           }
          ],
          "barpolar": [
           {
            "marker": {
             "line": {
              "color": "#E5ECF6",
              "width": 0.5
             },
             "pattern": {
              "fillmode": "overlay",
              "size": 10,
              "solidity": 0.2
             }
            },
            "type": "barpolar"
           }
          ],
          "carpet": [
           {
            "aaxis": {
             "endlinecolor": "#2a3f5f",
             "gridcolor": "white",
             "linecolor": "white",
             "minorgridcolor": "white",
             "startlinecolor": "#2a3f5f"
            },
            "baxis": {
             "endlinecolor": "#2a3f5f",
             "gridcolor": "white",
             "linecolor": "white",
             "minorgridcolor": "white",
             "startlinecolor": "#2a3f5f"
            },
            "type": "carpet"
           }
          ],
          "choropleth": [
           {
            "colorbar": {
             "outlinewidth": 0,
             "ticks": ""
            },
            "type": "choropleth"
           }
          ],
          "contour": [
           {
            "colorbar": {
             "outlinewidth": 0,
             "ticks": ""
            },
            "colorscale": [
             [
              0,
              "#0d0887"
             ],
             [
              0.1111111111111111,
              "#46039f"
             ],
             [
              0.2222222222222222,
              "#7201a8"
             ],
             [
              0.3333333333333333,
              "#9c179e"
             ],
             [
              0.4444444444444444,
              "#bd3786"
             ],
             [
              0.5555555555555556,
              "#d8576b"
             ],
             [
              0.6666666666666666,
              "#ed7953"
             ],
             [
              0.7777777777777778,
              "#fb9f3a"
             ],
             [
              0.8888888888888888,
              "#fdca26"
             ],
             [
              1,
              "#f0f921"
             ]
            ],
            "type": "contour"
           }
          ],
          "contourcarpet": [
           {
            "colorbar": {
             "outlinewidth": 0,
             "ticks": ""
            },
            "type": "contourcarpet"
           }
          ],
          "heatmap": [
           {
            "colorbar": {
             "outlinewidth": 0,
             "ticks": ""
            },
            "colorscale": [
             [
              0,
              "#0d0887"
             ],
             [
              0.1111111111111111,
              "#46039f"
             ],
             [
              0.2222222222222222,
              "#7201a8"
             ],
             [
              0.3333333333333333,
              "#9c179e"
             ],
             [
              0.4444444444444444,
              "#bd3786"
             ],
             [
              0.5555555555555556,
              "#d8576b"
             ],
             [
              0.6666666666666666,
              "#ed7953"
             ],
             [
              0.7777777777777778,
              "#fb9f3a"
             ],
             [
              0.8888888888888888,
              "#fdca26"
             ],
             [
              1,
              "#f0f921"
             ]
            ],
            "type": "heatmap"
           }
          ],
          "histogram": [
           {
            "marker": {
             "pattern": {
              "fillmode": "overlay",
              "size": 10,
              "solidity": 0.2
             }
            },
            "type": "histogram"
           }
          ],
          "histogram2d": [
           {
            "colorbar": {
             "outlinewidth": 0,
             "ticks": ""
            },
            "colorscale": [
             [
              0,
              "#0d0887"
             ],
             [
              0.1111111111111111,
              "#46039f"
             ],
             [
              0.2222222222222222,
              "#7201a8"
             ],
             [
              0.3333333333333333,
              "#9c179e"
             ],
             [
              0.4444444444444444,
              "#bd3786"
             ],
             [
              0.5555555555555556,
              "#d8576b"
             ],
             [
              0.6666666666666666,
              "#ed7953"
             ],
             [
              0.7777777777777778,
              "#fb9f3a"
             ],
             [
              0.8888888888888888,
              "#fdca26"
             ],
             [
              1,
              "#f0f921"
             ]
            ],
            "type": "histogram2d"
           }
          ],
          "histogram2dcontour": [
           {
            "colorbar": {
             "outlinewidth": 0,
             "ticks": ""
            },
            "colorscale": [
             [
              0,
              "#0d0887"
             ],
             [
              0.1111111111111111,
              "#46039f"
             ],
             [
              0.2222222222222222,
              "#7201a8"
             ],
             [
              0.3333333333333333,
              "#9c179e"
             ],
             [
              0.4444444444444444,
              "#bd3786"
             ],
             [
              0.5555555555555556,
              "#d8576b"
             ],
             [
              0.6666666666666666,
              "#ed7953"
             ],
             [
              0.7777777777777778,
              "#fb9f3a"
             ],
             [
              0.8888888888888888,
              "#fdca26"
             ],
             [
              1,
              "#f0f921"
             ]
            ],
            "type": "histogram2dcontour"
           }
          ],
          "mesh3d": [
           {
            "colorbar": {
             "outlinewidth": 0,
             "ticks": ""
            },
            "type": "mesh3d"
           }
          ],
          "parcoords": [
           {
            "line": {
             "colorbar": {
              "outlinewidth": 0,
              "ticks": ""
             }
            },
            "type": "parcoords"
           }
          ],
          "pie": [
           {
            "automargin": true,
            "type": "pie"
           }
          ],
          "scatter": [
           {
            "fillpattern": {
             "fillmode": "overlay",
             "size": 10,
             "solidity": 0.2
            },
            "type": "scatter"
           }
          ],
          "scatter3d": [
           {
            "line": {
             "colorbar": {
              "outlinewidth": 0,
              "ticks": ""
             }
            },
            "marker": {
             "colorbar": {
              "outlinewidth": 0,
              "ticks": ""
             }
            },
            "type": "scatter3d"
           }
          ],
          "scattercarpet": [
           {
            "marker": {
             "colorbar": {
              "outlinewidth": 0,
              "ticks": ""
             }
            },
            "type": "scattercarpet"
           }
          ],
          "scattergeo": [
           {
            "marker": {
             "colorbar": {
              "outlinewidth": 0,
              "ticks": ""
             }
            },
            "type": "scattergeo"
           }
          ],
          "scattergl": [
           {
            "marker": {
             "colorbar": {
              "outlinewidth": 0,
              "ticks": ""
             }
            },
            "type": "scattergl"
           }
          ],
          "scattermap": [
           {
            "marker": {
             "colorbar": {
              "outlinewidth": 0,
              "ticks": ""
             }
            },
            "type": "scattermap"
           }
          ],
          "scattermapbox": [
           {
            "marker": {
             "colorbar": {
              "outlinewidth": 0,
              "ticks": ""
             }
            },
            "type": "scattermapbox"
           }
          ],
          "scatterpolar": [
           {
            "marker": {
             "colorbar": {
              "outlinewidth": 0,
              "ticks": ""
             }
            },
            "type": "scatterpolar"
           }
          ],
          "scatterpolargl": [
           {
            "marker": {
             "colorbar": {
              "outlinewidth": 0,
              "ticks": ""
             }
            },
            "type": "scatterpolargl"
           }
          ],
          "scatterternary": [
           {
            "marker": {
             "colorbar": {
              "outlinewidth": 0,
              "ticks": ""
             }
            },
            "type": "scatterternary"
           }
          ],
          "surface": [
           {
            "colorbar": {
             "outlinewidth": 0,
             "ticks": ""
            },
            "colorscale": [
             [
              0,
              "#0d0887"
             ],
             [
              0.1111111111111111,
              "#46039f"
             ],
             [
              0.2222222222222222,
              "#7201a8"
             ],
             [
              0.3333333333333333,
              "#9c179e"
             ],
             [
              0.4444444444444444,
              "#bd3786"
             ],
             [
              0.5555555555555556,
              "#d8576b"
             ],
             [
              0.6666666666666666,
              "#ed7953"
             ],
             [
              0.7777777777777778,
              "#fb9f3a"
             ],
             [
              0.8888888888888888,
              "#fdca26"
             ],
             [
              1,
              "#f0f921"
             ]
            ],
            "type": "surface"
           }
          ],
          "table": [
           {
            "cells": {
             "fill": {
              "color": "#EBF0F8"
             },
             "line": {
              "color": "white"
             }
            },
            "header": {
             "fill": {
              "color": "#C8D4E3"
             },
             "line": {
              "color": "white"
             }
            },
            "type": "table"
           }
          ]
         },
         "layout": {
          "annotationdefaults": {
           "arrowcolor": "#2a3f5f",
           "arrowhead": 0,
           "arrowwidth": 1
          },
          "autotypenumbers": "strict",
          "coloraxis": {
           "colorbar": {
            "outlinewidth": 0,
            "ticks": ""
           }
          },
          "colorscale": {
           "diverging": [
            [
             0,
             "#8e0152"
            ],
            [
             0.1,
             "#c51b7d"
            ],
            [
             0.2,
             "#de77ae"
            ],
            [
             0.3,
             "#f1b6da"
            ],
            [
             0.4,
             "#fde0ef"
            ],
            [
             0.5,
             "#f7f7f7"
            ],
            [
             0.6,
             "#e6f5d0"
            ],
            [
             0.7,
             "#b8e186"
            ],
            [
             0.8,
             "#7fbc41"
            ],
            [
             0.9,
             "#4d9221"
            ],
            [
             1,
             "#276419"
            ]
           ],
           "sequential": [
            [
             0,
             "#0d0887"
            ],
            [
             0.1111111111111111,
             "#46039f"
            ],
            [
             0.2222222222222222,
             "#7201a8"
            ],
            [
             0.3333333333333333,
             "#9c179e"
            ],
            [
             0.4444444444444444,
             "#bd3786"
            ],
            [
             0.5555555555555556,
             "#d8576b"
            ],
            [
             0.6666666666666666,
             "#ed7953"
            ],
            [
             0.7777777777777778,
             "#fb9f3a"
            ],
            [
             0.8888888888888888,
             "#fdca26"
            ],
            [
             1,
             "#f0f921"
            ]
           ],
           "sequentialminus": [
            [
             0,
             "#0d0887"
            ],
            [
             0.1111111111111111,
             "#46039f"
            ],
            [
             0.2222222222222222,
             "#7201a8"
            ],
            [
             0.3333333333333333,
             "#9c179e"
            ],
            [
             0.4444444444444444,
             "#bd3786"
            ],
            [
             0.5555555555555556,
             "#d8576b"
            ],
            [
             0.6666666666666666,
             "#ed7953"
            ],
            [
             0.7777777777777778,
             "#fb9f3a"
            ],
            [
             0.8888888888888888,
             "#fdca26"
            ],
            [
             1,
             "#f0f921"
            ]
           ]
          },
          "colorway": [
           "#636efa",
           "#EF553B",
           "#00cc96",
           "#ab63fa",
           "#FFA15A",
           "#19d3f3",
           "#FF6692",
           "#B6E880",
           "#FF97FF",
           "#FECB52"
          ],
          "font": {
           "color": "#2a3f5f"
          },
          "geo": {
           "bgcolor": "white",
           "lakecolor": "white",
           "landcolor": "#E5ECF6",
           "showlakes": true,
           "showland": true,
           "subunitcolor": "white"
          },
          "hoverlabel": {
           "align": "left"
          },
          "hovermode": "closest",
          "mapbox": {
           "style": "light"
          },
          "paper_bgcolor": "white",
          "plot_bgcolor": "#E5ECF6",
          "polar": {
           "angularaxis": {
            "gridcolor": "white",
            "linecolor": "white",
            "ticks": ""
           },
           "bgcolor": "#E5ECF6",
           "radialaxis": {
            "gridcolor": "white",
            "linecolor": "white",
            "ticks": ""
           }
          },
          "scene": {
           "xaxis": {
            "backgroundcolor": "#E5ECF6",
            "gridcolor": "white",
            "gridwidth": 2,
            "linecolor": "white",
            "showbackground": true,
            "ticks": "",
            "zerolinecolor": "white"
           },
           "yaxis": {
            "backgroundcolor": "#E5ECF6",
            "gridcolor": "white",
            "gridwidth": 2,
            "linecolor": "white",
            "showbackground": true,
            "ticks": "",
            "zerolinecolor": "white"
           },
           "zaxis": {
            "backgroundcolor": "#E5ECF6",
            "gridcolor": "white",
            "gridwidth": 2,
            "linecolor": "white",
            "showbackground": true,
            "ticks": "",
            "zerolinecolor": "white"
           }
          },
          "shapedefaults": {
           "line": {
            "color": "#2a3f5f"
           }
          },
          "ternary": {
           "aaxis": {
            "gridcolor": "white",
            "linecolor": "white",
            "ticks": ""
           },
           "baxis": {
            "gridcolor": "white",
            "linecolor": "white",
            "ticks": ""
           },
           "bgcolor": "#E5ECF6",
           "caxis": {
            "gridcolor": "white",
            "linecolor": "white",
            "ticks": ""
           }
          },
          "title": {
           "x": 0.05
          },
          "xaxis": {
           "automargin": true,
           "gridcolor": "white",
           "linecolor": "white",
           "ticks": "",
           "title": {
            "standoff": 15
           },
           "zerolinecolor": "white",
           "zerolinewidth": 2
          },
          "yaxis": {
           "automargin": true,
           "gridcolor": "white",
           "linecolor": "white",
           "ticks": "",
           "title": {
            "standoff": 15
           },
           "zerolinecolor": "white",
           "zerolinewidth": 2
          }
         }
        },
        "title": {
         "font": {
          "size": 16
         },
         "text": "Distribuição de Renda por Nível de Escolaridade",
         "x": 0.5,
         "xanchor": "center"
        },
        "width": 1000,
        "xaxis": {
         "anchor": "y",
         "categoryarray": [
          "High School",
          "Bachelor",
          "Master",
          "PhD",
          "Bachelor's Degree",
          "Master's Degree",
          "Doctorate",
          "High School Diploma",
          "Associate's Degree"
         ],
         "categoryorder": "array",
         "domain": [
          0,
          1
         ],
         "showgrid": false,
         "tickangle": -45,
         "title": {
          "text": "Nível de Escolaridade"
         }
        },
        "yaxis": {
         "anchor": "x",
         "domain": [
          0,
          1
         ],
         "gridcolor": "lightgray",
         "gridwidth": 1,
         "showgrid": true,
         "title": {
          "text": "Renda (R$)"
         }
        }
       }
      }
     },
     "metadata": {},
     "output_type": "display_data"
    }
   ],
   "source": [
    "# Criar o boxplot\n",
    "fig = px.box(df,\n",
    "    x='Education',\n",
    "    y='Income',\n",
    "    title='Boxplot de Renda por Nível de Escolaridade',\n",
    "    labels={'Education': 'Nível de Escolaridade', 'Income': 'Renda (R$)'},\n",
    "    color='Education',\n",
    "    color_discrete_sequence=px.colors.qualitative.Set2_r,\n",
    "    category_orders={'Education': ['High School', 'Bachelor', 'Master', 'PhD']})\n",
    "\n",
    "# Adicionar pontos de dados individuais\n",
    "fig.update_traces(\n",
    "    boxpoints='outliers',\n",
    "    hovertemplate='<b>Educação:</b> %{x}<br><b>Renda:</b> %{y:,.0f}<extra></extra>',\n",
    ")\n",
    "\n",
    "# Personalizar layout\n",
    "fig.update_layout(\n",
    "    title={\n",
    "        'text': 'Distribuição de Renda por Nível de Escolaridade',\n",
    "        'x': 0.5,  # Centraliza o título\n",
    "        'xanchor': 'center',\n",
    "        'font': {'size': 16}\n",
    "    },\n",
    "    xaxis_title='Nível de Escolaridade',\n",
    "    yaxis_title='Renda (R$)',\n",
    "    width=1000,\n",
    "    height=600,\n",
    "    plot_bgcolor='white',\n",
    "    showlegend=False,\n",
    "    xaxis_tickangle=-45\n",
    ")\n",
    "\n",
    "# Adicionar grid\n",
    "fig.update_yaxes(showgrid=True, gridwidth=1, gridcolor='lightgray')\n",
    "fig.update_xaxes(showgrid=False)\n",
    "\n",
    "# Exibir o gráfico\n",
    "fig.show()"
   ]
  },
  {
   "cell_type": "code",
   "execution_count": 33,
   "id": "f64d8ad6",
   "metadata": {},
   "outputs": [
    {
     "name": "stdout",
     "output_type": "stream",
     "text": [
      "\n",
      "Correlação de Spearman: 0.3086\n",
      "P-value da correlação: 0.0001\n",
      "Interpretação: Correlação moderada e positiva\n"
     ]
    }
   ],
   "source": [
    "education_mapping = {\n",
    "    'High School Diploma': 1,\n",
    "    \"Associate's Degree\": 2,\n",
    "    \"Bachelor's Degree\": 3,\n",
    "    \"Master's Degree\": 4,\n",
    "    'Doctorate': 5\n",
    "}\n",
    "\n",
    "df_temp = df.copy()\n",
    "df_temp['Education_Numeric'] = df_temp['Education'].map(education_mapping)\n",
    "\n",
    "# Remover valores NaN caso algum nível não exista\n",
    "df_temp = df_temp.dropna(subset=['Education_Numeric'])\n",
    "\n",
    "if len(df_temp) > 0:\n",
    "    correlation, p_val_corr = spearmanr(df_temp['Education_Numeric'], df_temp['Income'])\n",
    "    print(f\"\\nCorrelação de Spearman: {correlation:.4f}\")\n",
    "    print(f\"P-value da correlação: {p_val_corr:.4f}\")\n",
    "\n",
    "    # Interpretação da correlação\n",
    "    if abs(correlation) < 0.1:\n",
    "        interpretation = \"muito fraca\"\n",
    "    elif abs(correlation) < 0.3:\n",
    "        interpretation = \"fraca\"\n",
    "    elif abs(correlation) < 0.5:\n",
    "        interpretation = \"moderada\"\n",
    "    elif abs(correlation) < 0.7:\n",
    "        interpretation = \"forte\"\n",
    "    else:\n",
    "        interpretation = \"muito forte\"\n",
    "\n",
    "    direction = \"positiva\" if correlation > 0 else \"negativa\" if correlation < 0 else \"inexistente\"\n",
    "    print(f\"Interpretação: Correlação {interpretation} e {direction}\")"
   ]
  },
  {
   "cell_type": "markdown",
   "id": "ee7be25c",
   "metadata": {},
   "source": [
    "### 3.3 Análise de Correlação"
   ]
  },
  {
   "cell_type": "markdown",
   "id": "6efdfc67",
   "metadata": {},
   "source": [
    "#### 3.3.1 Transformando Variáveis Categóricas"
   ]
  },
  {
   "cell_type": "code",
   "execution_count": 34,
   "id": "069c2a6d",
   "metadata": {},
   "outputs": [],
   "source": [
    "education_mapping = {\n",
    "    'High School Diploma': 1,\n",
    "    \"Associate's Degree\": 2,\n",
    "    \"Bachelor's Degree\": 3,\n",
    "    \"Master's Degree\": 4,\n",
    "    'Doctorate': 5\n",
    "}\n",
    "\n",
    "credit_mapping = {\n",
    "    'Low': 1,\n",
    "    'Average': 2,\n",
    "    'High': 3\n",
    "}\n",
    "\n",
    "marital_mapping = {\n",
    "    'Single': 0,\n",
    "    'Married': 1,\n",
    "    'Divorced': 2  \n",
    "}\n",
    "\n",
    "gender_mapping = {\n",
    "    'Female': 0,\n",
    "    'Male': 1\n",
    "}\n",
    "\n",
    "home_mapping = {\n",
    "    'Rented': 0,\n",
    "    'Owned': 1\n",
    "}"
   ]
  },
  {
   "cell_type": "code",
   "execution_count": 35,
   "id": "37048b6c",
   "metadata": {},
   "outputs": [],
   "source": [
    "df_corr = df.copy()\n",
    "\n",
    "# Aplicar as transformações\n",
    "df_corr['Education_Numeric'] = df_corr['Education'].map(education_mapping)\n",
    "df_corr['Credit_Score_Numeric'] = df_corr['Credit Score'].map(credit_mapping)\n",
    "df_corr['Marital_Status_Numeric'] = df_corr['Marital Status'].map(marital_mapping)\n",
    "df_corr['Gender_Numeric'] = df_corr['Gender'].map(gender_mapping)\n",
    "df_corr['Home_Ownership_Numeric'] = df_corr['Home Ownership'].map(home_mapping)"
   ]
  },
  {
   "cell_type": "markdown",
   "id": "13c444a4",
   "metadata": {},
   "source": [
    "#### 3.3.2 Matriz de Correlação"
   ]
  },
  {
   "cell_type": "code",
   "execution_count": 36,
   "id": "b6924baf",
   "metadata": {},
   "outputs": [],
   "source": [
    "# Selecionar apenas as colunas numéricas para a matriz de correlação\n",
    "numeric_vars = [\n",
    "    'Age', 'Income', 'Number of Children',\n",
    "    'Education_Numeric', 'Credit_Score_Numeric', \n",
    "    'Marital_Status_Numeric', 'Gender_Numeric', 'Home_Ownership_Numeric'\n",
    "]\n",
    "\n",
    "# Matriz de correlação\n",
    "correlation_matrix = df_corr[numeric_vars].corr()\n",
    "\n",
    "# Renomear colunas/índices para melhor visualização\n",
    "correlation_matrix.index = ['Idade', 'Renda', 'Nº Filhos', 'Educação', 'Credit Score', 'Estado Civil', 'Gênero', 'Casa Própria']\n",
    "correlation_matrix.columns = ['Idade', 'Renda', 'Nº Filhos', 'Educação', 'Credit Score', 'Estado Civil', 'Gênero', 'Casa Própria']"
   ]
  },
  {
   "cell_type": "code",
   "execution_count": 37,
   "id": "b93b89e2",
   "metadata": {},
   "outputs": [
    {
     "data": {
      "application/vnd.plotly.v1+json": {
       "config": {
        "plotlyServerURL": "https://plot.ly"
       },
       "data": [
        {
         "coloraxis": "coloraxis",
         "hovertemplate": "Variáveis: %{x}<br>Variáveis: %{y}<br>Correlação: %{z}<extra></extra>",
         "name": "0",
         "type": "heatmap",
         "x": [
          "Idade",
          "Renda",
          "Nº Filhos",
          "Educação",
          "Credit Score",
          "Estado Civil",
          "Gênero",
          "Casa Própria"
         ],
         "xaxis": "x",
         "y": [
          "Idade",
          "Renda",
          "Nº Filhos",
          "Educação",
          "Credit Score",
          "Estado Civil",
          "Gênero",
          "Casa Própria"
         ],
         "yaxis": "y",
         "z": {
          "bdata": "AAAAAAAA8D+2jt+rQuPjP/ZDPkLmirI/vWQs1zsnxz/gDrm62E/iPzo+UrhNvtw/FpRWfVcyyj9HcDSS7BjkP7aO36tC4+M/AAAAAAAA8D+cjcpl2qS1P7cQ8Uk0P9A/9FK2/y7S5z/1o5dP7iTeP1dXit8qut8/Ka4fbcSO5j/2Qz5C5oqyP5yNymXapLU/AAAAAAAA8D+Cr3vmZFnUP0vfuaorSNs/Px8uRLFN5j80WdGl/0vcv15c6j/10N8/vWQs1zsnxz+3EPFJND/QP4Kve+ZkWdQ/AAAAAAAA8D/kaH8UMTvhPy3YOgmW4tU/W/m5gjwVtb+bxZPjjWHfP+AOubrYT+I/9FK2/y7S5z9L37mqK0jbP+RofxQxO+E/AAAAAAAA8D+gZjdu2NXjP1K8v2SB9Mg/zKsXq+lb6z86PlK4Tb7cP/Wjl0/uJN4/Px8uRLFN5j8t2DoJluLVP6BmN27Y1eM/AAAAAAAA8D+zoktSr9DRv8RRT04Aq+Y/FpRWfVcyyj9XV4rfKrrfPzRZ0aX/S9y/W/m5gjwVtb9SvL9kgfTIP7OiS1Kv0NG/AAAAAAAA8D+FZgRfOiOgP0dwNJLsGOQ/Ka4fbcSO5j9eXOo/9dDfP5vFk+ONYd8/zKsXq+lb6z/EUU9OAKvmP4VmBF86I6A/AAAAAAAA8D8=",
          "dtype": "f8",
          "shape": "8, 8"
         }
        }
       ],
       "layout": {
        "annotations": [
         {
          "font": {
           "color": "white",
           "size": 11
          },
          "showarrow": false,
          "text": "1.000",
          "x": 0,
          "y": 0
         },
         {
          "font": {
           "color": "white",
           "size": 11
          },
          "showarrow": false,
          "text": "0.621",
          "x": 1,
          "y": 0
         },
         {
          "font": {
           "color": "black",
           "size": 11
          },
          "showarrow": false,
          "text": "0.072",
          "x": 2,
          "y": 0
         },
         {
          "font": {
           "color": "black",
           "size": 11
          },
          "showarrow": false,
          "text": "0.181",
          "x": 3,
          "y": 0
         },
         {
          "font": {
           "color": "white",
           "size": 11
          },
          "showarrow": false,
          "text": "0.572",
          "x": 4,
          "y": 0
         },
         {
          "font": {
           "color": "black",
           "size": 11
          },
          "showarrow": false,
          "text": "0.449",
          "x": 5,
          "y": 0
         },
         {
          "font": {
           "color": "black",
           "size": 11
          },
          "showarrow": false,
          "text": "0.205",
          "x": 6,
          "y": 0
         },
         {
          "font": {
           "color": "white",
           "size": 11
          },
          "showarrow": false,
          "text": "0.628",
          "x": 7,
          "y": 0
         },
         {
          "font": {
           "color": "white",
           "size": 11
          },
          "showarrow": false,
          "text": "0.621",
          "x": 0,
          "y": 1
         },
         {
          "font": {
           "color": "white",
           "size": 11
          },
          "showarrow": false,
          "text": "1.000",
          "x": 1,
          "y": 1
         },
         {
          "font": {
           "color": "black",
           "size": 11
          },
          "showarrow": false,
          "text": "0.085",
          "x": 2,
          "y": 1
         },
         {
          "font": {
           "color": "black",
           "size": 11
          },
          "showarrow": false,
          "text": "0.254",
          "x": 3,
          "y": 1
         },
         {
          "font": {
           "color": "white",
           "size": 11
          },
          "showarrow": false,
          "text": "0.744",
          "x": 4,
          "y": 1
         },
         {
          "font": {
           "color": "black",
           "size": 11
          },
          "showarrow": false,
          "text": "0.471",
          "x": 5,
          "y": 1
         },
         {
          "font": {
           "color": "black",
           "size": 11
          },
          "showarrow": false,
          "text": "0.496",
          "x": 6,
          "y": 1
         },
         {
          "font": {
           "color": "white",
           "size": 11
          },
          "showarrow": false,
          "text": "0.705",
          "x": 7,
          "y": 1
         },
         {
          "font": {
           "color": "black",
           "size": 11
          },
          "showarrow": false,
          "text": "0.072",
          "x": 0,
          "y": 2
         },
         {
          "font": {
           "color": "black",
           "size": 11
          },
          "showarrow": false,
          "text": "0.085",
          "x": 1,
          "y": 2
         },
         {
          "font": {
           "color": "white",
           "size": 11
          },
          "showarrow": false,
          "text": "1.000",
          "x": 2,
          "y": 2
         },
         {
          "font": {
           "color": "black",
           "size": 11
          },
          "showarrow": false,
          "text": "0.318",
          "x": 3,
          "y": 2
         },
         {
          "font": {
           "color": "black",
           "size": 11
          },
          "showarrow": false,
          "text": "0.426",
          "x": 4,
          "y": 2
         },
         {
          "font": {
           "color": "white",
           "size": 11
          },
          "showarrow": false,
          "text": "0.697",
          "x": 5,
          "y": 2
         },
         {
          "font": {
           "color": "black",
           "size": 11
          },
          "showarrow": false,
          "text": "-0.442",
          "x": 6,
          "y": 2
         },
         {
          "font": {
           "color": "black",
           "size": 11
          },
          "showarrow": false,
          "text": "0.497",
          "x": 7,
          "y": 2
         },
         {
          "font": {
           "color": "black",
           "size": 11
          },
          "showarrow": false,
          "text": "0.181",
          "x": 0,
          "y": 3
         },
         {
          "font": {
           "color": "black",
           "size": 11
          },
          "showarrow": false,
          "text": "0.254",
          "x": 1,
          "y": 3
         },
         {
          "font": {
           "color": "black",
           "size": 11
          },
          "showarrow": false,
          "text": "0.318",
          "x": 2,
          "y": 3
         },
         {
          "font": {
           "color": "white",
           "size": 11
          },
          "showarrow": false,
          "text": "1.000",
          "x": 3,
          "y": 3
         },
         {
          "font": {
           "color": "white",
           "size": 11
          },
          "showarrow": false,
          "text": "0.538",
          "x": 4,
          "y": 3
         },
         {
          "font": {
           "color": "black",
           "size": 11
          },
          "showarrow": false,
          "text": "0.342",
          "x": 5,
          "y": 3
         },
         {
          "font": {
           "color": "black",
           "size": 11
          },
          "showarrow": false,
          "text": "-0.082",
          "x": 6,
          "y": 3
         },
         {
          "font": {
           "color": "black",
           "size": 11
          },
          "showarrow": false,
          "text": "0.490",
          "x": 7,
          "y": 3
         },
         {
          "font": {
           "color": "white",
           "size": 11
          },
          "showarrow": false,
          "text": "0.572",
          "x": 0,
          "y": 4
         },
         {
          "font": {
           "color": "white",
           "size": 11
          },
          "showarrow": false,
          "text": "0.744",
          "x": 1,
          "y": 4
         },
         {
          "font": {
           "color": "black",
           "size": 11
          },
          "showarrow": false,
          "text": "0.426",
          "x": 2,
          "y": 4
         },
         {
          "font": {
           "color": "white",
           "size": 11
          },
          "showarrow": false,
          "text": "0.538",
          "x": 3,
          "y": 4
         },
         {
          "font": {
           "color": "white",
           "size": 11
          },
          "showarrow": false,
          "text": "1.000",
          "x": 4,
          "y": 4
         },
         {
          "font": {
           "color": "white",
           "size": 11
          },
          "showarrow": false,
          "text": "0.620",
          "x": 5,
          "y": 4
         },
         {
          "font": {
           "color": "black",
           "size": 11
          },
          "showarrow": false,
          "text": "0.195",
          "x": 6,
          "y": 4
         },
         {
          "font": {
           "color": "white",
           "size": 11
          },
          "showarrow": false,
          "text": "0.855",
          "x": 7,
          "y": 4
         },
         {
          "font": {
           "color": "black",
           "size": 11
          },
          "showarrow": false,
          "text": "0.449",
          "x": 0,
          "y": 5
         },
         {
          "font": {
           "color": "black",
           "size": 11
          },
          "showarrow": false,
          "text": "0.471",
          "x": 1,
          "y": 5
         },
         {
          "font": {
           "color": "white",
           "size": 11
          },
          "showarrow": false,
          "text": "0.697",
          "x": 2,
          "y": 5
         },
         {
          "font": {
           "color": "black",
           "size": 11
          },
          "showarrow": false,
          "text": "0.342",
          "x": 3,
          "y": 5
         },
         {
          "font": {
           "color": "white",
           "size": 11
          },
          "showarrow": false,
          "text": "0.620",
          "x": 4,
          "y": 5
         },
         {
          "font": {
           "color": "white",
           "size": 11
          },
          "showarrow": false,
          "text": "1.000",
          "x": 5,
          "y": 5
         },
         {
          "font": {
           "color": "black",
           "size": 11
          },
          "showarrow": false,
          "text": "-0.278",
          "x": 6,
          "y": 5
         },
         {
          "font": {
           "color": "white",
           "size": 11
          },
          "showarrow": false,
          "text": "0.708",
          "x": 7,
          "y": 5
         },
         {
          "font": {
           "color": "black",
           "size": 11
          },
          "showarrow": false,
          "text": "0.205",
          "x": 0,
          "y": 6
         },
         {
          "font": {
           "color": "black",
           "size": 11
          },
          "showarrow": false,
          "text": "0.496",
          "x": 1,
          "y": 6
         },
         {
          "font": {
           "color": "black",
           "size": 11
          },
          "showarrow": false,
          "text": "-0.442",
          "x": 2,
          "y": 6
         },
         {
          "font": {
           "color": "black",
           "size": 11
          },
          "showarrow": false,
          "text": "-0.082",
          "x": 3,
          "y": 6
         },
         {
          "font": {
           "color": "black",
           "size": 11
          },
          "showarrow": false,
          "text": "0.195",
          "x": 4,
          "y": 6
         },
         {
          "font": {
           "color": "black",
           "size": 11
          },
          "showarrow": false,
          "text": "-0.278",
          "x": 5,
          "y": 6
         },
         {
          "font": {
           "color": "white",
           "size": 11
          },
          "showarrow": false,
          "text": "1.000",
          "x": 6,
          "y": 6
         },
         {
          "font": {
           "color": "black",
           "size": 11
          },
          "showarrow": false,
          "text": "0.032",
          "x": 7,
          "y": 6
         },
         {
          "font": {
           "color": "white",
           "size": 11
          },
          "showarrow": false,
          "text": "0.628",
          "x": 0,
          "y": 7
         },
         {
          "font": {
           "color": "white",
           "size": 11
          },
          "showarrow": false,
          "text": "0.705",
          "x": 1,
          "y": 7
         },
         {
          "font": {
           "color": "black",
           "size": 11
          },
          "showarrow": false,
          "text": "0.497",
          "x": 2,
          "y": 7
         },
         {
          "font": {
           "color": "black",
           "size": 11
          },
          "showarrow": false,
          "text": "0.490",
          "x": 3,
          "y": 7
         },
         {
          "font": {
           "color": "white",
           "size": 11
          },
          "showarrow": false,
          "text": "0.855",
          "x": 4,
          "y": 7
         },
         {
          "font": {
           "color": "white",
           "size": 11
          },
          "showarrow": false,
          "text": "0.708",
          "x": 5,
          "y": 7
         },
         {
          "font": {
           "color": "black",
           "size": 11
          },
          "showarrow": false,
          "text": "0.032",
          "x": 6,
          "y": 7
         },
         {
          "font": {
           "color": "white",
           "size": 11
          },
          "showarrow": false,
          "text": "1.000",
          "x": 7,
          "y": 7
         }
        ],
        "coloraxis": {
         "cmax": 1,
         "cmin": -1,
         "colorbar": {
          "title": {
           "text": "Correlação"
          }
         },
         "colorscale": [
          [
           0,
           "rgb(5,48,97)"
          ],
          [
           0.1,
           "rgb(33,102,172)"
          ],
          [
           0.2,
           "rgb(67,147,195)"
          ],
          [
           0.3,
           "rgb(146,197,222)"
          ],
          [
           0.4,
           "rgb(209,229,240)"
          ],
          [
           0.5,
           "rgb(247,247,247)"
          ],
          [
           0.6,
           "rgb(253,219,199)"
          ],
          [
           0.7,
           "rgb(244,165,130)"
          ],
          [
           0.8,
           "rgb(214,96,77)"
          ],
          [
           0.9,
           "rgb(178,24,43)"
          ],
          [
           1,
           "rgb(103,0,31)"
          ]
         ]
        },
        "height": 700,
        "template": {
         "data": {
          "bar": [
           {
            "error_x": {
             "color": "#2a3f5f"
            },
            "error_y": {
             "color": "#2a3f5f"
            },
            "marker": {
             "line": {
              "color": "#E5ECF6",
              "width": 0.5
             },
             "pattern": {
              "fillmode": "overlay",
              "size": 10,
              "solidity": 0.2
             }
            },
            "type": "bar"
           }
          ],
          "barpolar": [
           {
            "marker": {
             "line": {
              "color": "#E5ECF6",
              "width": 0.5
             },
             "pattern": {
              "fillmode": "overlay",
              "size": 10,
              "solidity": 0.2
             }
            },
            "type": "barpolar"
           }
          ],
          "carpet": [
           {
            "aaxis": {
             "endlinecolor": "#2a3f5f",
             "gridcolor": "white",
             "linecolor": "white",
             "minorgridcolor": "white",
             "startlinecolor": "#2a3f5f"
            },
            "baxis": {
             "endlinecolor": "#2a3f5f",
             "gridcolor": "white",
             "linecolor": "white",
             "minorgridcolor": "white",
             "startlinecolor": "#2a3f5f"
            },
            "type": "carpet"
           }
          ],
          "choropleth": [
           {
            "colorbar": {
             "outlinewidth": 0,
             "ticks": ""
            },
            "type": "choropleth"
           }
          ],
          "contour": [
           {
            "colorbar": {
             "outlinewidth": 0,
             "ticks": ""
            },
            "colorscale": [
             [
              0,
              "#0d0887"
             ],
             [
              0.1111111111111111,
              "#46039f"
             ],
             [
              0.2222222222222222,
              "#7201a8"
             ],
             [
              0.3333333333333333,
              "#9c179e"
             ],
             [
              0.4444444444444444,
              "#bd3786"
             ],
             [
              0.5555555555555556,
              "#d8576b"
             ],
             [
              0.6666666666666666,
              "#ed7953"
             ],
             [
              0.7777777777777778,
              "#fb9f3a"
             ],
             [
              0.8888888888888888,
              "#fdca26"
             ],
             [
              1,
              "#f0f921"
             ]
            ],
            "type": "contour"
           }
          ],
          "contourcarpet": [
           {
            "colorbar": {
             "outlinewidth": 0,
             "ticks": ""
            },
            "type": "contourcarpet"
           }
          ],
          "heatmap": [
           {
            "colorbar": {
             "outlinewidth": 0,
             "ticks": ""
            },
            "colorscale": [
             [
              0,
              "#0d0887"
             ],
             [
              0.1111111111111111,
              "#46039f"
             ],
             [
              0.2222222222222222,
              "#7201a8"
             ],
             [
              0.3333333333333333,
              "#9c179e"
             ],
             [
              0.4444444444444444,
              "#bd3786"
             ],
             [
              0.5555555555555556,
              "#d8576b"
             ],
             [
              0.6666666666666666,
              "#ed7953"
             ],
             [
              0.7777777777777778,
              "#fb9f3a"
             ],
             [
              0.8888888888888888,
              "#fdca26"
             ],
             [
              1,
              "#f0f921"
             ]
            ],
            "type": "heatmap"
           }
          ],
          "histogram": [
           {
            "marker": {
             "pattern": {
              "fillmode": "overlay",
              "size": 10,
              "solidity": 0.2
             }
            },
            "type": "histogram"
           }
          ],
          "histogram2d": [
           {
            "colorbar": {
             "outlinewidth": 0,
             "ticks": ""
            },
            "colorscale": [
             [
              0,
              "#0d0887"
             ],
             [
              0.1111111111111111,
              "#46039f"
             ],
             [
              0.2222222222222222,
              "#7201a8"
             ],
             [
              0.3333333333333333,
              "#9c179e"
             ],
             [
              0.4444444444444444,
              "#bd3786"
             ],
             [
              0.5555555555555556,
              "#d8576b"
             ],
             [
              0.6666666666666666,
              "#ed7953"
             ],
             [
              0.7777777777777778,
              "#fb9f3a"
             ],
             [
              0.8888888888888888,
              "#fdca26"
             ],
             [
              1,
              "#f0f921"
             ]
            ],
            "type": "histogram2d"
           }
          ],
          "histogram2dcontour": [
           {
            "colorbar": {
             "outlinewidth": 0,
             "ticks": ""
            },
            "colorscale": [
             [
              0,
              "#0d0887"
             ],
             [
              0.1111111111111111,
              "#46039f"
             ],
             [
              0.2222222222222222,
              "#7201a8"
             ],
             [
              0.3333333333333333,
              "#9c179e"
             ],
             [
              0.4444444444444444,
              "#bd3786"
             ],
             [
              0.5555555555555556,
              "#d8576b"
             ],
             [
              0.6666666666666666,
              "#ed7953"
             ],
             [
              0.7777777777777778,
              "#fb9f3a"
             ],
             [
              0.8888888888888888,
              "#fdca26"
             ],
             [
              1,
              "#f0f921"
             ]
            ],
            "type": "histogram2dcontour"
           }
          ],
          "mesh3d": [
           {
            "colorbar": {
             "outlinewidth": 0,
             "ticks": ""
            },
            "type": "mesh3d"
           }
          ],
          "parcoords": [
           {
            "line": {
             "colorbar": {
              "outlinewidth": 0,
              "ticks": ""
             }
            },
            "type": "parcoords"
           }
          ],
          "pie": [
           {
            "automargin": true,
            "type": "pie"
           }
          ],
          "scatter": [
           {
            "fillpattern": {
             "fillmode": "overlay",
             "size": 10,
             "solidity": 0.2
            },
            "type": "scatter"
           }
          ],
          "scatter3d": [
           {
            "line": {
             "colorbar": {
              "outlinewidth": 0,
              "ticks": ""
             }
            },
            "marker": {
             "colorbar": {
              "outlinewidth": 0,
              "ticks": ""
             }
            },
            "type": "scatter3d"
           }
          ],
          "scattercarpet": [
           {
            "marker": {
             "colorbar": {
              "outlinewidth": 0,
              "ticks": ""
             }
            },
            "type": "scattercarpet"
           }
          ],
          "scattergeo": [
           {
            "marker": {
             "colorbar": {
              "outlinewidth": 0,
              "ticks": ""
             }
            },
            "type": "scattergeo"
           }
          ],
          "scattergl": [
           {
            "marker": {
             "colorbar": {
              "outlinewidth": 0,
              "ticks": ""
             }
            },
            "type": "scattergl"
           }
          ],
          "scattermap": [
           {
            "marker": {
             "colorbar": {
              "outlinewidth": 0,
              "ticks": ""
             }
            },
            "type": "scattermap"
           }
          ],
          "scattermapbox": [
           {
            "marker": {
             "colorbar": {
              "outlinewidth": 0,
              "ticks": ""
             }
            },
            "type": "scattermapbox"
           }
          ],
          "scatterpolar": [
           {
            "marker": {
             "colorbar": {
              "outlinewidth": 0,
              "ticks": ""
             }
            },
            "type": "scatterpolar"
           }
          ],
          "scatterpolargl": [
           {
            "marker": {
             "colorbar": {
              "outlinewidth": 0,
              "ticks": ""
             }
            },
            "type": "scatterpolargl"
           }
          ],
          "scatterternary": [
           {
            "marker": {
             "colorbar": {
              "outlinewidth": 0,
              "ticks": ""
             }
            },
            "type": "scatterternary"
           }
          ],
          "surface": [
           {
            "colorbar": {
             "outlinewidth": 0,
             "ticks": ""
            },
            "colorscale": [
             [
              0,
              "#0d0887"
             ],
             [
              0.1111111111111111,
              "#46039f"
             ],
             [
              0.2222222222222222,
              "#7201a8"
             ],
             [
              0.3333333333333333,
              "#9c179e"
             ],
             [
              0.4444444444444444,
              "#bd3786"
             ],
             [
              0.5555555555555556,
              "#d8576b"
             ],
             [
              0.6666666666666666,
              "#ed7953"
             ],
             [
              0.7777777777777778,
              "#fb9f3a"
             ],
             [
              0.8888888888888888,
              "#fdca26"
             ],
             [
              1,
              "#f0f921"
             ]
            ],
            "type": "surface"
           }
          ],
          "table": [
           {
            "cells": {
             "fill": {
              "color": "#EBF0F8"
             },
             "line": {
              "color": "white"
             }
            },
            "header": {
             "fill": {
              "color": "#C8D4E3"
             },
             "line": {
              "color": "white"
             }
            },
            "type": "table"
           }
          ]
         },
         "layout": {
          "annotationdefaults": {
           "arrowcolor": "#2a3f5f",
           "arrowhead": 0,
           "arrowwidth": 1
          },
          "autotypenumbers": "strict",
          "coloraxis": {
           "colorbar": {
            "outlinewidth": 0,
            "ticks": ""
           }
          },
          "colorscale": {
           "diverging": [
            [
             0,
             "#8e0152"
            ],
            [
             0.1,
             "#c51b7d"
            ],
            [
             0.2,
             "#de77ae"
            ],
            [
             0.3,
             "#f1b6da"
            ],
            [
             0.4,
             "#fde0ef"
            ],
            [
             0.5,
             "#f7f7f7"
            ],
            [
             0.6,
             "#e6f5d0"
            ],
            [
             0.7,
             "#b8e186"
            ],
            [
             0.8,
             "#7fbc41"
            ],
            [
             0.9,
             "#4d9221"
            ],
            [
             1,
             "#276419"
            ]
           ],
           "sequential": [
            [
             0,
             "#0d0887"
            ],
            [
             0.1111111111111111,
             "#46039f"
            ],
            [
             0.2222222222222222,
             "#7201a8"
            ],
            [
             0.3333333333333333,
             "#9c179e"
            ],
            [
             0.4444444444444444,
             "#bd3786"
            ],
            [
             0.5555555555555556,
             "#d8576b"
            ],
            [
             0.6666666666666666,
             "#ed7953"
            ],
            [
             0.7777777777777778,
             "#fb9f3a"
            ],
            [
             0.8888888888888888,
             "#fdca26"
            ],
            [
             1,
             "#f0f921"
            ]
           ],
           "sequentialminus": [
            [
             0,
             "#0d0887"
            ],
            [
             0.1111111111111111,
             "#46039f"
            ],
            [
             0.2222222222222222,
             "#7201a8"
            ],
            [
             0.3333333333333333,
             "#9c179e"
            ],
            [
             0.4444444444444444,
             "#bd3786"
            ],
            [
             0.5555555555555556,
             "#d8576b"
            ],
            [
             0.6666666666666666,
             "#ed7953"
            ],
            [
             0.7777777777777778,
             "#fb9f3a"
            ],
            [
             0.8888888888888888,
             "#fdca26"
            ],
            [
             1,
             "#f0f921"
            ]
           ]
          },
          "colorway": [
           "#636efa",
           "#EF553B",
           "#00cc96",
           "#ab63fa",
           "#FFA15A",
           "#19d3f3",
           "#FF6692",
           "#B6E880",
           "#FF97FF",
           "#FECB52"
          ],
          "font": {
           "color": "#2a3f5f"
          },
          "geo": {
           "bgcolor": "white",
           "lakecolor": "white",
           "landcolor": "#E5ECF6",
           "showlakes": true,
           "showland": true,
           "subunitcolor": "white"
          },
          "hoverlabel": {
           "align": "left"
          },
          "hovermode": "closest",
          "mapbox": {
           "style": "light"
          },
          "paper_bgcolor": "white",
          "plot_bgcolor": "#E5ECF6",
          "polar": {
           "angularaxis": {
            "gridcolor": "white",
            "linecolor": "white",
            "ticks": ""
           },
           "bgcolor": "#E5ECF6",
           "radialaxis": {
            "gridcolor": "white",
            "linecolor": "white",
            "ticks": ""
           }
          },
          "scene": {
           "xaxis": {
            "backgroundcolor": "#E5ECF6",
            "gridcolor": "white",
            "gridwidth": 2,
            "linecolor": "white",
            "showbackground": true,
            "ticks": "",
            "zerolinecolor": "white"
           },
           "yaxis": {
            "backgroundcolor": "#E5ECF6",
            "gridcolor": "white",
            "gridwidth": 2,
            "linecolor": "white",
            "showbackground": true,
            "ticks": "",
            "zerolinecolor": "white"
           },
           "zaxis": {
            "backgroundcolor": "#E5ECF6",
            "gridcolor": "white",
            "gridwidth": 2,
            "linecolor": "white",
            "showbackground": true,
            "ticks": "",
            "zerolinecolor": "white"
           }
          },
          "shapedefaults": {
           "line": {
            "color": "#2a3f5f"
           }
          },
          "ternary": {
           "aaxis": {
            "gridcolor": "white",
            "linecolor": "white",
            "ticks": ""
           },
           "baxis": {
            "gridcolor": "white",
            "linecolor": "white",
            "ticks": ""
           },
           "bgcolor": "#E5ECF6",
           "caxis": {
            "gridcolor": "white",
            "linecolor": "white",
            "ticks": ""
           }
          },
          "title": {
           "x": 0.05
          },
          "xaxis": {
           "automargin": true,
           "gridcolor": "white",
           "linecolor": "white",
           "ticks": "",
           "title": {
            "standoff": 15
           },
           "zerolinecolor": "white",
           "zerolinewidth": 2
          },
          "yaxis": {
           "automargin": true,
           "gridcolor": "white",
           "linecolor": "white",
           "ticks": "",
           "title": {
            "standoff": 15
           },
           "zerolinecolor": "white",
           "zerolinewidth": 2
          }
         }
        },
        "title": {
         "font": {
          "size": 16
         },
         "text": "Matriz de Correlação entre Variáveis",
         "x": 0.5,
         "xanchor": "center"
        },
        "width": 800,
        "xaxis": {
         "anchor": "y",
         "domain": [
          0,
          1
         ],
         "tickangle": 45,
         "title": {
          "text": "Variáveis"
         }
        },
        "yaxis": {
         "anchor": "x",
         "autorange": "reversed",
         "domain": [
          0,
          1
         ],
         "title": {
          "text": "Variáveis"
         }
        }
       }
      }
     },
     "metadata": {},
     "output_type": "display_data"
    }
   ],
   "source": [
    "# Criar heatmap de correlação\n",
    "fig = px.imshow(correlation_matrix,\n",
    "                labels=dict(x=\"Variáveis\", y=\"Variáveis\", color=\"Correlação\"),\n",
    "                x=correlation_matrix.columns,\n",
    "                y=correlation_matrix.index,\n",
    "                color_continuous_scale='RdBu_r',\n",
    "                aspect=\"auto\",\n",
    "                title='Matriz de Correlação entre Variáveis')\n",
    "\n",
    "# Adicionar valores de correlação nas células\n",
    "for i in range(len(correlation_matrix.index)):\n",
    "    for j in range(len(correlation_matrix.columns)):\n",
    "        fig.add_annotation(x=j, y=i,\n",
    "                          text=f'{correlation_matrix.iloc[i, j]:.3f}',\n",
    "                          showarrow=False,\n",
    "                          font=dict(\n",
    "                              color=\"white\" if abs(correlation_matrix.iloc[i, j]) > 0.5 else \"black\",\n",
    "                              size=11\n",
    "                          ))\n",
    "\n",
    "# Personalizar layout\n",
    "fig.update_layout(\n",
    "    title={\n",
    "        'text': 'Matriz de Correlação entre Variáveis',\n",
    "        'x': 0.5,\n",
    "        'xanchor': 'center',\n",
    "        'font': {'size': 16}\n",
    "    },\n",
    "    width=800,\n",
    "    height=700,\n",
    "    xaxis_tickangle=45\n",
    ")\n",
    "\n",
    "# Ajustar escala de cores para destacar correlações fortes\n",
    "fig.update_coloraxes(\n",
    "    colorbar_title=\"Correlação\",\n",
    "    cmin=-1, \n",
    "    cmax=1\n",
    ")\n",
    "\n",
    "# Exibir o gráfico\n",
    "fig.show()"
   ]
  },
  {
   "cell_type": "code",
   "execution_count": 38,
   "id": "7d1de7ed",
   "metadata": {},
   "outputs": [
    {
     "name": "stdout",
     "output_type": "stream",
     "text": [
      "Correlação entre variáveis:\n",
      "\n",
      "Correlações fracas (0.1 < |r| ≤ 0.3):\n",
      "  Estado Civil ↔ Gênero: -0.278 (negativa, fraca)\n",
      "  Renda ↔ Educação: 0.254 (positiva, fraca)\n",
      "  Idade ↔ Gênero: 0.205 (positiva, fraca)\n",
      "  Credit Score ↔ Gênero: 0.195 (positiva, fraca)\n",
      "  Idade ↔ Educação: 0.181 (positiva, fraca)\n",
      "\n",
      "Correlações moderadas (0.3 < |r| ≤ 0.7):\n",
      "  Nº Filhos ↔ Estado Civil: 0.697 (positiva, moderada)\n",
      "  Idade ↔ Casa Própria: 0.628 (positiva, moderada)\n",
      "  Idade ↔ Renda: 0.621 (positiva, moderada)\n",
      "  Credit Score ↔ Estado Civil: 0.620 (positiva, moderada)\n",
      "  Idade ↔ Credit Score: 0.572 (positiva, moderada)\n",
      "  Educação ↔ Credit Score: 0.538 (positiva, moderada)\n",
      "  Nº Filhos ↔ Casa Própria: 0.497 (positiva, moderada)\n",
      "  Renda ↔ Gênero: 0.496 (positiva, moderada)\n",
      "  Educação ↔ Casa Própria: 0.490 (positiva, moderada)\n",
      "  Renda ↔ Estado Civil: 0.471 (positiva, moderada)\n",
      "  Idade ↔ Estado Civil: 0.449 (positiva, moderada)\n",
      "  Nº Filhos ↔ Gênero: -0.442 (negativa, moderada)\n",
      "  Nº Filhos ↔ Credit Score: 0.426 (positiva, moderada)\n",
      "  Educação ↔ Estado Civil: 0.342 (positiva, moderada)\n",
      "  Nº Filhos ↔ Educação: 0.318 (positiva, moderada)\n",
      "\n",
      "Correlações fortes (|r| > 0.7):\n",
      "  Credit Score ↔ Casa Própria: 0.855 (positiva, forte)\n",
      "  Renda ↔ Credit Score: 0.744 (positiva, forte)\n",
      "  Estado Civil ↔ Casa Própria: 0.708 (positiva, forte)\n",
      "  Renda ↔ Casa Própria: 0.705 (positiva, forte)\n"
     ]
    }
   ],
   "source": [
    "print(\"Correlação entre variáveis:\")\n",
    "\n",
    "correlations_list = []\n",
    "for i in range(len(correlation_matrix.index)):\n",
    "    for j in range(i+1, len(correlation_matrix.columns)):\n",
    "        corr_value = correlation_matrix.iloc[i, j]\n",
    "        correlations_list.append({\n",
    "            'Variavel_1': correlation_matrix.index[i],\n",
    "            'Variavel_2': correlation_matrix.columns[j],\n",
    "            'Correlacao': corr_value\n",
    "        })\n",
    "\n",
    "# Ordenar por valor absoluto da correlação\n",
    "correlations_list.sort(key=lambda x: abs(x['Correlacao']), reverse=True)\n",
    "\n",
    "# Listas separadas\n",
    "fracas = [c for c in correlations_list if 0.1 < abs(c['Correlacao']) <= 0.3]\n",
    "moderadas = [c for c in correlations_list if 0.3 < abs(c['Correlacao']) <= 0.7]\n",
    "fortes = [c for c in correlations_list if abs(c['Correlacao']) > 0.7]\n",
    "\n",
    "def imprimir(lista, titulo, tipo):\n",
    "    print(f\"\\n{titulo}:\")\n",
    "    if lista:\n",
    "        for corr in lista:\n",
    "            direction = \"positiva\" if corr['Correlacao'] > 0 else \"negativa\"\n",
    "            print(f\"  {corr['Variavel_1']} ↔ {corr['Variavel_2']}: {corr['Correlacao']:.3f} ({direction}, {tipo})\")\n",
    "    else:\n",
    "        print(\"  Nenhuma encontrada.\")\n",
    "\n",
    "imprimir(fracas, \"Correlações fracas (0.1 < |r| ≤ 0.3)\", \"fraca\")\n",
    "imprimir(moderadas, \"Correlações moderadas (0.3 < |r| ≤ 0.7)\", \"moderada\")\n",
    "imprimir(fortes, \"Correlações fortes (|r| > 0.7)\", \"forte\")\n"
   ]
  },
  {
   "cell_type": "markdown",
   "id": "12a59a54",
   "metadata": {},
   "source": [
    "#### 3.3.3 Tratamento com Label Encoder/One Hot\n",
    "\n",
    "* **Label Encoder**: Education, Credit Score\n",
    "* **One Hot Encoder**: Marital Status, Gender, Home Ownership"
   ]
  },
  {
   "cell_type": "code",
   "execution_count": 39,
   "id": "df70f313",
   "metadata": {},
   "outputs": [
    {
     "data": {
      "text/html": [
       "<div>\n",
       "<style scoped>\n",
       "    .dataframe tbody tr th:only-of-type {\n",
       "        vertical-align: middle;\n",
       "    }\n",
       "\n",
       "    .dataframe tbody tr th {\n",
       "        vertical-align: top;\n",
       "    }\n",
       "\n",
       "    .dataframe thead th {\n",
       "        text-align: right;\n",
       "    }\n",
       "</style>\n",
       "<table border=\"1\" class=\"dataframe\">\n",
       "  <thead>\n",
       "    <tr style=\"text-align: right;\">\n",
       "      <th></th>\n",
       "      <th>Age</th>\n",
       "      <th>Income</th>\n",
       "      <th>Education</th>\n",
       "      <th>Number of Children</th>\n",
       "      <th>Credit Score</th>\n",
       "      <th>Marital_Single</th>\n",
       "      <th>Gender_Male</th>\n",
       "      <th>Home_Rented</th>\n",
       "    </tr>\n",
       "  </thead>\n",
       "  <tbody>\n",
       "    <tr>\n",
       "      <th>0</th>\n",
       "      <td>25</td>\n",
       "      <td>50000.0</td>\n",
       "      <td>1</td>\n",
       "      <td>0</td>\n",
       "      <td>1</td>\n",
       "      <td>1</td>\n",
       "      <td>0</td>\n",
       "      <td>1</td>\n",
       "    </tr>\n",
       "    <tr>\n",
       "      <th>1</th>\n",
       "      <td>30</td>\n",
       "      <td>100000.0</td>\n",
       "      <td>4</td>\n",
       "      <td>2</td>\n",
       "      <td>1</td>\n",
       "      <td>0</td>\n",
       "      <td>1</td>\n",
       "      <td>0</td>\n",
       "    </tr>\n",
       "    <tr>\n",
       "      <th>2</th>\n",
       "      <td>35</td>\n",
       "      <td>75000.0</td>\n",
       "      <td>2</td>\n",
       "      <td>1</td>\n",
       "      <td>1</td>\n",
       "      <td>0</td>\n",
       "      <td>0</td>\n",
       "      <td>0</td>\n",
       "    </tr>\n",
       "    <tr>\n",
       "      <th>3</th>\n",
       "      <td>40</td>\n",
       "      <td>125000.0</td>\n",
       "      <td>3</td>\n",
       "      <td>0</td>\n",
       "      <td>1</td>\n",
       "      <td>1</td>\n",
       "      <td>1</td>\n",
       "      <td>0</td>\n",
       "    </tr>\n",
       "    <tr>\n",
       "      <th>4</th>\n",
       "      <td>45</td>\n",
       "      <td>100000.0</td>\n",
       "      <td>1</td>\n",
       "      <td>3</td>\n",
       "      <td>1</td>\n",
       "      <td>0</td>\n",
       "      <td>0</td>\n",
       "      <td>0</td>\n",
       "    </tr>\n",
       "  </tbody>\n",
       "</table>\n",
       "</div>"
      ],
      "text/plain": [
       "   Age    Income  Education  Number of Children  Credit Score  Marital_Single  \\\n",
       "0   25   50000.0          1                   0             1               1   \n",
       "1   30  100000.0          4                   2             1               0   \n",
       "2   35   75000.0          2                   1             1               0   \n",
       "3   40  125000.0          3                   0             1               1   \n",
       "4   45  100000.0          1                   3             1               0   \n",
       "\n",
       "   Gender_Male  Home_Rented  \n",
       "0            0            1  \n",
       "1            1            0  \n",
       "2            0            0  \n",
       "3            1            0  \n",
       "4            0            0  "
      ]
     },
     "execution_count": 39,
     "metadata": {},
     "output_type": "execute_result"
    }
   ],
   "source": [
    "# Instanciar os codificadores de rótulos\n",
    "le = LabelEncoder()\n",
    "\n",
    "# Criar uma cópia do DataFrame original para codificação\n",
    "df_encoded = df.copy()\n",
    "\n",
    "# Aplicar Label Encoding\n",
    "df_encoded['Education'] = le.fit_transform(df_encoded['Education'])\n",
    "df_encoded['Credit Score'] = le.fit_transform(df_encoded['Credit Score'])\n",
    "\n",
    "\n",
    "df_encoded = pd.get_dummies(\n",
    "    df_encoded, \n",
    "    columns=['Marital Status', 'Gender', 'Home Ownership'], \n",
    "    drop_first=True, \n",
    "    prefix=['Marital','Gender', 'Home']\n",
    ")\n",
    "\n",
    "\n",
    "for col in df_encoded.columns:\n",
    "    if df_encoded[col].dtype == 'bool':\n",
    "        df_encoded[col] = df_encoded[col].astype(int)\n",
    "\n",
    "# Exibir as primeiras linhas do DataFrame codificado\n",
    "df_encoded.head()"
   ]
  },
  {
   "cell_type": "code",
   "execution_count": 40,
   "id": "10fd7964",
   "metadata": {},
   "outputs": [
    {
     "data": {
      "text/html": [
       "<div>\n",
       "<style scoped>\n",
       "    .dataframe tbody tr th:only-of-type {\n",
       "        vertical-align: middle;\n",
       "    }\n",
       "\n",
       "    .dataframe tbody tr th {\n",
       "        vertical-align: top;\n",
       "    }\n",
       "\n",
       "    .dataframe thead th {\n",
       "        text-align: right;\n",
       "    }\n",
       "</style>\n",
       "<table border=\"1\" class=\"dataframe\">\n",
       "  <thead>\n",
       "    <tr style=\"text-align: right;\">\n",
       "      <th></th>\n",
       "      <th>Age</th>\n",
       "      <th>Income</th>\n",
       "      <th>Education</th>\n",
       "      <th>Number of Children</th>\n",
       "      <th>Credit Score</th>\n",
       "      <th>Marital_Single</th>\n",
       "      <th>Gender_Male</th>\n",
       "      <th>Home_Rented</th>\n",
       "    </tr>\n",
       "  </thead>\n",
       "  <tbody>\n",
       "    <tr>\n",
       "      <th>Age</th>\n",
       "      <td>1.000000</td>\n",
       "      <td>0.621492</td>\n",
       "      <td>0.171525</td>\n",
       "      <td>0.072432</td>\n",
       "      <td>0.218494</td>\n",
       "      <td>-0.449115</td>\n",
       "      <td>0.204661</td>\n",
       "      <td>-0.628042</td>\n",
       "    </tr>\n",
       "    <tr>\n",
       "      <th>Income</th>\n",
       "      <td>0.621492</td>\n",
       "      <td>1.000000</td>\n",
       "      <td>0.369449</td>\n",
       "      <td>0.084547</td>\n",
       "      <td>0.083698</td>\n",
       "      <td>-0.471004</td>\n",
       "      <td>0.495738</td>\n",
       "      <td>-0.704928</td>\n",
       "    </tr>\n",
       "    <tr>\n",
       "      <th>Education</th>\n",
       "      <td>0.171525</td>\n",
       "      <td>0.369449</td>\n",
       "      <td>1.000000</td>\n",
       "      <td>0.047311</td>\n",
       "      <td>0.334424</td>\n",
       "      <td>-0.067797</td>\n",
       "      <td>0.248671</td>\n",
       "      <td>-0.397043</td>\n",
       "    </tr>\n",
       "    <tr>\n",
       "      <th>Number of Children</th>\n",
       "      <td>0.072432</td>\n",
       "      <td>0.084547</td>\n",
       "      <td>0.047311</td>\n",
       "      <td>1.000000</td>\n",
       "      <td>0.136517</td>\n",
       "      <td>-0.696984</td>\n",
       "      <td>-0.442139</td>\n",
       "      <td>-0.497129</td>\n",
       "    </tr>\n",
       "    <tr>\n",
       "      <th>Credit Score</th>\n",
       "      <td>0.218494</td>\n",
       "      <td>0.083698</td>\n",
       "      <td>0.334424</td>\n",
       "      <td>0.136517</td>\n",
       "      <td>1.000000</td>\n",
       "      <td>-0.205756</td>\n",
       "      <td>-0.247729</td>\n",
       "      <td>-0.293384</td>\n",
       "    </tr>\n",
       "    <tr>\n",
       "      <th>Marital_Single</th>\n",
       "      <td>-0.449115</td>\n",
       "      <td>-0.471004</td>\n",
       "      <td>-0.067797</td>\n",
       "      <td>-0.696984</td>\n",
       "      <td>-0.205756</td>\n",
       "      <td>1.000000</td>\n",
       "      <td>0.278362</td>\n",
       "      <td>0.708374</td>\n",
       "    </tr>\n",
       "    <tr>\n",
       "      <th>Gender_Male</th>\n",
       "      <td>0.204661</td>\n",
       "      <td>0.495738</td>\n",
       "      <td>0.248671</td>\n",
       "      <td>-0.442139</td>\n",
       "      <td>-0.247729</td>\n",
       "      <td>0.278362</td>\n",
       "      <td>1.000000</td>\n",
       "      <td>-0.031519</td>\n",
       "    </tr>\n",
       "    <tr>\n",
       "      <th>Home_Rented</th>\n",
       "      <td>-0.628042</td>\n",
       "      <td>-0.704928</td>\n",
       "      <td>-0.397043</td>\n",
       "      <td>-0.497129</td>\n",
       "      <td>-0.293384</td>\n",
       "      <td>0.708374</td>\n",
       "      <td>-0.031519</td>\n",
       "      <td>1.000000</td>\n",
       "    </tr>\n",
       "  </tbody>\n",
       "</table>\n",
       "</div>"
      ],
      "text/plain": [
       "                         Age    Income  Education  Number of Children  \\\n",
       "Age                 1.000000  0.621492   0.171525            0.072432   \n",
       "Income              0.621492  1.000000   0.369449            0.084547   \n",
       "Education           0.171525  0.369449   1.000000            0.047311   \n",
       "Number of Children  0.072432  0.084547   0.047311            1.000000   \n",
       "Credit Score        0.218494  0.083698   0.334424            0.136517   \n",
       "Marital_Single     -0.449115 -0.471004  -0.067797           -0.696984   \n",
       "Gender_Male         0.204661  0.495738   0.248671           -0.442139   \n",
       "Home_Rented        -0.628042 -0.704928  -0.397043           -0.497129   \n",
       "\n",
       "                    Credit Score  Marital_Single  Gender_Male  Home_Rented  \n",
       "Age                     0.218494       -0.449115     0.204661    -0.628042  \n",
       "Income                  0.083698       -0.471004     0.495738    -0.704928  \n",
       "Education               0.334424       -0.067797     0.248671    -0.397043  \n",
       "Number of Children      0.136517       -0.696984    -0.442139    -0.497129  \n",
       "Credit Score            1.000000       -0.205756    -0.247729    -0.293384  \n",
       "Marital_Single         -0.205756        1.000000     0.278362     0.708374  \n",
       "Gender_Male            -0.247729        0.278362     1.000000    -0.031519  \n",
       "Home_Rented            -0.293384        0.708374    -0.031519     1.000000  "
      ]
     },
     "execution_count": 40,
     "metadata": {},
     "output_type": "execute_result"
    }
   ],
   "source": [
    "df_encoded.corr()"
   ]
  },
  {
   "cell_type": "code",
   "execution_count": 41,
   "id": "ccd3c01a",
   "metadata": {},
   "outputs": [],
   "source": [
    "# Selecionar apenas as colunas numéricas para a matriz de correlação\n",
    "numeric_vars2 = [\n",
    "    'Age', 'Income', 'Number of Children',\n",
    "    'Education', 'Credit Score', \n",
    "    'Marital_Single', 'Gender_Male', 'Home_Rented'\n",
    "]\n",
    "\n",
    "# Matriz de correlação\n",
    "correlation_matrix2 = df_encoded[numeric_vars2].corr()\n",
    "\n",
    "# Renomear colunas/índices para melhor visualização\n",
    "correlation_matrix2.index = ['Idade', 'Renda', 'Nº Filhos', 'Educação', 'Credit Score', 'Solteiro', 'Masculino', 'Alugada']\n",
    "correlation_matrix2.columns = ['Idade', 'Renda', 'Nº Filhos', 'Educação', 'Credit Score', 'Solteiro', 'Masculino', 'Alugada']"
   ]
  },
  {
   "cell_type": "code",
   "execution_count": 42,
   "id": "ed2f7ae6",
   "metadata": {},
   "outputs": [
    {
     "data": {
      "application/vnd.plotly.v1+json": {
       "config": {
        "plotlyServerURL": "https://plot.ly"
       },
       "data": [
        {
         "coloraxis": "coloraxis",
         "hovertemplate": "Variáveis: %{x}<br>Variáveis: %{y}<br>Correlação: %{z}<extra></extra>",
         "name": "0",
         "type": "heatmap",
         "x": [
          "Idade",
          "Renda",
          "Nº Filhos",
          "Educação",
          "Credit Score",
          "Solteiro",
          "Masculino",
          "Alugada"
         ],
         "xaxis": "x",
         "y": [
          "Idade",
          "Renda",
          "Nº Filhos",
          "Educação",
          "Credit Score",
          "Solteiro",
          "Masculino",
          "Alugada"
         ],
         "yaxis": "y",
         "z": {
          "bdata": "AAAAAAAA8D+2jt+rQuPjP/ZDPkLmirI/W8LMpYj0xT80S4iqoPfLPzo+UrhNvty/FpRWfVcyyj9HcDSS7Bjkv7aO36tC4+M/AAAAAAAA8D+cjcpl2qS1Px6w0kANpdc/9WtjlThttT/1o5dP7iTev1dXit8qut8/LK4fbcSO5r/2Qz5C5oqyP5yNymXapLU/AAAAAAAA8D/al6BzFzmoPyExIHlgecE/QB8uRLFN5r80WdGl/0vcv2Bc6j/10N+/W8LMpYj0xT8esNJADaXXP9qXoHMXOag/AAAAAAAA8D8Bp94ONWfVPyJc8D8fW7G/z8eNiHfUzz/6FKEAJWnZvzRLiKqg98s/9WtjlThttT8hMSB5YHnBPwGn3g41Z9U/AAAAAAAA8D9faPysM1bKv2IX/EaTtc+/+/pbdM7G0r86PlK4Tb7cv/Wjl0/uJN6/QB8uRLFN5r8iXPA/H1uxv19o/KwzVsq/AAAAAAAA8D+woktSr9DRP8RRT04Aq+Y/FpRWfVcyyj9XV4rfKrrfPzRZ0aX/S9y/z8eNiHfUzz9iF/xGk7XPv7CiS1Kv0NE/AAAAAAAA8D+FZgRfOiOgv0dwNJLsGOS/LK4fbcSO5r9gXOo/9dDfv/oUoQAladm/+/pbdM7G0r/EUU9OAKvmP4VmBF86I6C/AAAAAAAA8D8=",
          "dtype": "f8",
          "shape": "8, 8"
         }
        }
       ],
       "layout": {
        "annotations": [
         {
          "font": {
           "color": "white",
           "size": 11
          },
          "showarrow": false,
          "text": "1.000",
          "x": 0,
          "y": 0
         },
         {
          "font": {
           "color": "white",
           "size": 11
          },
          "showarrow": false,
          "text": "0.621",
          "x": 1,
          "y": 0
         },
         {
          "font": {
           "color": "black",
           "size": 11
          },
          "showarrow": false,
          "text": "0.072",
          "x": 2,
          "y": 0
         },
         {
          "font": {
           "color": "black",
           "size": 11
          },
          "showarrow": false,
          "text": "0.172",
          "x": 3,
          "y": 0
         },
         {
          "font": {
           "color": "black",
           "size": 11
          },
          "showarrow": false,
          "text": "0.218",
          "x": 4,
          "y": 0
         },
         {
          "font": {
           "color": "black",
           "size": 11
          },
          "showarrow": false,
          "text": "-0.449",
          "x": 5,
          "y": 0
         },
         {
          "font": {
           "color": "black",
           "size": 11
          },
          "showarrow": false,
          "text": "0.205",
          "x": 6,
          "y": 0
         },
         {
          "font": {
           "color": "white",
           "size": 11
          },
          "showarrow": false,
          "text": "-0.628",
          "x": 7,
          "y": 0
         },
         {
          "font": {
           "color": "white",
           "size": 11
          },
          "showarrow": false,
          "text": "0.621",
          "x": 0,
          "y": 1
         },
         {
          "font": {
           "color": "white",
           "size": 11
          },
          "showarrow": false,
          "text": "1.000",
          "x": 1,
          "y": 1
         },
         {
          "font": {
           "color": "black",
           "size": 11
          },
          "showarrow": false,
          "text": "0.085",
          "x": 2,
          "y": 1
         },
         {
          "font": {
           "color": "black",
           "size": 11
          },
          "showarrow": false,
          "text": "0.369",
          "x": 3,
          "y": 1
         },
         {
          "font": {
           "color": "black",
           "size": 11
          },
          "showarrow": false,
          "text": "0.084",
          "x": 4,
          "y": 1
         },
         {
          "font": {
           "color": "black",
           "size": 11
          },
          "showarrow": false,
          "text": "-0.471",
          "x": 5,
          "y": 1
         },
         {
          "font": {
           "color": "black",
           "size": 11
          },
          "showarrow": false,
          "text": "0.496",
          "x": 6,
          "y": 1
         },
         {
          "font": {
           "color": "white",
           "size": 11
          },
          "showarrow": false,
          "text": "-0.705",
          "x": 7,
          "y": 1
         },
         {
          "font": {
           "color": "black",
           "size": 11
          },
          "showarrow": false,
          "text": "0.072",
          "x": 0,
          "y": 2
         },
         {
          "font": {
           "color": "black",
           "size": 11
          },
          "showarrow": false,
          "text": "0.085",
          "x": 1,
          "y": 2
         },
         {
          "font": {
           "color": "white",
           "size": 11
          },
          "showarrow": false,
          "text": "1.000",
          "x": 2,
          "y": 2
         },
         {
          "font": {
           "color": "black",
           "size": 11
          },
          "showarrow": false,
          "text": "0.047",
          "x": 3,
          "y": 2
         },
         {
          "font": {
           "color": "black",
           "size": 11
          },
          "showarrow": false,
          "text": "0.137",
          "x": 4,
          "y": 2
         },
         {
          "font": {
           "color": "white",
           "size": 11
          },
          "showarrow": false,
          "text": "-0.697",
          "x": 5,
          "y": 2
         },
         {
          "font": {
           "color": "black",
           "size": 11
          },
          "showarrow": false,
          "text": "-0.442",
          "x": 6,
          "y": 2
         },
         {
          "font": {
           "color": "black",
           "size": 11
          },
          "showarrow": false,
          "text": "-0.497",
          "x": 7,
          "y": 2
         },
         {
          "font": {
           "color": "black",
           "size": 11
          },
          "showarrow": false,
          "text": "0.172",
          "x": 0,
          "y": 3
         },
         {
          "font": {
           "color": "black",
           "size": 11
          },
          "showarrow": false,
          "text": "0.369",
          "x": 1,
          "y": 3
         },
         {
          "font": {
           "color": "black",
           "size": 11
          },
          "showarrow": false,
          "text": "0.047",
          "x": 2,
          "y": 3
         },
         {
          "font": {
           "color": "white",
           "size": 11
          },
          "showarrow": false,
          "text": "1.000",
          "x": 3,
          "y": 3
         },
         {
          "font": {
           "color": "black",
           "size": 11
          },
          "showarrow": false,
          "text": "0.334",
          "x": 4,
          "y": 3
         },
         {
          "font": {
           "color": "black",
           "size": 11
          },
          "showarrow": false,
          "text": "-0.068",
          "x": 5,
          "y": 3
         },
         {
          "font": {
           "color": "black",
           "size": 11
          },
          "showarrow": false,
          "text": "0.249",
          "x": 6,
          "y": 3
         },
         {
          "font": {
           "color": "black",
           "size": 11
          },
          "showarrow": false,
          "text": "-0.397",
          "x": 7,
          "y": 3
         },
         {
          "font": {
           "color": "black",
           "size": 11
          },
          "showarrow": false,
          "text": "0.218",
          "x": 0,
          "y": 4
         },
         {
          "font": {
           "color": "black",
           "size": 11
          },
          "showarrow": false,
          "text": "0.084",
          "x": 1,
          "y": 4
         },
         {
          "font": {
           "color": "black",
           "size": 11
          },
          "showarrow": false,
          "text": "0.137",
          "x": 2,
          "y": 4
         },
         {
          "font": {
           "color": "black",
           "size": 11
          },
          "showarrow": false,
          "text": "0.334",
          "x": 3,
          "y": 4
         },
         {
          "font": {
           "color": "white",
           "size": 11
          },
          "showarrow": false,
          "text": "1.000",
          "x": 4,
          "y": 4
         },
         {
          "font": {
           "color": "black",
           "size": 11
          },
          "showarrow": false,
          "text": "-0.206",
          "x": 5,
          "y": 4
         },
         {
          "font": {
           "color": "black",
           "size": 11
          },
          "showarrow": false,
          "text": "-0.248",
          "x": 6,
          "y": 4
         },
         {
          "font": {
           "color": "black",
           "size": 11
          },
          "showarrow": false,
          "text": "-0.293",
          "x": 7,
          "y": 4
         },
         {
          "font": {
           "color": "black",
           "size": 11
          },
          "showarrow": false,
          "text": "-0.449",
          "x": 0,
          "y": 5
         },
         {
          "font": {
           "color": "black",
           "size": 11
          },
          "showarrow": false,
          "text": "-0.471",
          "x": 1,
          "y": 5
         },
         {
          "font": {
           "color": "white",
           "size": 11
          },
          "showarrow": false,
          "text": "-0.697",
          "x": 2,
          "y": 5
         },
         {
          "font": {
           "color": "black",
           "size": 11
          },
          "showarrow": false,
          "text": "-0.068",
          "x": 3,
          "y": 5
         },
         {
          "font": {
           "color": "black",
           "size": 11
          },
          "showarrow": false,
          "text": "-0.206",
          "x": 4,
          "y": 5
         },
         {
          "font": {
           "color": "white",
           "size": 11
          },
          "showarrow": false,
          "text": "1.000",
          "x": 5,
          "y": 5
         },
         {
          "font": {
           "color": "black",
           "size": 11
          },
          "showarrow": false,
          "text": "0.278",
          "x": 6,
          "y": 5
         },
         {
          "font": {
           "color": "white",
           "size": 11
          },
          "showarrow": false,
          "text": "0.708",
          "x": 7,
          "y": 5
         },
         {
          "font": {
           "color": "black",
           "size": 11
          },
          "showarrow": false,
          "text": "0.205",
          "x": 0,
          "y": 6
         },
         {
          "font": {
           "color": "black",
           "size": 11
          },
          "showarrow": false,
          "text": "0.496",
          "x": 1,
          "y": 6
         },
         {
          "font": {
           "color": "black",
           "size": 11
          },
          "showarrow": false,
          "text": "-0.442",
          "x": 2,
          "y": 6
         },
         {
          "font": {
           "color": "black",
           "size": 11
          },
          "showarrow": false,
          "text": "0.249",
          "x": 3,
          "y": 6
         },
         {
          "font": {
           "color": "black",
           "size": 11
          },
          "showarrow": false,
          "text": "-0.248",
          "x": 4,
          "y": 6
         },
         {
          "font": {
           "color": "black",
           "size": 11
          },
          "showarrow": false,
          "text": "0.278",
          "x": 5,
          "y": 6
         },
         {
          "font": {
           "color": "white",
           "size": 11
          },
          "showarrow": false,
          "text": "1.000",
          "x": 6,
          "y": 6
         },
         {
          "font": {
           "color": "black",
           "size": 11
          },
          "showarrow": false,
          "text": "-0.032",
          "x": 7,
          "y": 6
         },
         {
          "font": {
           "color": "white",
           "size": 11
          },
          "showarrow": false,
          "text": "-0.628",
          "x": 0,
          "y": 7
         },
         {
          "font": {
           "color": "white",
           "size": 11
          },
          "showarrow": false,
          "text": "-0.705",
          "x": 1,
          "y": 7
         },
         {
          "font": {
           "color": "black",
           "size": 11
          },
          "showarrow": false,
          "text": "-0.497",
          "x": 2,
          "y": 7
         },
         {
          "font": {
           "color": "black",
           "size": 11
          },
          "showarrow": false,
          "text": "-0.397",
          "x": 3,
          "y": 7
         },
         {
          "font": {
           "color": "black",
           "size": 11
          },
          "showarrow": false,
          "text": "-0.293",
          "x": 4,
          "y": 7
         },
         {
          "font": {
           "color": "white",
           "size": 11
          },
          "showarrow": false,
          "text": "0.708",
          "x": 5,
          "y": 7
         },
         {
          "font": {
           "color": "black",
           "size": 11
          },
          "showarrow": false,
          "text": "-0.032",
          "x": 6,
          "y": 7
         },
         {
          "font": {
           "color": "white",
           "size": 11
          },
          "showarrow": false,
          "text": "1.000",
          "x": 7,
          "y": 7
         }
        ],
        "coloraxis": {
         "cmax": 1,
         "cmin": -1,
         "colorbar": {
          "title": {
           "text": "Correlação"
          }
         },
         "colorscale": [
          [
           0,
           "rgb(5,48,97)"
          ],
          [
           0.1,
           "rgb(33,102,172)"
          ],
          [
           0.2,
           "rgb(67,147,195)"
          ],
          [
           0.3,
           "rgb(146,197,222)"
          ],
          [
           0.4,
           "rgb(209,229,240)"
          ],
          [
           0.5,
           "rgb(247,247,247)"
          ],
          [
           0.6,
           "rgb(253,219,199)"
          ],
          [
           0.7,
           "rgb(244,165,130)"
          ],
          [
           0.8,
           "rgb(214,96,77)"
          ],
          [
           0.9,
           "rgb(178,24,43)"
          ],
          [
           1,
           "rgb(103,0,31)"
          ]
         ]
        },
        "height": 700,
        "template": {
         "data": {
          "bar": [
           {
            "error_x": {
             "color": "#2a3f5f"
            },
            "error_y": {
             "color": "#2a3f5f"
            },
            "marker": {
             "line": {
              "color": "#E5ECF6",
              "width": 0.5
             },
             "pattern": {
              "fillmode": "overlay",
              "size": 10,
              "solidity": 0.2
             }
            },
            "type": "bar"
           }
          ],
          "barpolar": [
           {
            "marker": {
             "line": {
              "color": "#E5ECF6",
              "width": 0.5
             },
             "pattern": {
              "fillmode": "overlay",
              "size": 10,
              "solidity": 0.2
             }
            },
            "type": "barpolar"
           }
          ],
          "carpet": [
           {
            "aaxis": {
             "endlinecolor": "#2a3f5f",
             "gridcolor": "white",
             "linecolor": "white",
             "minorgridcolor": "white",
             "startlinecolor": "#2a3f5f"
            },
            "baxis": {
             "endlinecolor": "#2a3f5f",
             "gridcolor": "white",
             "linecolor": "white",
             "minorgridcolor": "white",
             "startlinecolor": "#2a3f5f"
            },
            "type": "carpet"
           }
          ],
          "choropleth": [
           {
            "colorbar": {
             "outlinewidth": 0,
             "ticks": ""
            },
            "type": "choropleth"
           }
          ],
          "contour": [
           {
            "colorbar": {
             "outlinewidth": 0,
             "ticks": ""
            },
            "colorscale": [
             [
              0,
              "#0d0887"
             ],
             [
              0.1111111111111111,
              "#46039f"
             ],
             [
              0.2222222222222222,
              "#7201a8"
             ],
             [
              0.3333333333333333,
              "#9c179e"
             ],
             [
              0.4444444444444444,
              "#bd3786"
             ],
             [
              0.5555555555555556,
              "#d8576b"
             ],
             [
              0.6666666666666666,
              "#ed7953"
             ],
             [
              0.7777777777777778,
              "#fb9f3a"
             ],
             [
              0.8888888888888888,
              "#fdca26"
             ],
             [
              1,
              "#f0f921"
             ]
            ],
            "type": "contour"
           }
          ],
          "contourcarpet": [
           {
            "colorbar": {
             "outlinewidth": 0,
             "ticks": ""
            },
            "type": "contourcarpet"
           }
          ],
          "heatmap": [
           {
            "colorbar": {
             "outlinewidth": 0,
             "ticks": ""
            },
            "colorscale": [
             [
              0,
              "#0d0887"
             ],
             [
              0.1111111111111111,
              "#46039f"
             ],
             [
              0.2222222222222222,
              "#7201a8"
             ],
             [
              0.3333333333333333,
              "#9c179e"
             ],
             [
              0.4444444444444444,
              "#bd3786"
             ],
             [
              0.5555555555555556,
              "#d8576b"
             ],
             [
              0.6666666666666666,
              "#ed7953"
             ],
             [
              0.7777777777777778,
              "#fb9f3a"
             ],
             [
              0.8888888888888888,
              "#fdca26"
             ],
             [
              1,
              "#f0f921"
             ]
            ],
            "type": "heatmap"
           }
          ],
          "histogram": [
           {
            "marker": {
             "pattern": {
              "fillmode": "overlay",
              "size": 10,
              "solidity": 0.2
             }
            },
            "type": "histogram"
           }
          ],
          "histogram2d": [
           {
            "colorbar": {
             "outlinewidth": 0,
             "ticks": ""
            },
            "colorscale": [
             [
              0,
              "#0d0887"
             ],
             [
              0.1111111111111111,
              "#46039f"
             ],
             [
              0.2222222222222222,
              "#7201a8"
             ],
             [
              0.3333333333333333,
              "#9c179e"
             ],
             [
              0.4444444444444444,
              "#bd3786"
             ],
             [
              0.5555555555555556,
              "#d8576b"
             ],
             [
              0.6666666666666666,
              "#ed7953"
             ],
             [
              0.7777777777777778,
              "#fb9f3a"
             ],
             [
              0.8888888888888888,
              "#fdca26"
             ],
             [
              1,
              "#f0f921"
             ]
            ],
            "type": "histogram2d"
           }
          ],
          "histogram2dcontour": [
           {
            "colorbar": {
             "outlinewidth": 0,
             "ticks": ""
            },
            "colorscale": [
             [
              0,
              "#0d0887"
             ],
             [
              0.1111111111111111,
              "#46039f"
             ],
             [
              0.2222222222222222,
              "#7201a8"
             ],
             [
              0.3333333333333333,
              "#9c179e"
             ],
             [
              0.4444444444444444,
              "#bd3786"
             ],
             [
              0.5555555555555556,
              "#d8576b"
             ],
             [
              0.6666666666666666,
              "#ed7953"
             ],
             [
              0.7777777777777778,
              "#fb9f3a"
             ],
             [
              0.8888888888888888,
              "#fdca26"
             ],
             [
              1,
              "#f0f921"
             ]
            ],
            "type": "histogram2dcontour"
           }
          ],
          "mesh3d": [
           {
            "colorbar": {
             "outlinewidth": 0,
             "ticks": ""
            },
            "type": "mesh3d"
           }
          ],
          "parcoords": [
           {
            "line": {
             "colorbar": {
              "outlinewidth": 0,
              "ticks": ""
             }
            },
            "type": "parcoords"
           }
          ],
          "pie": [
           {
            "automargin": true,
            "type": "pie"
           }
          ],
          "scatter": [
           {
            "fillpattern": {
             "fillmode": "overlay",
             "size": 10,
             "solidity": 0.2
            },
            "type": "scatter"
           }
          ],
          "scatter3d": [
           {
            "line": {
             "colorbar": {
              "outlinewidth": 0,
              "ticks": ""
             }
            },
            "marker": {
             "colorbar": {
              "outlinewidth": 0,
              "ticks": ""
             }
            },
            "type": "scatter3d"
           }
          ],
          "scattercarpet": [
           {
            "marker": {
             "colorbar": {
              "outlinewidth": 0,
              "ticks": ""
             }
            },
            "type": "scattercarpet"
           }
          ],
          "scattergeo": [
           {
            "marker": {
             "colorbar": {
              "outlinewidth": 0,
              "ticks": ""
             }
            },
            "type": "scattergeo"
           }
          ],
          "scattergl": [
           {
            "marker": {
             "colorbar": {
              "outlinewidth": 0,
              "ticks": ""
             }
            },
            "type": "scattergl"
           }
          ],
          "scattermap": [
           {
            "marker": {
             "colorbar": {
              "outlinewidth": 0,
              "ticks": ""
             }
            },
            "type": "scattermap"
           }
          ],
          "scattermapbox": [
           {
            "marker": {
             "colorbar": {
              "outlinewidth": 0,
              "ticks": ""
             }
            },
            "type": "scattermapbox"
           }
          ],
          "scatterpolar": [
           {
            "marker": {
             "colorbar": {
              "outlinewidth": 0,
              "ticks": ""
             }
            },
            "type": "scatterpolar"
           }
          ],
          "scatterpolargl": [
           {
            "marker": {
             "colorbar": {
              "outlinewidth": 0,
              "ticks": ""
             }
            },
            "type": "scatterpolargl"
           }
          ],
          "scatterternary": [
           {
            "marker": {
             "colorbar": {
              "outlinewidth": 0,
              "ticks": ""
             }
            },
            "type": "scatterternary"
           }
          ],
          "surface": [
           {
            "colorbar": {
             "outlinewidth": 0,
             "ticks": ""
            },
            "colorscale": [
             [
              0,
              "#0d0887"
             ],
             [
              0.1111111111111111,
              "#46039f"
             ],
             [
              0.2222222222222222,
              "#7201a8"
             ],
             [
              0.3333333333333333,
              "#9c179e"
             ],
             [
              0.4444444444444444,
              "#bd3786"
             ],
             [
              0.5555555555555556,
              "#d8576b"
             ],
             [
              0.6666666666666666,
              "#ed7953"
             ],
             [
              0.7777777777777778,
              "#fb9f3a"
             ],
             [
              0.8888888888888888,
              "#fdca26"
             ],
             [
              1,
              "#f0f921"
             ]
            ],
            "type": "surface"
           }
          ],
          "table": [
           {
            "cells": {
             "fill": {
              "color": "#EBF0F8"
             },
             "line": {
              "color": "white"
             }
            },
            "header": {
             "fill": {
              "color": "#C8D4E3"
             },
             "line": {
              "color": "white"
             }
            },
            "type": "table"
           }
          ]
         },
         "layout": {
          "annotationdefaults": {
           "arrowcolor": "#2a3f5f",
           "arrowhead": 0,
           "arrowwidth": 1
          },
          "autotypenumbers": "strict",
          "coloraxis": {
           "colorbar": {
            "outlinewidth": 0,
            "ticks": ""
           }
          },
          "colorscale": {
           "diverging": [
            [
             0,
             "#8e0152"
            ],
            [
             0.1,
             "#c51b7d"
            ],
            [
             0.2,
             "#de77ae"
            ],
            [
             0.3,
             "#f1b6da"
            ],
            [
             0.4,
             "#fde0ef"
            ],
            [
             0.5,
             "#f7f7f7"
            ],
            [
             0.6,
             "#e6f5d0"
            ],
            [
             0.7,
             "#b8e186"
            ],
            [
             0.8,
             "#7fbc41"
            ],
            [
             0.9,
             "#4d9221"
            ],
            [
             1,
             "#276419"
            ]
           ],
           "sequential": [
            [
             0,
             "#0d0887"
            ],
            [
             0.1111111111111111,
             "#46039f"
            ],
            [
             0.2222222222222222,
             "#7201a8"
            ],
            [
             0.3333333333333333,
             "#9c179e"
            ],
            [
             0.4444444444444444,
             "#bd3786"
            ],
            [
             0.5555555555555556,
             "#d8576b"
            ],
            [
             0.6666666666666666,
             "#ed7953"
            ],
            [
             0.7777777777777778,
             "#fb9f3a"
            ],
            [
             0.8888888888888888,
             "#fdca26"
            ],
            [
             1,
             "#f0f921"
            ]
           ],
           "sequentialminus": [
            [
             0,
             "#0d0887"
            ],
            [
             0.1111111111111111,
             "#46039f"
            ],
            [
             0.2222222222222222,
             "#7201a8"
            ],
            [
             0.3333333333333333,
             "#9c179e"
            ],
            [
             0.4444444444444444,
             "#bd3786"
            ],
            [
             0.5555555555555556,
             "#d8576b"
            ],
            [
             0.6666666666666666,
             "#ed7953"
            ],
            [
             0.7777777777777778,
             "#fb9f3a"
            ],
            [
             0.8888888888888888,
             "#fdca26"
            ],
            [
             1,
             "#f0f921"
            ]
           ]
          },
          "colorway": [
           "#636efa",
           "#EF553B",
           "#00cc96",
           "#ab63fa",
           "#FFA15A",
           "#19d3f3",
           "#FF6692",
           "#B6E880",
           "#FF97FF",
           "#FECB52"
          ],
          "font": {
           "color": "#2a3f5f"
          },
          "geo": {
           "bgcolor": "white",
           "lakecolor": "white",
           "landcolor": "#E5ECF6",
           "showlakes": true,
           "showland": true,
           "subunitcolor": "white"
          },
          "hoverlabel": {
           "align": "left"
          },
          "hovermode": "closest",
          "mapbox": {
           "style": "light"
          },
          "paper_bgcolor": "white",
          "plot_bgcolor": "#E5ECF6",
          "polar": {
           "angularaxis": {
            "gridcolor": "white",
            "linecolor": "white",
            "ticks": ""
           },
           "bgcolor": "#E5ECF6",
           "radialaxis": {
            "gridcolor": "white",
            "linecolor": "white",
            "ticks": ""
           }
          },
          "scene": {
           "xaxis": {
            "backgroundcolor": "#E5ECF6",
            "gridcolor": "white",
            "gridwidth": 2,
            "linecolor": "white",
            "showbackground": true,
            "ticks": "",
            "zerolinecolor": "white"
           },
           "yaxis": {
            "backgroundcolor": "#E5ECF6",
            "gridcolor": "white",
            "gridwidth": 2,
            "linecolor": "white",
            "showbackground": true,
            "ticks": "",
            "zerolinecolor": "white"
           },
           "zaxis": {
            "backgroundcolor": "#E5ECF6",
            "gridcolor": "white",
            "gridwidth": 2,
            "linecolor": "white",
            "showbackground": true,
            "ticks": "",
            "zerolinecolor": "white"
           }
          },
          "shapedefaults": {
           "line": {
            "color": "#2a3f5f"
           }
          },
          "ternary": {
           "aaxis": {
            "gridcolor": "white",
            "linecolor": "white",
            "ticks": ""
           },
           "baxis": {
            "gridcolor": "white",
            "linecolor": "white",
            "ticks": ""
           },
           "bgcolor": "#E5ECF6",
           "caxis": {
            "gridcolor": "white",
            "linecolor": "white",
            "ticks": ""
           }
          },
          "title": {
           "x": 0.05
          },
          "xaxis": {
           "automargin": true,
           "gridcolor": "white",
           "linecolor": "white",
           "ticks": "",
           "title": {
            "standoff": 15
           },
           "zerolinecolor": "white",
           "zerolinewidth": 2
          },
          "yaxis": {
           "automargin": true,
           "gridcolor": "white",
           "linecolor": "white",
           "ticks": "",
           "title": {
            "standoff": 15
           },
           "zerolinecolor": "white",
           "zerolinewidth": 2
          }
         }
        },
        "title": {
         "font": {
          "size": 16
         },
         "text": "Matriz de Correlação entre Variáveis",
         "x": 0.5,
         "xanchor": "center"
        },
        "width": 800,
        "xaxis": {
         "anchor": "y",
         "domain": [
          0,
          1
         ],
         "tickangle": 45,
         "title": {
          "text": "Variáveis"
         }
        },
        "yaxis": {
         "anchor": "x",
         "autorange": "reversed",
         "domain": [
          0,
          1
         ],
         "title": {
          "text": "Variáveis"
         }
        }
       }
      }
     },
     "metadata": {},
     "output_type": "display_data"
    }
   ],
   "source": [
    "# Criar heatmap de correlação\n",
    "fig = px.imshow(correlation_matrix2,\n",
    "                labels=dict(x=\"Variáveis\", y=\"Variáveis\", color=\"Correlação\"),\n",
    "                x=correlation_matrix2.columns,\n",
    "                y=correlation_matrix2.index,\n",
    "                color_continuous_scale='RdBu_r',\n",
    "                aspect=\"auto\",\n",
    "                title='Matriz de Correlação entre Variáveis')\n",
    "\n",
    "# Adicionar valores de correlação nas células\n",
    "for i in range(len(correlation_matrix2.index)):\n",
    "    for j in range(len(correlation_matrix2.columns)):\n",
    "        fig.add_annotation(x=j, y=i,\n",
    "                          text=f'{correlation_matrix2.iloc[i, j]:.3f}',\n",
    "                          showarrow=False,\n",
    "                          font=dict(\n",
    "                              color=\"white\" if abs(correlation_matrix2.iloc[i, j]) > 0.5 else \"black\",\n",
    "                              size=11\n",
    "                          ))\n",
    "\n",
    "# Personalizar layout\n",
    "fig.update_layout(\n",
    "    title={\n",
    "        'text': 'Matriz de Correlação entre Variáveis',\n",
    "        'x': 0.5,\n",
    "        'xanchor': 'center',\n",
    "        'font': {'size': 16}\n",
    "    },\n",
    "    width=800,\n",
    "    height=700,\n",
    "    xaxis_tickangle=45\n",
    ")\n",
    "\n",
    "# Ajustar escala de cores para destacar correlações fortes\n",
    "fig.update_coloraxes(\n",
    "    colorbar_title=\"Correlação\",\n",
    "    cmin=-1, \n",
    "    cmax=1\n",
    ")\n",
    "\n",
    "# Exibir o gráfico\n",
    "fig.show()"
   ]
  },
  {
   "cell_type": "code",
   "execution_count": 43,
   "id": "9ea5ca13",
   "metadata": {},
   "outputs": [
    {
     "name": "stdout",
     "output_type": "stream",
     "text": [
      "Correlação entre variáveis:\n",
      "\n",
      "Correlações fracas (0.1 < |r| ≤ 0.3):\n",
      "  Credit Score ↔ Alugada: -0.293 (negativa, fraca)\n",
      "  Solteiro ↔ Masculino: 0.278 (positiva, fraca)\n",
      "  Educação ↔ Masculino: 0.249 (positiva, fraca)\n",
      "  Credit Score ↔ Masculino: -0.248 (negativa, fraca)\n",
      "  Idade ↔ Credit Score: 0.218 (positiva, fraca)\n",
      "  Credit Score ↔ Solteiro: -0.206 (negativa, fraca)\n",
      "  Idade ↔ Masculino: 0.205 (positiva, fraca)\n",
      "  Idade ↔ Educação: 0.172 (positiva, fraca)\n",
      "  Nº Filhos ↔ Credit Score: 0.137 (positiva, fraca)\n",
      "\n",
      "Correlações moderadas (0.3 < |r| ≤ 0.7):\n",
      "  Nº Filhos ↔ Solteiro: -0.697 (negativa, moderada)\n",
      "  Idade ↔ Alugada: -0.628 (negativa, moderada)\n",
      "  Idade ↔ Renda: 0.621 (positiva, moderada)\n",
      "  Nº Filhos ↔ Alugada: -0.497 (negativa, moderada)\n",
      "  Renda ↔ Masculino: 0.496 (positiva, moderada)\n",
      "  Renda ↔ Solteiro: -0.471 (negativa, moderada)\n",
      "  Idade ↔ Solteiro: -0.449 (negativa, moderada)\n",
      "  Nº Filhos ↔ Masculino: -0.442 (negativa, moderada)\n",
      "  Educação ↔ Alugada: -0.397 (negativa, moderada)\n",
      "  Renda ↔ Educação: 0.369 (positiva, moderada)\n",
      "  Educação ↔ Credit Score: 0.334 (positiva, moderada)\n",
      "\n",
      "Correlações fortes (|r| > 0.7):\n",
      "  Solteiro ↔ Alugada: 0.708 (positiva, forte)\n",
      "  Renda ↔ Alugada: -0.705 (negativa, forte)\n"
     ]
    }
   ],
   "source": [
    "print(\"Correlação entre variáveis:\")\n",
    "\n",
    "correlations_list = []\n",
    "for i in range(len(correlation_matrix2.index)):\n",
    "    for j in range(i+1, len(correlation_matrix2.columns)):\n",
    "        corr_value = correlation_matrix2.iloc[i, j]\n",
    "        correlations_list.append({\n",
    "            'Variavel_1': correlation_matrix2.index[i],\n",
    "            'Variavel_2': correlation_matrix2.columns[j],\n",
    "            'Correlacao': corr_value\n",
    "        })\n",
    "\n",
    "# Ordenar por valor absoluto da correlação\n",
    "correlations_list.sort(key=lambda x: abs(x['Correlacao']), reverse=True)\n",
    "\n",
    "# Listas separadas\n",
    "fracas = [c for c in correlations_list if 0.1 < abs(c['Correlacao']) <= 0.3]\n",
    "moderadas = [c for c in correlations_list if 0.3 < abs(c['Correlacao']) <= 0.7]\n",
    "fortes = [c for c in correlations_list if abs(c['Correlacao']) > 0.7]\n",
    "\n",
    "def imprimir(lista, titulo, tipo):\n",
    "    print(f\"\\n{titulo}:\")\n",
    "    if lista:\n",
    "        for corr in lista:\n",
    "            direction = \"positiva\" if corr['Correlacao'] > 0 else \"negativa\"\n",
    "            print(f\"  {corr['Variavel_1']} ↔ {corr['Variavel_2']}: {corr['Correlacao']:.3f} ({direction}, {tipo})\")\n",
    "    else:\n",
    "        print(\"  Nenhuma encontrada.\")\n",
    "\n",
    "imprimir(fracas, \"Correlações fracas (0.1 < |r| ≤ 0.3)\", \"fraca\")\n",
    "imprimir(moderadas, \"Correlações moderadas (0.3 < |r| ≤ 0.7)\", \"moderada\")\n",
    "imprimir(fortes, \"Correlações fortes (|r| > 0.7)\", \"forte\")\n"
   ]
  },
  {
   "cell_type": "markdown",
   "id": "d55be503",
   "metadata": {},
   "source": [
    "## 4.0 Treino e Teste & Balanceamento de Classe 👾\n",
    "Nessa etapa, foi separada as bases de treino e teste, juntamente com o balanceamento da classe Credit Score, utilizando a função SMOTE, uma vez que a variável estava muito desbalanceada para a classe com alto Score de crédito (69% dos total). <br>\n",
    "Após o tratamento, a variável de Credit Score contou com 81 registros por classe."
   ]
  },
  {
   "cell_type": "markdown",
   "id": "3bb484dc",
   "metadata": {},
   "source": [
    "### 4.1 Separando Bases de Treino e Teste"
   ]
  },
  {
   "cell_type": "code",
   "execution_count": 44,
   "id": "37ccf413",
   "metadata": {},
   "outputs": [],
   "source": [
    "# Dividir em variáveis independentes (X) e dependente (y)\n",
    "X = df_encoded.drop(columns=['Credit Score'])  \n",
    "y = df_encoded['Credit Score']\n",
    "\n",
    "# Dividir em conjunto de treino e teste (70% treino, 30% teste)\n",
    "X_train, X_test, y_train, y_test = train_test_split(X, y, test_size=0.3, random_state=42)"
   ]
  },
  {
   "cell_type": "markdown",
   "id": "6b026a4c",
   "metadata": {},
   "source": [
    "### 4.2 Balanceamento de Classe"
   ]
  },
  {
   "cell_type": "markdown",
   "id": "bdd71b9c",
   "metadata": {},
   "source": [
    "#### 4.2.1 Visualizando Balanceamento"
   ]
  },
  {
   "cell_type": "code",
   "execution_count": 45,
   "id": "396125fc",
   "metadata": {},
   "outputs": [
    {
     "data": {
      "application/vnd.plotly.v1+json": {
       "config": {
        "plotlyServerURL": "https://plot.ly"
       },
       "data": [
        {
         "bingroup": "x",
         "hovertemplate": "Credit Score=%{x}<br>count=%{y}<extra></extra>",
         "legendgroup": "High",
         "marker": {
          "color": "#636efa",
          "pattern": {
           "shape": ""
          }
         },
         "name": "High",
         "orientation": "v",
         "showlegend": true,
         "texttemplate": "%{value}",
         "type": "histogram",
         "x": [
          "High",
          "High",
          "High",
          "High",
          "High",
          "High",
          "High",
          "High",
          "High",
          "High",
          "High",
          "High",
          "High",
          "High",
          "High",
          "High",
          "High",
          "High",
          "High",
          "High",
          "High",
          "High",
          "High",
          "High",
          "High",
          "High",
          "High",
          "High",
          "High",
          "High",
          "High",
          "High",
          "High",
          "High",
          "High",
          "High",
          "High",
          "High",
          "High",
          "High",
          "High",
          "High",
          "High",
          "High",
          "High",
          "High",
          "High",
          "High",
          "High",
          "High",
          "High",
          "High",
          "High",
          "High",
          "High",
          "High",
          "High",
          "High",
          "High",
          "High",
          "High",
          "High",
          "High",
          "High",
          "High",
          "High",
          "High",
          "High",
          "High",
          "High",
          "High",
          "High",
          "High",
          "High",
          "High",
          "High",
          "High",
          "High",
          "High",
          "High",
          "High",
          "High",
          "High",
          "High",
          "High",
          "High",
          "High",
          "High",
          "High",
          "High",
          "High",
          "High",
          "High",
          "High",
          "High",
          "High",
          "High",
          "High",
          "High",
          "High",
          "High",
          "High",
          "High",
          "High",
          "High",
          "High",
          "High",
          "High",
          "High",
          "High",
          "High",
          "High",
          "High"
         ],
         "xaxis": "x",
         "yaxis": "y"
        },
        {
         "bingroup": "x",
         "hovertemplate": "Credit Score=%{x}<br>count=%{y}<extra></extra>",
         "legendgroup": "Average",
         "marker": {
          "color": "#EF553B",
          "pattern": {
           "shape": ""
          }
         },
         "name": "Average",
         "orientation": "v",
         "showlegend": true,
         "texttemplate": "%{value}",
         "type": "histogram",
         "x": [
          "Average",
          "Average",
          "Average",
          "Average",
          "Average",
          "Average",
          "Average",
          "Average",
          "Average",
          "Average",
          "Average",
          "Average",
          "Average",
          "Average",
          "Average",
          "Average",
          "Average",
          "Average",
          "Average",
          "Average",
          "Average",
          "Average",
          "Average",
          "Average",
          "Average",
          "Average",
          "Average",
          "Average",
          "Average",
          "Average",
          "Average",
          "Average",
          "Average",
          "Average",
          "Average",
          "Average"
         ],
         "xaxis": "x",
         "yaxis": "y"
        },
        {
         "bingroup": "x",
         "hovertemplate": "Credit Score=%{x}<br>count=%{y}<extra></extra>",
         "legendgroup": "Low",
         "marker": {
          "color": "#00cc96",
          "pattern": {
           "shape": ""
          }
         },
         "name": "Low",
         "orientation": "v",
         "showlegend": true,
         "texttemplate": "%{value}",
         "type": "histogram",
         "x": [
          "Low",
          "Low",
          "Low",
          "Low",
          "Low",
          "Low",
          "Low",
          "Low",
          "Low",
          "Low",
          "Low",
          "Low",
          "Low",
          "Low",
          "Low"
         ],
         "xaxis": "x",
         "yaxis": "y"
        }
       ],
       "layout": {
        "barmode": "relative",
        "height": 700,
        "legend": {
         "title": {
          "text": "Credit Score"
         },
         "tracegroupgap": 0
        },
        "template": {
         "data": {
          "bar": [
           {
            "error_x": {
             "color": "#2a3f5f"
            },
            "error_y": {
             "color": "#2a3f5f"
            },
            "marker": {
             "line": {
              "color": "#E5ECF6",
              "width": 0.5
             },
             "pattern": {
              "fillmode": "overlay",
              "size": 10,
              "solidity": 0.2
             }
            },
            "type": "bar"
           }
          ],
          "barpolar": [
           {
            "marker": {
             "line": {
              "color": "#E5ECF6",
              "width": 0.5
             },
             "pattern": {
              "fillmode": "overlay",
              "size": 10,
              "solidity": 0.2
             }
            },
            "type": "barpolar"
           }
          ],
          "carpet": [
           {
            "aaxis": {
             "endlinecolor": "#2a3f5f",
             "gridcolor": "white",
             "linecolor": "white",
             "minorgridcolor": "white",
             "startlinecolor": "#2a3f5f"
            },
            "baxis": {
             "endlinecolor": "#2a3f5f",
             "gridcolor": "white",
             "linecolor": "white",
             "minorgridcolor": "white",
             "startlinecolor": "#2a3f5f"
            },
            "type": "carpet"
           }
          ],
          "choropleth": [
           {
            "colorbar": {
             "outlinewidth": 0,
             "ticks": ""
            },
            "type": "choropleth"
           }
          ],
          "contour": [
           {
            "colorbar": {
             "outlinewidth": 0,
             "ticks": ""
            },
            "colorscale": [
             [
              0,
              "#0d0887"
             ],
             [
              0.1111111111111111,
              "#46039f"
             ],
             [
              0.2222222222222222,
              "#7201a8"
             ],
             [
              0.3333333333333333,
              "#9c179e"
             ],
             [
              0.4444444444444444,
              "#bd3786"
             ],
             [
              0.5555555555555556,
              "#d8576b"
             ],
             [
              0.6666666666666666,
              "#ed7953"
             ],
             [
              0.7777777777777778,
              "#fb9f3a"
             ],
             [
              0.8888888888888888,
              "#fdca26"
             ],
             [
              1,
              "#f0f921"
             ]
            ],
            "type": "contour"
           }
          ],
          "contourcarpet": [
           {
            "colorbar": {
             "outlinewidth": 0,
             "ticks": ""
            },
            "type": "contourcarpet"
           }
          ],
          "heatmap": [
           {
            "colorbar": {
             "outlinewidth": 0,
             "ticks": ""
            },
            "colorscale": [
             [
              0,
              "#0d0887"
             ],
             [
              0.1111111111111111,
              "#46039f"
             ],
             [
              0.2222222222222222,
              "#7201a8"
             ],
             [
              0.3333333333333333,
              "#9c179e"
             ],
             [
              0.4444444444444444,
              "#bd3786"
             ],
             [
              0.5555555555555556,
              "#d8576b"
             ],
             [
              0.6666666666666666,
              "#ed7953"
             ],
             [
              0.7777777777777778,
              "#fb9f3a"
             ],
             [
              0.8888888888888888,
              "#fdca26"
             ],
             [
              1,
              "#f0f921"
             ]
            ],
            "type": "heatmap"
           }
          ],
          "histogram": [
           {
            "marker": {
             "pattern": {
              "fillmode": "overlay",
              "size": 10,
              "solidity": 0.2
             }
            },
            "type": "histogram"
           }
          ],
          "histogram2d": [
           {
            "colorbar": {
             "outlinewidth": 0,
             "ticks": ""
            },
            "colorscale": [
             [
              0,
              "#0d0887"
             ],
             [
              0.1111111111111111,
              "#46039f"
             ],
             [
              0.2222222222222222,
              "#7201a8"
             ],
             [
              0.3333333333333333,
              "#9c179e"
             ],
             [
              0.4444444444444444,
              "#bd3786"
             ],
             [
              0.5555555555555556,
              "#d8576b"
             ],
             [
              0.6666666666666666,
              "#ed7953"
             ],
             [
              0.7777777777777778,
              "#fb9f3a"
             ],
             [
              0.8888888888888888,
              "#fdca26"
             ],
             [
              1,
              "#f0f921"
             ]
            ],
            "type": "histogram2d"
           }
          ],
          "histogram2dcontour": [
           {
            "colorbar": {
             "outlinewidth": 0,
             "ticks": ""
            },
            "colorscale": [
             [
              0,
              "#0d0887"
             ],
             [
              0.1111111111111111,
              "#46039f"
             ],
             [
              0.2222222222222222,
              "#7201a8"
             ],
             [
              0.3333333333333333,
              "#9c179e"
             ],
             [
              0.4444444444444444,
              "#bd3786"
             ],
             [
              0.5555555555555556,
              "#d8576b"
             ],
             [
              0.6666666666666666,
              "#ed7953"
             ],
             [
              0.7777777777777778,
              "#fb9f3a"
             ],
             [
              0.8888888888888888,
              "#fdca26"
             ],
             [
              1,
              "#f0f921"
             ]
            ],
            "type": "histogram2dcontour"
           }
          ],
          "mesh3d": [
           {
            "colorbar": {
             "outlinewidth": 0,
             "ticks": ""
            },
            "type": "mesh3d"
           }
          ],
          "parcoords": [
           {
            "line": {
             "colorbar": {
              "outlinewidth": 0,
              "ticks": ""
             }
            },
            "type": "parcoords"
           }
          ],
          "pie": [
           {
            "automargin": true,
            "type": "pie"
           }
          ],
          "scatter": [
           {
            "fillpattern": {
             "fillmode": "overlay",
             "size": 10,
             "solidity": 0.2
            },
            "type": "scatter"
           }
          ],
          "scatter3d": [
           {
            "line": {
             "colorbar": {
              "outlinewidth": 0,
              "ticks": ""
             }
            },
            "marker": {
             "colorbar": {
              "outlinewidth": 0,
              "ticks": ""
             }
            },
            "type": "scatter3d"
           }
          ],
          "scattercarpet": [
           {
            "marker": {
             "colorbar": {
              "outlinewidth": 0,
              "ticks": ""
             }
            },
            "type": "scattercarpet"
           }
          ],
          "scattergeo": [
           {
            "marker": {
             "colorbar": {
              "outlinewidth": 0,
              "ticks": ""
             }
            },
            "type": "scattergeo"
           }
          ],
          "scattergl": [
           {
            "marker": {
             "colorbar": {
              "outlinewidth": 0,
              "ticks": ""
             }
            },
            "type": "scattergl"
           }
          ],
          "scattermap": [
           {
            "marker": {
             "colorbar": {
              "outlinewidth": 0,
              "ticks": ""
             }
            },
            "type": "scattermap"
           }
          ],
          "scattermapbox": [
           {
            "marker": {
             "colorbar": {
              "outlinewidth": 0,
              "ticks": ""
             }
            },
            "type": "scattermapbox"
           }
          ],
          "scatterpolar": [
           {
            "marker": {
             "colorbar": {
              "outlinewidth": 0,
              "ticks": ""
             }
            },
            "type": "scatterpolar"
           }
          ],
          "scatterpolargl": [
           {
            "marker": {
             "colorbar": {
              "outlinewidth": 0,
              "ticks": ""
             }
            },
            "type": "scatterpolargl"
           }
          ],
          "scatterternary": [
           {
            "marker": {
             "colorbar": {
              "outlinewidth": 0,
              "ticks": ""
             }
            },
            "type": "scatterternary"
           }
          ],
          "surface": [
           {
            "colorbar": {
             "outlinewidth": 0,
             "ticks": ""
            },
            "colorscale": [
             [
              0,
              "#0d0887"
             ],
             [
              0.1111111111111111,
              "#46039f"
             ],
             [
              0.2222222222222222,
              "#7201a8"
             ],
             [
              0.3333333333333333,
              "#9c179e"
             ],
             [
              0.4444444444444444,
              "#bd3786"
             ],
             [
              0.5555555555555556,
              "#d8576b"
             ],
             [
              0.6666666666666666,
              "#ed7953"
             ],
             [
              0.7777777777777778,
              "#fb9f3a"
             ],
             [
              0.8888888888888888,
              "#fdca26"
             ],
             [
              1,
              "#f0f921"
             ]
            ],
            "type": "surface"
           }
          ],
          "table": [
           {
            "cells": {
             "fill": {
              "color": "#EBF0F8"
             },
             "line": {
              "color": "white"
             }
            },
            "header": {
             "fill": {
              "color": "#C8D4E3"
             },
             "line": {
              "color": "white"
             }
            },
            "type": "table"
           }
          ]
         },
         "layout": {
          "annotationdefaults": {
           "arrowcolor": "#2a3f5f",
           "arrowhead": 0,
           "arrowwidth": 1
          },
          "autotypenumbers": "strict",
          "coloraxis": {
           "colorbar": {
            "outlinewidth": 0,
            "ticks": ""
           }
          },
          "colorscale": {
           "diverging": [
            [
             0,
             "#8e0152"
            ],
            [
             0.1,
             "#c51b7d"
            ],
            [
             0.2,
             "#de77ae"
            ],
            [
             0.3,
             "#f1b6da"
            ],
            [
             0.4,
             "#fde0ef"
            ],
            [
             0.5,
             "#f7f7f7"
            ],
            [
             0.6,
             "#e6f5d0"
            ],
            [
             0.7,
             "#b8e186"
            ],
            [
             0.8,
             "#7fbc41"
            ],
            [
             0.9,
             "#4d9221"
            ],
            [
             1,
             "#276419"
            ]
           ],
           "sequential": [
            [
             0,
             "#0d0887"
            ],
            [
             0.1111111111111111,
             "#46039f"
            ],
            [
             0.2222222222222222,
             "#7201a8"
            ],
            [
             0.3333333333333333,
             "#9c179e"
            ],
            [
             0.4444444444444444,
             "#bd3786"
            ],
            [
             0.5555555555555556,
             "#d8576b"
            ],
            [
             0.6666666666666666,
             "#ed7953"
            ],
            [
             0.7777777777777778,
             "#fb9f3a"
            ],
            [
             0.8888888888888888,
             "#fdca26"
            ],
            [
             1,
             "#f0f921"
            ]
           ],
           "sequentialminus": [
            [
             0,
             "#0d0887"
            ],
            [
             0.1111111111111111,
             "#46039f"
            ],
            [
             0.2222222222222222,
             "#7201a8"
            ],
            [
             0.3333333333333333,
             "#9c179e"
            ],
            [
             0.4444444444444444,
             "#bd3786"
            ],
            [
             0.5555555555555556,
             "#d8576b"
            ],
            [
             0.6666666666666666,
             "#ed7953"
            ],
            [
             0.7777777777777778,
             "#fb9f3a"
            ],
            [
             0.8888888888888888,
             "#fdca26"
            ],
            [
             1,
             "#f0f921"
            ]
           ]
          },
          "colorway": [
           "#636efa",
           "#EF553B",
           "#00cc96",
           "#ab63fa",
           "#FFA15A",
           "#19d3f3",
           "#FF6692",
           "#B6E880",
           "#FF97FF",
           "#FECB52"
          ],
          "font": {
           "color": "#2a3f5f"
          },
          "geo": {
           "bgcolor": "white",
           "lakecolor": "white",
           "landcolor": "#E5ECF6",
           "showlakes": true,
           "showland": true,
           "subunitcolor": "white"
          },
          "hoverlabel": {
           "align": "left"
          },
          "hovermode": "closest",
          "mapbox": {
           "style": "light"
          },
          "paper_bgcolor": "white",
          "plot_bgcolor": "#E5ECF6",
          "polar": {
           "angularaxis": {
            "gridcolor": "white",
            "linecolor": "white",
            "ticks": ""
           },
           "bgcolor": "#E5ECF6",
           "radialaxis": {
            "gridcolor": "white",
            "linecolor": "white",
            "ticks": ""
           }
          },
          "scene": {
           "xaxis": {
            "backgroundcolor": "#E5ECF6",
            "gridcolor": "white",
            "gridwidth": 2,
            "linecolor": "white",
            "showbackground": true,
            "ticks": "",
            "zerolinecolor": "white"
           },
           "yaxis": {
            "backgroundcolor": "#E5ECF6",
            "gridcolor": "white",
            "gridwidth": 2,
            "linecolor": "white",
            "showbackground": true,
            "ticks": "",
            "zerolinecolor": "white"
           },
           "zaxis": {
            "backgroundcolor": "#E5ECF6",
            "gridcolor": "white",
            "gridwidth": 2,
            "linecolor": "white",
            "showbackground": true,
            "ticks": "",
            "zerolinecolor": "white"
           }
          },
          "shapedefaults": {
           "line": {
            "color": "#2a3f5f"
           }
          },
          "ternary": {
           "aaxis": {
            "gridcolor": "white",
            "linecolor": "white",
            "ticks": ""
           },
           "baxis": {
            "gridcolor": "white",
            "linecolor": "white",
            "ticks": ""
           },
           "bgcolor": "#E5ECF6",
           "caxis": {
            "gridcolor": "white",
            "linecolor": "white",
            "ticks": ""
           }
          },
          "title": {
           "x": 0.05
          },
          "xaxis": {
           "automargin": true,
           "gridcolor": "white",
           "linecolor": "white",
           "ticks": "",
           "title": {
            "standoff": 15
           },
           "zerolinecolor": "white",
           "zerolinewidth": 2
          },
          "yaxis": {
           "automargin": true,
           "gridcolor": "white",
           "linecolor": "white",
           "ticks": "",
           "title": {
            "standoff": 15
           },
           "zerolinecolor": "white",
           "zerolinewidth": 2
          }
         }
        },
        "title": {
         "font": {
          "size": 16
         },
         "text": "Proporção de Credit Score na Base de Dados",
         "x": 0.5,
         "xanchor": "center"
        },
        "width": 800,
        "xaxis": {
         "anchor": "y",
         "categoryarray": [
          "High",
          "Average",
          "Low"
         ],
         "categoryorder": "array",
         "domain": [
          0,
          1
         ],
         "tickangle": 45,
         "title": {
          "text": "Credit Score"
         }
        },
        "yaxis": {
         "anchor": "x",
         "domain": [
          0,
          1
         ],
         "title": {
          "text": "Contagem"
         }
        }
       }
      }
     },
     "metadata": {},
     "output_type": "display_data"
    }
   ],
   "source": [
    "# Supondo que a coluna alvo seja 'Classe'\n",
    "fig = px.histogram(df, x=\"Credit Score\", color=\"Credit Score\",\n",
    "                   title=\"Distribuição de Credit Score\",\n",
    "                   text_auto=True)\n",
    "\n",
    "# Atualizar layout do gráfico\n",
    "fig.update_layout(\n",
    "    title={\n",
    "        'text': 'Proporção de Credit Score na Base de Dados',\n",
    "        'x': 0.5,\n",
    "        'xanchor': 'center',\n",
    "        'font': {'size': 16}\n",
    "    },\n",
    "    width=800,\n",
    "    height=700,\n",
    "    xaxis_tickangle=45,\n",
    "    yaxis_title=\"Contagem\"\n",
    ")\n",
    "\n",
    "# Exibir o gráfico\n",
    "fig.show()\n"
   ]
  },
  {
   "cell_type": "code",
   "execution_count": 46,
   "id": "7003a89a",
   "metadata": {},
   "outputs": [
    {
     "data": {
      "application/vnd.plotly.v1+json": {
       "config": {
        "plotlyServerURL": "https://plot.ly"
       },
       "data": [
        {
         "domain": {
          "x": [
           0,
           1
          ],
          "y": [
           0,
           1
          ]
         },
         "hole": 0.3,
         "hovertemplate": "Credit Score=%{label}<extra></extra>",
         "labels": [
          "High",
          "High",
          "High",
          "High",
          "High",
          "High",
          "Average",
          "Average",
          "High",
          "High",
          "High",
          "High",
          "Low",
          "Average",
          "High",
          "High",
          "High",
          "High",
          "Low",
          "Average",
          "High",
          "High",
          "High",
          "High",
          "Low",
          "Average",
          "High",
          "High",
          "High",
          "Average",
          "High",
          "High",
          "High",
          "High",
          "High",
          "Average",
          "Average",
          "High",
          "High",
          "High",
          "High",
          "Low",
          "Average",
          "High",
          "High",
          "High",
          "High",
          "Low",
          "Average",
          "High",
          "High",
          "High",
          "High",
          "Low",
          "Average",
          "High",
          "High",
          "High",
          "Average",
          "High",
          "High",
          "Average",
          "High",
          "High",
          "High",
          "High",
          "High",
          "Average",
          "Average",
          "High",
          "High",
          "High",
          "High",
          "Low",
          "Average",
          "High",
          "High",
          "High",
          "High",
          "Low",
          "Average",
          "High",
          "High",
          "High",
          "High",
          "Low",
          "Average",
          "High",
          "High",
          "High",
          "Average",
          "High",
          "High",
          "Average",
          "High",
          "High",
          "High",
          "High",
          "High",
          "Average",
          "Average",
          "High",
          "High",
          "High",
          "High",
          "Low",
          "Average",
          "High",
          "High",
          "High",
          "High",
          "Low",
          "Average",
          "High",
          "High",
          "High",
          "High",
          "Low",
          "Average",
          "High",
          "High",
          "High",
          "Average",
          "High",
          "High",
          "Average",
          "High",
          "High",
          "Average",
          "High",
          "High",
          "Average",
          "High",
          "Average",
          "High",
          "Average",
          "High",
          "High",
          "High",
          "High",
          "High",
          "Average",
          "Average",
          "High",
          "High",
          "High",
          "High",
          "Low",
          "Average",
          "High",
          "High",
          "High",
          "High",
          "Low",
          "Average",
          "High",
          "High",
          "High",
          "High",
          "Low",
          "Average",
          "High",
          "High",
          "High"
         ],
         "legendgroup": "",
         "name": "",
         "showlegend": true,
         "type": "pie"
        }
       ],
       "layout": {
        "height": 700,
        "legend": {
         "tracegroupgap": 0
        },
        "template": {
         "data": {
          "bar": [
           {
            "error_x": {
             "color": "#2a3f5f"
            },
            "error_y": {
             "color": "#2a3f5f"
            },
            "marker": {
             "line": {
              "color": "#E5ECF6",
              "width": 0.5
             },
             "pattern": {
              "fillmode": "overlay",
              "size": 10,
              "solidity": 0.2
             }
            },
            "type": "bar"
           }
          ],
          "barpolar": [
           {
            "marker": {
             "line": {
              "color": "#E5ECF6",
              "width": 0.5
             },
             "pattern": {
              "fillmode": "overlay",
              "size": 10,
              "solidity": 0.2
             }
            },
            "type": "barpolar"
           }
          ],
          "carpet": [
           {
            "aaxis": {
             "endlinecolor": "#2a3f5f",
             "gridcolor": "white",
             "linecolor": "white",
             "minorgridcolor": "white",
             "startlinecolor": "#2a3f5f"
            },
            "baxis": {
             "endlinecolor": "#2a3f5f",
             "gridcolor": "white",
             "linecolor": "white",
             "minorgridcolor": "white",
             "startlinecolor": "#2a3f5f"
            },
            "type": "carpet"
           }
          ],
          "choropleth": [
           {
            "colorbar": {
             "outlinewidth": 0,
             "ticks": ""
            },
            "type": "choropleth"
           }
          ],
          "contour": [
           {
            "colorbar": {
             "outlinewidth": 0,
             "ticks": ""
            },
            "colorscale": [
             [
              0,
              "#0d0887"
             ],
             [
              0.1111111111111111,
              "#46039f"
             ],
             [
              0.2222222222222222,
              "#7201a8"
             ],
             [
              0.3333333333333333,
              "#9c179e"
             ],
             [
              0.4444444444444444,
              "#bd3786"
             ],
             [
              0.5555555555555556,
              "#d8576b"
             ],
             [
              0.6666666666666666,
              "#ed7953"
             ],
             [
              0.7777777777777778,
              "#fb9f3a"
             ],
             [
              0.8888888888888888,
              "#fdca26"
             ],
             [
              1,
              "#f0f921"
             ]
            ],
            "type": "contour"
           }
          ],
          "contourcarpet": [
           {
            "colorbar": {
             "outlinewidth": 0,
             "ticks": ""
            },
            "type": "contourcarpet"
           }
          ],
          "heatmap": [
           {
            "colorbar": {
             "outlinewidth": 0,
             "ticks": ""
            },
            "colorscale": [
             [
              0,
              "#0d0887"
             ],
             [
              0.1111111111111111,
              "#46039f"
             ],
             [
              0.2222222222222222,
              "#7201a8"
             ],
             [
              0.3333333333333333,
              "#9c179e"
             ],
             [
              0.4444444444444444,
              "#bd3786"
             ],
             [
              0.5555555555555556,
              "#d8576b"
             ],
             [
              0.6666666666666666,
              "#ed7953"
             ],
             [
              0.7777777777777778,
              "#fb9f3a"
             ],
             [
              0.8888888888888888,
              "#fdca26"
             ],
             [
              1,
              "#f0f921"
             ]
            ],
            "type": "heatmap"
           }
          ],
          "histogram": [
           {
            "marker": {
             "pattern": {
              "fillmode": "overlay",
              "size": 10,
              "solidity": 0.2
             }
            },
            "type": "histogram"
           }
          ],
          "histogram2d": [
           {
            "colorbar": {
             "outlinewidth": 0,
             "ticks": ""
            },
            "colorscale": [
             [
              0,
              "#0d0887"
             ],
             [
              0.1111111111111111,
              "#46039f"
             ],
             [
              0.2222222222222222,
              "#7201a8"
             ],
             [
              0.3333333333333333,
              "#9c179e"
             ],
             [
              0.4444444444444444,
              "#bd3786"
             ],
             [
              0.5555555555555556,
              "#d8576b"
             ],
             [
              0.6666666666666666,
              "#ed7953"
             ],
             [
              0.7777777777777778,
              "#fb9f3a"
             ],
             [
              0.8888888888888888,
              "#fdca26"
             ],
             [
              1,
              "#f0f921"
             ]
            ],
            "type": "histogram2d"
           }
          ],
          "histogram2dcontour": [
           {
            "colorbar": {
             "outlinewidth": 0,
             "ticks": ""
            },
            "colorscale": [
             [
              0,
              "#0d0887"
             ],
             [
              0.1111111111111111,
              "#46039f"
             ],
             [
              0.2222222222222222,
              "#7201a8"
             ],
             [
              0.3333333333333333,
              "#9c179e"
             ],
             [
              0.4444444444444444,
              "#bd3786"
             ],
             [
              0.5555555555555556,
              "#d8576b"
             ],
             [
              0.6666666666666666,
              "#ed7953"
             ],
             [
              0.7777777777777778,
              "#fb9f3a"
             ],
             [
              0.8888888888888888,
              "#fdca26"
             ],
             [
              1,
              "#f0f921"
             ]
            ],
            "type": "histogram2dcontour"
           }
          ],
          "mesh3d": [
           {
            "colorbar": {
             "outlinewidth": 0,
             "ticks": ""
            },
            "type": "mesh3d"
           }
          ],
          "parcoords": [
           {
            "line": {
             "colorbar": {
              "outlinewidth": 0,
              "ticks": ""
             }
            },
            "type": "parcoords"
           }
          ],
          "pie": [
           {
            "automargin": true,
            "type": "pie"
           }
          ],
          "scatter": [
           {
            "fillpattern": {
             "fillmode": "overlay",
             "size": 10,
             "solidity": 0.2
            },
            "type": "scatter"
           }
          ],
          "scatter3d": [
           {
            "line": {
             "colorbar": {
              "outlinewidth": 0,
              "ticks": ""
             }
            },
            "marker": {
             "colorbar": {
              "outlinewidth": 0,
              "ticks": ""
             }
            },
            "type": "scatter3d"
           }
          ],
          "scattercarpet": [
           {
            "marker": {
             "colorbar": {
              "outlinewidth": 0,
              "ticks": ""
             }
            },
            "type": "scattercarpet"
           }
          ],
          "scattergeo": [
           {
            "marker": {
             "colorbar": {
              "outlinewidth": 0,
              "ticks": ""
             }
            },
            "type": "scattergeo"
           }
          ],
          "scattergl": [
           {
            "marker": {
             "colorbar": {
              "outlinewidth": 0,
              "ticks": ""
             }
            },
            "type": "scattergl"
           }
          ],
          "scattermap": [
           {
            "marker": {
             "colorbar": {
              "outlinewidth": 0,
              "ticks": ""
             }
            },
            "type": "scattermap"
           }
          ],
          "scattermapbox": [
           {
            "marker": {
             "colorbar": {
              "outlinewidth": 0,
              "ticks": ""
             }
            },
            "type": "scattermapbox"
           }
          ],
          "scatterpolar": [
           {
            "marker": {
             "colorbar": {
              "outlinewidth": 0,
              "ticks": ""
             }
            },
            "type": "scatterpolar"
           }
          ],
          "scatterpolargl": [
           {
            "marker": {
             "colorbar": {
              "outlinewidth": 0,
              "ticks": ""
             }
            },
            "type": "scatterpolargl"
           }
          ],
          "scatterternary": [
           {
            "marker": {
             "colorbar": {
              "outlinewidth": 0,
              "ticks": ""
             }
            },
            "type": "scatterternary"
           }
          ],
          "surface": [
           {
            "colorbar": {
             "outlinewidth": 0,
             "ticks": ""
            },
            "colorscale": [
             [
              0,
              "#0d0887"
             ],
             [
              0.1111111111111111,
              "#46039f"
             ],
             [
              0.2222222222222222,
              "#7201a8"
             ],
             [
              0.3333333333333333,
              "#9c179e"
             ],
             [
              0.4444444444444444,
              "#bd3786"
             ],
             [
              0.5555555555555556,
              "#d8576b"
             ],
             [
              0.6666666666666666,
              "#ed7953"
             ],
             [
              0.7777777777777778,
              "#fb9f3a"
             ],
             [
              0.8888888888888888,
              "#fdca26"
             ],
             [
              1,
              "#f0f921"
             ]
            ],
            "type": "surface"
           }
          ],
          "table": [
           {
            "cells": {
             "fill": {
              "color": "#EBF0F8"
             },
             "line": {
              "color": "white"
             }
            },
            "header": {
             "fill": {
              "color": "#C8D4E3"
             },
             "line": {
              "color": "white"
             }
            },
            "type": "table"
           }
          ]
         },
         "layout": {
          "annotationdefaults": {
           "arrowcolor": "#2a3f5f",
           "arrowhead": 0,
           "arrowwidth": 1
          },
          "autotypenumbers": "strict",
          "coloraxis": {
           "colorbar": {
            "outlinewidth": 0,
            "ticks": ""
           }
          },
          "colorscale": {
           "diverging": [
            [
             0,
             "#8e0152"
            ],
            [
             0.1,
             "#c51b7d"
            ],
            [
             0.2,
             "#de77ae"
            ],
            [
             0.3,
             "#f1b6da"
            ],
            [
             0.4,
             "#fde0ef"
            ],
            [
             0.5,
             "#f7f7f7"
            ],
            [
             0.6,
             "#e6f5d0"
            ],
            [
             0.7,
             "#b8e186"
            ],
            [
             0.8,
             "#7fbc41"
            ],
            [
             0.9,
             "#4d9221"
            ],
            [
             1,
             "#276419"
            ]
           ],
           "sequential": [
            [
             0,
             "#0d0887"
            ],
            [
             0.1111111111111111,
             "#46039f"
            ],
            [
             0.2222222222222222,
             "#7201a8"
            ],
            [
             0.3333333333333333,
             "#9c179e"
            ],
            [
             0.4444444444444444,
             "#bd3786"
            ],
            [
             0.5555555555555556,
             "#d8576b"
            ],
            [
             0.6666666666666666,
             "#ed7953"
            ],
            [
             0.7777777777777778,
             "#fb9f3a"
            ],
            [
             0.8888888888888888,
             "#fdca26"
            ],
            [
             1,
             "#f0f921"
            ]
           ],
           "sequentialminus": [
            [
             0,
             "#0d0887"
            ],
            [
             0.1111111111111111,
             "#46039f"
            ],
            [
             0.2222222222222222,
             "#7201a8"
            ],
            [
             0.3333333333333333,
             "#9c179e"
            ],
            [
             0.4444444444444444,
             "#bd3786"
            ],
            [
             0.5555555555555556,
             "#d8576b"
            ],
            [
             0.6666666666666666,
             "#ed7953"
            ],
            [
             0.7777777777777778,
             "#fb9f3a"
            ],
            [
             0.8888888888888888,
             "#fdca26"
            ],
            [
             1,
             "#f0f921"
            ]
           ]
          },
          "colorway": [
           "#636efa",
           "#EF553B",
           "#00cc96",
           "#ab63fa",
           "#FFA15A",
           "#19d3f3",
           "#FF6692",
           "#B6E880",
           "#FF97FF",
           "#FECB52"
          ],
          "font": {
           "color": "#2a3f5f"
          },
          "geo": {
           "bgcolor": "white",
           "lakecolor": "white",
           "landcolor": "#E5ECF6",
           "showlakes": true,
           "showland": true,
           "subunitcolor": "white"
          },
          "hoverlabel": {
           "align": "left"
          },
          "hovermode": "closest",
          "mapbox": {
           "style": "light"
          },
          "paper_bgcolor": "white",
          "plot_bgcolor": "#E5ECF6",
          "polar": {
           "angularaxis": {
            "gridcolor": "white",
            "linecolor": "white",
            "ticks": ""
           },
           "bgcolor": "#E5ECF6",
           "radialaxis": {
            "gridcolor": "white",
            "linecolor": "white",
            "ticks": ""
           }
          },
          "scene": {
           "xaxis": {
            "backgroundcolor": "#E5ECF6",
            "gridcolor": "white",
            "gridwidth": 2,
            "linecolor": "white",
            "showbackground": true,
            "ticks": "",
            "zerolinecolor": "white"
           },
           "yaxis": {
            "backgroundcolor": "#E5ECF6",
            "gridcolor": "white",
            "gridwidth": 2,
            "linecolor": "white",
            "showbackground": true,
            "ticks": "",
            "zerolinecolor": "white"
           },
           "zaxis": {
            "backgroundcolor": "#E5ECF6",
            "gridcolor": "white",
            "gridwidth": 2,
            "linecolor": "white",
            "showbackground": true,
            "ticks": "",
            "zerolinecolor": "white"
           }
          },
          "shapedefaults": {
           "line": {
            "color": "#2a3f5f"
           }
          },
          "ternary": {
           "aaxis": {
            "gridcolor": "white",
            "linecolor": "white",
            "ticks": ""
           },
           "baxis": {
            "gridcolor": "white",
            "linecolor": "white",
            "ticks": ""
           },
           "bgcolor": "#E5ECF6",
           "caxis": {
            "gridcolor": "white",
            "linecolor": "white",
            "ticks": ""
           }
          },
          "title": {
           "x": 0.05
          },
          "xaxis": {
           "automargin": true,
           "gridcolor": "white",
           "linecolor": "white",
           "ticks": "",
           "title": {
            "standoff": 15
           },
           "zerolinecolor": "white",
           "zerolinewidth": 2
          },
          "yaxis": {
           "automargin": true,
           "gridcolor": "white",
           "linecolor": "white",
           "ticks": "",
           "title": {
            "standoff": 15
           },
           "zerolinecolor": "white",
           "zerolinewidth": 2
          }
         }
        },
        "title": {
         "font": {
          "size": 16
         },
         "text": "Proporção de Credit Score na Base de Dados",
         "x": 0.5,
         "xanchor": "center"
        },
        "width": 800,
        "xaxis": {
         "tickangle": 45
        }
       }
      }
     },
     "metadata": {},
     "output_type": "display_data"
    }
   ],
   "source": [
    "# Gráfico de pizza\n",
    "fig = px.pie(df, names=\"Credit Score\", title=\"Proporção de Credit Score\", hole=0.3)  \n",
    "\n",
    "# Atualizar layout do gráfico\n",
    "fig.update_layout(\n",
    "    title={\n",
    "        'text': 'Proporção de Credit Score na Base de Dados',\n",
    "        'x': 0.5,\n",
    "        'xanchor': 'center',\n",
    "        'font': {'size': 16}\n",
    "    },\n",
    "    width=800,\n",
    "    height=700,\n",
    "    xaxis_tickangle=45,\n",
    ")\n",
    "\n",
    "# Exibir o gráfico\n",
    "fig.show()\n"
   ]
  },
  {
   "cell_type": "markdown",
   "id": "86b22e6b",
   "metadata": {},
   "source": [
    "#### 4.2.2 Tratando Balanceamento da Classe"
   ]
  },
  {
   "cell_type": "code",
   "execution_count": 47,
   "id": "08b91dfc",
   "metadata": {},
   "outputs": [],
   "source": [
    "# Aplicar SMOTE para balancear as classes\n",
    "smote = SMOTE(random_state=42)\n",
    "\n",
    "# Gerar os novos dados balanceados\n",
    "X_train_balanced, y_train_balanced = smote.fit_resample(X_train, y_train)"
   ]
  },
  {
   "cell_type": "code",
   "execution_count": 48,
   "id": "4636cac3",
   "metadata": {},
   "outputs": [
    {
     "name": "stdout",
     "output_type": "stream",
     "text": [
      "Distribuição das classes após o balanceamento:\n",
      "y_train:  Credit Score\n",
      "1    81\n",
      "0    81\n",
      "2    81\n",
      "Name: count, dtype: int64\n",
      "X_train:  Age  Income    Education  Number of Children  Marital_Single  Gender_Male  Home_Rented\n",
      "28   32500.0   0          0                   1               0            1              15\n",
      "33   52500.0   3          0                   1               1            1              11\n",
      "27   37500.0   3          0                   1               0            1               5\n",
      "34   47500.0   0          0                   1               1            1               5\n",
      "29   27500.0   3          0                   1               0            1               5\n",
      "                                                                                          ..\n",
      "51   145000.0  1          0                   0               1            0               1\n",
      "52   130000.0  3          0                   0               1            0               1\n",
      "     137500.0  3          0                   0               1            0               1\n",
      "53   115000.0  0          0                   0               1            0               1\n",
      "     127500.0  0          0                   0               1            0               1\n",
      "Name: count, Length: 180, dtype: int64\n"
     ]
    }
   ],
   "source": [
    "# Verificando a distribuição das classes após o balanceamento\n",
    "print(\"Distribuição das classes após o balanceamento:\")\n",
    "print(\"y_train: \", y_train_balanced.value_counts())\n",
    "print(\"X_train: \", X_train_balanced.value_counts())"
   ]
  },
  {
   "cell_type": "code",
   "execution_count": 49,
   "id": "721b7a01",
   "metadata": {},
   "outputs": [],
   "source": [
    "# Salvar as bases finais\n",
    "#y_train_balanced.to_csv(\"y_train_balanced.csv\", index=False)\n",
    "#X_train_balanced.to_csv(\"X_train_balanced.csv\", index=False)\n",
    "#y_test.to_csv(\"y_test.csv\", index=False)\n",
    "#X_test.to_csv(\"X_test.csv\", index=False)"
   ]
  }
 ],
 "metadata": {
  "kernelspec": {
   "display_name": "venv",
   "language": "python",
   "name": "python3"
  },
  "language_info": {
   "codemirror_mode": {
    "name": "ipython",
    "version": 3
   },
   "file_extension": ".py",
   "mimetype": "text/x-python",
   "name": "python",
   "nbconvert_exporter": "python",
   "pygments_lexer": "ipython3",
   "version": "3.11.4"
  }
 },
 "nbformat": 4,
 "nbformat_minor": 5
}
